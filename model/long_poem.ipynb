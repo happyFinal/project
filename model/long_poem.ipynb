{
  "cells": [
    {
      "cell_type": "code",
      "execution_count": 33,
      "metadata": {
        "colab": {
          "base_uri": "https://localhost:8080/"
        },
        "id": "UA0lGioBteJU",
        "outputId": "ab374889-b6f8-4345-d020-9ea631b29c21"
      },
      "outputs": [
        {
          "name": "stdout",
          "output_type": "stream",
          "text": [
            "Looking in indexes: https://pypi.org/simple, https://us-python.pkg.dev/colab-wheels/public/simple/\n",
            "Collecting transformers\n",
            "  Downloading transformers-4.25.1-py3-none-any.whl (5.8 MB)\n",
            "\u001b[2K     \u001b[90m━━━━━━━━━━━━━━━━━━━━━━━━━━━━━━━━━━━━━━━━\u001b[0m \u001b[32m5.8/5.8 MB\u001b[0m \u001b[31m48.0 MB/s\u001b[0m eta \u001b[36m0:00:00\u001b[0m\n",
            "\u001b[?25hRequirement already satisfied: requests in /usr/local/lib/python3.8/dist-packages (from transformers) (2.25.1)\n",
            "Requirement already satisfied: filelock in /usr/local/lib/python3.8/dist-packages (from transformers) (3.8.2)\n",
            "Requirement already satisfied: tqdm>=4.27 in /usr/local/lib/python3.8/dist-packages (from transformers) (4.64.1)\n",
            "Requirement already satisfied: pyyaml>=5.1 in /usr/local/lib/python3.8/dist-packages (from transformers) (6.0)\n",
            "Collecting tokenizers!=0.11.3,<0.14,>=0.11.1\n",
            "  Downloading tokenizers-0.13.2-cp38-cp38-manylinux_2_17_x86_64.manylinux2014_x86_64.whl (7.6 MB)\n",
            "\u001b[2K     \u001b[90m━━━━━━━━━━━━━━━━━━━━━━━━━━━━━━━━━━━━━━━━\u001b[0m \u001b[32m7.6/7.6 MB\u001b[0m \u001b[31m80.0 MB/s\u001b[0m eta \u001b[36m0:00:00\u001b[0m\n",
            "\u001b[?25hRequirement already satisfied: packaging>=20.0 in /usr/local/lib/python3.8/dist-packages (from transformers) (21.3)\n",
            "Requirement already satisfied: regex!=2019.12.17 in /usr/local/lib/python3.8/dist-packages (from transformers) (2022.6.2)\n",
            "Requirement already satisfied: numpy>=1.17 in /usr/local/lib/python3.8/dist-packages (from transformers) (1.21.6)\n",
            "Collecting huggingface-hub<1.0,>=0.10.0\n",
            "  Downloading huggingface_hub-0.11.1-py3-none-any.whl (182 kB)\n",
            "\u001b[2K     \u001b[90m━━━━━━━━━━━━━━━━━━━━━━━━━━━━━━━━━━━━━━\u001b[0m \u001b[32m182.4/182.4 KB\u001b[0m \u001b[31m23.3 MB/s\u001b[0m eta \u001b[36m0:00:00\u001b[0m\n",
            "\u001b[?25hRequirement already satisfied: typing-extensions>=3.7.4.3 in /usr/local/lib/python3.8/dist-packages (from huggingface-hub<1.0,>=0.10.0->transformers) (4.4.0)\n",
            "Requirement already satisfied: pyparsing!=3.0.5,>=2.0.2 in /usr/local/lib/python3.8/dist-packages (from packaging>=20.0->transformers) (3.0.9)\n",
            "Requirement already satisfied: chardet<5,>=3.0.2 in /usr/local/lib/python3.8/dist-packages (from requests->transformers) (4.0.0)\n",
            "Requirement already satisfied: urllib3<1.27,>=1.21.1 in /usr/local/lib/python3.8/dist-packages (from requests->transformers) (1.24.3)\n",
            "Requirement already satisfied: idna<3,>=2.5 in /usr/local/lib/python3.8/dist-packages (from requests->transformers) (2.10)\n",
            "Requirement already satisfied: certifi>=2017.4.17 in /usr/local/lib/python3.8/dist-packages (from requests->transformers) (2022.12.7)\n",
            "Installing collected packages: tokenizers, huggingface-hub, transformers\n",
            "Successfully installed huggingface-hub-0.11.1 tokenizers-0.13.2 transformers-4.25.1\n"
          ]
        }
      ],
      "source": [
        "!pip install transformers"
      ]
    },
    {
      "cell_type": "code",
      "execution_count": 35,
      "metadata": {
        "colab": {
          "base_uri": "https://localhost:8080/",
          "height": 177,
          "referenced_widgets": [
            "95e0e09dd00e4c90b0667694e9265ae3",
            "2c5a87cb971f4708b44de6d091b6c853",
            "40efed17b2ce482694d56ae475ff2730",
            "87f45194465a4bf292bdd21755dbe746",
            "b3178c4f0a614efb9297f3ab4b6a6174",
            "f15b92229fdf4e16b60aaf9ef2e4187b",
            "d60fd53d1a66461db4aab685b5cc9e22",
            "160a1d381aea4d3ca79d284ef07acc63",
            "7eb094d642fe4ffda8f98be1b784a222",
            "a904881962d144b9bbcc7545b5115d34",
            "85d9f3ae004e41fd908fd684ce453937",
            "49950d34613f4eb2bf212c80cd8d70c3",
            "d207333830cb4ec2a50b0a31cf5426df",
            "c10935c320054e90abeefaaf94ca817e",
            "0ac9af3cfc4d4487b98e2ae817655e33",
            "e56df14256604d29973f722d435fcc38",
            "5e748b47334b4ea5baedf7cd7094541b",
            "20f46c20c0f24cc0965b70b2b89820e7",
            "b84c13b55fc84e978191e47bbf7b4dfd",
            "a33c32d179054be79999bbb50710f3b9",
            "9fc5b46d7f1a42b587a217769b93a9eb",
            "00e339bfb07548d4af0c26ef7fe96ba3",
            "77a4c92022ed4be8b9fa2bb8bc17051d",
            "0c2562338d9d414b94e3213aad136b76",
            "6281066321db4dba8ae5618778976fa5",
            "23790e168e644a94a89ac393ae117a2c",
            "99efc36218634f75a1ac637022f2c5cb",
            "1dc3528ca616434a9b771fe14579ba7b",
            "fbe7c9d4f8434457bda3d3909225ec94",
            "1bc5d38d4de344b99eda97f82d9f62f7",
            "49a229dc4edd4fb59236dd6418e49845",
            "4604e751ce354750bab85e6f046a19da",
            "89f517662df24d42b32c21a7eddf1fda",
            "c3b96d1856954798b3e0124c52c8246b",
            "296ee4cf12b3404f969fc7234bcb510a",
            "615027d55ad54c98a37e3df358dd3a8a",
            "9c8cd28a53e14edabce0c433919c84a0",
            "0b34f3959f564f0abadc56d103782f9a",
            "d6625d4d93514574a4f04865076bb3ed",
            "5e1ebb1501704bd8bf983d61cc7de634",
            "ff6cecd19ed444dfbb968006b1f627fc",
            "f126132afa7f471c937815f0de4a41b9",
            "784a3b5dce8c482d9aa5984b978e6abe",
            "9633e7f1adf149b68fb821eb0bcdfe73",
            "9534f1566cda480483e7a6d2abd5a7ef",
            "60f37c44ad0a4282a8a6883c53114323",
            "23b55f89a4134837acb5505fb972f4cd",
            "026d8c3090424844908735b28e606920",
            "4f7aafe72aa64367a54c733a83b26aaa",
            "12aa3672693249b9a0d6c64b75cba639",
            "006d3c1680514460accabea109ac6ebe",
            "d11fb20f24004b0cb30d8a19e307dfaf",
            "6027143586064ac49a9836a3ca1db9cd",
            "b6b1745887fa4315b2adace704afad3e",
            "9951e0cea9a14691a4595f037e0426c8"
          ]
        },
        "id": "m8eAjFZgteJk",
        "outputId": "07271671-a950-43cd-fc1c-3f8b6c9c9c89"
      },
      "outputs": [
        {
          "data": {
            "application/vnd.jupyter.widget-view+json": {
              "model_id": "95e0e09dd00e4c90b0667694e9265ae3",
              "version_major": 2,
              "version_minor": 0
            },
            "text/plain": [
              "Downloading:   0%|          | 0.00/301 [00:00<?, ?B/s]"
            ]
          },
          "metadata": {},
          "output_type": "display_data"
        },
        {
          "data": {
            "application/vnd.jupyter.widget-view+json": {
              "model_id": "49950d34613f4eb2bf212c80cd8d70c3",
              "version_major": 2,
              "version_minor": 0
            },
            "text/plain": [
              "Downloading:   0%|          | 0.00/2.25M [00:00<?, ?B/s]"
            ]
          },
          "metadata": {},
          "output_type": "display_data"
        },
        {
          "data": {
            "application/vnd.jupyter.widget-view+json": {
              "model_id": "77a4c92022ed4be8b9fa2bb8bc17051d",
              "version_major": 2,
              "version_minor": 0
            },
            "text/plain": [
              "Downloading:   0%|          | 0.00/123 [00:00<?, ?B/s]"
            ]
          },
          "metadata": {},
          "output_type": "display_data"
        },
        {
          "data": {
            "application/vnd.jupyter.widget-view+json": {
              "model_id": "c3b96d1856954798b3e0124c52c8246b",
              "version_major": 2,
              "version_minor": 0
            },
            "text/plain": [
              "Downloading:   0%|          | 0.00/1.18k [00:00<?, ?B/s]"
            ]
          },
          "metadata": {},
          "output_type": "display_data"
        },
        {
          "data": {
            "application/vnd.jupyter.widget-view+json": {
              "model_id": "9534f1566cda480483e7a6d2abd5a7ef",
              "version_major": 2,
              "version_minor": 0
            },
            "text/plain": [
              "Downloading:   0%|          | 0.00/513M [00:00<?, ?B/s]"
            ]
          },
          "metadata": {},
          "output_type": "display_data"
        }
      ],
      "source": [
        "from transformers import AutoTokenizer, AutoModelForCausalLM\n",
        "\n",
        "tokenizer = AutoTokenizer.from_pretrained(\"wumusill/final_project_kogpt2\")\n",
        "model = AutoModelForCausalLM.from_pretrained(\"wumusill/final_project_kogpt2\")"
      ]
    },
    {
      "cell_type": "code",
      "execution_count": 36,
      "metadata": {
        "colab": {
          "base_uri": "https://localhost:8080/"
        },
        "id": "fsLH8QJVteJn",
        "outputId": "305608ec-e6ca-4cce-d9d7-6e287a2a570a"
      },
      "outputs": [
        {
          "name": "stdout",
          "output_type": "stream",
          "text": [
            "cpu\n"
          ]
        }
      ],
      "source": [
        "import torch\n",
        "\n",
        "# GPU 사용 여부\n",
        "if torch.cuda.is_available():\n",
        "    device = torch.device(\"cuda:0\")\n",
        "else:\n",
        "    device = torch.device(\"cpu\")\n",
        "\n",
        "model.to(device)\n",
        "model.eval()\n",
        "print(device)"
      ]
    },
    {
      "cell_type": "code",
      "execution_count": null,
      "metadata": {
        "id": "sbOUtJA1v7rh"
      },
      "outputs": [],
      "source": [
        "import pandas as pd\n",
        "import numpy as np\n",
        "import matplotlib.pyplot as plt\n",
        "import re\n",
        "pd.options.display.max_rows = 60\n",
        "pd.set_option('display.max_rows', None)"
      ]
    },
    {
      "cell_type": "markdown",
      "metadata": {
        "id": "V4XhlubS0Z5r"
      },
      "source": [
        "### 발라드 단어 사전 만들기"
      ]
    },
    {
      "cell_type": "code",
      "execution_count": null,
      "metadata": {
        "colab": {
          "base_uri": "https://localhost:8080/"
        },
        "id": "vCgFBmNvvk82",
        "outputId": "b14576d5-cc3a-4181-d7f0-406ae1998cea"
      },
      "outputs": [
        {
          "name": "stdout",
          "output_type": "stream",
          "text": [
            "Drive already mounted at /content/drive; to attempt to forcibly remount, call drive.mount(\"/content/drive\", force_remount=True).\n"
          ]
        },
        {
          "data": {
            "text/plain": [
              "(54743, 6)"
            ]
          },
          "execution_count": 4,
          "metadata": {},
          "output_type": "execute_result"
        }
      ],
      "source": [
        "# 코랩 사용시\n",
        "# from google.colab import drive\n",
        "\n",
        "# drive.mount(\"/content/drive\")\n",
        "# root_path = \"/content/drive/MyDrive/data/\"\n",
        "\n",
        "# all = pd.read_parquet(f\"{root_path}ballad_all.gzip\")\n",
        "# all.shape"
      ]
    },
    {
      "cell_type": "code",
      "execution_count": 14,
      "metadata": {},
      "outputs": [
        {
          "data": {
            "text/plain": [
              "(54743, 6)"
            ]
          },
          "execution_count": 14,
          "metadata": {},
          "output_type": "execute_result"
        }
      ],
      "source": [
        "root_path = \"../data/data_ballad\"\n",
        "\n",
        "all = pd.read_parquet(f\"{root_path}/ballad_all.gzip\")\n",
        "all.shape"
      ]
    },
    {
      "cell_type": "code",
      "execution_count": 15,
      "metadata": {
        "id": "bm6JB2YgvlFJ"
      },
      "outputs": [],
      "source": [
        "# 가사에 개행문자 없는 데이터 제거\n",
        "all = all[all[\"가사\"].str.contains(\"\\n\")]\n",
        "# 그외 전처리\n",
        "all[\"가사\"] = all[\"가사\"].map(lambda x : re.sub(\"[^가-힣\\n ]\", \"\", x).strip()) # 한글 자음, 한글, 숫자, 개행문자만 남기고 제거\n",
        "all[\"가사\"] = all[\"가사\"].map(lambda x : re.sub(\"\\s{2,}\", \" \", x)) # 공백 2회 이상 제거\n",
        "all = all[all[\"가사\"].map(lambda x : len(x) > 10)] # 전처리 후 빈 행이나 10자 이상이 안되는 데이터 제거\n",
        "all = all.reset_index(drop=True) # 인덱스 초기화"
      ]
    },
    {
      "cell_type": "code",
      "execution_count": 16,
      "metadata": {
        "id": "0uHfTBeDvlMZ"
      },
      "outputs": [],
      "source": [
        "sentence_lst = []\n",
        "lyrics = all[\"가사\"].str.split(\"\\n\")\n",
        "for sentence in lyrics:\n",
        "    for word in sentence:\n",
        "        sentence_lst.extend(word.split())"
      ]
    },
    {
      "cell_type": "code",
      "execution_count": 17,
      "metadata": {
        "colab": {
          "base_uri": "https://localhost:8080/"
        },
        "id": "f1utzbSKwTQc",
        "outputId": "698e3622-8c14-438c-f3d0-ae22e5e61dc6"
      },
      "outputs": [
        {
          "data": {
            "text/plain": [
              "['이',\n",
              " '밤',\n",
              " '그날의',\n",
              " '반딧불을',\n",
              " '당신의',\n",
              " '창',\n",
              " '가까이',\n",
              " '보낼게요',\n",
              " '음',\n",
              " '사랑한다는',\n",
              " '말이에요',\n",
              " '나',\n",
              " '우리의',\n",
              " '첫',\n",
              " '입맞춤을',\n",
              " '떠올려',\n",
              " '그럼',\n",
              " '언제든',\n",
              " '눈을',\n",
              " '감고',\n",
              " '음',\n",
              " '가장',\n",
              " '먼',\n",
              " '곳으로',\n",
              " '가요',\n",
              " '난',\n",
              " '파도가',\n",
              " '머물던',\n",
              " '모래',\n",
              " '위에',\n",
              " '적힌',\n",
              " '글씨처럼',\n",
              " '그대가',\n",
              " '멀리',\n",
              " '사라져',\n",
              " '버릴',\n",
              " '것',\n",
              " '같아',\n",
              " '늘',\n",
              " '그리워',\n",
              " '그리워',\n",
              " '여기',\n",
              " '내',\n",
              " '마음속에',\n",
              " '모든',\n",
              " '말을',\n",
              " '다',\n",
              " '꺼내어',\n",
              " '줄',\n",
              " '순']"
            ]
          },
          "execution_count": 17,
          "metadata": {},
          "output_type": "execute_result"
        }
      ],
      "source": [
        "sentence_lst[:50]"
      ]
    },
    {
      "cell_type": "code",
      "execution_count": 18,
      "metadata": {
        "colab": {
          "base_uri": "https://localhost:8080/"
        },
        "id": "B-SOb_k7wTeo",
        "outputId": "e7e609bb-3e92-4702-b09e-428746a6f25c"
      },
      "outputs": [
        {
          "data": {
            "text/plain": [
              "(6638809,)"
            ]
          },
          "execution_count": 18,
          "metadata": {},
          "output_type": "execute_result"
        }
      ],
      "source": [
        "sentence = pd.Series(sentence_lst)\n",
        "sentence.shape"
      ]
    },
    {
      "cell_type": "code",
      "execution_count": 19,
      "metadata": {
        "colab": {
          "base_uri": "https://localhost:8080/"
        },
        "id": "0osmrGY0wiNu",
        "outputId": "8c14d60d-c8e3-40d2-ca5b-a37b61648983"
      },
      "outputs": [
        {
          "data": {
            "text/plain": [
              "(205504,)"
            ]
          },
          "execution_count": 19,
          "metadata": {},
          "output_type": "execute_result"
        }
      ],
      "source": [
        "sentence = sentence.drop_duplicates()\n",
        "sentence.shape"
      ]
    },
    {
      "cell_type": "code",
      "execution_count": 20,
      "metadata": {
        "colab": {
          "base_uri": "https://localhost:8080/"
        },
        "id": "-F_82aslwiTg",
        "outputId": "569c6b98-d298-4cb9-a7d8-cb460db7044f"
      },
      "outputs": [
        {
          "data": {
            "text/plain": [
              "(204599,)"
            ]
          },
          "execution_count": 20,
          "metadata": {},
          "output_type": "execute_result"
        }
      ],
      "source": [
        "sentence = sentence[sentence.str.len() > 1]\n",
        "sentence.shape"
      ]
    },
    {
      "cell_type": "code",
      "execution_count": 21,
      "metadata": {
        "colab": {
          "background_save": true
        },
        "id": "eGarFUgGwiZ3",
        "outputId": "8a302aa9-ec76-47b3-a472-4f04ea8ec476"
      },
      "outputs": [],
      "source": [
        "sentence = sentence.sort_values()"
      ]
    },
    {
      "cell_type": "code",
      "execution_count": 22,
      "metadata": {
        "colab": {
          "base_uri": "https://localhost:8080/"
        },
        "id": "8xw6VT9Swie0",
        "outputId": "b7519176-700c-4ac0-e3bb-855a9d10c6e2"
      },
      "outputs": [
        {
          "data": {
            "text/plain": [
              "0       가가\n",
              "1    가가가만히\n",
              "2      가거든\n",
              "3     가거들랑\n",
              "4      가거라\n",
              "dtype: object"
            ]
          },
          "execution_count": 22,
          "metadata": {},
          "output_type": "execute_result"
        }
      ],
      "source": [
        "words = sentence.reset_index(drop=True)\n",
        "words.head()"
      ]
    },
    {
      "cell_type": "code",
      "execution_count": 23,
      "metadata": {},
      "outputs": [],
      "source": [
        "words.to_csv(f\"{root_path}/ballad_ward.txt\", index=False, encoding=\"cp949\")"
      ]
    },
    {
      "cell_type": "code",
      "execution_count": 24,
      "metadata": {},
      "outputs": [
        {
          "data": {
            "text/html": [
              "<div>\n",
              "<style scoped>\n",
              "    .dataframe tbody tr th:only-of-type {\n",
              "        vertical-align: middle;\n",
              "    }\n",
              "\n",
              "    .dataframe tbody tr th {\n",
              "        vertical-align: top;\n",
              "    }\n",
              "\n",
              "    .dataframe thead th {\n",
              "        text-align: right;\n",
              "    }\n",
              "</style>\n",
              "<table border=\"1\" class=\"dataframe\">\n",
              "  <thead>\n",
              "    <tr style=\"text-align: right;\">\n",
              "      <th></th>\n",
              "      <th>0</th>\n",
              "    </tr>\n",
              "  </thead>\n",
              "  <tbody>\n",
              "    <tr>\n",
              "      <th>0</th>\n",
              "      <td>가가</td>\n",
              "    </tr>\n",
              "    <tr>\n",
              "      <th>1</th>\n",
              "      <td>가가가만히</td>\n",
              "    </tr>\n",
              "    <tr>\n",
              "      <th>2</th>\n",
              "      <td>가거든</td>\n",
              "    </tr>\n",
              "    <tr>\n",
              "      <th>3</th>\n",
              "      <td>가거들랑</td>\n",
              "    </tr>\n",
              "    <tr>\n",
              "      <th>4</th>\n",
              "      <td>가거라</td>\n",
              "    </tr>\n",
              "    <tr>\n",
              "      <th>...</th>\n",
              "      <td>...</td>\n",
              "    </tr>\n",
              "    <tr>\n",
              "      <th>204594</th>\n",
              "      <td>힙합은</td>\n",
              "    </tr>\n",
              "    <tr>\n",
              "      <th>204595</th>\n",
              "      <td>힙합을</td>\n",
              "    </tr>\n",
              "    <tr>\n",
              "      <th>204596</th>\n",
              "      <td>힙합의</td>\n",
              "    </tr>\n",
              "    <tr>\n",
              "      <th>204597</th>\n",
              "      <td>힙합이</td>\n",
              "    </tr>\n",
              "    <tr>\n",
              "      <th>204598</th>\n",
              "      <td>힙힙힙합</td>\n",
              "    </tr>\n",
              "  </tbody>\n",
              "</table>\n",
              "<p>204599 rows × 1 columns</p>\n",
              "</div>"
            ],
            "text/plain": [
              "            0\n",
              "0          가가\n",
              "1       가가가만히\n",
              "2         가거든\n",
              "3        가거들랑\n",
              "4         가거라\n",
              "...       ...\n",
              "204594    힙합은\n",
              "204595    힙합을\n",
              "204596    힙합의\n",
              "204597    힙합이\n",
              "204598   힙힙힙합\n",
              "\n",
              "[204599 rows x 1 columns]"
            ]
          },
          "execution_count": 24,
          "metadata": {},
          "output_type": "execute_result"
        }
      ],
      "source": [
        "pd.read_csv(f\"{root_path}/ballad_ward.txt\", encoding=\"cp949\")"
      ]
    },
    {
      "cell_type": "code",
      "execution_count": 33,
      "metadata": {
        "colab": {
          "base_uri": "https://localhost:8080/",
          "height": 339
        },
        "id": "21sZEJqSxiN6",
        "outputId": "6df2c1b9-fe9f-40c1-f8df-78bdb8df1435"
      },
      "outputs": [
        {
          "data": {
            "text/plain": [
              "83137    박동소리\n",
              "dtype: object"
            ]
          },
          "execution_count": 33,
          "metadata": {},
          "output_type": "execute_result"
        }
      ],
      "source": [
        "words[words.str.startswith(\"박\")].sample(1)"
      ]
    },
    {
      "cell_type": "code",
      "execution_count": 25,
      "metadata": {
        "colab": {
          "base_uri": "https://localhost:8080/"
        },
        "id": "EEEJSzAQ1ovf",
        "outputId": "c5e01d3d-09cb-41a9-b8f2-d94577ce487d"
      },
      "outputs": [
        {
          "data": {
            "text/plain": [
              "(str, '한걸음이')"
            ]
          },
          "execution_count": 25,
          "metadata": {},
          "output_type": "execute_result"
        }
      ],
      "source": [
        "word = words[words.str.startswith(\"한\")].sample(1).values[0]\n",
        "type(word), word"
      ]
    },
    {
      "attachments": {},
      "cell_type": "markdown",
      "metadata": {
        "id": "cswGVrK0vlbJ"
      },
      "source": [
        "### 3행시 테스트\n",
        "- 첫번째 음절에 맞는 word 를 찾아서 넣어주고, generate 한다."
      ]
    },
    {
      "cell_type": "code",
      "execution_count": 242,
      "metadata": {
        "id": "R9V2h3JEAkrg"
      },
      "outputs": [],
      "source": [
        "def force_poem(input_letter):\n",
        "    # 두음 법칙 사전\n",
        "    dooeum = {\"라\":\"나\", \"락\":\"낙\", \"란\":\"난\", \"랄\":\"날\", \"람\":\"남\", \"랍\":\"납\", \"랑\":\"낭\", \n",
        "          \"래\":\"내\", \"랭\":\"냉\", \"냑\":\"약\", \"략\":\"약\", \"냥\":\"양\", \"량\":\"양\", \"녀\":\"여\", \n",
        "          \"려\":\"여\", \"녁\":\"역\", \"력\":\"역\", \"년\":\"연\", \"련\":\"연\", \"녈\":\"열\", \"렬\":\"열\", \n",
        "          \"념\":\"염\", \"렴\":\"염\", \"렵\":\"엽\", \"녕\":\"영\", \"령\":\"영\", \"녜\":\"예\", \"례\":\"예\", \n",
        "          \"로\":\"노\", \"록\":\"녹\", \"론\":\"논\", \"롱\":\"농\", \"뢰\":\"뇌\", \"뇨\":\"요\", \"료\":\"요\", \n",
        "          \"룡\":\"용\", \"루\":\"누\", \"뉴\":\"유\", \"류\":\"유\", \"뉵\":\"육\", \"륙\":\"육\", \"륜\":\"윤\", \n",
        "          \"률\":\"율\", \"륭\":\"융\", \"륵\":\"늑\", \"름\":\"늠\", \"릉\":\"능\", \"니\":\"이\", \"리\":\"이\", \n",
        "          \"린\":'인', '림':'임', '립':'입'}\n",
        "    # 결과물을 담을 list\n",
        "    res_l = []\n",
        "    len_sequence = 0\n",
        "\n",
        "    # 한 글자씩 인덱스와 함께 가져옴\n",
        "    for idx, val in enumerate(input_letter):\n",
        "        # 두음 법칙 적용\n",
        "        if val in dooeum.keys():\n",
        "            val = dooeum[val]\n",
        "\n",
        "        # 발라드에 있는 단어 적용\n",
        "        try:\n",
        "            word = words[words.str.startswith(val)].sample(1).values[0]\n",
        "        except:\n",
        "            word = val\n",
        "        \n",
        "        # 좀더 매끄러운 삼행시를 위해 이전 문장이랑 현재 음절 연결\n",
        "        # 이후 generate 된 문장에서 이전 문장에 대한 데이터 제거\n",
        "        link_with_pre_sentence = (\" \".join(res_l)+ \" \" + word + \" \" if idx != 0 else word).strip()\n",
        "        # print(link_with_pre_sentence)\n",
        "\n",
        "        # 연결된 문장을 인코딩\n",
        "        input_ids = tokenizer.encode(link_with_pre_sentence, add_special_tokens=False, return_tensors=\"pt\")\n",
        "\n",
        "        # 인코딩 값으로 문장 생성\n",
        "        output_sequence = model.generate(\n",
        "            input_ids=input_ids.to(device), \n",
        "            do_sample=True,\n",
        "            max_length=42,\n",
        "            min_length=len_sequence + 2,\n",
        "            temperature=0.9,\n",
        "            repetition_penalty=1.5,\n",
        "            no_repeat_ngram_size=2)\n",
        "\n",
        "        # 생성된 문장 리스트로 변환 (인코딩 되어있고, 생성된 문장 뒤로 padding 이 있는 상태)\n",
        "        generated_sequence = output_sequence.tolist()[0]\n",
        "\n",
        "        # padding index 앞까지 slicing 함으로써 padding 제거, padding이 없을 수도 있기 때문에 조건문 확인 후 제거\n",
        "        # 사용할 generated_sequence 가 5보다 짧으면 강제적으로 길이를 8로 해준다... \n",
        "        if tokenizer.pad_token_id in generated_sequence:\n",
        "            check_index = generated_sequence.index(tokenizer.pad_token_id)\n",
        "            check_index = check_index if check_index-len_sequence > 3 else len_sequence + 8\n",
        "            generated_sequence = generated_sequence[:check_index]\n",
        "\n",
        "        \n",
        "        # 인코딩된 word 를 기준으로 slicing 해준다. \n",
        "        word_encode = tokenizer.encode(word, add_special_tokens=False, return_tensors=\"pt\").tolist()[0][0]\n",
        "        split_index = len(generated_sequence) - 1 - generated_sequence[::-1].index(word_encode)\n",
        "        \n",
        "        generated_sequence = generated_sequence[split_index:]\n",
        "        \n",
        "        # print(tokenizer.decode(generated_sequence, clean_up_tokenization_spaces=True, skip_special_tokens=True))\n",
        "        # 다음 음절을 위해 길이 갱신\n",
        "        len_sequence += len([elem for elem in generated_sequence if elem not in(tokenizer.all_special_ids)])        \n",
        "        # 결과물 디코딩\n",
        "        decoded_sequence = tokenizer.decode(generated_sequence, clean_up_tokenization_spaces=True, skip_special_tokens=True)\n",
        "\n",
        "        # 결과물 리스트에 담기\n",
        "        res_l.append(decoded_sequence)\n",
        "\n",
        "\n",
        "    # 결과물 list에서 한 줄씩 출력\n",
        "    for letter, res in zip(input_letter, res_l):\n",
        "        print(f\"{letter} :\", res)"
      ]
    },
    {
      "cell_type": "code",
      "execution_count": 243,
      "metadata": {
        "colab": {
          "base_uri": "https://localhost:8080/"
        },
        "id": "G-qkvgEJBWzb",
        "outputId": "155e0953-bd5e-4cae-9078-8b76f1e35f1e"
      },
      "outputs": [
        {
          "name": "stdout",
          "output_type": "stream",
          "text": [
            "한 : 한잔이면 그만 잊혀질\n",
            "성 : 성탄절에 젖어드는\n",
            "민 : 민트초코 같이 봐\n"
          ]
        }
      ],
      "source": [
        "force_poem(\"한성민\")"
      ]
    },
    {
      "cell_type": "code",
      "execution_count": 207,
      "metadata": {
        "colab": {
          "base_uri": "https://localhost:8080/",
          "height": 35
        },
        "id": "OTWDbhnU9ayu",
        "outputId": "948b6e41-affc-49d9-87f0-703f89b98947"
      },
      "outputs": [
        {
          "data": {
            "application/vnd.google.colaboratory.intrinsic+json": {
              "type": "string"
            },
            "text/plain": [
              "'한잔에 훌훌 털고서 성격이지만은 마음도 소'"
            ]
          },
          "execution_count": 207,
          "metadata": {},
          "output_type": "execute_result"
        }
      ],
      "source": [
        "tokenizer.decode([9036, 8161, 8022, 12235, 8775, 11329, 39450, 10534, 12589, 8135, 3, 3, 10556, 7235, 9077], clean_up_tokenization_spaces=True, skip_special_tokens=True)"
      ]
    },
    {
      "cell_type": "code",
      "execution_count": 244,
      "metadata": {
        "colab": {
          "base_uri": "https://localhost:8080/"
        },
        "id": "8UpQK66kBW68",
        "outputId": "f31a2648-549b-44d4-83d8-7bedeef97914"
      },
      "outputs": [
        {
          "name": "stdout",
          "output_type": "stream",
          "text": [
            "박 : 박대리리에 차를 마시면\n",
            "경 : 경험하게 되면 이별히 그\n",
            "택 : 택했을때는\n"
          ]
        }
      ],
      "source": [
        "force_poem(\"박경택\")"
      ]
    },
    {
      "cell_type": "code",
      "execution_count": 245,
      "metadata": {
        "colab": {
          "base_uri": "https://localhost:8080/"
        },
        "id": "4IiPVFA5BXCR",
        "outputId": "16acc4d5-c399-4e43-930a-df873bf5cd31"
      },
      "outputs": [
        {
          "name": "stdout",
          "output_type": "stream",
          "text": [
            "권 : 권해도 난 너무 높은곳을\n",
            "태 : 태어난것 같아 너를 사랑\n",
            "윤 : 윤중로를 느낄수 있었지\n"
          ]
        }
      ],
      "source": [
        "force_poem(\"권태윤\")"
      ]
    },
    {
      "cell_type": "code",
      "execution_count": 246,
      "metadata": {
        "colab": {
          "base_uri": "https://localhost:8080/"
        },
        "id": "vaF67ZgMBXHc",
        "outputId": "bfd5b663-3c7c-4e9c-baa2-dc944cdf6d01"
      },
      "outputs": [
        {
          "name": "stdout",
          "output_type": "stream",
          "text": [
            "문 : 문제라서 찌들어버린 마음이라\n",
            "종 : 종점은 흘러가는 그 말\n",
            "현 : 현실이였어 이런 내모습이 우스워져 너의 맘은 어디에\n"
          ]
        }
      ],
      "source": [
        "force_poem(\"문종현\")"
      ]
    },
    {
      "cell_type": "code",
      "execution_count": 247,
      "metadata": {
        "colab": {
          "base_uri": "https://localhost:8080/"
        },
        "id": "t_0aXt4oCMAx",
        "outputId": "cc106bec-1ffa-4a0d-d4a2-d0e6c385a004"
      },
      "outputs": [
        {
          "name": "stdout",
          "output_type": "stream",
          "text": [
            "박 : 박자가 아니라 그냥갑니다\n",
            "조 : 조차내겐 빛나는 사람들 낯선 사람\n",
            "은 : 은행나무에 느낀모습이 언젠\n"
          ]
        }
      ],
      "source": [
        "force_poem(\"박조은\")"
      ]
    },
    {
      "cell_type": "code",
      "execution_count": 248,
      "metadata": {
        "colab": {
          "base_uri": "https://localhost:8080/"
        },
        "id": "DMmHXX6MENr7",
        "outputId": "9e6ca979-f76d-4108-b192-ff030e058fd9"
      },
      "outputs": [
        {
          "name": "stdout",
          "output_type": "stream",
          "text": [
            "해 : 해봤었지만 그리웠었고\n",
            "파 : 파랑인 하늘 아래\n",
            "리 : 이제모두 그렇습니다\n"
          ]
        }
      ],
      "source": [
        "force_poem(\"해파리\")"
      ]
    },
    {
      "cell_type": "code",
      "execution_count": 249,
      "metadata": {
        "colab": {
          "base_uri": "https://localhost:8080/"
        },
        "id": "12wjfmxCEQdp",
        "outputId": "8a263dcd-9c57-48e9-b0e3-a9764d26bac8"
      },
      "outputs": [
        {
          "name": "stdout",
          "output_type": "stream",
          "text": [
            "파 : 파란빛인가 듯한 하루가\n",
            "이 : 이끼에 가버렸\n",
            "널 : 널안을꺼야\n"
          ]
        }
      ],
      "source": [
        "force_poem(\"파이널\")"
      ]
    },
    {
      "cell_type": "code",
      "execution_count": 237,
      "metadata": {
        "colab": {
          "base_uri": "https://localhost:8080/"
        },
        "id": "ntS-KUDhEfJF",
        "outputId": "66d63569-6455-404c-e177-98ff1680bf6d"
      },
      "outputs": [
        {
          "name": "stdout",
          "output_type": "stream",
          "text": [
            "밝 : 밝혀보는 거야 허전한 내 마음엔\n",
            "은 : 은하수를 걷는 젖지 않는\n",
            "날 : 날아볼까 가만히 서있다가\n"
          ]
        }
      ],
      "source": [
        "force_poem(\"밝은날\")"
      ]
    },
    {
      "cell_type": "code",
      "execution_count": null,
      "metadata": {
        "id": "v0OCoeB5teJo"
      },
      "outputs": [],
      "source": [
        "def long_line_poem(input_letter):\n",
        "    # 두음 법칙 사전\n",
        "    dooeum = {\"라\":\"나\", \"락\":\"낙\", \"란\":\"난\", \"랄\":\"날\", \"람\":\"남\", \"랍\":\"납\", \"랑\":\"낭\", \n",
        "          \"래\":\"내\", \"랭\":\"냉\", \"냑\":\"약\", \"략\":\"약\", \"냥\":\"양\", \"량\":\"양\", \"녀\":\"여\", \n",
        "          \"려\":\"여\", \"녁\":\"역\", \"력\":\"역\", \"년\":\"연\", \"련\":\"연\", \"녈\":\"열\", \"렬\":\"열\", \n",
        "          \"념\":\"염\", \"렴\":\"염\", \"렵\":\"엽\", \"녕\":\"영\", \"령\":\"영\", \"녜\":\"예\", \"례\":\"예\", \n",
        "          \"로\":\"노\", \"록\":\"녹\", \"론\":\"논\", \"롱\":\"농\", \"뢰\":\"뇌\", \"뇨\":\"요\", \"료\":\"요\", \n",
        "          \"룡\":\"용\", \"루\":\"누\", \"뉴\":\"유\", \"류\":\"유\", \"뉵\":\"육\", \"륙\":\"육\", \"륜\":\"윤\", \n",
        "          \"률\":\"율\", \"륭\":\"융\", \"륵\":\"늑\", \"름\":\"늠\", \"릉\":\"능\", \"니\":\"이\", \"리\":\"이\", \n",
        "          \"린\":'인', '림':'임', '립':'입'}\n",
        "    # 결과물을 담을 list\n",
        "    res_l = []\n",
        "    len_sequence = 0\n",
        "    # 한 글자씩 인덱스와 함께 가져옴\n",
        "    for idx, val in enumerate(input_letter):\n",
        "        # 두음 법칙 적용\n",
        "        if val in dooeum.keys():\n",
        "            val = dooeum[val]\n",
        "\n",
        "        # 만약 idx 가 0 이라면 == 첫 글자\n",
        "        if idx == 0:\n",
        "            # 첫 글자 인코딩\n",
        "            input_ids = tokenizer.encode(\n",
        "            val, add_special_tokens=False, return_tensors=\"pt\")\n",
        "\n",
        "            # 첫 글자 인코딩 값으로 문장 생성\n",
        "            output_sequence = model.generate(\n",
        "                input_ids=input_ids.to(device), \n",
        "                do_sample=True,\n",
        "                max_length=42,\n",
        "                min_length=5,\n",
        "                temperature=0.9, \n",
        "                repetition_penalty=1.5,\n",
        "                no_repeat_ngram_size=2\n",
        "                )\n",
        "        \n",
        "        # 첫 글자가 아니라면\n",
        "        else:\n",
        "            # 좀더 매끄러운 삼행시를 위해 이전 문장이랑 현재 음절 연결\n",
        "            # 이후 generate 된 문장에서 이전 문장에 대한 데이터 제거\n",
        "            link_with_pre_sentence = \" \".join(res_l) + \" \" + val  \n",
        "\n",
        "            # 연결된 문장을 인코딩\n",
        "            input_ids = tokenizer.encode(\n",
        "            link_with_pre_sentence, add_special_tokens=False, return_tensors=\"pt\")\n",
        "\n",
        "            # 인코딩 값으로 문장 생성\n",
        "            output_sequence = model.generate(\n",
        "                input_ids=input_ids.to(device), \n",
        "                do_sample=True,\n",
        "                max_length=52,\n",
        "                min_length=10,\n",
        "                temperature=0.9,\n",
        "                repetition_penalty=1.5,\n",
        "                no_repeat_ngram_size=2)\n",
        "\n",
        "        # 생성된 문장 리스트로 변환 (인코딩 되어있고, 생성된 문장 뒤로 padding 이 있는 상태)\n",
        "        generated_sequence = output_sequence.tolist()[0]\n",
        "        \n",
        "        # padding index 앞까지 slicing 함으로써 padding 제거, padding이 없을 수도 있기 때문에 조건문 확인 후 제거\n",
        "        if tokenizer.pad_token_id in generated_sequence:\n",
        "            \n",
        "            # pad token 이 3개 이상이면 세번째에서 자르고, 아니면 첫번째에서 자르고\n",
        "            pad_index_list = [i for i in range(len(generated_sequence)) if generated_sequence[i] == tokenizer.pad_token_id]\n",
        "            if len(pad_index_list) > 2:\n",
        "                split_point = 2\n",
        "            else : \n",
        "                split_point = 0\n",
        "            # generated_sequence = generated_sequence[:generated_sequence.index(tokenizer.pad_token_id)]\n",
        "            generated_sequence = generated_sequence[:pad_index_list[split_point]]\n",
        "        # 첫 글자가 아니라면, generate 된 음절만 결과물 list에 들어갈 수 있게 앞 문장에 대한 인코딩 값 제거\n",
        "        # print(generated_sequence)\n",
        "        if idx != 0:\n",
        "            # 이전 문장의 길이 이후로 슬라이싱해서 앞 문장 제거            \n",
        "            generated_sequence = generated_sequence[len_sequence:]\n",
        "            # 다음 음절을 위해 길이 갱신\n",
        "            len_sequence += len([ elem for elem in generated_sequence if elem not in(tokenizer.all_special_ids)])\n",
        "        \n",
        "        # 첫 글자라면\n",
        "        else:\n",
        "            # 시퀀스 길이 저장\n",
        "            len_sequence = len([ elem for elem in generated_sequence if elem not in(tokenizer.all_special_ids)])\n",
        "        \n",
        "        # 결과물 디코딩\n",
        "        decoded_sequence = tokenizer.decode(generated_sequence, clean_up_tokenization_spaces=True, skip_special_tokens=True)\n",
        "\n",
        "        # 결과물 리스트에 담기\n",
        "        res_l.append(decoded_sequence)\n",
        "\n",
        "    # 결과물 list에서 한 줄씩 출력\n",
        "    for letter, res in zip(input_letter, res_l):\n",
        "        print(f\"{letter} :\", res)"
      ]
    },
    {
      "cell_type": "code",
      "execution_count": null,
      "metadata": {
        "colab": {
          "base_uri": "https://localhost:8080/"
        },
        "id": "plZee5J-teJs",
        "outputId": "d66823ef-1c2d-431e-86df-ebc48a8c754a"
      },
      "outputs": [
        {
          "name": "stdout",
          "output_type": "stream",
          "text": [
            "해 : 해준 것도 하나 없던 나였었는데\n",
            "파 : 파 하자릴 먼저리던 너의 모습 사는게 너무 힘들지만 이젠 더는 안되겠어 헤어졌던 그 순간이야 무너지는 나를 왜이기는 하지만\n",
            "리 : 세상에서\n"
          ]
        }
      ],
      "source": [
        "long_line_poem(\"해파리\")"
      ]
    },
    {
      "cell_type": "code",
      "execution_count": null,
      "metadata": {
        "colab": {
          "base_uri": "https://localhost:8080/"
        },
        "id": "MUIIH1WVteJt",
        "outputId": "a2e498f4-9b64-4325-fd2f-909e7bcc93f2"
      },
      "outputs": [
        {
          "name": "stdout",
          "output_type": "stream",
          "text": [
            "파 : 파랗게 웃던 네 웃음도\n",
            "이 : 이젠 준 착하고 착한 사람아 어떡해 아무리 생각해도 너만 떠올라\n",
            "널 : 널 웃게 하는 일 넌 모른 척 해도 날 울린 여자야\n"
          ]
        }
      ],
      "source": [
        "long_line_poem(\"파이널\")"
      ]
    },
    {
      "cell_type": "code",
      "execution_count": null,
      "metadata": {
        "colab": {
          "base_uri": "https://localhost:8080/"
        },
        "id": "Gv66ZT7MteJv",
        "outputId": "17678476-189a-4621-8281-f75894b3ee52"
      },
      "outputs": [
        {
          "name": "stdout",
          "output_type": "stream",
          "text": [
            "사 : 사려했던화산감 피고못해 바보처럼\n",
            "랑 : 낭떠꽃같은 내 사랑은\n",
            "해 : 해피엔딩\n"
          ]
        }
      ],
      "source": [
        "long_line_poem(\"사랑해\")"
      ]
    },
    {
      "cell_type": "code",
      "execution_count": null,
      "metadata": {
        "colab": {
          "base_uri": "https://localhost:8080/"
        },
        "id": "Y_Hi9XAiteJw",
        "outputId": "ef423efd-d458-4f1e-8851-ab3a51adc884"
      },
      "outputs": [
        {
          "name": "stdout",
          "output_type": "stream",
          "text": [
            "하 : 하염없이 걷고 또 거닐다 떠올라서 그 날이 언제든 서로 다른 틈에서 만나 보고\n",
            "늘 : 늘 같은 자리에\n",
            "색 : 색칠 하고\n"
          ]
        }
      ],
      "source": [
        "long_line_poem(\"하늘색\")"
      ]
    },
    {
      "cell_type": "code",
      "execution_count": null,
      "metadata": {
        "colab": {
          "base_uri": "https://localhost:8080/"
        },
        "id": "r8JwisUrteJw",
        "outputId": "fa3fa1c6-9f3f-43b1-ec43-551f1008809a"
      },
      "outputs": [
        {
          "name": "stdout",
          "output_type": "stream",
          "text": [
            "코 : 코끝을 스치는 촉촉한 기분 그래 너와 나 함께 한 순간 모두 다 꿈인걸\n",
            "코 : 코 끝을 보면 넌 내 늘 그렇듯이 내게 머물러줘 니가 나의 우릴 지켜봐주길 바랄까\n",
            "아 : 아침을 생각해\n"
          ]
        }
      ],
      "source": [
        "long_line_poem(\"코코아\")"
      ]
    },
    {
      "cell_type": "code",
      "execution_count": null,
      "metadata": {
        "colab": {
          "base_uri": "https://localhost:8080/"
        },
        "id": "TjQKIjwYuCgb",
        "outputId": "c20772de-c7c6-465d-dc00-634e0b1eda6f"
      },
      "outputs": [
        {
          "name": "stdout",
          "output_type": "stream",
          "text": [
            "이 : 이 노랠 듣고 다시 내게 돌아와\n",
            "지 : 지우고 또 비워내도 그대 더는하기 싫어\n",
            "혜 : 혜야놓지 않을래 이미 늦었어 이젠 다른 사람 만나 행복할 수 있잖아요\n"
          ]
        }
      ],
      "source": [
        "long_line_poem(\"이지혜\")"
      ]
    },
    {
      "cell_type": "code",
      "execution_count": null,
      "metadata": {
        "colab": {
          "base_uri": "https://localhost:8080/"
        },
        "id": "p2cRwzW4uCwk",
        "outputId": "f9db04a2-1499-4400-97ec-79ca5dc0d17e"
      },
      "outputs": [
        {
          "name": "stdout",
          "output_type": "stream",
          "text": [
            "김 : 김건모 노래 파란 하늘 아랜 햇살 속에 내 사랑은\n",
            "의 : 의지로\n",
            "준 : 준 이후 그리움 스며들어 오면\n"
          ]
        }
      ],
      "source": [
        "long_line_poem(\"김의준\")"
      ]
    },
    {
      "cell_type": "code",
      "execution_count": null,
      "metadata": {
        "colab": {
          "base_uri": "https://localhost:8080/"
        },
        "id": "VVM6W9YzuIPO",
        "outputId": "b21986bc-eaf8-4fbd-ade6-bc9032e7c6ac"
      },
      "outputs": [
        {
          "name": "stdout",
          "output_type": "stream",
          "text": [
            "데 : 데리러 올 테니 늦잠 자고 나서 어린 날이 다가와서\n",
            "이 : 이젠 내 품에 안겨 술에 취해\n",
            "빗 : 빗 갚을 때에도\n"
          ]
        }
      ],
      "source": [
        "long_line_poem(\"데이빗\")"
      ]
    },
    {
      "cell_type": "code",
      "execution_count": null,
      "metadata": {
        "colab": {
          "base_uri": "https://localhost:8080/"
        },
        "id": "bUDiS6Q0uIZx",
        "outputId": "bba48897-90cb-4eb9-d3fa-1b7d34c1be24"
      },
      "outputs": [
        {
          "name": "stdout",
          "output_type": "stream",
          "text": [
            "구 : 구차하게 붙잡았어\n",
            "자 : 자꾸 듯한 말은 이제 다시 하지 말자 이제는 그만하자 다른 남자와 뭘해\n",
            "현 : 현기종 날 흔드는 거니 보채지지 않게 해줄게 너무 힘든 약속 꼭 안고서 하는거야 우리크림없이\n"
          ]
        }
      ],
      "source": [
        "long_line_poem(\"구자현\")"
      ]
    },
    {
      "cell_type": "code",
      "execution_count": null,
      "metadata": {
        "colab": {
          "base_uri": "https://localhost:8080/"
        },
        "id": "i7ylHd2YuIiq",
        "outputId": "4d4c805a-7fe7-4673-ed33-738d4827cf82"
      },
      "outputs": [
        {
          "name": "stdout",
          "output_type": "stream",
          "text": [
            "문 : 문득 지나갈 때면오를때까지 널 사랑했어 지금까지 많은 날을 버려둔채 살았지만\n",
            "종 : 종일 이렇게 너를 지워볼거야\n",
            "현 : 현 혹시라도 내게 돌아올까 봐 그게 참 두렵기도해\n"
          ]
        }
      ],
      "source": [
        "long_line_poem(\"문종현\")"
      ]
    },
    {
      "cell_type": "code",
      "execution_count": null,
      "metadata": {
        "colab": {
          "base_uri": "https://localhost:8080/"
        },
        "id": "PtgqTATTuIsX",
        "outputId": "17f6af73-2117-4269-b40f-74ec09052b60"
      },
      "outputs": [
        {
          "name": "stdout",
          "output_type": "stream",
          "text": [
            "권 : 권태로 변해 두 눈을 가려도\n",
            "소 : 소용이 없어\n",
            "희 : 희미한 기억 저 너머 우리 모습\n"
          ]
        }
      ],
      "source": [
        "long_line_poem(\"권소희\")"
      ]
    },
    {
      "cell_type": "code",
      "execution_count": null,
      "metadata": {
        "colab": {
          "base_uri": "https://localhost:8080/"
        },
        "id": "XqkEZKiFuPu_",
        "outputId": "352e9204-7e34-4cf4-d85e-1732b10c5e10"
      },
      "outputs": [
        {
          "name": "stdout",
          "output_type": "stream",
          "text": [
            "최 : 최선을 다하면 파란 늦 가을 또 다시 밀었어 너무 바쁜 세상 속에 우연히 널봤지\n",
            "지 : 지웠을까 우리 서로 스쳐갈때도 있지만\n",
            "영 : 영원을 태우리 마음을 모두 걸어 눈모아닌 마지막까지 당신을 남겨 혹시게\n"
          ]
        }
      ],
      "source": [
        "long_line_poem(\"최지영\")"
      ]
    },
    {
      "cell_type": "code",
      "execution_count": null,
      "metadata": {
        "colab": {
          "base_uri": "https://localhost:8080/"
        },
        "id": "gX12juaxuP4W",
        "outputId": "b97aeaf0-5029-45dc-89d4-944ebe6cd654"
      },
      "outputs": [
        {
          "name": "stdout",
          "output_type": "stream",
          "text": [
            "한 : 한 번만 날 위한 그대가\n",
            "성 : 성큼 정말 떠나고 싶어 나를 버리 야속하게 가시니 찢어지는 꽃송이마저\n",
            "민 : 민들레\n"
          ]
        }
      ],
      "source": [
        "long_line_poem(\"한성민\")"
      ]
    },
    {
      "cell_type": "code",
      "execution_count": null,
      "metadata": {
        "colab": {
          "base_uri": "https://localhost:8080/"
        },
        "id": "rnNS3-icuUXC",
        "outputId": "56cf1114-1a8f-4d5a-c8fc-93c0dacb8823"
      },
      "outputs": [
        {
          "name": "stdout",
          "output_type": "stream",
          "text": [
            "우 : 우린 서로 사랑하고 있어\n",
            "리 : 이젠\n",
            "팀 : 팀에도 미안함도\n"
          ]
        }
      ],
      "source": [
        "long_line_poem(\"우리팀\")"
      ]
    }
  ],
  "metadata": {
    "colab": {
      "provenance": []
    },
    "kernelspec": {
      "display_name": "base",
      "language": "python",
      "name": "python3"
    },
    "language_info": {
      "codemirror_mode": {
        "name": "ipython",
        "version": 3
      },
      "file_extension": ".py",
      "mimetype": "text/x-python",
      "name": "python",
      "nbconvert_exporter": "python",
      "pygments_lexer": "ipython3",
      "version": "3.9.12"
    },
    "vscode": {
      "interpreter": {
        "hash": "06bfaaeaff7cb1f5295f776a16ea7ef345f972a06d2d0563a9a05445c9656fb9"
      }
    },
    "widgets": {
      "application/vnd.jupyter.widget-state+json": {
        "006d3c1680514460accabea109ac6ebe": {
          "model_module": "@jupyter-widgets/controls",
          "model_module_version": "1.5.0",
          "model_name": "DescriptionStyleModel",
          "state": {
            "_model_module": "@jupyter-widgets/controls",
            "_model_module_version": "1.5.0",
            "_model_name": "DescriptionStyleModel",
            "_view_count": null,
            "_view_module": "@jupyter-widgets/base",
            "_view_module_version": "1.2.0",
            "_view_name": "StyleView",
            "description_width": ""
          }
        },
        "00e339bfb07548d4af0c26ef7fe96ba3": {
          "model_module": "@jupyter-widgets/controls",
          "model_module_version": "1.5.0",
          "model_name": "DescriptionStyleModel",
          "state": {
            "_model_module": "@jupyter-widgets/controls",
            "_model_module_version": "1.5.0",
            "_model_name": "DescriptionStyleModel",
            "_view_count": null,
            "_view_module": "@jupyter-widgets/base",
            "_view_module_version": "1.2.0",
            "_view_name": "StyleView",
            "description_width": ""
          }
        },
        "026d8c3090424844908735b28e606920": {
          "model_module": "@jupyter-widgets/controls",
          "model_module_version": "1.5.0",
          "model_name": "HTMLModel",
          "state": {
            "_dom_classes": [],
            "_model_module": "@jupyter-widgets/controls",
            "_model_module_version": "1.5.0",
            "_model_name": "HTMLModel",
            "_view_count": null,
            "_view_module": "@jupyter-widgets/controls",
            "_view_module_version": "1.5.0",
            "_view_name": "HTMLView",
            "description": "",
            "description_tooltip": null,
            "layout": "IPY_MODEL_b6b1745887fa4315b2adace704afad3e",
            "placeholder": "​",
            "style": "IPY_MODEL_9951e0cea9a14691a4595f037e0426c8",
            "value": " 513M/513M [00:09&lt;00:00, 56.2MB/s]"
          }
        },
        "0ac9af3cfc4d4487b98e2ae817655e33": {
          "model_module": "@jupyter-widgets/controls",
          "model_module_version": "1.5.0",
          "model_name": "HTMLModel",
          "state": {
            "_dom_classes": [],
            "_model_module": "@jupyter-widgets/controls",
            "_model_module_version": "1.5.0",
            "_model_name": "HTMLModel",
            "_view_count": null,
            "_view_module": "@jupyter-widgets/controls",
            "_view_module_version": "1.5.0",
            "_view_name": "HTMLView",
            "description": "",
            "description_tooltip": null,
            "layout": "IPY_MODEL_9fc5b46d7f1a42b587a217769b93a9eb",
            "placeholder": "​",
            "style": "IPY_MODEL_00e339bfb07548d4af0c26ef7fe96ba3",
            "value": " 2.25M/2.25M [00:00&lt;00:00, 2.38MB/s]"
          }
        },
        "0b34f3959f564f0abadc56d103782f9a": {
          "model_module": "@jupyter-widgets/base",
          "model_module_version": "1.2.0",
          "model_name": "LayoutModel",
          "state": {
            "_model_module": "@jupyter-widgets/base",
            "_model_module_version": "1.2.0",
            "_model_name": "LayoutModel",
            "_view_count": null,
            "_view_module": "@jupyter-widgets/base",
            "_view_module_version": "1.2.0",
            "_view_name": "LayoutView",
            "align_content": null,
            "align_items": null,
            "align_self": null,
            "border": null,
            "bottom": null,
            "display": null,
            "flex": null,
            "flex_flow": null,
            "grid_area": null,
            "grid_auto_columns": null,
            "grid_auto_flow": null,
            "grid_auto_rows": null,
            "grid_column": null,
            "grid_gap": null,
            "grid_row": null,
            "grid_template_areas": null,
            "grid_template_columns": null,
            "grid_template_rows": null,
            "height": null,
            "justify_content": null,
            "justify_items": null,
            "left": null,
            "margin": null,
            "max_height": null,
            "max_width": null,
            "min_height": null,
            "min_width": null,
            "object_fit": null,
            "object_position": null,
            "order": null,
            "overflow": null,
            "overflow_x": null,
            "overflow_y": null,
            "padding": null,
            "right": null,
            "top": null,
            "visibility": null,
            "width": null
          }
        },
        "0c2562338d9d414b94e3213aad136b76": {
          "model_module": "@jupyter-widgets/controls",
          "model_module_version": "1.5.0",
          "model_name": "HTMLModel",
          "state": {
            "_dom_classes": [],
            "_model_module": "@jupyter-widgets/controls",
            "_model_module_version": "1.5.0",
            "_model_name": "HTMLModel",
            "_view_count": null,
            "_view_module": "@jupyter-widgets/controls",
            "_view_module_version": "1.5.0",
            "_view_name": "HTMLView",
            "description": "",
            "description_tooltip": null,
            "layout": "IPY_MODEL_1dc3528ca616434a9b771fe14579ba7b",
            "placeholder": "​",
            "style": "IPY_MODEL_fbe7c9d4f8434457bda3d3909225ec94",
            "value": "Downloading: 100%"
          }
        },
        "12aa3672693249b9a0d6c64b75cba639": {
          "model_module": "@jupyter-widgets/base",
          "model_module_version": "1.2.0",
          "model_name": "LayoutModel",
          "state": {
            "_model_module": "@jupyter-widgets/base",
            "_model_module_version": "1.2.0",
            "_model_name": "LayoutModel",
            "_view_count": null,
            "_view_module": "@jupyter-widgets/base",
            "_view_module_version": "1.2.0",
            "_view_name": "LayoutView",
            "align_content": null,
            "align_items": null,
            "align_self": null,
            "border": null,
            "bottom": null,
            "display": null,
            "flex": null,
            "flex_flow": null,
            "grid_area": null,
            "grid_auto_columns": null,
            "grid_auto_flow": null,
            "grid_auto_rows": null,
            "grid_column": null,
            "grid_gap": null,
            "grid_row": null,
            "grid_template_areas": null,
            "grid_template_columns": null,
            "grid_template_rows": null,
            "height": null,
            "justify_content": null,
            "justify_items": null,
            "left": null,
            "margin": null,
            "max_height": null,
            "max_width": null,
            "min_height": null,
            "min_width": null,
            "object_fit": null,
            "object_position": null,
            "order": null,
            "overflow": null,
            "overflow_x": null,
            "overflow_y": null,
            "padding": null,
            "right": null,
            "top": null,
            "visibility": null,
            "width": null
          }
        },
        "160a1d381aea4d3ca79d284ef07acc63": {
          "model_module": "@jupyter-widgets/base",
          "model_module_version": "1.2.0",
          "model_name": "LayoutModel",
          "state": {
            "_model_module": "@jupyter-widgets/base",
            "_model_module_version": "1.2.0",
            "_model_name": "LayoutModel",
            "_view_count": null,
            "_view_module": "@jupyter-widgets/base",
            "_view_module_version": "1.2.0",
            "_view_name": "LayoutView",
            "align_content": null,
            "align_items": null,
            "align_self": null,
            "border": null,
            "bottom": null,
            "display": null,
            "flex": null,
            "flex_flow": null,
            "grid_area": null,
            "grid_auto_columns": null,
            "grid_auto_flow": null,
            "grid_auto_rows": null,
            "grid_column": null,
            "grid_gap": null,
            "grid_row": null,
            "grid_template_areas": null,
            "grid_template_columns": null,
            "grid_template_rows": null,
            "height": null,
            "justify_content": null,
            "justify_items": null,
            "left": null,
            "margin": null,
            "max_height": null,
            "max_width": null,
            "min_height": null,
            "min_width": null,
            "object_fit": null,
            "object_position": null,
            "order": null,
            "overflow": null,
            "overflow_x": null,
            "overflow_y": null,
            "padding": null,
            "right": null,
            "top": null,
            "visibility": null,
            "width": null
          }
        },
        "1bc5d38d4de344b99eda97f82d9f62f7": {
          "model_module": "@jupyter-widgets/base",
          "model_module_version": "1.2.0",
          "model_name": "LayoutModel",
          "state": {
            "_model_module": "@jupyter-widgets/base",
            "_model_module_version": "1.2.0",
            "_model_name": "LayoutModel",
            "_view_count": null,
            "_view_module": "@jupyter-widgets/base",
            "_view_module_version": "1.2.0",
            "_view_name": "LayoutView",
            "align_content": null,
            "align_items": null,
            "align_self": null,
            "border": null,
            "bottom": null,
            "display": null,
            "flex": null,
            "flex_flow": null,
            "grid_area": null,
            "grid_auto_columns": null,
            "grid_auto_flow": null,
            "grid_auto_rows": null,
            "grid_column": null,
            "grid_gap": null,
            "grid_row": null,
            "grid_template_areas": null,
            "grid_template_columns": null,
            "grid_template_rows": null,
            "height": null,
            "justify_content": null,
            "justify_items": null,
            "left": null,
            "margin": null,
            "max_height": null,
            "max_width": null,
            "min_height": null,
            "min_width": null,
            "object_fit": null,
            "object_position": null,
            "order": null,
            "overflow": null,
            "overflow_x": null,
            "overflow_y": null,
            "padding": null,
            "right": null,
            "top": null,
            "visibility": null,
            "width": null
          }
        },
        "1dc3528ca616434a9b771fe14579ba7b": {
          "model_module": "@jupyter-widgets/base",
          "model_module_version": "1.2.0",
          "model_name": "LayoutModel",
          "state": {
            "_model_module": "@jupyter-widgets/base",
            "_model_module_version": "1.2.0",
            "_model_name": "LayoutModel",
            "_view_count": null,
            "_view_module": "@jupyter-widgets/base",
            "_view_module_version": "1.2.0",
            "_view_name": "LayoutView",
            "align_content": null,
            "align_items": null,
            "align_self": null,
            "border": null,
            "bottom": null,
            "display": null,
            "flex": null,
            "flex_flow": null,
            "grid_area": null,
            "grid_auto_columns": null,
            "grid_auto_flow": null,
            "grid_auto_rows": null,
            "grid_column": null,
            "grid_gap": null,
            "grid_row": null,
            "grid_template_areas": null,
            "grid_template_columns": null,
            "grid_template_rows": null,
            "height": null,
            "justify_content": null,
            "justify_items": null,
            "left": null,
            "margin": null,
            "max_height": null,
            "max_width": null,
            "min_height": null,
            "min_width": null,
            "object_fit": null,
            "object_position": null,
            "order": null,
            "overflow": null,
            "overflow_x": null,
            "overflow_y": null,
            "padding": null,
            "right": null,
            "top": null,
            "visibility": null,
            "width": null
          }
        },
        "20f46c20c0f24cc0965b70b2b89820e7": {
          "model_module": "@jupyter-widgets/controls",
          "model_module_version": "1.5.0",
          "model_name": "DescriptionStyleModel",
          "state": {
            "_model_module": "@jupyter-widgets/controls",
            "_model_module_version": "1.5.0",
            "_model_name": "DescriptionStyleModel",
            "_view_count": null,
            "_view_module": "@jupyter-widgets/base",
            "_view_module_version": "1.2.0",
            "_view_name": "StyleView",
            "description_width": ""
          }
        },
        "23790e168e644a94a89ac393ae117a2c": {
          "model_module": "@jupyter-widgets/controls",
          "model_module_version": "1.5.0",
          "model_name": "HTMLModel",
          "state": {
            "_dom_classes": [],
            "_model_module": "@jupyter-widgets/controls",
            "_model_module_version": "1.5.0",
            "_model_name": "HTMLModel",
            "_view_count": null,
            "_view_module": "@jupyter-widgets/controls",
            "_view_module_version": "1.5.0",
            "_view_name": "HTMLView",
            "description": "",
            "description_tooltip": null,
            "layout": "IPY_MODEL_4604e751ce354750bab85e6f046a19da",
            "placeholder": "​",
            "style": "IPY_MODEL_89f517662df24d42b32c21a7eddf1fda",
            "value": " 123/123 [00:00&lt;00:00, 4.73kB/s]"
          }
        },
        "23b55f89a4134837acb5505fb972f4cd": {
          "model_module": "@jupyter-widgets/controls",
          "model_module_version": "1.5.0",
          "model_name": "FloatProgressModel",
          "state": {
            "_dom_classes": [],
            "_model_module": "@jupyter-widgets/controls",
            "_model_module_version": "1.5.0",
            "_model_name": "FloatProgressModel",
            "_view_count": null,
            "_view_module": "@jupyter-widgets/controls",
            "_view_module_version": "1.5.0",
            "_view_name": "ProgressView",
            "bar_style": "success",
            "description": "",
            "description_tooltip": null,
            "layout": "IPY_MODEL_d11fb20f24004b0cb30d8a19e307dfaf",
            "max": 513294909,
            "min": 0,
            "orientation": "horizontal",
            "style": "IPY_MODEL_6027143586064ac49a9836a3ca1db9cd",
            "value": 513294909
          }
        },
        "296ee4cf12b3404f969fc7234bcb510a": {
          "model_module": "@jupyter-widgets/controls",
          "model_module_version": "1.5.0",
          "model_name": "HTMLModel",
          "state": {
            "_dom_classes": [],
            "_model_module": "@jupyter-widgets/controls",
            "_model_module_version": "1.5.0",
            "_model_name": "HTMLModel",
            "_view_count": null,
            "_view_module": "@jupyter-widgets/controls",
            "_view_module_version": "1.5.0",
            "_view_name": "HTMLView",
            "description": "",
            "description_tooltip": null,
            "layout": "IPY_MODEL_d6625d4d93514574a4f04865076bb3ed",
            "placeholder": "​",
            "style": "IPY_MODEL_5e1ebb1501704bd8bf983d61cc7de634",
            "value": "Downloading: 100%"
          }
        },
        "2c5a87cb971f4708b44de6d091b6c853": {
          "model_module": "@jupyter-widgets/controls",
          "model_module_version": "1.5.0",
          "model_name": "HTMLModel",
          "state": {
            "_dom_classes": [],
            "_model_module": "@jupyter-widgets/controls",
            "_model_module_version": "1.5.0",
            "_model_name": "HTMLModel",
            "_view_count": null,
            "_view_module": "@jupyter-widgets/controls",
            "_view_module_version": "1.5.0",
            "_view_name": "HTMLView",
            "description": "",
            "description_tooltip": null,
            "layout": "IPY_MODEL_f15b92229fdf4e16b60aaf9ef2e4187b",
            "placeholder": "​",
            "style": "IPY_MODEL_d60fd53d1a66461db4aab685b5cc9e22",
            "value": "Downloading: 100%"
          }
        },
        "40efed17b2ce482694d56ae475ff2730": {
          "model_module": "@jupyter-widgets/controls",
          "model_module_version": "1.5.0",
          "model_name": "FloatProgressModel",
          "state": {
            "_dom_classes": [],
            "_model_module": "@jupyter-widgets/controls",
            "_model_module_version": "1.5.0",
            "_model_name": "FloatProgressModel",
            "_view_count": null,
            "_view_module": "@jupyter-widgets/controls",
            "_view_module_version": "1.5.0",
            "_view_name": "ProgressView",
            "bar_style": "success",
            "description": "",
            "description_tooltip": null,
            "layout": "IPY_MODEL_160a1d381aea4d3ca79d284ef07acc63",
            "max": 301,
            "min": 0,
            "orientation": "horizontal",
            "style": "IPY_MODEL_7eb094d642fe4ffda8f98be1b784a222",
            "value": 301
          }
        },
        "4604e751ce354750bab85e6f046a19da": {
          "model_module": "@jupyter-widgets/base",
          "model_module_version": "1.2.0",
          "model_name": "LayoutModel",
          "state": {
            "_model_module": "@jupyter-widgets/base",
            "_model_module_version": "1.2.0",
            "_model_name": "LayoutModel",
            "_view_count": null,
            "_view_module": "@jupyter-widgets/base",
            "_view_module_version": "1.2.0",
            "_view_name": "LayoutView",
            "align_content": null,
            "align_items": null,
            "align_self": null,
            "border": null,
            "bottom": null,
            "display": null,
            "flex": null,
            "flex_flow": null,
            "grid_area": null,
            "grid_auto_columns": null,
            "grid_auto_flow": null,
            "grid_auto_rows": null,
            "grid_column": null,
            "grid_gap": null,
            "grid_row": null,
            "grid_template_areas": null,
            "grid_template_columns": null,
            "grid_template_rows": null,
            "height": null,
            "justify_content": null,
            "justify_items": null,
            "left": null,
            "margin": null,
            "max_height": null,
            "max_width": null,
            "min_height": null,
            "min_width": null,
            "object_fit": null,
            "object_position": null,
            "order": null,
            "overflow": null,
            "overflow_x": null,
            "overflow_y": null,
            "padding": null,
            "right": null,
            "top": null,
            "visibility": null,
            "width": null
          }
        },
        "49950d34613f4eb2bf212c80cd8d70c3": {
          "model_module": "@jupyter-widgets/controls",
          "model_module_version": "1.5.0",
          "model_name": "HBoxModel",
          "state": {
            "_dom_classes": [],
            "_model_module": "@jupyter-widgets/controls",
            "_model_module_version": "1.5.0",
            "_model_name": "HBoxModel",
            "_view_count": null,
            "_view_module": "@jupyter-widgets/controls",
            "_view_module_version": "1.5.0",
            "_view_name": "HBoxView",
            "box_style": "",
            "children": [
              "IPY_MODEL_d207333830cb4ec2a50b0a31cf5426df",
              "IPY_MODEL_c10935c320054e90abeefaaf94ca817e",
              "IPY_MODEL_0ac9af3cfc4d4487b98e2ae817655e33"
            ],
            "layout": "IPY_MODEL_e56df14256604d29973f722d435fcc38"
          }
        },
        "49a229dc4edd4fb59236dd6418e49845": {
          "model_module": "@jupyter-widgets/controls",
          "model_module_version": "1.5.0",
          "model_name": "ProgressStyleModel",
          "state": {
            "_model_module": "@jupyter-widgets/controls",
            "_model_module_version": "1.5.0",
            "_model_name": "ProgressStyleModel",
            "_view_count": null,
            "_view_module": "@jupyter-widgets/base",
            "_view_module_version": "1.2.0",
            "_view_name": "StyleView",
            "bar_color": null,
            "description_width": ""
          }
        },
        "4f7aafe72aa64367a54c733a83b26aaa": {
          "model_module": "@jupyter-widgets/base",
          "model_module_version": "1.2.0",
          "model_name": "LayoutModel",
          "state": {
            "_model_module": "@jupyter-widgets/base",
            "_model_module_version": "1.2.0",
            "_model_name": "LayoutModel",
            "_view_count": null,
            "_view_module": "@jupyter-widgets/base",
            "_view_module_version": "1.2.0",
            "_view_name": "LayoutView",
            "align_content": null,
            "align_items": null,
            "align_self": null,
            "border": null,
            "bottom": null,
            "display": null,
            "flex": null,
            "flex_flow": null,
            "grid_area": null,
            "grid_auto_columns": null,
            "grid_auto_flow": null,
            "grid_auto_rows": null,
            "grid_column": null,
            "grid_gap": null,
            "grid_row": null,
            "grid_template_areas": null,
            "grid_template_columns": null,
            "grid_template_rows": null,
            "height": null,
            "justify_content": null,
            "justify_items": null,
            "left": null,
            "margin": null,
            "max_height": null,
            "max_width": null,
            "min_height": null,
            "min_width": null,
            "object_fit": null,
            "object_position": null,
            "order": null,
            "overflow": null,
            "overflow_x": null,
            "overflow_y": null,
            "padding": null,
            "right": null,
            "top": null,
            "visibility": null,
            "width": null
          }
        },
        "5e1ebb1501704bd8bf983d61cc7de634": {
          "model_module": "@jupyter-widgets/controls",
          "model_module_version": "1.5.0",
          "model_name": "DescriptionStyleModel",
          "state": {
            "_model_module": "@jupyter-widgets/controls",
            "_model_module_version": "1.5.0",
            "_model_name": "DescriptionStyleModel",
            "_view_count": null,
            "_view_module": "@jupyter-widgets/base",
            "_view_module_version": "1.2.0",
            "_view_name": "StyleView",
            "description_width": ""
          }
        },
        "5e748b47334b4ea5baedf7cd7094541b": {
          "model_module": "@jupyter-widgets/base",
          "model_module_version": "1.2.0",
          "model_name": "LayoutModel",
          "state": {
            "_model_module": "@jupyter-widgets/base",
            "_model_module_version": "1.2.0",
            "_model_name": "LayoutModel",
            "_view_count": null,
            "_view_module": "@jupyter-widgets/base",
            "_view_module_version": "1.2.0",
            "_view_name": "LayoutView",
            "align_content": null,
            "align_items": null,
            "align_self": null,
            "border": null,
            "bottom": null,
            "display": null,
            "flex": null,
            "flex_flow": null,
            "grid_area": null,
            "grid_auto_columns": null,
            "grid_auto_flow": null,
            "grid_auto_rows": null,
            "grid_column": null,
            "grid_gap": null,
            "grid_row": null,
            "grid_template_areas": null,
            "grid_template_columns": null,
            "grid_template_rows": null,
            "height": null,
            "justify_content": null,
            "justify_items": null,
            "left": null,
            "margin": null,
            "max_height": null,
            "max_width": null,
            "min_height": null,
            "min_width": null,
            "object_fit": null,
            "object_position": null,
            "order": null,
            "overflow": null,
            "overflow_x": null,
            "overflow_y": null,
            "padding": null,
            "right": null,
            "top": null,
            "visibility": null,
            "width": null
          }
        },
        "6027143586064ac49a9836a3ca1db9cd": {
          "model_module": "@jupyter-widgets/controls",
          "model_module_version": "1.5.0",
          "model_name": "ProgressStyleModel",
          "state": {
            "_model_module": "@jupyter-widgets/controls",
            "_model_module_version": "1.5.0",
            "_model_name": "ProgressStyleModel",
            "_view_count": null,
            "_view_module": "@jupyter-widgets/base",
            "_view_module_version": "1.2.0",
            "_view_name": "StyleView",
            "bar_color": null,
            "description_width": ""
          }
        },
        "60f37c44ad0a4282a8a6883c53114323": {
          "model_module": "@jupyter-widgets/controls",
          "model_module_version": "1.5.0",
          "model_name": "HTMLModel",
          "state": {
            "_dom_classes": [],
            "_model_module": "@jupyter-widgets/controls",
            "_model_module_version": "1.5.0",
            "_model_name": "HTMLModel",
            "_view_count": null,
            "_view_module": "@jupyter-widgets/controls",
            "_view_module_version": "1.5.0",
            "_view_name": "HTMLView",
            "description": "",
            "description_tooltip": null,
            "layout": "IPY_MODEL_12aa3672693249b9a0d6c64b75cba639",
            "placeholder": "​",
            "style": "IPY_MODEL_006d3c1680514460accabea109ac6ebe",
            "value": "Downloading: 100%"
          }
        },
        "615027d55ad54c98a37e3df358dd3a8a": {
          "model_module": "@jupyter-widgets/controls",
          "model_module_version": "1.5.0",
          "model_name": "FloatProgressModel",
          "state": {
            "_dom_classes": [],
            "_model_module": "@jupyter-widgets/controls",
            "_model_module_version": "1.5.0",
            "_model_name": "FloatProgressModel",
            "_view_count": null,
            "_view_module": "@jupyter-widgets/controls",
            "_view_module_version": "1.5.0",
            "_view_name": "ProgressView",
            "bar_style": "success",
            "description": "",
            "description_tooltip": null,
            "layout": "IPY_MODEL_ff6cecd19ed444dfbb968006b1f627fc",
            "max": 1180,
            "min": 0,
            "orientation": "horizontal",
            "style": "IPY_MODEL_f126132afa7f471c937815f0de4a41b9",
            "value": 1180
          }
        },
        "6281066321db4dba8ae5618778976fa5": {
          "model_module": "@jupyter-widgets/controls",
          "model_module_version": "1.5.0",
          "model_name": "FloatProgressModel",
          "state": {
            "_dom_classes": [],
            "_model_module": "@jupyter-widgets/controls",
            "_model_module_version": "1.5.0",
            "_model_name": "FloatProgressModel",
            "_view_count": null,
            "_view_module": "@jupyter-widgets/controls",
            "_view_module_version": "1.5.0",
            "_view_name": "ProgressView",
            "bar_style": "success",
            "description": "",
            "description_tooltip": null,
            "layout": "IPY_MODEL_1bc5d38d4de344b99eda97f82d9f62f7",
            "max": 123,
            "min": 0,
            "orientation": "horizontal",
            "style": "IPY_MODEL_49a229dc4edd4fb59236dd6418e49845",
            "value": 123
          }
        },
        "77a4c92022ed4be8b9fa2bb8bc17051d": {
          "model_module": "@jupyter-widgets/controls",
          "model_module_version": "1.5.0",
          "model_name": "HBoxModel",
          "state": {
            "_dom_classes": [],
            "_model_module": "@jupyter-widgets/controls",
            "_model_module_version": "1.5.0",
            "_model_name": "HBoxModel",
            "_view_count": null,
            "_view_module": "@jupyter-widgets/controls",
            "_view_module_version": "1.5.0",
            "_view_name": "HBoxView",
            "box_style": "",
            "children": [
              "IPY_MODEL_0c2562338d9d414b94e3213aad136b76",
              "IPY_MODEL_6281066321db4dba8ae5618778976fa5",
              "IPY_MODEL_23790e168e644a94a89ac393ae117a2c"
            ],
            "layout": "IPY_MODEL_99efc36218634f75a1ac637022f2c5cb"
          }
        },
        "784a3b5dce8c482d9aa5984b978e6abe": {
          "model_module": "@jupyter-widgets/base",
          "model_module_version": "1.2.0",
          "model_name": "LayoutModel",
          "state": {
            "_model_module": "@jupyter-widgets/base",
            "_model_module_version": "1.2.0",
            "_model_name": "LayoutModel",
            "_view_count": null,
            "_view_module": "@jupyter-widgets/base",
            "_view_module_version": "1.2.0",
            "_view_name": "LayoutView",
            "align_content": null,
            "align_items": null,
            "align_self": null,
            "border": null,
            "bottom": null,
            "display": null,
            "flex": null,
            "flex_flow": null,
            "grid_area": null,
            "grid_auto_columns": null,
            "grid_auto_flow": null,
            "grid_auto_rows": null,
            "grid_column": null,
            "grid_gap": null,
            "grid_row": null,
            "grid_template_areas": null,
            "grid_template_columns": null,
            "grid_template_rows": null,
            "height": null,
            "justify_content": null,
            "justify_items": null,
            "left": null,
            "margin": null,
            "max_height": null,
            "max_width": null,
            "min_height": null,
            "min_width": null,
            "object_fit": null,
            "object_position": null,
            "order": null,
            "overflow": null,
            "overflow_x": null,
            "overflow_y": null,
            "padding": null,
            "right": null,
            "top": null,
            "visibility": null,
            "width": null
          }
        },
        "7eb094d642fe4ffda8f98be1b784a222": {
          "model_module": "@jupyter-widgets/controls",
          "model_module_version": "1.5.0",
          "model_name": "ProgressStyleModel",
          "state": {
            "_model_module": "@jupyter-widgets/controls",
            "_model_module_version": "1.5.0",
            "_model_name": "ProgressStyleModel",
            "_view_count": null,
            "_view_module": "@jupyter-widgets/base",
            "_view_module_version": "1.2.0",
            "_view_name": "StyleView",
            "bar_color": null,
            "description_width": ""
          }
        },
        "85d9f3ae004e41fd908fd684ce453937": {
          "model_module": "@jupyter-widgets/controls",
          "model_module_version": "1.5.0",
          "model_name": "DescriptionStyleModel",
          "state": {
            "_model_module": "@jupyter-widgets/controls",
            "_model_module_version": "1.5.0",
            "_model_name": "DescriptionStyleModel",
            "_view_count": null,
            "_view_module": "@jupyter-widgets/base",
            "_view_module_version": "1.2.0",
            "_view_name": "StyleView",
            "description_width": ""
          }
        },
        "87f45194465a4bf292bdd21755dbe746": {
          "model_module": "@jupyter-widgets/controls",
          "model_module_version": "1.5.0",
          "model_name": "HTMLModel",
          "state": {
            "_dom_classes": [],
            "_model_module": "@jupyter-widgets/controls",
            "_model_module_version": "1.5.0",
            "_model_name": "HTMLModel",
            "_view_count": null,
            "_view_module": "@jupyter-widgets/controls",
            "_view_module_version": "1.5.0",
            "_view_name": "HTMLView",
            "description": "",
            "description_tooltip": null,
            "layout": "IPY_MODEL_a904881962d144b9bbcc7545b5115d34",
            "placeholder": "​",
            "style": "IPY_MODEL_85d9f3ae004e41fd908fd684ce453937",
            "value": " 301/301 [00:00&lt;00:00, 9.45kB/s]"
          }
        },
        "89f517662df24d42b32c21a7eddf1fda": {
          "model_module": "@jupyter-widgets/controls",
          "model_module_version": "1.5.0",
          "model_name": "DescriptionStyleModel",
          "state": {
            "_model_module": "@jupyter-widgets/controls",
            "_model_module_version": "1.5.0",
            "_model_name": "DescriptionStyleModel",
            "_view_count": null,
            "_view_module": "@jupyter-widgets/base",
            "_view_module_version": "1.2.0",
            "_view_name": "StyleView",
            "description_width": ""
          }
        },
        "9534f1566cda480483e7a6d2abd5a7ef": {
          "model_module": "@jupyter-widgets/controls",
          "model_module_version": "1.5.0",
          "model_name": "HBoxModel",
          "state": {
            "_dom_classes": [],
            "_model_module": "@jupyter-widgets/controls",
            "_model_module_version": "1.5.0",
            "_model_name": "HBoxModel",
            "_view_count": null,
            "_view_module": "@jupyter-widgets/controls",
            "_view_module_version": "1.5.0",
            "_view_name": "HBoxView",
            "box_style": "",
            "children": [
              "IPY_MODEL_60f37c44ad0a4282a8a6883c53114323",
              "IPY_MODEL_23b55f89a4134837acb5505fb972f4cd",
              "IPY_MODEL_026d8c3090424844908735b28e606920"
            ],
            "layout": "IPY_MODEL_4f7aafe72aa64367a54c733a83b26aaa"
          }
        },
        "95e0e09dd00e4c90b0667694e9265ae3": {
          "model_module": "@jupyter-widgets/controls",
          "model_module_version": "1.5.0",
          "model_name": "HBoxModel",
          "state": {
            "_dom_classes": [],
            "_model_module": "@jupyter-widgets/controls",
            "_model_module_version": "1.5.0",
            "_model_name": "HBoxModel",
            "_view_count": null,
            "_view_module": "@jupyter-widgets/controls",
            "_view_module_version": "1.5.0",
            "_view_name": "HBoxView",
            "box_style": "",
            "children": [
              "IPY_MODEL_2c5a87cb971f4708b44de6d091b6c853",
              "IPY_MODEL_40efed17b2ce482694d56ae475ff2730",
              "IPY_MODEL_87f45194465a4bf292bdd21755dbe746"
            ],
            "layout": "IPY_MODEL_b3178c4f0a614efb9297f3ab4b6a6174"
          }
        },
        "9633e7f1adf149b68fb821eb0bcdfe73": {
          "model_module": "@jupyter-widgets/controls",
          "model_module_version": "1.5.0",
          "model_name": "DescriptionStyleModel",
          "state": {
            "_model_module": "@jupyter-widgets/controls",
            "_model_module_version": "1.5.0",
            "_model_name": "DescriptionStyleModel",
            "_view_count": null,
            "_view_module": "@jupyter-widgets/base",
            "_view_module_version": "1.2.0",
            "_view_name": "StyleView",
            "description_width": ""
          }
        },
        "9951e0cea9a14691a4595f037e0426c8": {
          "model_module": "@jupyter-widgets/controls",
          "model_module_version": "1.5.0",
          "model_name": "DescriptionStyleModel",
          "state": {
            "_model_module": "@jupyter-widgets/controls",
            "_model_module_version": "1.5.0",
            "_model_name": "DescriptionStyleModel",
            "_view_count": null,
            "_view_module": "@jupyter-widgets/base",
            "_view_module_version": "1.2.0",
            "_view_name": "StyleView",
            "description_width": ""
          }
        },
        "99efc36218634f75a1ac637022f2c5cb": {
          "model_module": "@jupyter-widgets/base",
          "model_module_version": "1.2.0",
          "model_name": "LayoutModel",
          "state": {
            "_model_module": "@jupyter-widgets/base",
            "_model_module_version": "1.2.0",
            "_model_name": "LayoutModel",
            "_view_count": null,
            "_view_module": "@jupyter-widgets/base",
            "_view_module_version": "1.2.0",
            "_view_name": "LayoutView",
            "align_content": null,
            "align_items": null,
            "align_self": null,
            "border": null,
            "bottom": null,
            "display": null,
            "flex": null,
            "flex_flow": null,
            "grid_area": null,
            "grid_auto_columns": null,
            "grid_auto_flow": null,
            "grid_auto_rows": null,
            "grid_column": null,
            "grid_gap": null,
            "grid_row": null,
            "grid_template_areas": null,
            "grid_template_columns": null,
            "grid_template_rows": null,
            "height": null,
            "justify_content": null,
            "justify_items": null,
            "left": null,
            "margin": null,
            "max_height": null,
            "max_width": null,
            "min_height": null,
            "min_width": null,
            "object_fit": null,
            "object_position": null,
            "order": null,
            "overflow": null,
            "overflow_x": null,
            "overflow_y": null,
            "padding": null,
            "right": null,
            "top": null,
            "visibility": null,
            "width": null
          }
        },
        "9c8cd28a53e14edabce0c433919c84a0": {
          "model_module": "@jupyter-widgets/controls",
          "model_module_version": "1.5.0",
          "model_name": "HTMLModel",
          "state": {
            "_dom_classes": [],
            "_model_module": "@jupyter-widgets/controls",
            "_model_module_version": "1.5.0",
            "_model_name": "HTMLModel",
            "_view_count": null,
            "_view_module": "@jupyter-widgets/controls",
            "_view_module_version": "1.5.0",
            "_view_name": "HTMLView",
            "description": "",
            "description_tooltip": null,
            "layout": "IPY_MODEL_784a3b5dce8c482d9aa5984b978e6abe",
            "placeholder": "​",
            "style": "IPY_MODEL_9633e7f1adf149b68fb821eb0bcdfe73",
            "value": " 1.18k/1.18k [00:00&lt;00:00, 53.3kB/s]"
          }
        },
        "9fc5b46d7f1a42b587a217769b93a9eb": {
          "model_module": "@jupyter-widgets/base",
          "model_module_version": "1.2.0",
          "model_name": "LayoutModel",
          "state": {
            "_model_module": "@jupyter-widgets/base",
            "_model_module_version": "1.2.0",
            "_model_name": "LayoutModel",
            "_view_count": null,
            "_view_module": "@jupyter-widgets/base",
            "_view_module_version": "1.2.0",
            "_view_name": "LayoutView",
            "align_content": null,
            "align_items": null,
            "align_self": null,
            "border": null,
            "bottom": null,
            "display": null,
            "flex": null,
            "flex_flow": null,
            "grid_area": null,
            "grid_auto_columns": null,
            "grid_auto_flow": null,
            "grid_auto_rows": null,
            "grid_column": null,
            "grid_gap": null,
            "grid_row": null,
            "grid_template_areas": null,
            "grid_template_columns": null,
            "grid_template_rows": null,
            "height": null,
            "justify_content": null,
            "justify_items": null,
            "left": null,
            "margin": null,
            "max_height": null,
            "max_width": null,
            "min_height": null,
            "min_width": null,
            "object_fit": null,
            "object_position": null,
            "order": null,
            "overflow": null,
            "overflow_x": null,
            "overflow_y": null,
            "padding": null,
            "right": null,
            "top": null,
            "visibility": null,
            "width": null
          }
        },
        "a33c32d179054be79999bbb50710f3b9": {
          "model_module": "@jupyter-widgets/controls",
          "model_module_version": "1.5.0",
          "model_name": "ProgressStyleModel",
          "state": {
            "_model_module": "@jupyter-widgets/controls",
            "_model_module_version": "1.5.0",
            "_model_name": "ProgressStyleModel",
            "_view_count": null,
            "_view_module": "@jupyter-widgets/base",
            "_view_module_version": "1.2.0",
            "_view_name": "StyleView",
            "bar_color": null,
            "description_width": ""
          }
        },
        "a904881962d144b9bbcc7545b5115d34": {
          "model_module": "@jupyter-widgets/base",
          "model_module_version": "1.2.0",
          "model_name": "LayoutModel",
          "state": {
            "_model_module": "@jupyter-widgets/base",
            "_model_module_version": "1.2.0",
            "_model_name": "LayoutModel",
            "_view_count": null,
            "_view_module": "@jupyter-widgets/base",
            "_view_module_version": "1.2.0",
            "_view_name": "LayoutView",
            "align_content": null,
            "align_items": null,
            "align_self": null,
            "border": null,
            "bottom": null,
            "display": null,
            "flex": null,
            "flex_flow": null,
            "grid_area": null,
            "grid_auto_columns": null,
            "grid_auto_flow": null,
            "grid_auto_rows": null,
            "grid_column": null,
            "grid_gap": null,
            "grid_row": null,
            "grid_template_areas": null,
            "grid_template_columns": null,
            "grid_template_rows": null,
            "height": null,
            "justify_content": null,
            "justify_items": null,
            "left": null,
            "margin": null,
            "max_height": null,
            "max_width": null,
            "min_height": null,
            "min_width": null,
            "object_fit": null,
            "object_position": null,
            "order": null,
            "overflow": null,
            "overflow_x": null,
            "overflow_y": null,
            "padding": null,
            "right": null,
            "top": null,
            "visibility": null,
            "width": null
          }
        },
        "b3178c4f0a614efb9297f3ab4b6a6174": {
          "model_module": "@jupyter-widgets/base",
          "model_module_version": "1.2.0",
          "model_name": "LayoutModel",
          "state": {
            "_model_module": "@jupyter-widgets/base",
            "_model_module_version": "1.2.0",
            "_model_name": "LayoutModel",
            "_view_count": null,
            "_view_module": "@jupyter-widgets/base",
            "_view_module_version": "1.2.0",
            "_view_name": "LayoutView",
            "align_content": null,
            "align_items": null,
            "align_self": null,
            "border": null,
            "bottom": null,
            "display": null,
            "flex": null,
            "flex_flow": null,
            "grid_area": null,
            "grid_auto_columns": null,
            "grid_auto_flow": null,
            "grid_auto_rows": null,
            "grid_column": null,
            "grid_gap": null,
            "grid_row": null,
            "grid_template_areas": null,
            "grid_template_columns": null,
            "grid_template_rows": null,
            "height": null,
            "justify_content": null,
            "justify_items": null,
            "left": null,
            "margin": null,
            "max_height": null,
            "max_width": null,
            "min_height": null,
            "min_width": null,
            "object_fit": null,
            "object_position": null,
            "order": null,
            "overflow": null,
            "overflow_x": null,
            "overflow_y": null,
            "padding": null,
            "right": null,
            "top": null,
            "visibility": null,
            "width": null
          }
        },
        "b6b1745887fa4315b2adace704afad3e": {
          "model_module": "@jupyter-widgets/base",
          "model_module_version": "1.2.0",
          "model_name": "LayoutModel",
          "state": {
            "_model_module": "@jupyter-widgets/base",
            "_model_module_version": "1.2.0",
            "_model_name": "LayoutModel",
            "_view_count": null,
            "_view_module": "@jupyter-widgets/base",
            "_view_module_version": "1.2.0",
            "_view_name": "LayoutView",
            "align_content": null,
            "align_items": null,
            "align_self": null,
            "border": null,
            "bottom": null,
            "display": null,
            "flex": null,
            "flex_flow": null,
            "grid_area": null,
            "grid_auto_columns": null,
            "grid_auto_flow": null,
            "grid_auto_rows": null,
            "grid_column": null,
            "grid_gap": null,
            "grid_row": null,
            "grid_template_areas": null,
            "grid_template_columns": null,
            "grid_template_rows": null,
            "height": null,
            "justify_content": null,
            "justify_items": null,
            "left": null,
            "margin": null,
            "max_height": null,
            "max_width": null,
            "min_height": null,
            "min_width": null,
            "object_fit": null,
            "object_position": null,
            "order": null,
            "overflow": null,
            "overflow_x": null,
            "overflow_y": null,
            "padding": null,
            "right": null,
            "top": null,
            "visibility": null,
            "width": null
          }
        },
        "b84c13b55fc84e978191e47bbf7b4dfd": {
          "model_module": "@jupyter-widgets/base",
          "model_module_version": "1.2.0",
          "model_name": "LayoutModel",
          "state": {
            "_model_module": "@jupyter-widgets/base",
            "_model_module_version": "1.2.0",
            "_model_name": "LayoutModel",
            "_view_count": null,
            "_view_module": "@jupyter-widgets/base",
            "_view_module_version": "1.2.0",
            "_view_name": "LayoutView",
            "align_content": null,
            "align_items": null,
            "align_self": null,
            "border": null,
            "bottom": null,
            "display": null,
            "flex": null,
            "flex_flow": null,
            "grid_area": null,
            "grid_auto_columns": null,
            "grid_auto_flow": null,
            "grid_auto_rows": null,
            "grid_column": null,
            "grid_gap": null,
            "grid_row": null,
            "grid_template_areas": null,
            "grid_template_columns": null,
            "grid_template_rows": null,
            "height": null,
            "justify_content": null,
            "justify_items": null,
            "left": null,
            "margin": null,
            "max_height": null,
            "max_width": null,
            "min_height": null,
            "min_width": null,
            "object_fit": null,
            "object_position": null,
            "order": null,
            "overflow": null,
            "overflow_x": null,
            "overflow_y": null,
            "padding": null,
            "right": null,
            "top": null,
            "visibility": null,
            "width": null
          }
        },
        "c10935c320054e90abeefaaf94ca817e": {
          "model_module": "@jupyter-widgets/controls",
          "model_module_version": "1.5.0",
          "model_name": "FloatProgressModel",
          "state": {
            "_dom_classes": [],
            "_model_module": "@jupyter-widgets/controls",
            "_model_module_version": "1.5.0",
            "_model_name": "FloatProgressModel",
            "_view_count": null,
            "_view_module": "@jupyter-widgets/controls",
            "_view_module_version": "1.5.0",
            "_view_name": "ProgressView",
            "bar_style": "success",
            "description": "",
            "description_tooltip": null,
            "layout": "IPY_MODEL_b84c13b55fc84e978191e47bbf7b4dfd",
            "max": 2245988,
            "min": 0,
            "orientation": "horizontal",
            "style": "IPY_MODEL_a33c32d179054be79999bbb50710f3b9",
            "value": 2245988
          }
        },
        "c3b96d1856954798b3e0124c52c8246b": {
          "model_module": "@jupyter-widgets/controls",
          "model_module_version": "1.5.0",
          "model_name": "HBoxModel",
          "state": {
            "_dom_classes": [],
            "_model_module": "@jupyter-widgets/controls",
            "_model_module_version": "1.5.0",
            "_model_name": "HBoxModel",
            "_view_count": null,
            "_view_module": "@jupyter-widgets/controls",
            "_view_module_version": "1.5.0",
            "_view_name": "HBoxView",
            "box_style": "",
            "children": [
              "IPY_MODEL_296ee4cf12b3404f969fc7234bcb510a",
              "IPY_MODEL_615027d55ad54c98a37e3df358dd3a8a",
              "IPY_MODEL_9c8cd28a53e14edabce0c433919c84a0"
            ],
            "layout": "IPY_MODEL_0b34f3959f564f0abadc56d103782f9a"
          }
        },
        "d11fb20f24004b0cb30d8a19e307dfaf": {
          "model_module": "@jupyter-widgets/base",
          "model_module_version": "1.2.0",
          "model_name": "LayoutModel",
          "state": {
            "_model_module": "@jupyter-widgets/base",
            "_model_module_version": "1.2.0",
            "_model_name": "LayoutModel",
            "_view_count": null,
            "_view_module": "@jupyter-widgets/base",
            "_view_module_version": "1.2.0",
            "_view_name": "LayoutView",
            "align_content": null,
            "align_items": null,
            "align_self": null,
            "border": null,
            "bottom": null,
            "display": null,
            "flex": null,
            "flex_flow": null,
            "grid_area": null,
            "grid_auto_columns": null,
            "grid_auto_flow": null,
            "grid_auto_rows": null,
            "grid_column": null,
            "grid_gap": null,
            "grid_row": null,
            "grid_template_areas": null,
            "grid_template_columns": null,
            "grid_template_rows": null,
            "height": null,
            "justify_content": null,
            "justify_items": null,
            "left": null,
            "margin": null,
            "max_height": null,
            "max_width": null,
            "min_height": null,
            "min_width": null,
            "object_fit": null,
            "object_position": null,
            "order": null,
            "overflow": null,
            "overflow_x": null,
            "overflow_y": null,
            "padding": null,
            "right": null,
            "top": null,
            "visibility": null,
            "width": null
          }
        },
        "d207333830cb4ec2a50b0a31cf5426df": {
          "model_module": "@jupyter-widgets/controls",
          "model_module_version": "1.5.0",
          "model_name": "HTMLModel",
          "state": {
            "_dom_classes": [],
            "_model_module": "@jupyter-widgets/controls",
            "_model_module_version": "1.5.0",
            "_model_name": "HTMLModel",
            "_view_count": null,
            "_view_module": "@jupyter-widgets/controls",
            "_view_module_version": "1.5.0",
            "_view_name": "HTMLView",
            "description": "",
            "description_tooltip": null,
            "layout": "IPY_MODEL_5e748b47334b4ea5baedf7cd7094541b",
            "placeholder": "​",
            "style": "IPY_MODEL_20f46c20c0f24cc0965b70b2b89820e7",
            "value": "Downloading: 100%"
          }
        },
        "d60fd53d1a66461db4aab685b5cc9e22": {
          "model_module": "@jupyter-widgets/controls",
          "model_module_version": "1.5.0",
          "model_name": "DescriptionStyleModel",
          "state": {
            "_model_module": "@jupyter-widgets/controls",
            "_model_module_version": "1.5.0",
            "_model_name": "DescriptionStyleModel",
            "_view_count": null,
            "_view_module": "@jupyter-widgets/base",
            "_view_module_version": "1.2.0",
            "_view_name": "StyleView",
            "description_width": ""
          }
        },
        "d6625d4d93514574a4f04865076bb3ed": {
          "model_module": "@jupyter-widgets/base",
          "model_module_version": "1.2.0",
          "model_name": "LayoutModel",
          "state": {
            "_model_module": "@jupyter-widgets/base",
            "_model_module_version": "1.2.0",
            "_model_name": "LayoutModel",
            "_view_count": null,
            "_view_module": "@jupyter-widgets/base",
            "_view_module_version": "1.2.0",
            "_view_name": "LayoutView",
            "align_content": null,
            "align_items": null,
            "align_self": null,
            "border": null,
            "bottom": null,
            "display": null,
            "flex": null,
            "flex_flow": null,
            "grid_area": null,
            "grid_auto_columns": null,
            "grid_auto_flow": null,
            "grid_auto_rows": null,
            "grid_column": null,
            "grid_gap": null,
            "grid_row": null,
            "grid_template_areas": null,
            "grid_template_columns": null,
            "grid_template_rows": null,
            "height": null,
            "justify_content": null,
            "justify_items": null,
            "left": null,
            "margin": null,
            "max_height": null,
            "max_width": null,
            "min_height": null,
            "min_width": null,
            "object_fit": null,
            "object_position": null,
            "order": null,
            "overflow": null,
            "overflow_x": null,
            "overflow_y": null,
            "padding": null,
            "right": null,
            "top": null,
            "visibility": null,
            "width": null
          }
        },
        "e56df14256604d29973f722d435fcc38": {
          "model_module": "@jupyter-widgets/base",
          "model_module_version": "1.2.0",
          "model_name": "LayoutModel",
          "state": {
            "_model_module": "@jupyter-widgets/base",
            "_model_module_version": "1.2.0",
            "_model_name": "LayoutModel",
            "_view_count": null,
            "_view_module": "@jupyter-widgets/base",
            "_view_module_version": "1.2.0",
            "_view_name": "LayoutView",
            "align_content": null,
            "align_items": null,
            "align_self": null,
            "border": null,
            "bottom": null,
            "display": null,
            "flex": null,
            "flex_flow": null,
            "grid_area": null,
            "grid_auto_columns": null,
            "grid_auto_flow": null,
            "grid_auto_rows": null,
            "grid_column": null,
            "grid_gap": null,
            "grid_row": null,
            "grid_template_areas": null,
            "grid_template_columns": null,
            "grid_template_rows": null,
            "height": null,
            "justify_content": null,
            "justify_items": null,
            "left": null,
            "margin": null,
            "max_height": null,
            "max_width": null,
            "min_height": null,
            "min_width": null,
            "object_fit": null,
            "object_position": null,
            "order": null,
            "overflow": null,
            "overflow_x": null,
            "overflow_y": null,
            "padding": null,
            "right": null,
            "top": null,
            "visibility": null,
            "width": null
          }
        },
        "f126132afa7f471c937815f0de4a41b9": {
          "model_module": "@jupyter-widgets/controls",
          "model_module_version": "1.5.0",
          "model_name": "ProgressStyleModel",
          "state": {
            "_model_module": "@jupyter-widgets/controls",
            "_model_module_version": "1.5.0",
            "_model_name": "ProgressStyleModel",
            "_view_count": null,
            "_view_module": "@jupyter-widgets/base",
            "_view_module_version": "1.2.0",
            "_view_name": "StyleView",
            "bar_color": null,
            "description_width": ""
          }
        },
        "f15b92229fdf4e16b60aaf9ef2e4187b": {
          "model_module": "@jupyter-widgets/base",
          "model_module_version": "1.2.0",
          "model_name": "LayoutModel",
          "state": {
            "_model_module": "@jupyter-widgets/base",
            "_model_module_version": "1.2.0",
            "_model_name": "LayoutModel",
            "_view_count": null,
            "_view_module": "@jupyter-widgets/base",
            "_view_module_version": "1.2.0",
            "_view_name": "LayoutView",
            "align_content": null,
            "align_items": null,
            "align_self": null,
            "border": null,
            "bottom": null,
            "display": null,
            "flex": null,
            "flex_flow": null,
            "grid_area": null,
            "grid_auto_columns": null,
            "grid_auto_flow": null,
            "grid_auto_rows": null,
            "grid_column": null,
            "grid_gap": null,
            "grid_row": null,
            "grid_template_areas": null,
            "grid_template_columns": null,
            "grid_template_rows": null,
            "height": null,
            "justify_content": null,
            "justify_items": null,
            "left": null,
            "margin": null,
            "max_height": null,
            "max_width": null,
            "min_height": null,
            "min_width": null,
            "object_fit": null,
            "object_position": null,
            "order": null,
            "overflow": null,
            "overflow_x": null,
            "overflow_y": null,
            "padding": null,
            "right": null,
            "top": null,
            "visibility": null,
            "width": null
          }
        },
        "fbe7c9d4f8434457bda3d3909225ec94": {
          "model_module": "@jupyter-widgets/controls",
          "model_module_version": "1.5.0",
          "model_name": "DescriptionStyleModel",
          "state": {
            "_model_module": "@jupyter-widgets/controls",
            "_model_module_version": "1.5.0",
            "_model_name": "DescriptionStyleModel",
            "_view_count": null,
            "_view_module": "@jupyter-widgets/base",
            "_view_module_version": "1.2.0",
            "_view_name": "StyleView",
            "description_width": ""
          }
        },
        "ff6cecd19ed444dfbb968006b1f627fc": {
          "model_module": "@jupyter-widgets/base",
          "model_module_version": "1.2.0",
          "model_name": "LayoutModel",
          "state": {
            "_model_module": "@jupyter-widgets/base",
            "_model_module_version": "1.2.0",
            "_model_name": "LayoutModel",
            "_view_count": null,
            "_view_module": "@jupyter-widgets/base",
            "_view_module_version": "1.2.0",
            "_view_name": "LayoutView",
            "align_content": null,
            "align_items": null,
            "align_self": null,
            "border": null,
            "bottom": null,
            "display": null,
            "flex": null,
            "flex_flow": null,
            "grid_area": null,
            "grid_auto_columns": null,
            "grid_auto_flow": null,
            "grid_auto_rows": null,
            "grid_column": null,
            "grid_gap": null,
            "grid_row": null,
            "grid_template_areas": null,
            "grid_template_columns": null,
            "grid_template_rows": null,
            "height": null,
            "justify_content": null,
            "justify_items": null,
            "left": null,
            "margin": null,
            "max_height": null,
            "max_width": null,
            "min_height": null,
            "min_width": null,
            "object_fit": null,
            "object_position": null,
            "order": null,
            "overflow": null,
            "overflow_x": null,
            "overflow_y": null,
            "padding": null,
            "right": null,
            "top": null,
            "visibility": null,
            "width": null
          }
        }
      }
    }
  },
  "nbformat": 4,
  "nbformat_minor": 0
}
