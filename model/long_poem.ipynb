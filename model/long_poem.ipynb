{
  "cells": [
    {
      "cell_type": "code",
      "execution_count": 1,
      "metadata": {
        "colab": {
          "base_uri": "https://localhost:8080/"
        },
        "id": "UA0lGioBteJU",
        "outputId": "f134c06a-e323-4be8-a0c5-a0aa05dfcf17"
      },
      "outputs": [
        {
          "name": "stdout",
          "output_type": "stream",
          "text": [
            "Looking in indexes: https://pypi.org/simple, https://us-python.pkg.dev/colab-wheels/public/simple/\n",
            "Collecting transformers\n",
            "  Downloading transformers-4.25.1-py3-none-any.whl (5.8 MB)\n",
            "\u001b[2K     \u001b[90m━━━━━━━━━━━━━━━━━━━━━━━━━━━━━━━━━━━━━━━━\u001b[0m \u001b[32m5.8/5.8 MB\u001b[0m \u001b[31m56.3 MB/s\u001b[0m eta \u001b[36m0:00:00\u001b[0m\n",
            "\u001b[?25hRequirement already satisfied: numpy>=1.17 in /usr/local/lib/python3.8/dist-packages (from transformers) (1.21.6)\n",
            "Requirement already satisfied: packaging>=20.0 in /usr/local/lib/python3.8/dist-packages (from transformers) (21.3)\n",
            "Requirement already satisfied: pyyaml>=5.1 in /usr/local/lib/python3.8/dist-packages (from transformers) (6.0)\n",
            "Requirement already satisfied: requests in /usr/local/lib/python3.8/dist-packages (from transformers) (2.25.1)\n",
            "Requirement already satisfied: tqdm>=4.27 in /usr/local/lib/python3.8/dist-packages (from transformers) (4.64.1)\n",
            "Collecting tokenizers!=0.11.3,<0.14,>=0.11.1\n",
            "  Downloading tokenizers-0.13.2-cp38-cp38-manylinux_2_17_x86_64.manylinux2014_x86_64.whl (7.6 MB)\n",
            "\u001b[2K     \u001b[90m━━━━━━━━━━━━━━━━━━━━━━━━━━━━━━━━━━━━━━━━\u001b[0m \u001b[32m7.6/7.6 MB\u001b[0m \u001b[31m92.7 MB/s\u001b[0m eta \u001b[36m0:00:00\u001b[0m\n",
            "\u001b[?25hRequirement already satisfied: regex!=2019.12.17 in /usr/local/lib/python3.8/dist-packages (from transformers) (2022.6.2)\n",
            "Collecting huggingface-hub<1.0,>=0.10.0\n",
            "  Downloading huggingface_hub-0.11.1-py3-none-any.whl (182 kB)\n",
            "\u001b[2K     \u001b[90m━━━━━━━━━━━━━━━━━━━━━━━━━━━━━━━━━━━━━━\u001b[0m \u001b[32m182.4/182.4 KB\u001b[0m \u001b[31m25.7 MB/s\u001b[0m eta \u001b[36m0:00:00\u001b[0m\n",
            "\u001b[?25hRequirement already satisfied: filelock in /usr/local/lib/python3.8/dist-packages (from transformers) (3.8.2)\n",
            "Requirement already satisfied: typing-extensions>=3.7.4.3 in /usr/local/lib/python3.8/dist-packages (from huggingface-hub<1.0,>=0.10.0->transformers) (4.4.0)\n",
            "Requirement already satisfied: pyparsing!=3.0.5,>=2.0.2 in /usr/local/lib/python3.8/dist-packages (from packaging>=20.0->transformers) (3.0.9)\n",
            "Requirement already satisfied: certifi>=2017.4.17 in /usr/local/lib/python3.8/dist-packages (from requests->transformers) (2022.12.7)\n",
            "Requirement already satisfied: idna<3,>=2.5 in /usr/local/lib/python3.8/dist-packages (from requests->transformers) (2.10)\n",
            "Requirement already satisfied: urllib3<1.27,>=1.21.1 in /usr/local/lib/python3.8/dist-packages (from requests->transformers) (1.24.3)\n",
            "Requirement already satisfied: chardet<5,>=3.0.2 in /usr/local/lib/python3.8/dist-packages (from requests->transformers) (4.0.0)\n",
            "Installing collected packages: tokenizers, huggingface-hub, transformers\n",
            "Successfully installed huggingface-hub-0.11.1 tokenizers-0.13.2 transformers-4.25.1\n"
          ]
        }
      ],
      "source": [
        "!pip install transformers"
      ]
    },
    {
      "cell_type": "code",
      "execution_count": 2,
      "metadata": {
        "colab": {
          "base_uri": "https://localhost:8080/",
          "height": 177,
          "referenced_widgets": [
            "ec362772accd4aff98ce76f1cb18e08c",
            "8dc93bb9d28e4fc68f6fa6a1901a8ab8",
            "e9eae8c0e16d45e1aa22b39768d56946",
            "e1b52b6313af46e594c88bd9f396fbe9",
            "42e38347135a458f9fc32640cbc88e33",
            "7a1dc6570fe848118837b336817f2a07",
            "5370c366852d448187089eb54cddc64b",
            "c6923d5f94e34c0e84ad0d6ab274f34e",
            "4f15716caaa64ede83fc19fc8b7d1719",
            "fbd8ece23f2a4781883e90ddfcf42214",
            "c659ed5d514848a6aaecef5d9e5780e5",
            "41165577922f42af8e9ce8f410d69fea",
            "f64f9acdea53446f99067be0bc75a657",
            "9c633b2d97494b4cbf302fc3c8ac24d5",
            "595731aeedc8436abe2384156ad84f51",
            "944444d9f16d43a48e3a263a9bad467b",
            "4c7c0781353d468ca064aa2f77931e8d",
            "9e83974bf3d248d4b87563faf52a1ec6",
            "da18e2b2247f46d490abeed6175ee637",
            "c5dfbc406c724b21baf61cfc3b5747f8",
            "8ad3b19769334d428ce30d9150774515",
            "c2963dacb06746dc87fb49adc816ddb8",
            "44a22b9d0b7d4786bd9a018d7ffcbc2c",
            "cc5cab35c1ef4e2d8fbe4adbfa56a8eb",
            "8cd082bf91134fa0a898bfc3f7e39a77",
            "c7e0a4101a6446919fe24dbc8376ac1d",
            "a37941e533cb480e8394aadb2bfa385f",
            "6353d900ab6d4bdc82fc9e7d7488f989",
            "15b227a2f0d842a19f636dfdd26d8e2d",
            "c6173f3714e34d9181304713fbf8ea5c",
            "cac38ff6123d4abfbef2b8fec1a3b521",
            "1c2a7f36fced49678b1395c08f139f81",
            "ae1f70ded203470688e9329c937af128",
            "b3071bc1f4a94c14a84c93211e882bf5",
            "86ecc9ae77484c6f8ad7933488343373",
            "c74da39fa6a246c9a5b3c989b8900705",
            "c631e5535b4049d8bac6586fc8e7f460",
            "27fdc059ae564fbb9729b9055789389e",
            "1e3f3cdca76e4540b31662db7692f175",
            "4805d6f2669c4d179a819baaab35b24f",
            "fb81baf924db4d929a110b394e7dd0f4",
            "68e4d14210364c9c83a39d76ab3aa0ff",
            "ac7b65fa4b164e54bac3fae1bb8c5851",
            "5154eeca27214a4b862b30552d7cb8a3",
            "71a15572e3e04a75b190584e320a8d36",
            "fb6a6be369364dcbb9d422d73eda4b27",
            "660b9f9477054715867f098b56d72b78",
            "f656c5e49d3d4643bf2500ebf0e78169",
            "35764aa00fcd47efadd72c3688a14630",
            "79ff19df6feb48f68a0ade6be87b6b5e",
            "2e77ecb0515346a7b6f003d8715c72d3",
            "608fa7d8976640ea942921a771736067",
            "5f978bac501747aba7d2609cb17a936a",
            "ef3542adfb1b4e209c0f44da355dd6af",
            "b9bebd66e5f441bdb1e3b058989417fe"
          ]
        },
        "id": "m8eAjFZgteJk",
        "outputId": "1281ffc1-52d6-45c2-e1cc-1c8335393700"
      },
      "outputs": [
        {
          "data": {
            "application/vnd.jupyter.widget-view+json": {
              "model_id": "ec362772accd4aff98ce76f1cb18e08c",
              "version_major": 2,
              "version_minor": 0
            },
            "text/plain": [
              "Downloading:   0%|          | 0.00/301 [00:00<?, ?B/s]"
            ]
          },
          "metadata": {},
          "output_type": "display_data"
        },
        {
          "data": {
            "application/vnd.jupyter.widget-view+json": {
              "model_id": "41165577922f42af8e9ce8f410d69fea",
              "version_major": 2,
              "version_minor": 0
            },
            "text/plain": [
              "Downloading:   0%|          | 0.00/2.25M [00:00<?, ?B/s]"
            ]
          },
          "metadata": {},
          "output_type": "display_data"
        },
        {
          "data": {
            "application/vnd.jupyter.widget-view+json": {
              "model_id": "44a22b9d0b7d4786bd9a018d7ffcbc2c",
              "version_major": 2,
              "version_minor": 0
            },
            "text/plain": [
              "Downloading:   0%|          | 0.00/123 [00:00<?, ?B/s]"
            ]
          },
          "metadata": {},
          "output_type": "display_data"
        },
        {
          "data": {
            "application/vnd.jupyter.widget-view+json": {
              "model_id": "b3071bc1f4a94c14a84c93211e882bf5",
              "version_major": 2,
              "version_minor": 0
            },
            "text/plain": [
              "Downloading:   0%|          | 0.00/1.18k [00:00<?, ?B/s]"
            ]
          },
          "metadata": {},
          "output_type": "display_data"
        },
        {
          "data": {
            "application/vnd.jupyter.widget-view+json": {
              "model_id": "71a15572e3e04a75b190584e320a8d36",
              "version_major": 2,
              "version_minor": 0
            },
            "text/plain": [
              "Downloading:   0%|          | 0.00/513M [00:00<?, ?B/s]"
            ]
          },
          "metadata": {},
          "output_type": "display_data"
        }
      ],
      "source": [
        "from transformers import AutoTokenizer, AutoModelForCausalLM\n",
        "\n",
        "tokenizer = AutoTokenizer.from_pretrained(\"wumusill/final_project_kogpt2\")\n",
        "model = AutoModelForCausalLM.from_pretrained(\"wumusill/final_project_kogpt2\")"
      ]
    },
    {
      "cell_type": "code",
      "execution_count": 3,
      "metadata": {
        "colab": {
          "base_uri": "https://localhost:8080/"
        },
        "id": "fsLH8QJVteJn",
        "outputId": "d075f327-5c18-4c19-db48-97c40cc0c6f6"
      },
      "outputs": [
        {
          "name": "stdout",
          "output_type": "stream",
          "text": [
            "cpu\n"
          ]
        }
      ],
      "source": [
        "import torch\n",
        "\n",
        "# GPU 사용 여부\n",
        "if torch.cuda.is_available():\n",
        "    device = torch.device(\"cuda:0\")\n",
        "else:\n",
        "    device = torch.device(\"cpu\")\n",
        "\n",
        "model.to(device)\n",
        "model.eval()\n",
        "print(device)"
      ]
    },
    {
      "cell_type": "code",
      "execution_count": 130,
      "metadata": {
        "id": "R9V2h3JEAkrg"
      },
      "outputs": [],
      "source": [
        "def force_poem(input_letter):\n",
        "    # 두음 법칙 사전\n",
        "    dooeum = {\"라\":\"나\", \"락\":\"낙\", \"란\":\"난\", \"랄\":\"날\", \"람\":\"남\", \"랍\":\"납\", \"랑\":\"낭\", \n",
        "          \"래\":\"내\", \"랭\":\"냉\", \"냑\":\"약\", \"략\":\"약\", \"냥\":\"양\", \"량\":\"양\", \"녀\":\"여\", \n",
        "          \"려\":\"여\", \"녁\":\"역\", \"력\":\"역\", \"년\":\"연\", \"련\":\"연\", \"녈\":\"열\", \"렬\":\"열\", \n",
        "          \"념\":\"염\", \"렴\":\"염\", \"렵\":\"엽\", \"녕\":\"영\", \"령\":\"영\", \"녜\":\"예\", \"례\":\"예\", \n",
        "          \"로\":\"노\", \"록\":\"녹\", \"론\":\"논\", \"롱\":\"농\", \"뢰\":\"뇌\", \"뇨\":\"요\", \"료\":\"요\", \n",
        "          \"룡\":\"용\", \"루\":\"누\", \"뉴\":\"유\", \"류\":\"유\", \"뉵\":\"육\", \"륙\":\"육\", \"륜\":\"윤\", \n",
        "          \"률\":\"율\", \"륭\":\"융\", \"륵\":\"늑\", \"름\":\"늠\", \"릉\":\"능\", \"니\":\"이\", \"리\":\"이\", \n",
        "          \"린\":'인', '림':'임', '립':'입'}\n",
        "    # 결과물을 담을 list\n",
        "    res_l = []\n",
        "    len_sequence = 0\n",
        "\n",
        "    # 한 글자씩 인덱스와 함께 가져옴\n",
        "    for idx, val in enumerate(input_letter):\n",
        "        # 두음 법칙 적용\n",
        "        if val in dooeum.keys():\n",
        "            val = dooeum[val]\n",
        "\n",
        "        # 좀더 매끄러운 삼행시를 위해 이전 문장이랑 현재 음절 연결\n",
        "        # 이후 generate 된 문장에서 이전 문장에 대한 데이터 제거\n",
        "        link_with_pre_sentence = \" \".join(res_l) + \" \" + val  \n",
        "        # print(link_with_pre_sentence)\n",
        "\n",
        "        # 연결된 문장을 인코딩\n",
        "        input_ids = tokenizer.encode(\n",
        "        link_with_pre_sentence, add_special_tokens=False, return_tensors=\"pt\")\n",
        "\n",
        "        # 인코딩 값으로 문장 생성\n",
        "        output_sequence = model.generate(\n",
        "            input_ids=input_ids.to(device), \n",
        "            do_sample=True,\n",
        "            max_length=42,\n",
        "            min_length=len_sequence + 2,\n",
        "            temperature=0.9,\n",
        "            repetition_penalty=1.5,\n",
        "            no_repeat_ngram_size=2)\n",
        "\n",
        "        # 생성된 문장 리스트로 변환 (인코딩 되어있고, 생성된 문장 뒤로 padding 이 있는 상태)\n",
        "        generated_sequence = output_sequence.tolist()[0]\n",
        "\n",
        "        # padding index 앞까지 slicing 함으로써 padding 제거, padding이 없을 수도 있기 때문에 조건문 확인 후 제거\n",
        "        # 사용할 generated_sequence 가 5보다 짧으면 강제적으로 길이를 8로 해준다... \n",
        "        if tokenizer.pad_token_id in generated_sequence:\n",
        "            split_index = generated_sequence.index(tokenizer.pad_token_id)\n",
        "            split_index = split_index if split_index-len_sequence > 5 else len_sequence + 8\n",
        "            generated_sequence = generated_sequence[:split_index]\n",
        "\n",
        "        # 첫 글자가 아니라면, generate 된 음절만 결과물 list에 들어갈 수 있게 앞 문장에 대한 인코딩 값 제거\n",
        "        generated_sequence = generated_sequence[len_sequence:]\n",
        "        # 다음 음절을 위해 길이 갱신\n",
        "        len_sequence += len([ elem for elem in generated_sequence if elem not in(tokenizer.all_special_ids)])        \n",
        "        # 결과물 디코딩\n",
        "        decoded_sequence = tokenizer.decode(generated_sequence, clean_up_tokenization_spaces=True, skip_special_tokens=True)\n",
        "\n",
        "        # 결과물 리스트에 담기\n",
        "        res_l.append(decoded_sequence)\n",
        "\n",
        "\n",
        "    # 결과물 list에서 한 줄씩 출력\n",
        "    for letter, res in zip(input_letter, res_l):\n",
        "        print(f\"{letter} :\", res)"
      ]
    },
    {
      "cell_type": "code",
      "execution_count": 114,
      "metadata": {
        "colab": {
          "base_uri": "https://localhost:8080/"
        },
        "id": "G-qkvgEJBWzb",
        "outputId": "3916dae2-d275-4cb4-86c4-599df7a99fb9"
      },
      "outputs": [
        {
          "name": "stdout",
          "output_type": "stream",
          "text": [
            "한 : 한 번쯤은 돌아봐줘요\n",
            "성 : 성난 바람 타고 가진 내\n",
            "민 : 민들레 운명처럼 왜\n"
          ]
        }
      ],
      "source": [
        "force_poem(\"한성민\")"
      ]
    },
    {
      "cell_type": "code",
      "execution_count": 129,
      "metadata": {
        "colab": {
          "base_uri": "https://localhost:8080/"
        },
        "id": "8UpQK66kBW68",
        "outputId": "b363b3c2-6192-4338-afda-2e405f195078"
      },
      "outputs": [
        {
          "name": "stdout",
          "output_type": "stream",
          "text": [
            "박 : 박수를 치자 무서워\n",
            "경 : 경림아 젖은 비 바람은\n",
            "택 : 택시처럼 데려다 주는\n"
          ]
        }
      ],
      "source": [
        "force_poem(\"박경택\")"
      ]
    },
    {
      "cell_type": "code",
      "execution_count": 128,
      "metadata": {
        "colab": {
          "base_uri": "https://localhost:8080/"
        },
        "id": "4IiPVFA5BXCR",
        "outputId": "4f93266c-e07a-4055-e0b9-a2a6bc868601"
      },
      "outputs": [
        {
          "name": "stdout",
          "output_type": "stream",
          "text": [
            "박 : 박혀있는 너 땜에\n",
            "선 : 선물이 그대 삐번\n",
            "영 : 영영 멈춰주지 않는 걸\n"
          ]
        }
      ],
      "source": [
        "force_poem(\"박선영\")"
      ]
    },
    {
      "cell_type": "code",
      "execution_count": 126,
      "metadata": {
        "colab": {
          "base_uri": "https://localhost:8080/"
        },
        "id": "vaF67ZgMBXHc",
        "outputId": "f016d212-d25e-4801-f840-9b1d94e59874"
      },
      "outputs": [
        {
          "name": "stdout",
          "output_type": "stream",
          "text": [
            "문 : 문득 그대가 왔다는 생각에\n",
            "종 : 종일 겨운 눈빛\n",
            "현 : 현 합한삐잊어서 그저 바라만보네요 내 마음이 들리나봐봅니다 그대도 날 잊어주길 바래\n"
          ]
        }
      ],
      "source": [
        "force_poem(\"문종현\")"
      ]
    },
    {
      "cell_type": "code",
      "execution_count": 127,
      "metadata": {
        "colab": {
          "base_uri": "https://localhost:8080/"
        },
        "id": "t_0aXt4oCMAx",
        "outputId": "9cf7263a-f7ec-4950-869e-2063fffddb19"
      },
      "outputs": [
        {
          "name": "stdout",
          "output_type": "stream",
          "text": [
            "박 : 박혀있는 너 땜에\n",
            "조 : 조급해져 정말 나와 함께\n",
            "은 : 은 떠났 크리스마스에는은\n"
          ]
        }
      ],
      "source": [
        "force_poem(\"박조은\")"
      ]
    },
    {
      "cell_type": "code",
      "execution_count": 135,
      "metadata": {
        "id": "v0OCoeB5teJo"
      },
      "outputs": [],
      "source": [
        "def long_line_poem(input_letter):\n",
        "    # 두음 법칙 사전\n",
        "    dooeum = {\"라\":\"나\", \"락\":\"낙\", \"란\":\"난\", \"랄\":\"날\", \"람\":\"남\", \"랍\":\"납\", \"랑\":\"낭\", \n",
        "          \"래\":\"내\", \"랭\":\"냉\", \"냑\":\"약\", \"략\":\"약\", \"냥\":\"양\", \"량\":\"양\", \"녀\":\"여\", \n",
        "          \"려\":\"여\", \"녁\":\"역\", \"력\":\"역\", \"년\":\"연\", \"련\":\"연\", \"녈\":\"열\", \"렬\":\"열\", \n",
        "          \"념\":\"염\", \"렴\":\"염\", \"렵\":\"엽\", \"녕\":\"영\", \"령\":\"영\", \"녜\":\"예\", \"례\":\"예\", \n",
        "          \"로\":\"노\", \"록\":\"녹\", \"론\":\"논\", \"롱\":\"농\", \"뢰\":\"뇌\", \"뇨\":\"요\", \"료\":\"요\", \n",
        "          \"룡\":\"용\", \"루\":\"누\", \"뉴\":\"유\", \"류\":\"유\", \"뉵\":\"육\", \"륙\":\"육\", \"륜\":\"윤\", \n",
        "          \"률\":\"율\", \"륭\":\"융\", \"륵\":\"늑\", \"름\":\"늠\", \"릉\":\"능\", \"니\":\"이\", \"리\":\"이\", \n",
        "          \"린\":'인', '림':'임', '립':'입'}\n",
        "    # 결과물을 담을 list\n",
        "    res_l = []\n",
        "    len_sequence = 0\n",
        "    # 한 글자씩 인덱스와 함께 가져옴\n",
        "    for idx, val in enumerate(input_letter):\n",
        "        # 두음 법칙 적용\n",
        "        if val in dooeum.keys():\n",
        "            val = dooeum[val]\n",
        "\n",
        "        # 만약 idx 가 0 이라면 == 첫 글자\n",
        "        if idx == 0:\n",
        "            # 첫 글자 인코딩\n",
        "            input_ids = tokenizer.encode(\n",
        "            val, add_special_tokens=False, return_tensors=\"pt\")\n",
        "\n",
        "            # 첫 글자 인코딩 값으로 문장 생성\n",
        "            output_sequence = model.generate(\n",
        "                input_ids=input_ids.to(device), \n",
        "                do_sample=True,\n",
        "                max_length=42,\n",
        "                min_length=5,\n",
        "                temperature=0.9, \n",
        "                repetition_penalty=1.5,\n",
        "                no_repeat_ngram_size=2\n",
        "                )\n",
        "        \n",
        "        # 첫 글자가 아니라면\n",
        "        else:\n",
        "            # 좀더 매끄러운 삼행시를 위해 이전 문장이랑 현재 음절 연결\n",
        "            # 이후 generate 된 문장에서 이전 문장에 대한 데이터 제거\n",
        "            link_with_pre_sentence = \" \".join(res_l) + \" \" + val  \n",
        "\n",
        "            # 연결된 문장을 인코딩\n",
        "            input_ids = tokenizer.encode(\n",
        "            link_with_pre_sentence, add_special_tokens=False, return_tensors=\"pt\")\n",
        "\n",
        "            # 인코딩 값으로 문장 생성\n",
        "            output_sequence = model.generate(\n",
        "                input_ids=input_ids.to(device), \n",
        "                do_sample=True,\n",
        "                max_length=52,\n",
        "                min_length=10,\n",
        "                temperature=0.9,\n",
        "                repetition_penalty=1.5,\n",
        "                no_repeat_ngram_size=2)\n",
        "\n",
        "        # 생성된 문장 리스트로 변환 (인코딩 되어있고, 생성된 문장 뒤로 padding 이 있는 상태)\n",
        "        generated_sequence = output_sequence.tolist()[0]\n",
        "        \n",
        "        # padding index 앞까지 slicing 함으로써 padding 제거, padding이 없을 수도 있기 때문에 조건문 확인 후 제거\n",
        "        if tokenizer.pad_token_id in generated_sequence:\n",
        "            \n",
        "            # pad token 이 3개 이상이면 세번째에서 자르고, 아니면 첫번째에서 자르고\n",
        "            pad_index_list = [i for i in range(len(generated_sequence)) if generated_sequence[i] == tokenizer.pad_token_id]\n",
        "            if len(pad_index_list) > 2:\n",
        "                split_point = 2\n",
        "            else : \n",
        "                split_point = 0\n",
        "            # generated_sequence = generated_sequence[:generated_sequence.index(tokenizer.pad_token_id)]\n",
        "            generated_sequence = generated_sequence[:pad_index_list[split_point]]\n",
        "        # 첫 글자가 아니라면, generate 된 음절만 결과물 list에 들어갈 수 있게 앞 문장에 대한 인코딩 값 제거\n",
        "        # print(generated_sequence)\n",
        "        if idx != 0:\n",
        "            # 이전 문장의 길이 이후로 슬라이싱해서 앞 문장 제거            \n",
        "            generated_sequence = generated_sequence[len_sequence:]\n",
        "            # 다음 음절을 위해 길이 갱신\n",
        "            len_sequence += len([ elem for elem in generated_sequence if elem not in(tokenizer.all_special_ids)])\n",
        "        \n",
        "        # 첫 글자라면\n",
        "        else:\n",
        "            # 시퀀스 길이 저장\n",
        "            len_sequence = len([ elem for elem in generated_sequence if elem not in(tokenizer.all_special_ids)])\n",
        "        \n",
        "        # 결과물 디코딩\n",
        "        decoded_sequence = tokenizer.decode(generated_sequence, clean_up_tokenization_spaces=True, skip_special_tokens=True)\n",
        "\n",
        "        # 결과물 리스트에 담기\n",
        "        res_l.append(decoded_sequence)\n",
        "\n",
        "    # 결과물 list에서 한 줄씩 출력\n",
        "    for letter, res in zip(input_letter, res_l):\n",
        "        print(f\"{letter} :\", res)"
      ]
    },
    {
      "cell_type": "code",
      "execution_count": 136,
      "metadata": {
        "colab": {
          "base_uri": "https://localhost:8080/"
        },
        "id": "plZee5J-teJs",
        "outputId": "d66823ef-1c2d-431e-86df-ebc48a8c754a"
      },
      "outputs": [
        {
          "name": "stdout",
          "output_type": "stream",
          "text": [
            "해 : 해준 것도 하나 없던 나였었는데\n",
            "파 : 파 하자릴 먼저리던 너의 모습 사는게 너무 힘들지만 이젠 더는 안되겠어 헤어졌던 그 순간이야 무너지는 나를 왜이기는 하지만\n",
            "리 : 세상에서\n"
          ]
        }
      ],
      "source": [
        "long_line_poem(\"해파리\")"
      ]
    },
    {
      "cell_type": "code",
      "execution_count": 137,
      "metadata": {
        "colab": {
          "base_uri": "https://localhost:8080/"
        },
        "id": "MUIIH1WVteJt",
        "outputId": "a2e498f4-9b64-4325-fd2f-909e7bcc93f2"
      },
      "outputs": [
        {
          "name": "stdout",
          "output_type": "stream",
          "text": [
            "파 : 파랗게 웃던 네 웃음도\n",
            "이 : 이젠 준 착하고 착한 사람아 어떡해 아무리 생각해도 너만 떠올라\n",
            "널 : 널 웃게 하는 일 넌 모른 척 해도 날 울린 여자야\n"
          ]
        }
      ],
      "source": [
        "long_line_poem(\"파이널\")"
      ]
    },
    {
      "cell_type": "code",
      "execution_count": 140,
      "metadata": {
        "colab": {
          "base_uri": "https://localhost:8080/"
        },
        "id": "Gv66ZT7MteJv",
        "outputId": "17678476-189a-4621-8281-f75894b3ee52"
      },
      "outputs": [
        {
          "name": "stdout",
          "output_type": "stream",
          "text": [
            "사 : 사려했던화산감 피고못해 바보처럼\n",
            "랑 : 낭떠꽃같은 내 사랑은\n",
            "해 : 해피엔딩\n"
          ]
        }
      ],
      "source": [
        "long_line_poem(\"사랑해\")"
      ]
    },
    {
      "cell_type": "code",
      "execution_count": 6,
      "metadata": {
        "colab": {
          "base_uri": "https://localhost:8080/"
        },
        "id": "Y_Hi9XAiteJw",
        "outputId": "ef423efd-d458-4f1e-8851-ab3a51adc884"
      },
      "outputs": [
        {
          "name": "stdout",
          "output_type": "stream",
          "text": [
            "하 : 하염없이 걷고 또 거닐다 떠올라서 그 날이 언제든 서로 다른 틈에서 만나 보고\n",
            "늘 : 늘 같은 자리에\n",
            "색 : 색칠 하고\n"
          ]
        }
      ],
      "source": [
        "long_line_poem(\"하늘색\")"
      ]
    },
    {
      "cell_type": "code",
      "execution_count": 5,
      "metadata": {
        "colab": {
          "base_uri": "https://localhost:8080/"
        },
        "id": "r8JwisUrteJw",
        "outputId": "fa3fa1c6-9f3f-43b1-ec43-551f1008809a"
      },
      "outputs": [
        {
          "name": "stdout",
          "output_type": "stream",
          "text": [
            "코 : 코끝을 스치는 촉촉한 기분 그래 너와 나 함께 한 순간 모두 다 꿈인걸\n",
            "코 : 코 끝을 보면 넌 내 늘 그렇듯이 내게 머물러줘 니가 나의 우릴 지켜봐주길 바랄까\n",
            "아 : 아침을 생각해\n"
          ]
        }
      ],
      "source": [
        "long_line_poem(\"코코아\")"
      ]
    },
    {
      "cell_type": "code",
      "execution_count": 10,
      "metadata": {
        "colab": {
          "base_uri": "https://localhost:8080/"
        },
        "id": "TjQKIjwYuCgb",
        "outputId": "c20772de-c7c6-465d-dc00-634e0b1eda6f"
      },
      "outputs": [
        {
          "name": "stdout",
          "output_type": "stream",
          "text": [
            "이 : 이 노랠 듣고 다시 내게 돌아와\n",
            "지 : 지우고 또 비워내도 그대 더는하기 싫어\n",
            "혜 : 혜야놓지 않을래 이미 늦었어 이젠 다른 사람 만나 행복할 수 있잖아요\n"
          ]
        }
      ],
      "source": [
        "long_line_poem(\"이지혜\")"
      ]
    },
    {
      "cell_type": "code",
      "execution_count": 11,
      "metadata": {
        "colab": {
          "base_uri": "https://localhost:8080/"
        },
        "id": "p2cRwzW4uCwk",
        "outputId": "f9db04a2-1499-4400-97ec-79ca5dc0d17e"
      },
      "outputs": [
        {
          "name": "stdout",
          "output_type": "stream",
          "text": [
            "김 : 김건모 노래 파란 하늘 아랜 햇살 속에 내 사랑은\n",
            "의 : 의지로\n",
            "준 : 준 이후 그리움 스며들어 오면\n"
          ]
        }
      ],
      "source": [
        "long_line_poem(\"김의준\")"
      ]
    },
    {
      "cell_type": "code",
      "execution_count": 12,
      "metadata": {
        "colab": {
          "base_uri": "https://localhost:8080/"
        },
        "id": "VVM6W9YzuIPO",
        "outputId": "b21986bc-eaf8-4fbd-ade6-bc9032e7c6ac"
      },
      "outputs": [
        {
          "name": "stdout",
          "output_type": "stream",
          "text": [
            "데 : 데리러 올 테니 늦잠 자고 나서 어린 날이 다가와서\n",
            "이 : 이젠 내 품에 안겨 술에 취해\n",
            "빗 : 빗 갚을 때에도\n"
          ]
        }
      ],
      "source": [
        "long_line_poem(\"데이빗\")"
      ]
    },
    {
      "cell_type": "code",
      "execution_count": 25,
      "metadata": {
        "colab": {
          "base_uri": "https://localhost:8080/"
        },
        "id": "bUDiS6Q0uIZx",
        "outputId": "bba48897-90cb-4eb9-d3fa-1b7d34c1be24"
      },
      "outputs": [
        {
          "name": "stdout",
          "output_type": "stream",
          "text": [
            "구 : 구차하게 붙잡았어\n",
            "자 : 자꾸 듯한 말은 이제 다시 하지 말자 이제는 그만하자 다른 남자와 뭘해\n",
            "현 : 현기종 날 흔드는 거니 보채지지 않게 해줄게 너무 힘든 약속 꼭 안고서 하는거야 우리크림없이\n"
          ]
        }
      ],
      "source": [
        "long_line_poem(\"구자현\")"
      ]
    },
    {
      "cell_type": "code",
      "execution_count": 26,
      "metadata": {
        "colab": {
          "base_uri": "https://localhost:8080/"
        },
        "id": "i7ylHd2YuIiq",
        "outputId": "4d4c805a-7fe7-4673-ed33-738d4827cf82"
      },
      "outputs": [
        {
          "name": "stdout",
          "output_type": "stream",
          "text": [
            "문 : 문득 지나갈 때면오를때까지 널 사랑했어 지금까지 많은 날을 버려둔채 살았지만\n",
            "종 : 종일 이렇게 너를 지워볼거야\n",
            "현 : 현 혹시라도 내게 돌아올까 봐 그게 참 두렵기도해\n"
          ]
        }
      ],
      "source": [
        "long_line_poem(\"문종현\")"
      ]
    },
    {
      "cell_type": "code",
      "execution_count": 15,
      "metadata": {
        "colab": {
          "base_uri": "https://localhost:8080/"
        },
        "id": "PtgqTATTuIsX",
        "outputId": "17f6af73-2117-4269-b40f-74ec09052b60"
      },
      "outputs": [
        {
          "name": "stdout",
          "output_type": "stream",
          "text": [
            "권 : 권태로 변해 두 눈을 가려도\n",
            "소 : 소용이 없어\n",
            "희 : 희미한 기억 저 너머 우리 모습\n"
          ]
        }
      ],
      "source": [
        "long_line_poem(\"권소희\")"
      ]
    },
    {
      "cell_type": "code",
      "execution_count": 20,
      "metadata": {
        "colab": {
          "base_uri": "https://localhost:8080/"
        },
        "id": "XqkEZKiFuPu_",
        "outputId": "352e9204-7e34-4cf4-d85e-1732b10c5e10"
      },
      "outputs": [
        {
          "name": "stdout",
          "output_type": "stream",
          "text": [
            "최 : 최선을 다하면 파란 늦 가을 또 다시 밀었어 너무 바쁜 세상 속에 우연히 널봤지\n",
            "지 : 지웠을까 우리 서로 스쳐갈때도 있지만\n",
            "영 : 영원을 태우리 마음을 모두 걸어 눈모아닌 마지막까지 당신을 남겨 혹시게\n"
          ]
        }
      ],
      "source": [
        "long_line_poem(\"최지영\")"
      ]
    },
    {
      "cell_type": "code",
      "execution_count": 27,
      "metadata": {
        "colab": {
          "base_uri": "https://localhost:8080/"
        },
        "id": "gX12juaxuP4W",
        "outputId": "b97aeaf0-5029-45dc-89d4-944ebe6cd654"
      },
      "outputs": [
        {
          "name": "stdout",
          "output_type": "stream",
          "text": [
            "한 : 한 번만 날 위한 그대가\n",
            "성 : 성큼 정말 떠나고 싶어 나를 버리 야속하게 가시니 찢어지는 꽃송이마저\n",
            "민 : 민들레\n"
          ]
        }
      ],
      "source": [
        "long_line_poem(\"한성민\")"
      ]
    },
    {
      "cell_type": "code",
      "execution_count": 18,
      "metadata": {
        "colab": {
          "base_uri": "https://localhost:8080/"
        },
        "id": "rnNS3-icuUXC",
        "outputId": "56cf1114-1a8f-4d5a-c8fc-93c0dacb8823"
      },
      "outputs": [
        {
          "name": "stdout",
          "output_type": "stream",
          "text": [
            "우 : 우린 서로 사랑하고 있어\n",
            "리 : 이젠\n",
            "팀 : 팀에도 미안함도\n"
          ]
        }
      ],
      "source": [
        "long_line_poem(\"우리팀\")"
      ]
    }
  ],
  "metadata": {
    "colab": {
      "provenance": []
    },
    "kernelspec": {
      "display_name": "base",
      "language": "python",
      "name": "python3"
    },
    "language_info": {
      "codemirror_mode": {
        "name": "ipython",
        "version": 3
      },
      "file_extension": ".py",
      "mimetype": "text/x-python",
      "name": "python",
      "nbconvert_exporter": "python",
      "pygments_lexer": "ipython3",
      "version": "3.9.12"
    },
    "orig_nbformat": 4,
    "vscode": {
      "interpreter": {
        "hash": "06bfaaeaff7cb1f5295f776a16ea7ef345f972a06d2d0563a9a05445c9656fb9"
      }
    },
    "widgets": {
      "application/vnd.jupyter.widget-state+json": {
        "15b227a2f0d842a19f636dfdd26d8e2d": {
          "model_module": "@jupyter-widgets/controls",
          "model_module_version": "1.5.0",
          "model_name": "DescriptionStyleModel",
          "state": {
            "_model_module": "@jupyter-widgets/controls",
            "_model_module_version": "1.5.0",
            "_model_name": "DescriptionStyleModel",
            "_view_count": null,
            "_view_module": "@jupyter-widgets/base",
            "_view_module_version": "1.2.0",
            "_view_name": "StyleView",
            "description_width": ""
          }
        },
        "1c2a7f36fced49678b1395c08f139f81": {
          "model_module": "@jupyter-widgets/base",
          "model_module_version": "1.2.0",
          "model_name": "LayoutModel",
          "state": {
            "_model_module": "@jupyter-widgets/base",
            "_model_module_version": "1.2.0",
            "_model_name": "LayoutModel",
            "_view_count": null,
            "_view_module": "@jupyter-widgets/base",
            "_view_module_version": "1.2.0",
            "_view_name": "LayoutView",
            "align_content": null,
            "align_items": null,
            "align_self": null,
            "border": null,
            "bottom": null,
            "display": null,
            "flex": null,
            "flex_flow": null,
            "grid_area": null,
            "grid_auto_columns": null,
            "grid_auto_flow": null,
            "grid_auto_rows": null,
            "grid_column": null,
            "grid_gap": null,
            "grid_row": null,
            "grid_template_areas": null,
            "grid_template_columns": null,
            "grid_template_rows": null,
            "height": null,
            "justify_content": null,
            "justify_items": null,
            "left": null,
            "margin": null,
            "max_height": null,
            "max_width": null,
            "min_height": null,
            "min_width": null,
            "object_fit": null,
            "object_position": null,
            "order": null,
            "overflow": null,
            "overflow_x": null,
            "overflow_y": null,
            "padding": null,
            "right": null,
            "top": null,
            "visibility": null,
            "width": null
          }
        },
        "1e3f3cdca76e4540b31662db7692f175": {
          "model_module": "@jupyter-widgets/base",
          "model_module_version": "1.2.0",
          "model_name": "LayoutModel",
          "state": {
            "_model_module": "@jupyter-widgets/base",
            "_model_module_version": "1.2.0",
            "_model_name": "LayoutModel",
            "_view_count": null,
            "_view_module": "@jupyter-widgets/base",
            "_view_module_version": "1.2.0",
            "_view_name": "LayoutView",
            "align_content": null,
            "align_items": null,
            "align_self": null,
            "border": null,
            "bottom": null,
            "display": null,
            "flex": null,
            "flex_flow": null,
            "grid_area": null,
            "grid_auto_columns": null,
            "grid_auto_flow": null,
            "grid_auto_rows": null,
            "grid_column": null,
            "grid_gap": null,
            "grid_row": null,
            "grid_template_areas": null,
            "grid_template_columns": null,
            "grid_template_rows": null,
            "height": null,
            "justify_content": null,
            "justify_items": null,
            "left": null,
            "margin": null,
            "max_height": null,
            "max_width": null,
            "min_height": null,
            "min_width": null,
            "object_fit": null,
            "object_position": null,
            "order": null,
            "overflow": null,
            "overflow_x": null,
            "overflow_y": null,
            "padding": null,
            "right": null,
            "top": null,
            "visibility": null,
            "width": null
          }
        },
        "27fdc059ae564fbb9729b9055789389e": {
          "model_module": "@jupyter-widgets/base",
          "model_module_version": "1.2.0",
          "model_name": "LayoutModel",
          "state": {
            "_model_module": "@jupyter-widgets/base",
            "_model_module_version": "1.2.0",
            "_model_name": "LayoutModel",
            "_view_count": null,
            "_view_module": "@jupyter-widgets/base",
            "_view_module_version": "1.2.0",
            "_view_name": "LayoutView",
            "align_content": null,
            "align_items": null,
            "align_self": null,
            "border": null,
            "bottom": null,
            "display": null,
            "flex": null,
            "flex_flow": null,
            "grid_area": null,
            "grid_auto_columns": null,
            "grid_auto_flow": null,
            "grid_auto_rows": null,
            "grid_column": null,
            "grid_gap": null,
            "grid_row": null,
            "grid_template_areas": null,
            "grid_template_columns": null,
            "grid_template_rows": null,
            "height": null,
            "justify_content": null,
            "justify_items": null,
            "left": null,
            "margin": null,
            "max_height": null,
            "max_width": null,
            "min_height": null,
            "min_width": null,
            "object_fit": null,
            "object_position": null,
            "order": null,
            "overflow": null,
            "overflow_x": null,
            "overflow_y": null,
            "padding": null,
            "right": null,
            "top": null,
            "visibility": null,
            "width": null
          }
        },
        "2e77ecb0515346a7b6f003d8715c72d3": {
          "model_module": "@jupyter-widgets/controls",
          "model_module_version": "1.5.0",
          "model_name": "DescriptionStyleModel",
          "state": {
            "_model_module": "@jupyter-widgets/controls",
            "_model_module_version": "1.5.0",
            "_model_name": "DescriptionStyleModel",
            "_view_count": null,
            "_view_module": "@jupyter-widgets/base",
            "_view_module_version": "1.2.0",
            "_view_name": "StyleView",
            "description_width": ""
          }
        },
        "35764aa00fcd47efadd72c3688a14630": {
          "model_module": "@jupyter-widgets/base",
          "model_module_version": "1.2.0",
          "model_name": "LayoutModel",
          "state": {
            "_model_module": "@jupyter-widgets/base",
            "_model_module_version": "1.2.0",
            "_model_name": "LayoutModel",
            "_view_count": null,
            "_view_module": "@jupyter-widgets/base",
            "_view_module_version": "1.2.0",
            "_view_name": "LayoutView",
            "align_content": null,
            "align_items": null,
            "align_self": null,
            "border": null,
            "bottom": null,
            "display": null,
            "flex": null,
            "flex_flow": null,
            "grid_area": null,
            "grid_auto_columns": null,
            "grid_auto_flow": null,
            "grid_auto_rows": null,
            "grid_column": null,
            "grid_gap": null,
            "grid_row": null,
            "grid_template_areas": null,
            "grid_template_columns": null,
            "grid_template_rows": null,
            "height": null,
            "justify_content": null,
            "justify_items": null,
            "left": null,
            "margin": null,
            "max_height": null,
            "max_width": null,
            "min_height": null,
            "min_width": null,
            "object_fit": null,
            "object_position": null,
            "order": null,
            "overflow": null,
            "overflow_x": null,
            "overflow_y": null,
            "padding": null,
            "right": null,
            "top": null,
            "visibility": null,
            "width": null
          }
        },
        "41165577922f42af8e9ce8f410d69fea": {
          "model_module": "@jupyter-widgets/controls",
          "model_module_version": "1.5.0",
          "model_name": "HBoxModel",
          "state": {
            "_dom_classes": [],
            "_model_module": "@jupyter-widgets/controls",
            "_model_module_version": "1.5.0",
            "_model_name": "HBoxModel",
            "_view_count": null,
            "_view_module": "@jupyter-widgets/controls",
            "_view_module_version": "1.5.0",
            "_view_name": "HBoxView",
            "box_style": "",
            "children": [
              "IPY_MODEL_f64f9acdea53446f99067be0bc75a657",
              "IPY_MODEL_9c633b2d97494b4cbf302fc3c8ac24d5",
              "IPY_MODEL_595731aeedc8436abe2384156ad84f51"
            ],
            "layout": "IPY_MODEL_944444d9f16d43a48e3a263a9bad467b"
          }
        },
        "42e38347135a458f9fc32640cbc88e33": {
          "model_module": "@jupyter-widgets/base",
          "model_module_version": "1.2.0",
          "model_name": "LayoutModel",
          "state": {
            "_model_module": "@jupyter-widgets/base",
            "_model_module_version": "1.2.0",
            "_model_name": "LayoutModel",
            "_view_count": null,
            "_view_module": "@jupyter-widgets/base",
            "_view_module_version": "1.2.0",
            "_view_name": "LayoutView",
            "align_content": null,
            "align_items": null,
            "align_self": null,
            "border": null,
            "bottom": null,
            "display": null,
            "flex": null,
            "flex_flow": null,
            "grid_area": null,
            "grid_auto_columns": null,
            "grid_auto_flow": null,
            "grid_auto_rows": null,
            "grid_column": null,
            "grid_gap": null,
            "grid_row": null,
            "grid_template_areas": null,
            "grid_template_columns": null,
            "grid_template_rows": null,
            "height": null,
            "justify_content": null,
            "justify_items": null,
            "left": null,
            "margin": null,
            "max_height": null,
            "max_width": null,
            "min_height": null,
            "min_width": null,
            "object_fit": null,
            "object_position": null,
            "order": null,
            "overflow": null,
            "overflow_x": null,
            "overflow_y": null,
            "padding": null,
            "right": null,
            "top": null,
            "visibility": null,
            "width": null
          }
        },
        "44a22b9d0b7d4786bd9a018d7ffcbc2c": {
          "model_module": "@jupyter-widgets/controls",
          "model_module_version": "1.5.0",
          "model_name": "HBoxModel",
          "state": {
            "_dom_classes": [],
            "_model_module": "@jupyter-widgets/controls",
            "_model_module_version": "1.5.0",
            "_model_name": "HBoxModel",
            "_view_count": null,
            "_view_module": "@jupyter-widgets/controls",
            "_view_module_version": "1.5.0",
            "_view_name": "HBoxView",
            "box_style": "",
            "children": [
              "IPY_MODEL_cc5cab35c1ef4e2d8fbe4adbfa56a8eb",
              "IPY_MODEL_8cd082bf91134fa0a898bfc3f7e39a77",
              "IPY_MODEL_c7e0a4101a6446919fe24dbc8376ac1d"
            ],
            "layout": "IPY_MODEL_a37941e533cb480e8394aadb2bfa385f"
          }
        },
        "4805d6f2669c4d179a819baaab35b24f": {
          "model_module": "@jupyter-widgets/controls",
          "model_module_version": "1.5.0",
          "model_name": "DescriptionStyleModel",
          "state": {
            "_model_module": "@jupyter-widgets/controls",
            "_model_module_version": "1.5.0",
            "_model_name": "DescriptionStyleModel",
            "_view_count": null,
            "_view_module": "@jupyter-widgets/base",
            "_view_module_version": "1.2.0",
            "_view_name": "StyleView",
            "description_width": ""
          }
        },
        "4c7c0781353d468ca064aa2f77931e8d": {
          "model_module": "@jupyter-widgets/base",
          "model_module_version": "1.2.0",
          "model_name": "LayoutModel",
          "state": {
            "_model_module": "@jupyter-widgets/base",
            "_model_module_version": "1.2.0",
            "_model_name": "LayoutModel",
            "_view_count": null,
            "_view_module": "@jupyter-widgets/base",
            "_view_module_version": "1.2.0",
            "_view_name": "LayoutView",
            "align_content": null,
            "align_items": null,
            "align_self": null,
            "border": null,
            "bottom": null,
            "display": null,
            "flex": null,
            "flex_flow": null,
            "grid_area": null,
            "grid_auto_columns": null,
            "grid_auto_flow": null,
            "grid_auto_rows": null,
            "grid_column": null,
            "grid_gap": null,
            "grid_row": null,
            "grid_template_areas": null,
            "grid_template_columns": null,
            "grid_template_rows": null,
            "height": null,
            "justify_content": null,
            "justify_items": null,
            "left": null,
            "margin": null,
            "max_height": null,
            "max_width": null,
            "min_height": null,
            "min_width": null,
            "object_fit": null,
            "object_position": null,
            "order": null,
            "overflow": null,
            "overflow_x": null,
            "overflow_y": null,
            "padding": null,
            "right": null,
            "top": null,
            "visibility": null,
            "width": null
          }
        },
        "4f15716caaa64ede83fc19fc8b7d1719": {
          "model_module": "@jupyter-widgets/controls",
          "model_module_version": "1.5.0",
          "model_name": "ProgressStyleModel",
          "state": {
            "_model_module": "@jupyter-widgets/controls",
            "_model_module_version": "1.5.0",
            "_model_name": "ProgressStyleModel",
            "_view_count": null,
            "_view_module": "@jupyter-widgets/base",
            "_view_module_version": "1.2.0",
            "_view_name": "StyleView",
            "bar_color": null,
            "description_width": ""
          }
        },
        "5154eeca27214a4b862b30552d7cb8a3": {
          "model_module": "@jupyter-widgets/controls",
          "model_module_version": "1.5.0",
          "model_name": "DescriptionStyleModel",
          "state": {
            "_model_module": "@jupyter-widgets/controls",
            "_model_module_version": "1.5.0",
            "_model_name": "DescriptionStyleModel",
            "_view_count": null,
            "_view_module": "@jupyter-widgets/base",
            "_view_module_version": "1.2.0",
            "_view_name": "StyleView",
            "description_width": ""
          }
        },
        "5370c366852d448187089eb54cddc64b": {
          "model_module": "@jupyter-widgets/controls",
          "model_module_version": "1.5.0",
          "model_name": "DescriptionStyleModel",
          "state": {
            "_model_module": "@jupyter-widgets/controls",
            "_model_module_version": "1.5.0",
            "_model_name": "DescriptionStyleModel",
            "_view_count": null,
            "_view_module": "@jupyter-widgets/base",
            "_view_module_version": "1.2.0",
            "_view_name": "StyleView",
            "description_width": ""
          }
        },
        "595731aeedc8436abe2384156ad84f51": {
          "model_module": "@jupyter-widgets/controls",
          "model_module_version": "1.5.0",
          "model_name": "HTMLModel",
          "state": {
            "_dom_classes": [],
            "_model_module": "@jupyter-widgets/controls",
            "_model_module_version": "1.5.0",
            "_model_name": "HTMLModel",
            "_view_count": null,
            "_view_module": "@jupyter-widgets/controls",
            "_view_module_version": "1.5.0",
            "_view_name": "HTMLView",
            "description": "",
            "description_tooltip": null,
            "layout": "IPY_MODEL_8ad3b19769334d428ce30d9150774515",
            "placeholder": "​",
            "style": "IPY_MODEL_c2963dacb06746dc87fb49adc816ddb8",
            "value": " 2.25M/2.25M [00:00&lt;00:00, 2.93MB/s]"
          }
        },
        "5f978bac501747aba7d2609cb17a936a": {
          "model_module": "@jupyter-widgets/controls",
          "model_module_version": "1.5.0",
          "model_name": "ProgressStyleModel",
          "state": {
            "_model_module": "@jupyter-widgets/controls",
            "_model_module_version": "1.5.0",
            "_model_name": "ProgressStyleModel",
            "_view_count": null,
            "_view_module": "@jupyter-widgets/base",
            "_view_module_version": "1.2.0",
            "_view_name": "StyleView",
            "bar_color": null,
            "description_width": ""
          }
        },
        "608fa7d8976640ea942921a771736067": {
          "model_module": "@jupyter-widgets/base",
          "model_module_version": "1.2.0",
          "model_name": "LayoutModel",
          "state": {
            "_model_module": "@jupyter-widgets/base",
            "_model_module_version": "1.2.0",
            "_model_name": "LayoutModel",
            "_view_count": null,
            "_view_module": "@jupyter-widgets/base",
            "_view_module_version": "1.2.0",
            "_view_name": "LayoutView",
            "align_content": null,
            "align_items": null,
            "align_self": null,
            "border": null,
            "bottom": null,
            "display": null,
            "flex": null,
            "flex_flow": null,
            "grid_area": null,
            "grid_auto_columns": null,
            "grid_auto_flow": null,
            "grid_auto_rows": null,
            "grid_column": null,
            "grid_gap": null,
            "grid_row": null,
            "grid_template_areas": null,
            "grid_template_columns": null,
            "grid_template_rows": null,
            "height": null,
            "justify_content": null,
            "justify_items": null,
            "left": null,
            "margin": null,
            "max_height": null,
            "max_width": null,
            "min_height": null,
            "min_width": null,
            "object_fit": null,
            "object_position": null,
            "order": null,
            "overflow": null,
            "overflow_x": null,
            "overflow_y": null,
            "padding": null,
            "right": null,
            "top": null,
            "visibility": null,
            "width": null
          }
        },
        "6353d900ab6d4bdc82fc9e7d7488f989": {
          "model_module": "@jupyter-widgets/base",
          "model_module_version": "1.2.0",
          "model_name": "LayoutModel",
          "state": {
            "_model_module": "@jupyter-widgets/base",
            "_model_module_version": "1.2.0",
            "_model_name": "LayoutModel",
            "_view_count": null,
            "_view_module": "@jupyter-widgets/base",
            "_view_module_version": "1.2.0",
            "_view_name": "LayoutView",
            "align_content": null,
            "align_items": null,
            "align_self": null,
            "border": null,
            "bottom": null,
            "display": null,
            "flex": null,
            "flex_flow": null,
            "grid_area": null,
            "grid_auto_columns": null,
            "grid_auto_flow": null,
            "grid_auto_rows": null,
            "grid_column": null,
            "grid_gap": null,
            "grid_row": null,
            "grid_template_areas": null,
            "grid_template_columns": null,
            "grid_template_rows": null,
            "height": null,
            "justify_content": null,
            "justify_items": null,
            "left": null,
            "margin": null,
            "max_height": null,
            "max_width": null,
            "min_height": null,
            "min_width": null,
            "object_fit": null,
            "object_position": null,
            "order": null,
            "overflow": null,
            "overflow_x": null,
            "overflow_y": null,
            "padding": null,
            "right": null,
            "top": null,
            "visibility": null,
            "width": null
          }
        },
        "660b9f9477054715867f098b56d72b78": {
          "model_module": "@jupyter-widgets/controls",
          "model_module_version": "1.5.0",
          "model_name": "FloatProgressModel",
          "state": {
            "_dom_classes": [],
            "_model_module": "@jupyter-widgets/controls",
            "_model_module_version": "1.5.0",
            "_model_name": "FloatProgressModel",
            "_view_count": null,
            "_view_module": "@jupyter-widgets/controls",
            "_view_module_version": "1.5.0",
            "_view_name": "ProgressView",
            "bar_style": "success",
            "description": "",
            "description_tooltip": null,
            "layout": "IPY_MODEL_608fa7d8976640ea942921a771736067",
            "max": 513294909,
            "min": 0,
            "orientation": "horizontal",
            "style": "IPY_MODEL_5f978bac501747aba7d2609cb17a936a",
            "value": 513294909
          }
        },
        "68e4d14210364c9c83a39d76ab3aa0ff": {
          "model_module": "@jupyter-widgets/controls",
          "model_module_version": "1.5.0",
          "model_name": "ProgressStyleModel",
          "state": {
            "_model_module": "@jupyter-widgets/controls",
            "_model_module_version": "1.5.0",
            "_model_name": "ProgressStyleModel",
            "_view_count": null,
            "_view_module": "@jupyter-widgets/base",
            "_view_module_version": "1.2.0",
            "_view_name": "StyleView",
            "bar_color": null,
            "description_width": ""
          }
        },
        "71a15572e3e04a75b190584e320a8d36": {
          "model_module": "@jupyter-widgets/controls",
          "model_module_version": "1.5.0",
          "model_name": "HBoxModel",
          "state": {
            "_dom_classes": [],
            "_model_module": "@jupyter-widgets/controls",
            "_model_module_version": "1.5.0",
            "_model_name": "HBoxModel",
            "_view_count": null,
            "_view_module": "@jupyter-widgets/controls",
            "_view_module_version": "1.5.0",
            "_view_name": "HBoxView",
            "box_style": "",
            "children": [
              "IPY_MODEL_fb6a6be369364dcbb9d422d73eda4b27",
              "IPY_MODEL_660b9f9477054715867f098b56d72b78",
              "IPY_MODEL_f656c5e49d3d4643bf2500ebf0e78169"
            ],
            "layout": "IPY_MODEL_35764aa00fcd47efadd72c3688a14630"
          }
        },
        "79ff19df6feb48f68a0ade6be87b6b5e": {
          "model_module": "@jupyter-widgets/base",
          "model_module_version": "1.2.0",
          "model_name": "LayoutModel",
          "state": {
            "_model_module": "@jupyter-widgets/base",
            "_model_module_version": "1.2.0",
            "_model_name": "LayoutModel",
            "_view_count": null,
            "_view_module": "@jupyter-widgets/base",
            "_view_module_version": "1.2.0",
            "_view_name": "LayoutView",
            "align_content": null,
            "align_items": null,
            "align_self": null,
            "border": null,
            "bottom": null,
            "display": null,
            "flex": null,
            "flex_flow": null,
            "grid_area": null,
            "grid_auto_columns": null,
            "grid_auto_flow": null,
            "grid_auto_rows": null,
            "grid_column": null,
            "grid_gap": null,
            "grid_row": null,
            "grid_template_areas": null,
            "grid_template_columns": null,
            "grid_template_rows": null,
            "height": null,
            "justify_content": null,
            "justify_items": null,
            "left": null,
            "margin": null,
            "max_height": null,
            "max_width": null,
            "min_height": null,
            "min_width": null,
            "object_fit": null,
            "object_position": null,
            "order": null,
            "overflow": null,
            "overflow_x": null,
            "overflow_y": null,
            "padding": null,
            "right": null,
            "top": null,
            "visibility": null,
            "width": null
          }
        },
        "7a1dc6570fe848118837b336817f2a07": {
          "model_module": "@jupyter-widgets/base",
          "model_module_version": "1.2.0",
          "model_name": "LayoutModel",
          "state": {
            "_model_module": "@jupyter-widgets/base",
            "_model_module_version": "1.2.0",
            "_model_name": "LayoutModel",
            "_view_count": null,
            "_view_module": "@jupyter-widgets/base",
            "_view_module_version": "1.2.0",
            "_view_name": "LayoutView",
            "align_content": null,
            "align_items": null,
            "align_self": null,
            "border": null,
            "bottom": null,
            "display": null,
            "flex": null,
            "flex_flow": null,
            "grid_area": null,
            "grid_auto_columns": null,
            "grid_auto_flow": null,
            "grid_auto_rows": null,
            "grid_column": null,
            "grid_gap": null,
            "grid_row": null,
            "grid_template_areas": null,
            "grid_template_columns": null,
            "grid_template_rows": null,
            "height": null,
            "justify_content": null,
            "justify_items": null,
            "left": null,
            "margin": null,
            "max_height": null,
            "max_width": null,
            "min_height": null,
            "min_width": null,
            "object_fit": null,
            "object_position": null,
            "order": null,
            "overflow": null,
            "overflow_x": null,
            "overflow_y": null,
            "padding": null,
            "right": null,
            "top": null,
            "visibility": null,
            "width": null
          }
        },
        "86ecc9ae77484c6f8ad7933488343373": {
          "model_module": "@jupyter-widgets/controls",
          "model_module_version": "1.5.0",
          "model_name": "HTMLModel",
          "state": {
            "_dom_classes": [],
            "_model_module": "@jupyter-widgets/controls",
            "_model_module_version": "1.5.0",
            "_model_name": "HTMLModel",
            "_view_count": null,
            "_view_module": "@jupyter-widgets/controls",
            "_view_module_version": "1.5.0",
            "_view_name": "HTMLView",
            "description": "",
            "description_tooltip": null,
            "layout": "IPY_MODEL_1e3f3cdca76e4540b31662db7692f175",
            "placeholder": "​",
            "style": "IPY_MODEL_4805d6f2669c4d179a819baaab35b24f",
            "value": "Downloading: 100%"
          }
        },
        "8ad3b19769334d428ce30d9150774515": {
          "model_module": "@jupyter-widgets/base",
          "model_module_version": "1.2.0",
          "model_name": "LayoutModel",
          "state": {
            "_model_module": "@jupyter-widgets/base",
            "_model_module_version": "1.2.0",
            "_model_name": "LayoutModel",
            "_view_count": null,
            "_view_module": "@jupyter-widgets/base",
            "_view_module_version": "1.2.0",
            "_view_name": "LayoutView",
            "align_content": null,
            "align_items": null,
            "align_self": null,
            "border": null,
            "bottom": null,
            "display": null,
            "flex": null,
            "flex_flow": null,
            "grid_area": null,
            "grid_auto_columns": null,
            "grid_auto_flow": null,
            "grid_auto_rows": null,
            "grid_column": null,
            "grid_gap": null,
            "grid_row": null,
            "grid_template_areas": null,
            "grid_template_columns": null,
            "grid_template_rows": null,
            "height": null,
            "justify_content": null,
            "justify_items": null,
            "left": null,
            "margin": null,
            "max_height": null,
            "max_width": null,
            "min_height": null,
            "min_width": null,
            "object_fit": null,
            "object_position": null,
            "order": null,
            "overflow": null,
            "overflow_x": null,
            "overflow_y": null,
            "padding": null,
            "right": null,
            "top": null,
            "visibility": null,
            "width": null
          }
        },
        "8cd082bf91134fa0a898bfc3f7e39a77": {
          "model_module": "@jupyter-widgets/controls",
          "model_module_version": "1.5.0",
          "model_name": "FloatProgressModel",
          "state": {
            "_dom_classes": [],
            "_model_module": "@jupyter-widgets/controls",
            "_model_module_version": "1.5.0",
            "_model_name": "FloatProgressModel",
            "_view_count": null,
            "_view_module": "@jupyter-widgets/controls",
            "_view_module_version": "1.5.0",
            "_view_name": "ProgressView",
            "bar_style": "success",
            "description": "",
            "description_tooltip": null,
            "layout": "IPY_MODEL_c6173f3714e34d9181304713fbf8ea5c",
            "max": 123,
            "min": 0,
            "orientation": "horizontal",
            "style": "IPY_MODEL_cac38ff6123d4abfbef2b8fec1a3b521",
            "value": 123
          }
        },
        "8dc93bb9d28e4fc68f6fa6a1901a8ab8": {
          "model_module": "@jupyter-widgets/controls",
          "model_module_version": "1.5.0",
          "model_name": "HTMLModel",
          "state": {
            "_dom_classes": [],
            "_model_module": "@jupyter-widgets/controls",
            "_model_module_version": "1.5.0",
            "_model_name": "HTMLModel",
            "_view_count": null,
            "_view_module": "@jupyter-widgets/controls",
            "_view_module_version": "1.5.0",
            "_view_name": "HTMLView",
            "description": "",
            "description_tooltip": null,
            "layout": "IPY_MODEL_7a1dc6570fe848118837b336817f2a07",
            "placeholder": "​",
            "style": "IPY_MODEL_5370c366852d448187089eb54cddc64b",
            "value": "Downloading: 100%"
          }
        },
        "944444d9f16d43a48e3a263a9bad467b": {
          "model_module": "@jupyter-widgets/base",
          "model_module_version": "1.2.0",
          "model_name": "LayoutModel",
          "state": {
            "_model_module": "@jupyter-widgets/base",
            "_model_module_version": "1.2.0",
            "_model_name": "LayoutModel",
            "_view_count": null,
            "_view_module": "@jupyter-widgets/base",
            "_view_module_version": "1.2.0",
            "_view_name": "LayoutView",
            "align_content": null,
            "align_items": null,
            "align_self": null,
            "border": null,
            "bottom": null,
            "display": null,
            "flex": null,
            "flex_flow": null,
            "grid_area": null,
            "grid_auto_columns": null,
            "grid_auto_flow": null,
            "grid_auto_rows": null,
            "grid_column": null,
            "grid_gap": null,
            "grid_row": null,
            "grid_template_areas": null,
            "grid_template_columns": null,
            "grid_template_rows": null,
            "height": null,
            "justify_content": null,
            "justify_items": null,
            "left": null,
            "margin": null,
            "max_height": null,
            "max_width": null,
            "min_height": null,
            "min_width": null,
            "object_fit": null,
            "object_position": null,
            "order": null,
            "overflow": null,
            "overflow_x": null,
            "overflow_y": null,
            "padding": null,
            "right": null,
            "top": null,
            "visibility": null,
            "width": null
          }
        },
        "9c633b2d97494b4cbf302fc3c8ac24d5": {
          "model_module": "@jupyter-widgets/controls",
          "model_module_version": "1.5.0",
          "model_name": "FloatProgressModel",
          "state": {
            "_dom_classes": [],
            "_model_module": "@jupyter-widgets/controls",
            "_model_module_version": "1.5.0",
            "_model_name": "FloatProgressModel",
            "_view_count": null,
            "_view_module": "@jupyter-widgets/controls",
            "_view_module_version": "1.5.0",
            "_view_name": "ProgressView",
            "bar_style": "success",
            "description": "",
            "description_tooltip": null,
            "layout": "IPY_MODEL_da18e2b2247f46d490abeed6175ee637",
            "max": 2245988,
            "min": 0,
            "orientation": "horizontal",
            "style": "IPY_MODEL_c5dfbc406c724b21baf61cfc3b5747f8",
            "value": 2245988
          }
        },
        "9e83974bf3d248d4b87563faf52a1ec6": {
          "model_module": "@jupyter-widgets/controls",
          "model_module_version": "1.5.0",
          "model_name": "DescriptionStyleModel",
          "state": {
            "_model_module": "@jupyter-widgets/controls",
            "_model_module_version": "1.5.0",
            "_model_name": "DescriptionStyleModel",
            "_view_count": null,
            "_view_module": "@jupyter-widgets/base",
            "_view_module_version": "1.2.0",
            "_view_name": "StyleView",
            "description_width": ""
          }
        },
        "a37941e533cb480e8394aadb2bfa385f": {
          "model_module": "@jupyter-widgets/base",
          "model_module_version": "1.2.0",
          "model_name": "LayoutModel",
          "state": {
            "_model_module": "@jupyter-widgets/base",
            "_model_module_version": "1.2.0",
            "_model_name": "LayoutModel",
            "_view_count": null,
            "_view_module": "@jupyter-widgets/base",
            "_view_module_version": "1.2.0",
            "_view_name": "LayoutView",
            "align_content": null,
            "align_items": null,
            "align_self": null,
            "border": null,
            "bottom": null,
            "display": null,
            "flex": null,
            "flex_flow": null,
            "grid_area": null,
            "grid_auto_columns": null,
            "grid_auto_flow": null,
            "grid_auto_rows": null,
            "grid_column": null,
            "grid_gap": null,
            "grid_row": null,
            "grid_template_areas": null,
            "grid_template_columns": null,
            "grid_template_rows": null,
            "height": null,
            "justify_content": null,
            "justify_items": null,
            "left": null,
            "margin": null,
            "max_height": null,
            "max_width": null,
            "min_height": null,
            "min_width": null,
            "object_fit": null,
            "object_position": null,
            "order": null,
            "overflow": null,
            "overflow_x": null,
            "overflow_y": null,
            "padding": null,
            "right": null,
            "top": null,
            "visibility": null,
            "width": null
          }
        },
        "ac7b65fa4b164e54bac3fae1bb8c5851": {
          "model_module": "@jupyter-widgets/base",
          "model_module_version": "1.2.0",
          "model_name": "LayoutModel",
          "state": {
            "_model_module": "@jupyter-widgets/base",
            "_model_module_version": "1.2.0",
            "_model_name": "LayoutModel",
            "_view_count": null,
            "_view_module": "@jupyter-widgets/base",
            "_view_module_version": "1.2.0",
            "_view_name": "LayoutView",
            "align_content": null,
            "align_items": null,
            "align_self": null,
            "border": null,
            "bottom": null,
            "display": null,
            "flex": null,
            "flex_flow": null,
            "grid_area": null,
            "grid_auto_columns": null,
            "grid_auto_flow": null,
            "grid_auto_rows": null,
            "grid_column": null,
            "grid_gap": null,
            "grid_row": null,
            "grid_template_areas": null,
            "grid_template_columns": null,
            "grid_template_rows": null,
            "height": null,
            "justify_content": null,
            "justify_items": null,
            "left": null,
            "margin": null,
            "max_height": null,
            "max_width": null,
            "min_height": null,
            "min_width": null,
            "object_fit": null,
            "object_position": null,
            "order": null,
            "overflow": null,
            "overflow_x": null,
            "overflow_y": null,
            "padding": null,
            "right": null,
            "top": null,
            "visibility": null,
            "width": null
          }
        },
        "ae1f70ded203470688e9329c937af128": {
          "model_module": "@jupyter-widgets/controls",
          "model_module_version": "1.5.0",
          "model_name": "DescriptionStyleModel",
          "state": {
            "_model_module": "@jupyter-widgets/controls",
            "_model_module_version": "1.5.0",
            "_model_name": "DescriptionStyleModel",
            "_view_count": null,
            "_view_module": "@jupyter-widgets/base",
            "_view_module_version": "1.2.0",
            "_view_name": "StyleView",
            "description_width": ""
          }
        },
        "b3071bc1f4a94c14a84c93211e882bf5": {
          "model_module": "@jupyter-widgets/controls",
          "model_module_version": "1.5.0",
          "model_name": "HBoxModel",
          "state": {
            "_dom_classes": [],
            "_model_module": "@jupyter-widgets/controls",
            "_model_module_version": "1.5.0",
            "_model_name": "HBoxModel",
            "_view_count": null,
            "_view_module": "@jupyter-widgets/controls",
            "_view_module_version": "1.5.0",
            "_view_name": "HBoxView",
            "box_style": "",
            "children": [
              "IPY_MODEL_86ecc9ae77484c6f8ad7933488343373",
              "IPY_MODEL_c74da39fa6a246c9a5b3c989b8900705",
              "IPY_MODEL_c631e5535b4049d8bac6586fc8e7f460"
            ],
            "layout": "IPY_MODEL_27fdc059ae564fbb9729b9055789389e"
          }
        },
        "b9bebd66e5f441bdb1e3b058989417fe": {
          "model_module": "@jupyter-widgets/controls",
          "model_module_version": "1.5.0",
          "model_name": "DescriptionStyleModel",
          "state": {
            "_model_module": "@jupyter-widgets/controls",
            "_model_module_version": "1.5.0",
            "_model_name": "DescriptionStyleModel",
            "_view_count": null,
            "_view_module": "@jupyter-widgets/base",
            "_view_module_version": "1.2.0",
            "_view_name": "StyleView",
            "description_width": ""
          }
        },
        "c2963dacb06746dc87fb49adc816ddb8": {
          "model_module": "@jupyter-widgets/controls",
          "model_module_version": "1.5.0",
          "model_name": "DescriptionStyleModel",
          "state": {
            "_model_module": "@jupyter-widgets/controls",
            "_model_module_version": "1.5.0",
            "_model_name": "DescriptionStyleModel",
            "_view_count": null,
            "_view_module": "@jupyter-widgets/base",
            "_view_module_version": "1.2.0",
            "_view_name": "StyleView",
            "description_width": ""
          }
        },
        "c5dfbc406c724b21baf61cfc3b5747f8": {
          "model_module": "@jupyter-widgets/controls",
          "model_module_version": "1.5.0",
          "model_name": "ProgressStyleModel",
          "state": {
            "_model_module": "@jupyter-widgets/controls",
            "_model_module_version": "1.5.0",
            "_model_name": "ProgressStyleModel",
            "_view_count": null,
            "_view_module": "@jupyter-widgets/base",
            "_view_module_version": "1.2.0",
            "_view_name": "StyleView",
            "bar_color": null,
            "description_width": ""
          }
        },
        "c6173f3714e34d9181304713fbf8ea5c": {
          "model_module": "@jupyter-widgets/base",
          "model_module_version": "1.2.0",
          "model_name": "LayoutModel",
          "state": {
            "_model_module": "@jupyter-widgets/base",
            "_model_module_version": "1.2.0",
            "_model_name": "LayoutModel",
            "_view_count": null,
            "_view_module": "@jupyter-widgets/base",
            "_view_module_version": "1.2.0",
            "_view_name": "LayoutView",
            "align_content": null,
            "align_items": null,
            "align_self": null,
            "border": null,
            "bottom": null,
            "display": null,
            "flex": null,
            "flex_flow": null,
            "grid_area": null,
            "grid_auto_columns": null,
            "grid_auto_flow": null,
            "grid_auto_rows": null,
            "grid_column": null,
            "grid_gap": null,
            "grid_row": null,
            "grid_template_areas": null,
            "grid_template_columns": null,
            "grid_template_rows": null,
            "height": null,
            "justify_content": null,
            "justify_items": null,
            "left": null,
            "margin": null,
            "max_height": null,
            "max_width": null,
            "min_height": null,
            "min_width": null,
            "object_fit": null,
            "object_position": null,
            "order": null,
            "overflow": null,
            "overflow_x": null,
            "overflow_y": null,
            "padding": null,
            "right": null,
            "top": null,
            "visibility": null,
            "width": null
          }
        },
        "c631e5535b4049d8bac6586fc8e7f460": {
          "model_module": "@jupyter-widgets/controls",
          "model_module_version": "1.5.0",
          "model_name": "HTMLModel",
          "state": {
            "_dom_classes": [],
            "_model_module": "@jupyter-widgets/controls",
            "_model_module_version": "1.5.0",
            "_model_name": "HTMLModel",
            "_view_count": null,
            "_view_module": "@jupyter-widgets/controls",
            "_view_module_version": "1.5.0",
            "_view_name": "HTMLView",
            "description": "",
            "description_tooltip": null,
            "layout": "IPY_MODEL_ac7b65fa4b164e54bac3fae1bb8c5851",
            "placeholder": "​",
            "style": "IPY_MODEL_5154eeca27214a4b862b30552d7cb8a3",
            "value": " 1.18k/1.18k [00:00&lt;00:00, 18.4kB/s]"
          }
        },
        "c659ed5d514848a6aaecef5d9e5780e5": {
          "model_module": "@jupyter-widgets/controls",
          "model_module_version": "1.5.0",
          "model_name": "DescriptionStyleModel",
          "state": {
            "_model_module": "@jupyter-widgets/controls",
            "_model_module_version": "1.5.0",
            "_model_name": "DescriptionStyleModel",
            "_view_count": null,
            "_view_module": "@jupyter-widgets/base",
            "_view_module_version": "1.2.0",
            "_view_name": "StyleView",
            "description_width": ""
          }
        },
        "c6923d5f94e34c0e84ad0d6ab274f34e": {
          "model_module": "@jupyter-widgets/base",
          "model_module_version": "1.2.0",
          "model_name": "LayoutModel",
          "state": {
            "_model_module": "@jupyter-widgets/base",
            "_model_module_version": "1.2.0",
            "_model_name": "LayoutModel",
            "_view_count": null,
            "_view_module": "@jupyter-widgets/base",
            "_view_module_version": "1.2.0",
            "_view_name": "LayoutView",
            "align_content": null,
            "align_items": null,
            "align_self": null,
            "border": null,
            "bottom": null,
            "display": null,
            "flex": null,
            "flex_flow": null,
            "grid_area": null,
            "grid_auto_columns": null,
            "grid_auto_flow": null,
            "grid_auto_rows": null,
            "grid_column": null,
            "grid_gap": null,
            "grid_row": null,
            "grid_template_areas": null,
            "grid_template_columns": null,
            "grid_template_rows": null,
            "height": null,
            "justify_content": null,
            "justify_items": null,
            "left": null,
            "margin": null,
            "max_height": null,
            "max_width": null,
            "min_height": null,
            "min_width": null,
            "object_fit": null,
            "object_position": null,
            "order": null,
            "overflow": null,
            "overflow_x": null,
            "overflow_y": null,
            "padding": null,
            "right": null,
            "top": null,
            "visibility": null,
            "width": null
          }
        },
        "c74da39fa6a246c9a5b3c989b8900705": {
          "model_module": "@jupyter-widgets/controls",
          "model_module_version": "1.5.0",
          "model_name": "FloatProgressModel",
          "state": {
            "_dom_classes": [],
            "_model_module": "@jupyter-widgets/controls",
            "_model_module_version": "1.5.0",
            "_model_name": "FloatProgressModel",
            "_view_count": null,
            "_view_module": "@jupyter-widgets/controls",
            "_view_module_version": "1.5.0",
            "_view_name": "ProgressView",
            "bar_style": "success",
            "description": "",
            "description_tooltip": null,
            "layout": "IPY_MODEL_fb81baf924db4d929a110b394e7dd0f4",
            "max": 1180,
            "min": 0,
            "orientation": "horizontal",
            "style": "IPY_MODEL_68e4d14210364c9c83a39d76ab3aa0ff",
            "value": 1180
          }
        },
        "c7e0a4101a6446919fe24dbc8376ac1d": {
          "model_module": "@jupyter-widgets/controls",
          "model_module_version": "1.5.0",
          "model_name": "HTMLModel",
          "state": {
            "_dom_classes": [],
            "_model_module": "@jupyter-widgets/controls",
            "_model_module_version": "1.5.0",
            "_model_name": "HTMLModel",
            "_view_count": null,
            "_view_module": "@jupyter-widgets/controls",
            "_view_module_version": "1.5.0",
            "_view_name": "HTMLView",
            "description": "",
            "description_tooltip": null,
            "layout": "IPY_MODEL_1c2a7f36fced49678b1395c08f139f81",
            "placeholder": "​",
            "style": "IPY_MODEL_ae1f70ded203470688e9329c937af128",
            "value": " 123/123 [00:00&lt;00:00, 1.78kB/s]"
          }
        },
        "cac38ff6123d4abfbef2b8fec1a3b521": {
          "model_module": "@jupyter-widgets/controls",
          "model_module_version": "1.5.0",
          "model_name": "ProgressStyleModel",
          "state": {
            "_model_module": "@jupyter-widgets/controls",
            "_model_module_version": "1.5.0",
            "_model_name": "ProgressStyleModel",
            "_view_count": null,
            "_view_module": "@jupyter-widgets/base",
            "_view_module_version": "1.2.0",
            "_view_name": "StyleView",
            "bar_color": null,
            "description_width": ""
          }
        },
        "cc5cab35c1ef4e2d8fbe4adbfa56a8eb": {
          "model_module": "@jupyter-widgets/controls",
          "model_module_version": "1.5.0",
          "model_name": "HTMLModel",
          "state": {
            "_dom_classes": [],
            "_model_module": "@jupyter-widgets/controls",
            "_model_module_version": "1.5.0",
            "_model_name": "HTMLModel",
            "_view_count": null,
            "_view_module": "@jupyter-widgets/controls",
            "_view_module_version": "1.5.0",
            "_view_name": "HTMLView",
            "description": "",
            "description_tooltip": null,
            "layout": "IPY_MODEL_6353d900ab6d4bdc82fc9e7d7488f989",
            "placeholder": "​",
            "style": "IPY_MODEL_15b227a2f0d842a19f636dfdd26d8e2d",
            "value": "Downloading: 100%"
          }
        },
        "da18e2b2247f46d490abeed6175ee637": {
          "model_module": "@jupyter-widgets/base",
          "model_module_version": "1.2.0",
          "model_name": "LayoutModel",
          "state": {
            "_model_module": "@jupyter-widgets/base",
            "_model_module_version": "1.2.0",
            "_model_name": "LayoutModel",
            "_view_count": null,
            "_view_module": "@jupyter-widgets/base",
            "_view_module_version": "1.2.0",
            "_view_name": "LayoutView",
            "align_content": null,
            "align_items": null,
            "align_self": null,
            "border": null,
            "bottom": null,
            "display": null,
            "flex": null,
            "flex_flow": null,
            "grid_area": null,
            "grid_auto_columns": null,
            "grid_auto_flow": null,
            "grid_auto_rows": null,
            "grid_column": null,
            "grid_gap": null,
            "grid_row": null,
            "grid_template_areas": null,
            "grid_template_columns": null,
            "grid_template_rows": null,
            "height": null,
            "justify_content": null,
            "justify_items": null,
            "left": null,
            "margin": null,
            "max_height": null,
            "max_width": null,
            "min_height": null,
            "min_width": null,
            "object_fit": null,
            "object_position": null,
            "order": null,
            "overflow": null,
            "overflow_x": null,
            "overflow_y": null,
            "padding": null,
            "right": null,
            "top": null,
            "visibility": null,
            "width": null
          }
        },
        "e1b52b6313af46e594c88bd9f396fbe9": {
          "model_module": "@jupyter-widgets/controls",
          "model_module_version": "1.5.0",
          "model_name": "HTMLModel",
          "state": {
            "_dom_classes": [],
            "_model_module": "@jupyter-widgets/controls",
            "_model_module_version": "1.5.0",
            "_model_name": "HTMLModel",
            "_view_count": null,
            "_view_module": "@jupyter-widgets/controls",
            "_view_module_version": "1.5.0",
            "_view_name": "HTMLView",
            "description": "",
            "description_tooltip": null,
            "layout": "IPY_MODEL_fbd8ece23f2a4781883e90ddfcf42214",
            "placeholder": "​",
            "style": "IPY_MODEL_c659ed5d514848a6aaecef5d9e5780e5",
            "value": " 301/301 [00:00&lt;00:00, 10.1kB/s]"
          }
        },
        "e9eae8c0e16d45e1aa22b39768d56946": {
          "model_module": "@jupyter-widgets/controls",
          "model_module_version": "1.5.0",
          "model_name": "FloatProgressModel",
          "state": {
            "_dom_classes": [],
            "_model_module": "@jupyter-widgets/controls",
            "_model_module_version": "1.5.0",
            "_model_name": "FloatProgressModel",
            "_view_count": null,
            "_view_module": "@jupyter-widgets/controls",
            "_view_module_version": "1.5.0",
            "_view_name": "ProgressView",
            "bar_style": "success",
            "description": "",
            "description_tooltip": null,
            "layout": "IPY_MODEL_c6923d5f94e34c0e84ad0d6ab274f34e",
            "max": 301,
            "min": 0,
            "orientation": "horizontal",
            "style": "IPY_MODEL_4f15716caaa64ede83fc19fc8b7d1719",
            "value": 301
          }
        },
        "ec362772accd4aff98ce76f1cb18e08c": {
          "model_module": "@jupyter-widgets/controls",
          "model_module_version": "1.5.0",
          "model_name": "HBoxModel",
          "state": {
            "_dom_classes": [],
            "_model_module": "@jupyter-widgets/controls",
            "_model_module_version": "1.5.0",
            "_model_name": "HBoxModel",
            "_view_count": null,
            "_view_module": "@jupyter-widgets/controls",
            "_view_module_version": "1.5.0",
            "_view_name": "HBoxView",
            "box_style": "",
            "children": [
              "IPY_MODEL_8dc93bb9d28e4fc68f6fa6a1901a8ab8",
              "IPY_MODEL_e9eae8c0e16d45e1aa22b39768d56946",
              "IPY_MODEL_e1b52b6313af46e594c88bd9f396fbe9"
            ],
            "layout": "IPY_MODEL_42e38347135a458f9fc32640cbc88e33"
          }
        },
        "ef3542adfb1b4e209c0f44da355dd6af": {
          "model_module": "@jupyter-widgets/base",
          "model_module_version": "1.2.0",
          "model_name": "LayoutModel",
          "state": {
            "_model_module": "@jupyter-widgets/base",
            "_model_module_version": "1.2.0",
            "_model_name": "LayoutModel",
            "_view_count": null,
            "_view_module": "@jupyter-widgets/base",
            "_view_module_version": "1.2.0",
            "_view_name": "LayoutView",
            "align_content": null,
            "align_items": null,
            "align_self": null,
            "border": null,
            "bottom": null,
            "display": null,
            "flex": null,
            "flex_flow": null,
            "grid_area": null,
            "grid_auto_columns": null,
            "grid_auto_flow": null,
            "grid_auto_rows": null,
            "grid_column": null,
            "grid_gap": null,
            "grid_row": null,
            "grid_template_areas": null,
            "grid_template_columns": null,
            "grid_template_rows": null,
            "height": null,
            "justify_content": null,
            "justify_items": null,
            "left": null,
            "margin": null,
            "max_height": null,
            "max_width": null,
            "min_height": null,
            "min_width": null,
            "object_fit": null,
            "object_position": null,
            "order": null,
            "overflow": null,
            "overflow_x": null,
            "overflow_y": null,
            "padding": null,
            "right": null,
            "top": null,
            "visibility": null,
            "width": null
          }
        },
        "f64f9acdea53446f99067be0bc75a657": {
          "model_module": "@jupyter-widgets/controls",
          "model_module_version": "1.5.0",
          "model_name": "HTMLModel",
          "state": {
            "_dom_classes": [],
            "_model_module": "@jupyter-widgets/controls",
            "_model_module_version": "1.5.0",
            "_model_name": "HTMLModel",
            "_view_count": null,
            "_view_module": "@jupyter-widgets/controls",
            "_view_module_version": "1.5.0",
            "_view_name": "HTMLView",
            "description": "",
            "description_tooltip": null,
            "layout": "IPY_MODEL_4c7c0781353d468ca064aa2f77931e8d",
            "placeholder": "​",
            "style": "IPY_MODEL_9e83974bf3d248d4b87563faf52a1ec6",
            "value": "Downloading: 100%"
          }
        },
        "f656c5e49d3d4643bf2500ebf0e78169": {
          "model_module": "@jupyter-widgets/controls",
          "model_module_version": "1.5.0",
          "model_name": "HTMLModel",
          "state": {
            "_dom_classes": [],
            "_model_module": "@jupyter-widgets/controls",
            "_model_module_version": "1.5.0",
            "_model_name": "HTMLModel",
            "_view_count": null,
            "_view_module": "@jupyter-widgets/controls",
            "_view_module_version": "1.5.0",
            "_view_name": "HTMLView",
            "description": "",
            "description_tooltip": null,
            "layout": "IPY_MODEL_ef3542adfb1b4e209c0f44da355dd6af",
            "placeholder": "​",
            "style": "IPY_MODEL_b9bebd66e5f441bdb1e3b058989417fe",
            "value": " 513M/513M [00:25&lt;00:00, 21.5MB/s]"
          }
        },
        "fb6a6be369364dcbb9d422d73eda4b27": {
          "model_module": "@jupyter-widgets/controls",
          "model_module_version": "1.5.0",
          "model_name": "HTMLModel",
          "state": {
            "_dom_classes": [],
            "_model_module": "@jupyter-widgets/controls",
            "_model_module_version": "1.5.0",
            "_model_name": "HTMLModel",
            "_view_count": null,
            "_view_module": "@jupyter-widgets/controls",
            "_view_module_version": "1.5.0",
            "_view_name": "HTMLView",
            "description": "",
            "description_tooltip": null,
            "layout": "IPY_MODEL_79ff19df6feb48f68a0ade6be87b6b5e",
            "placeholder": "​",
            "style": "IPY_MODEL_2e77ecb0515346a7b6f003d8715c72d3",
            "value": "Downloading: 100%"
          }
        },
        "fb81baf924db4d929a110b394e7dd0f4": {
          "model_module": "@jupyter-widgets/base",
          "model_module_version": "1.2.0",
          "model_name": "LayoutModel",
          "state": {
            "_model_module": "@jupyter-widgets/base",
            "_model_module_version": "1.2.0",
            "_model_name": "LayoutModel",
            "_view_count": null,
            "_view_module": "@jupyter-widgets/base",
            "_view_module_version": "1.2.0",
            "_view_name": "LayoutView",
            "align_content": null,
            "align_items": null,
            "align_self": null,
            "border": null,
            "bottom": null,
            "display": null,
            "flex": null,
            "flex_flow": null,
            "grid_area": null,
            "grid_auto_columns": null,
            "grid_auto_flow": null,
            "grid_auto_rows": null,
            "grid_column": null,
            "grid_gap": null,
            "grid_row": null,
            "grid_template_areas": null,
            "grid_template_columns": null,
            "grid_template_rows": null,
            "height": null,
            "justify_content": null,
            "justify_items": null,
            "left": null,
            "margin": null,
            "max_height": null,
            "max_width": null,
            "min_height": null,
            "min_width": null,
            "object_fit": null,
            "object_position": null,
            "order": null,
            "overflow": null,
            "overflow_x": null,
            "overflow_y": null,
            "padding": null,
            "right": null,
            "top": null,
            "visibility": null,
            "width": null
          }
        },
        "fbd8ece23f2a4781883e90ddfcf42214": {
          "model_module": "@jupyter-widgets/base",
          "model_module_version": "1.2.0",
          "model_name": "LayoutModel",
          "state": {
            "_model_module": "@jupyter-widgets/base",
            "_model_module_version": "1.2.0",
            "_model_name": "LayoutModel",
            "_view_count": null,
            "_view_module": "@jupyter-widgets/base",
            "_view_module_version": "1.2.0",
            "_view_name": "LayoutView",
            "align_content": null,
            "align_items": null,
            "align_self": null,
            "border": null,
            "bottom": null,
            "display": null,
            "flex": null,
            "flex_flow": null,
            "grid_area": null,
            "grid_auto_columns": null,
            "grid_auto_flow": null,
            "grid_auto_rows": null,
            "grid_column": null,
            "grid_gap": null,
            "grid_row": null,
            "grid_template_areas": null,
            "grid_template_columns": null,
            "grid_template_rows": null,
            "height": null,
            "justify_content": null,
            "justify_items": null,
            "left": null,
            "margin": null,
            "max_height": null,
            "max_width": null,
            "min_height": null,
            "min_width": null,
            "object_fit": null,
            "object_position": null,
            "order": null,
            "overflow": null,
            "overflow_x": null,
            "overflow_y": null,
            "padding": null,
            "right": null,
            "top": null,
            "visibility": null,
            "width": null
          }
        }
      }
    }
  },
  "nbformat": 4,
  "nbformat_minor": 0
}
