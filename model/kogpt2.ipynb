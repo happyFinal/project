{
  "nbformat": 4,
  "nbformat_minor": 0,
  "metadata": {
    "colab": {
      "provenance": [],
      "collapsed_sections": [
        "Uvy5CnQNU2nU",
        "85lk0J1OU2Mi",
        "vvpISaKQXNfx",
        "_lnhmqn-gJ6i",
        "5ZBXRuQfZFIp",
        "Qt7rO4A9YVy7",
        "eEQ87BfCXLBe"
      ],
      "machine_shape": "hm"
    },
    "kernelspec": {
      "name": "python3",
      "display_name": "Python 3"
    },
    "language_info": {
      "name": "python"
    },
    "accelerator": "GPU",
    "gpuClass": "premium",
    "widgets": {
      "application/vnd.jupyter.widget-state+json": {
        "0b9740c8be5a4890990da4d85e03f153": {
          "model_module": "@jupyter-widgets/controls",
          "model_name": "HBoxModel",
          "model_module_version": "1.5.0",
          "state": {
            "_dom_classes": [],
            "_model_module": "@jupyter-widgets/controls",
            "_model_module_version": "1.5.0",
            "_model_name": "HBoxModel",
            "_view_count": null,
            "_view_module": "@jupyter-widgets/controls",
            "_view_module_version": "1.5.0",
            "_view_name": "HBoxView",
            "box_style": "",
            "children": [
              "IPY_MODEL_c6f84374891d46ae925b37cd9d8335d0",
              "IPY_MODEL_93ec5204968e445b975a70ec14366301",
              "IPY_MODEL_41afb9aa0dfd42af93fa43eb6ae741ae"
            ],
            "layout": "IPY_MODEL_e4cd24aecd5b40d5a96de8760152c0d3"
          }
        },
        "c6f84374891d46ae925b37cd9d8335d0": {
          "model_module": "@jupyter-widgets/controls",
          "model_name": "HTMLModel",
          "model_module_version": "1.5.0",
          "state": {
            "_dom_classes": [],
            "_model_module": "@jupyter-widgets/controls",
            "_model_module_version": "1.5.0",
            "_model_name": "HTMLModel",
            "_view_count": null,
            "_view_module": "@jupyter-widgets/controls",
            "_view_module_version": "1.5.0",
            "_view_name": "HTMLView",
            "description": "",
            "description_tooltip": null,
            "layout": "IPY_MODEL_bef9de983059459992ef5bca4c47e149",
            "placeholder": "​",
            "style": "IPY_MODEL_f1624212c7dc47ca80cf028477978bd0",
            "value": "Downloading: 100%"
          }
        },
        "93ec5204968e445b975a70ec14366301": {
          "model_module": "@jupyter-widgets/controls",
          "model_name": "FloatProgressModel",
          "model_module_version": "1.5.0",
          "state": {
            "_dom_classes": [],
            "_model_module": "@jupyter-widgets/controls",
            "_model_module_version": "1.5.0",
            "_model_name": "FloatProgressModel",
            "_view_count": null,
            "_view_module": "@jupyter-widgets/controls",
            "_view_module_version": "1.5.0",
            "_view_name": "ProgressView",
            "bar_style": "success",
            "description": "",
            "description_tooltip": null,
            "layout": "IPY_MODEL_282ee36a81794e68a5b68567db269e1a",
            "max": 1000,
            "min": 0,
            "orientation": "horizontal",
            "style": "IPY_MODEL_57d4df14ac81467eb9191595ba993d75",
            "value": 1000
          }
        },
        "41afb9aa0dfd42af93fa43eb6ae741ae": {
          "model_module": "@jupyter-widgets/controls",
          "model_name": "HTMLModel",
          "model_module_version": "1.5.0",
          "state": {
            "_dom_classes": [],
            "_model_module": "@jupyter-widgets/controls",
            "_model_module_version": "1.5.0",
            "_model_name": "HTMLModel",
            "_view_count": null,
            "_view_module": "@jupyter-widgets/controls",
            "_view_module_version": "1.5.0",
            "_view_name": "HTMLView",
            "description": "",
            "description_tooltip": null,
            "layout": "IPY_MODEL_4086046a554d4508905ea97551fbd3ce",
            "placeholder": "​",
            "style": "IPY_MODEL_c6c68f1fb201442cba2a9d3a14a4f789",
            "value": " 1.00k/1.00k [00:00&lt;00:00, 62.6kB/s]"
          }
        },
        "e4cd24aecd5b40d5a96de8760152c0d3": {
          "model_module": "@jupyter-widgets/base",
          "model_name": "LayoutModel",
          "model_module_version": "1.2.0",
          "state": {
            "_model_module": "@jupyter-widgets/base",
            "_model_module_version": "1.2.0",
            "_model_name": "LayoutModel",
            "_view_count": null,
            "_view_module": "@jupyter-widgets/base",
            "_view_module_version": "1.2.0",
            "_view_name": "LayoutView",
            "align_content": null,
            "align_items": null,
            "align_self": null,
            "border": null,
            "bottom": null,
            "display": null,
            "flex": null,
            "flex_flow": null,
            "grid_area": null,
            "grid_auto_columns": null,
            "grid_auto_flow": null,
            "grid_auto_rows": null,
            "grid_column": null,
            "grid_gap": null,
            "grid_row": null,
            "grid_template_areas": null,
            "grid_template_columns": null,
            "grid_template_rows": null,
            "height": null,
            "justify_content": null,
            "justify_items": null,
            "left": null,
            "margin": null,
            "max_height": null,
            "max_width": null,
            "min_height": null,
            "min_width": null,
            "object_fit": null,
            "object_position": null,
            "order": null,
            "overflow": null,
            "overflow_x": null,
            "overflow_y": null,
            "padding": null,
            "right": null,
            "top": null,
            "visibility": null,
            "width": null
          }
        },
        "bef9de983059459992ef5bca4c47e149": {
          "model_module": "@jupyter-widgets/base",
          "model_name": "LayoutModel",
          "model_module_version": "1.2.0",
          "state": {
            "_model_module": "@jupyter-widgets/base",
            "_model_module_version": "1.2.0",
            "_model_name": "LayoutModel",
            "_view_count": null,
            "_view_module": "@jupyter-widgets/base",
            "_view_module_version": "1.2.0",
            "_view_name": "LayoutView",
            "align_content": null,
            "align_items": null,
            "align_self": null,
            "border": null,
            "bottom": null,
            "display": null,
            "flex": null,
            "flex_flow": null,
            "grid_area": null,
            "grid_auto_columns": null,
            "grid_auto_flow": null,
            "grid_auto_rows": null,
            "grid_column": null,
            "grid_gap": null,
            "grid_row": null,
            "grid_template_areas": null,
            "grid_template_columns": null,
            "grid_template_rows": null,
            "height": null,
            "justify_content": null,
            "justify_items": null,
            "left": null,
            "margin": null,
            "max_height": null,
            "max_width": null,
            "min_height": null,
            "min_width": null,
            "object_fit": null,
            "object_position": null,
            "order": null,
            "overflow": null,
            "overflow_x": null,
            "overflow_y": null,
            "padding": null,
            "right": null,
            "top": null,
            "visibility": null,
            "width": null
          }
        },
        "f1624212c7dc47ca80cf028477978bd0": {
          "model_module": "@jupyter-widgets/controls",
          "model_name": "DescriptionStyleModel",
          "model_module_version": "1.5.0",
          "state": {
            "_model_module": "@jupyter-widgets/controls",
            "_model_module_version": "1.5.0",
            "_model_name": "DescriptionStyleModel",
            "_view_count": null,
            "_view_module": "@jupyter-widgets/base",
            "_view_module_version": "1.2.0",
            "_view_name": "StyleView",
            "description_width": ""
          }
        },
        "282ee36a81794e68a5b68567db269e1a": {
          "model_module": "@jupyter-widgets/base",
          "model_name": "LayoutModel",
          "model_module_version": "1.2.0",
          "state": {
            "_model_module": "@jupyter-widgets/base",
            "_model_module_version": "1.2.0",
            "_model_name": "LayoutModel",
            "_view_count": null,
            "_view_module": "@jupyter-widgets/base",
            "_view_module_version": "1.2.0",
            "_view_name": "LayoutView",
            "align_content": null,
            "align_items": null,
            "align_self": null,
            "border": null,
            "bottom": null,
            "display": null,
            "flex": null,
            "flex_flow": null,
            "grid_area": null,
            "grid_auto_columns": null,
            "grid_auto_flow": null,
            "grid_auto_rows": null,
            "grid_column": null,
            "grid_gap": null,
            "grid_row": null,
            "grid_template_areas": null,
            "grid_template_columns": null,
            "grid_template_rows": null,
            "height": null,
            "justify_content": null,
            "justify_items": null,
            "left": null,
            "margin": null,
            "max_height": null,
            "max_width": null,
            "min_height": null,
            "min_width": null,
            "object_fit": null,
            "object_position": null,
            "order": null,
            "overflow": null,
            "overflow_x": null,
            "overflow_y": null,
            "padding": null,
            "right": null,
            "top": null,
            "visibility": null,
            "width": null
          }
        },
        "57d4df14ac81467eb9191595ba993d75": {
          "model_module": "@jupyter-widgets/controls",
          "model_name": "ProgressStyleModel",
          "model_module_version": "1.5.0",
          "state": {
            "_model_module": "@jupyter-widgets/controls",
            "_model_module_version": "1.5.0",
            "_model_name": "ProgressStyleModel",
            "_view_count": null,
            "_view_module": "@jupyter-widgets/base",
            "_view_module_version": "1.2.0",
            "_view_name": "StyleView",
            "bar_color": null,
            "description_width": ""
          }
        },
        "4086046a554d4508905ea97551fbd3ce": {
          "model_module": "@jupyter-widgets/base",
          "model_name": "LayoutModel",
          "model_module_version": "1.2.0",
          "state": {
            "_model_module": "@jupyter-widgets/base",
            "_model_module_version": "1.2.0",
            "_model_name": "LayoutModel",
            "_view_count": null,
            "_view_module": "@jupyter-widgets/base",
            "_view_module_version": "1.2.0",
            "_view_name": "LayoutView",
            "align_content": null,
            "align_items": null,
            "align_self": null,
            "border": null,
            "bottom": null,
            "display": null,
            "flex": null,
            "flex_flow": null,
            "grid_area": null,
            "grid_auto_columns": null,
            "grid_auto_flow": null,
            "grid_auto_rows": null,
            "grid_column": null,
            "grid_gap": null,
            "grid_row": null,
            "grid_template_areas": null,
            "grid_template_columns": null,
            "grid_template_rows": null,
            "height": null,
            "justify_content": null,
            "justify_items": null,
            "left": null,
            "margin": null,
            "max_height": null,
            "max_width": null,
            "min_height": null,
            "min_width": null,
            "object_fit": null,
            "object_position": null,
            "order": null,
            "overflow": null,
            "overflow_x": null,
            "overflow_y": null,
            "padding": null,
            "right": null,
            "top": null,
            "visibility": null,
            "width": null
          }
        },
        "c6c68f1fb201442cba2a9d3a14a4f789": {
          "model_module": "@jupyter-widgets/controls",
          "model_name": "DescriptionStyleModel",
          "model_module_version": "1.5.0",
          "state": {
            "_model_module": "@jupyter-widgets/controls",
            "_model_module_version": "1.5.0",
            "_model_name": "DescriptionStyleModel",
            "_view_count": null,
            "_view_module": "@jupyter-widgets/base",
            "_view_module_version": "1.2.0",
            "_view_name": "StyleView",
            "description_width": ""
          }
        },
        "02b24b6d849a4ca88a4a4445f81bd47f": {
          "model_module": "@jupyter-widgets/controls",
          "model_name": "HBoxModel",
          "model_module_version": "1.5.0",
          "state": {
            "_dom_classes": [],
            "_model_module": "@jupyter-widgets/controls",
            "_model_module_version": "1.5.0",
            "_model_name": "HBoxModel",
            "_view_count": null,
            "_view_module": "@jupyter-widgets/controls",
            "_view_module_version": "1.5.0",
            "_view_name": "HBoxView",
            "box_style": "",
            "children": [
              "IPY_MODEL_bc69e8ea2c454e8b971b70b839ae6beb",
              "IPY_MODEL_cd081966318b4047b11aeb26a678b5d7",
              "IPY_MODEL_9ff2f8958a7b4b06b0e3040c14381858"
            ],
            "layout": "IPY_MODEL_e92e9680f12b4e00ac99d6a58b186898"
          }
        },
        "bc69e8ea2c454e8b971b70b839ae6beb": {
          "model_module": "@jupyter-widgets/controls",
          "model_name": "HTMLModel",
          "model_module_version": "1.5.0",
          "state": {
            "_dom_classes": [],
            "_model_module": "@jupyter-widgets/controls",
            "_model_module_version": "1.5.0",
            "_model_name": "HTMLModel",
            "_view_count": null,
            "_view_module": "@jupyter-widgets/controls",
            "_view_module_version": "1.5.0",
            "_view_name": "HTMLView",
            "description": "",
            "description_tooltip": null,
            "layout": "IPY_MODEL_393b17ca8105498e9dab21edd2293660",
            "placeholder": "​",
            "style": "IPY_MODEL_62bd33f82e8c41c89812a1fa9dde6cda",
            "value": "Downloading: 100%"
          }
        },
        "cd081966318b4047b11aeb26a678b5d7": {
          "model_module": "@jupyter-widgets/controls",
          "model_name": "FloatProgressModel",
          "model_module_version": "1.5.0",
          "state": {
            "_dom_classes": [],
            "_model_module": "@jupyter-widgets/controls",
            "_model_module_version": "1.5.0",
            "_model_name": "FloatProgressModel",
            "_view_count": null,
            "_view_module": "@jupyter-widgets/controls",
            "_view_module_version": "1.5.0",
            "_view_name": "ProgressView",
            "bar_style": "success",
            "description": "",
            "description_tooltip": null,
            "layout": "IPY_MODEL_0c65bbdb835349a4a5257322d3a24a88",
            "max": 513302779,
            "min": 0,
            "orientation": "horizontal",
            "style": "IPY_MODEL_330736093ec2401c900dc15e02ea988e",
            "value": 513302779
          }
        },
        "9ff2f8958a7b4b06b0e3040c14381858": {
          "model_module": "@jupyter-widgets/controls",
          "model_name": "HTMLModel",
          "model_module_version": "1.5.0",
          "state": {
            "_dom_classes": [],
            "_model_module": "@jupyter-widgets/controls",
            "_model_module_version": "1.5.0",
            "_model_name": "HTMLModel",
            "_view_count": null,
            "_view_module": "@jupyter-widgets/controls",
            "_view_module_version": "1.5.0",
            "_view_name": "HTMLView",
            "description": "",
            "description_tooltip": null,
            "layout": "IPY_MODEL_70397451a0ba47b7bb3bfad525fb4d0d",
            "placeholder": "​",
            "style": "IPY_MODEL_196afb92be5147229659ceaf1ec5c6af",
            "value": " 513M/513M [00:06&lt;00:00, 80.1MB/s]"
          }
        },
        "e92e9680f12b4e00ac99d6a58b186898": {
          "model_module": "@jupyter-widgets/base",
          "model_name": "LayoutModel",
          "model_module_version": "1.2.0",
          "state": {
            "_model_module": "@jupyter-widgets/base",
            "_model_module_version": "1.2.0",
            "_model_name": "LayoutModel",
            "_view_count": null,
            "_view_module": "@jupyter-widgets/base",
            "_view_module_version": "1.2.0",
            "_view_name": "LayoutView",
            "align_content": null,
            "align_items": null,
            "align_self": null,
            "border": null,
            "bottom": null,
            "display": null,
            "flex": null,
            "flex_flow": null,
            "grid_area": null,
            "grid_auto_columns": null,
            "grid_auto_flow": null,
            "grid_auto_rows": null,
            "grid_column": null,
            "grid_gap": null,
            "grid_row": null,
            "grid_template_areas": null,
            "grid_template_columns": null,
            "grid_template_rows": null,
            "height": null,
            "justify_content": null,
            "justify_items": null,
            "left": null,
            "margin": null,
            "max_height": null,
            "max_width": null,
            "min_height": null,
            "min_width": null,
            "object_fit": null,
            "object_position": null,
            "order": null,
            "overflow": null,
            "overflow_x": null,
            "overflow_y": null,
            "padding": null,
            "right": null,
            "top": null,
            "visibility": null,
            "width": null
          }
        },
        "393b17ca8105498e9dab21edd2293660": {
          "model_module": "@jupyter-widgets/base",
          "model_name": "LayoutModel",
          "model_module_version": "1.2.0",
          "state": {
            "_model_module": "@jupyter-widgets/base",
            "_model_module_version": "1.2.0",
            "_model_name": "LayoutModel",
            "_view_count": null,
            "_view_module": "@jupyter-widgets/base",
            "_view_module_version": "1.2.0",
            "_view_name": "LayoutView",
            "align_content": null,
            "align_items": null,
            "align_self": null,
            "border": null,
            "bottom": null,
            "display": null,
            "flex": null,
            "flex_flow": null,
            "grid_area": null,
            "grid_auto_columns": null,
            "grid_auto_flow": null,
            "grid_auto_rows": null,
            "grid_column": null,
            "grid_gap": null,
            "grid_row": null,
            "grid_template_areas": null,
            "grid_template_columns": null,
            "grid_template_rows": null,
            "height": null,
            "justify_content": null,
            "justify_items": null,
            "left": null,
            "margin": null,
            "max_height": null,
            "max_width": null,
            "min_height": null,
            "min_width": null,
            "object_fit": null,
            "object_position": null,
            "order": null,
            "overflow": null,
            "overflow_x": null,
            "overflow_y": null,
            "padding": null,
            "right": null,
            "top": null,
            "visibility": null,
            "width": null
          }
        },
        "62bd33f82e8c41c89812a1fa9dde6cda": {
          "model_module": "@jupyter-widgets/controls",
          "model_name": "DescriptionStyleModel",
          "model_module_version": "1.5.0",
          "state": {
            "_model_module": "@jupyter-widgets/controls",
            "_model_module_version": "1.5.0",
            "_model_name": "DescriptionStyleModel",
            "_view_count": null,
            "_view_module": "@jupyter-widgets/base",
            "_view_module_version": "1.2.0",
            "_view_name": "StyleView",
            "description_width": ""
          }
        },
        "0c65bbdb835349a4a5257322d3a24a88": {
          "model_module": "@jupyter-widgets/base",
          "model_name": "LayoutModel",
          "model_module_version": "1.2.0",
          "state": {
            "_model_module": "@jupyter-widgets/base",
            "_model_module_version": "1.2.0",
            "_model_name": "LayoutModel",
            "_view_count": null,
            "_view_module": "@jupyter-widgets/base",
            "_view_module_version": "1.2.0",
            "_view_name": "LayoutView",
            "align_content": null,
            "align_items": null,
            "align_self": null,
            "border": null,
            "bottom": null,
            "display": null,
            "flex": null,
            "flex_flow": null,
            "grid_area": null,
            "grid_auto_columns": null,
            "grid_auto_flow": null,
            "grid_auto_rows": null,
            "grid_column": null,
            "grid_gap": null,
            "grid_row": null,
            "grid_template_areas": null,
            "grid_template_columns": null,
            "grid_template_rows": null,
            "height": null,
            "justify_content": null,
            "justify_items": null,
            "left": null,
            "margin": null,
            "max_height": null,
            "max_width": null,
            "min_height": null,
            "min_width": null,
            "object_fit": null,
            "object_position": null,
            "order": null,
            "overflow": null,
            "overflow_x": null,
            "overflow_y": null,
            "padding": null,
            "right": null,
            "top": null,
            "visibility": null,
            "width": null
          }
        },
        "330736093ec2401c900dc15e02ea988e": {
          "model_module": "@jupyter-widgets/controls",
          "model_name": "ProgressStyleModel",
          "model_module_version": "1.5.0",
          "state": {
            "_model_module": "@jupyter-widgets/controls",
            "_model_module_version": "1.5.0",
            "_model_name": "ProgressStyleModel",
            "_view_count": null,
            "_view_module": "@jupyter-widgets/base",
            "_view_module_version": "1.2.0",
            "_view_name": "StyleView",
            "bar_color": null,
            "description_width": ""
          }
        },
        "70397451a0ba47b7bb3bfad525fb4d0d": {
          "model_module": "@jupyter-widgets/base",
          "model_name": "LayoutModel",
          "model_module_version": "1.2.0",
          "state": {
            "_model_module": "@jupyter-widgets/base",
            "_model_module_version": "1.2.0",
            "_model_name": "LayoutModel",
            "_view_count": null,
            "_view_module": "@jupyter-widgets/base",
            "_view_module_version": "1.2.0",
            "_view_name": "LayoutView",
            "align_content": null,
            "align_items": null,
            "align_self": null,
            "border": null,
            "bottom": null,
            "display": null,
            "flex": null,
            "flex_flow": null,
            "grid_area": null,
            "grid_auto_columns": null,
            "grid_auto_flow": null,
            "grid_auto_rows": null,
            "grid_column": null,
            "grid_gap": null,
            "grid_row": null,
            "grid_template_areas": null,
            "grid_template_columns": null,
            "grid_template_rows": null,
            "height": null,
            "justify_content": null,
            "justify_items": null,
            "left": null,
            "margin": null,
            "max_height": null,
            "max_width": null,
            "min_height": null,
            "min_width": null,
            "object_fit": null,
            "object_position": null,
            "order": null,
            "overflow": null,
            "overflow_x": null,
            "overflow_y": null,
            "padding": null,
            "right": null,
            "top": null,
            "visibility": null,
            "width": null
          }
        },
        "196afb92be5147229659ceaf1ec5c6af": {
          "model_module": "@jupyter-widgets/controls",
          "model_name": "DescriptionStyleModel",
          "model_module_version": "1.5.0",
          "state": {
            "_model_module": "@jupyter-widgets/controls",
            "_model_module_version": "1.5.0",
            "_model_name": "DescriptionStyleModel",
            "_view_count": null,
            "_view_module": "@jupyter-widgets/base",
            "_view_module_version": "1.2.0",
            "_view_name": "StyleView",
            "description_width": ""
          }
        },
        "813a4278577442b0a5db642c66480ca4": {
          "model_module": "@jupyter-widgets/controls",
          "model_name": "HBoxModel",
          "model_module_version": "1.5.0",
          "state": {
            "_dom_classes": [],
            "_model_module": "@jupyter-widgets/controls",
            "_model_module_version": "1.5.0",
            "_model_name": "HBoxModel",
            "_view_count": null,
            "_view_module": "@jupyter-widgets/controls",
            "_view_module_version": "1.5.0",
            "_view_name": "HBoxView",
            "box_style": "",
            "children": [
              "IPY_MODEL_b72e76c88c96486ab881f1d295c5a461",
              "IPY_MODEL_f312b5b3ca8041809ac3b123c2dc53c3",
              "IPY_MODEL_c76d577563f54adf9cd5229c975a3437"
            ],
            "layout": "IPY_MODEL_44ea259ee872454f967eadc576d78a05"
          }
        },
        "b72e76c88c96486ab881f1d295c5a461": {
          "model_module": "@jupyter-widgets/controls",
          "model_name": "HTMLModel",
          "model_module_version": "1.5.0",
          "state": {
            "_dom_classes": [],
            "_model_module": "@jupyter-widgets/controls",
            "_model_module_version": "1.5.0",
            "_model_name": "HTMLModel",
            "_view_count": null,
            "_view_module": "@jupyter-widgets/controls",
            "_view_module_version": "1.5.0",
            "_view_name": "HTMLView",
            "description": "",
            "description_tooltip": null,
            "layout": "IPY_MODEL_c7e7ff1512da411098a1747c96d0910b",
            "placeholder": "​",
            "style": "IPY_MODEL_813ff58ead8b40c4a4b56feae0e76516",
            "value": "Downloading: 100%"
          }
        },
        "f312b5b3ca8041809ac3b123c2dc53c3": {
          "model_module": "@jupyter-widgets/controls",
          "model_name": "FloatProgressModel",
          "model_module_version": "1.5.0",
          "state": {
            "_dom_classes": [],
            "_model_module": "@jupyter-widgets/controls",
            "_model_module_version": "1.5.0",
            "_model_name": "FloatProgressModel",
            "_view_count": null,
            "_view_module": "@jupyter-widgets/controls",
            "_view_module_version": "1.5.0",
            "_view_name": "ProgressView",
            "bar_style": "success",
            "description": "",
            "description_tooltip": null,
            "layout": "IPY_MODEL_d50c122cf4a04f8ebcb1a505093878e5",
            "max": 2825034,
            "min": 0,
            "orientation": "horizontal",
            "style": "IPY_MODEL_77916791797f45799f00a7519f343d7d",
            "value": 2825034
          }
        },
        "c76d577563f54adf9cd5229c975a3437": {
          "model_module": "@jupyter-widgets/controls",
          "model_name": "HTMLModel",
          "model_module_version": "1.5.0",
          "state": {
            "_dom_classes": [],
            "_model_module": "@jupyter-widgets/controls",
            "_model_module_version": "1.5.0",
            "_model_name": "HTMLModel",
            "_view_count": null,
            "_view_module": "@jupyter-widgets/controls",
            "_view_module_version": "1.5.0",
            "_view_name": "HTMLView",
            "description": "",
            "description_tooltip": null,
            "layout": "IPY_MODEL_6415ff4db840491a951c1fcd3e89700f",
            "placeholder": "​",
            "style": "IPY_MODEL_ffa2fb52a4e143829242e32419958a8a",
            "value": " 2.83M/2.83M [00:00&lt;00:00, 3.12MB/s]"
          }
        },
        "44ea259ee872454f967eadc576d78a05": {
          "model_module": "@jupyter-widgets/base",
          "model_name": "LayoutModel",
          "model_module_version": "1.2.0",
          "state": {
            "_model_module": "@jupyter-widgets/base",
            "_model_module_version": "1.2.0",
            "_model_name": "LayoutModel",
            "_view_count": null,
            "_view_module": "@jupyter-widgets/base",
            "_view_module_version": "1.2.0",
            "_view_name": "LayoutView",
            "align_content": null,
            "align_items": null,
            "align_self": null,
            "border": null,
            "bottom": null,
            "display": null,
            "flex": null,
            "flex_flow": null,
            "grid_area": null,
            "grid_auto_columns": null,
            "grid_auto_flow": null,
            "grid_auto_rows": null,
            "grid_column": null,
            "grid_gap": null,
            "grid_row": null,
            "grid_template_areas": null,
            "grid_template_columns": null,
            "grid_template_rows": null,
            "height": null,
            "justify_content": null,
            "justify_items": null,
            "left": null,
            "margin": null,
            "max_height": null,
            "max_width": null,
            "min_height": null,
            "min_width": null,
            "object_fit": null,
            "object_position": null,
            "order": null,
            "overflow": null,
            "overflow_x": null,
            "overflow_y": null,
            "padding": null,
            "right": null,
            "top": null,
            "visibility": null,
            "width": null
          }
        },
        "c7e7ff1512da411098a1747c96d0910b": {
          "model_module": "@jupyter-widgets/base",
          "model_name": "LayoutModel",
          "model_module_version": "1.2.0",
          "state": {
            "_model_module": "@jupyter-widgets/base",
            "_model_module_version": "1.2.0",
            "_model_name": "LayoutModel",
            "_view_count": null,
            "_view_module": "@jupyter-widgets/base",
            "_view_module_version": "1.2.0",
            "_view_name": "LayoutView",
            "align_content": null,
            "align_items": null,
            "align_self": null,
            "border": null,
            "bottom": null,
            "display": null,
            "flex": null,
            "flex_flow": null,
            "grid_area": null,
            "grid_auto_columns": null,
            "grid_auto_flow": null,
            "grid_auto_rows": null,
            "grid_column": null,
            "grid_gap": null,
            "grid_row": null,
            "grid_template_areas": null,
            "grid_template_columns": null,
            "grid_template_rows": null,
            "height": null,
            "justify_content": null,
            "justify_items": null,
            "left": null,
            "margin": null,
            "max_height": null,
            "max_width": null,
            "min_height": null,
            "min_width": null,
            "object_fit": null,
            "object_position": null,
            "order": null,
            "overflow": null,
            "overflow_x": null,
            "overflow_y": null,
            "padding": null,
            "right": null,
            "top": null,
            "visibility": null,
            "width": null
          }
        },
        "813ff58ead8b40c4a4b56feae0e76516": {
          "model_module": "@jupyter-widgets/controls",
          "model_name": "DescriptionStyleModel",
          "model_module_version": "1.5.0",
          "state": {
            "_model_module": "@jupyter-widgets/controls",
            "_model_module_version": "1.5.0",
            "_model_name": "DescriptionStyleModel",
            "_view_count": null,
            "_view_module": "@jupyter-widgets/base",
            "_view_module_version": "1.2.0",
            "_view_name": "StyleView",
            "description_width": ""
          }
        },
        "d50c122cf4a04f8ebcb1a505093878e5": {
          "model_module": "@jupyter-widgets/base",
          "model_name": "LayoutModel",
          "model_module_version": "1.2.0",
          "state": {
            "_model_module": "@jupyter-widgets/base",
            "_model_module_version": "1.2.0",
            "_model_name": "LayoutModel",
            "_view_count": null,
            "_view_module": "@jupyter-widgets/base",
            "_view_module_version": "1.2.0",
            "_view_name": "LayoutView",
            "align_content": null,
            "align_items": null,
            "align_self": null,
            "border": null,
            "bottom": null,
            "display": null,
            "flex": null,
            "flex_flow": null,
            "grid_area": null,
            "grid_auto_columns": null,
            "grid_auto_flow": null,
            "grid_auto_rows": null,
            "grid_column": null,
            "grid_gap": null,
            "grid_row": null,
            "grid_template_areas": null,
            "grid_template_columns": null,
            "grid_template_rows": null,
            "height": null,
            "justify_content": null,
            "justify_items": null,
            "left": null,
            "margin": null,
            "max_height": null,
            "max_width": null,
            "min_height": null,
            "min_width": null,
            "object_fit": null,
            "object_position": null,
            "order": null,
            "overflow": null,
            "overflow_x": null,
            "overflow_y": null,
            "padding": null,
            "right": null,
            "top": null,
            "visibility": null,
            "width": null
          }
        },
        "77916791797f45799f00a7519f343d7d": {
          "model_module": "@jupyter-widgets/controls",
          "model_name": "ProgressStyleModel",
          "model_module_version": "1.5.0",
          "state": {
            "_model_module": "@jupyter-widgets/controls",
            "_model_module_version": "1.5.0",
            "_model_name": "ProgressStyleModel",
            "_view_count": null,
            "_view_module": "@jupyter-widgets/base",
            "_view_module_version": "1.2.0",
            "_view_name": "StyleView",
            "bar_color": null,
            "description_width": ""
          }
        },
        "6415ff4db840491a951c1fcd3e89700f": {
          "model_module": "@jupyter-widgets/base",
          "model_name": "LayoutModel",
          "model_module_version": "1.2.0",
          "state": {
            "_model_module": "@jupyter-widgets/base",
            "_model_module_version": "1.2.0",
            "_model_name": "LayoutModel",
            "_view_count": null,
            "_view_module": "@jupyter-widgets/base",
            "_view_module_version": "1.2.0",
            "_view_name": "LayoutView",
            "align_content": null,
            "align_items": null,
            "align_self": null,
            "border": null,
            "bottom": null,
            "display": null,
            "flex": null,
            "flex_flow": null,
            "grid_area": null,
            "grid_auto_columns": null,
            "grid_auto_flow": null,
            "grid_auto_rows": null,
            "grid_column": null,
            "grid_gap": null,
            "grid_row": null,
            "grid_template_areas": null,
            "grid_template_columns": null,
            "grid_template_rows": null,
            "height": null,
            "justify_content": null,
            "justify_items": null,
            "left": null,
            "margin": null,
            "max_height": null,
            "max_width": null,
            "min_height": null,
            "min_width": null,
            "object_fit": null,
            "object_position": null,
            "order": null,
            "overflow": null,
            "overflow_x": null,
            "overflow_y": null,
            "padding": null,
            "right": null,
            "top": null,
            "visibility": null,
            "width": null
          }
        },
        "ffa2fb52a4e143829242e32419958a8a": {
          "model_module": "@jupyter-widgets/controls",
          "model_name": "DescriptionStyleModel",
          "model_module_version": "1.5.0",
          "state": {
            "_model_module": "@jupyter-widgets/controls",
            "_model_module_version": "1.5.0",
            "_model_name": "DescriptionStyleModel",
            "_view_count": null,
            "_view_module": "@jupyter-widgets/base",
            "_view_module_version": "1.2.0",
            "_view_name": "StyleView",
            "description_width": ""
          }
        }
      }
    }
  },
  "cells": [
    {
      "cell_type": "code",
      "source": [
        "from google.colab import drive\n",
        "drive.mount('/content/drive')"
      ],
      "metadata": {
        "colab": {
          "base_uri": "https://localhost:8080/"
        },
        "id": "7HLlRFsSvjl0",
        "outputId": "36453dab-3ba7-4bd8-e7ea-0fe20179ab95"
      },
      "execution_count": 1,
      "outputs": [
        {
          "output_type": "stream",
          "name": "stdout",
          "text": [
            "Mounted at /content/drive\n"
          ]
        }
      ]
    },
    {
      "cell_type": "markdown",
      "source": [
        "# 필요 라이브러리 설치"
      ],
      "metadata": {
        "id": "Uvy5CnQNU2nU"
      }
    },
    {
      "cell_type": "code",
      "execution_count": 2,
      "metadata": {
        "colab": {
          "base_uri": "https://localhost:8080/"
        },
        "id": "hTyVsK8iYmXC",
        "outputId": "a4fdd149-b395-4a00-cf4d-358b3a6e0967"
      },
      "outputs": [
        {
          "output_type": "stream",
          "name": "stdout",
          "text": [
            "Looking in indexes: https://pypi.org/simple, https://us-python.pkg.dev/colab-wheels/public/simple/\n",
            "Collecting transformers\n",
            "  Downloading transformers-4.25.1-py3-none-any.whl (5.8 MB)\n",
            "\u001b[K     |████████████████████████████████| 5.8 MB 7.4 MB/s \n",
            "\u001b[?25hRequirement already satisfied: filelock in /usr/local/lib/python3.8/dist-packages (from transformers) (3.8.2)\n",
            "Requirement already satisfied: requests in /usr/local/lib/python3.8/dist-packages (from transformers) (2.23.0)\n",
            "Requirement already satisfied: numpy>=1.17 in /usr/local/lib/python3.8/dist-packages (from transformers) (1.21.6)\n",
            "Requirement already satisfied: pyyaml>=5.1 in /usr/local/lib/python3.8/dist-packages (from transformers) (6.0)\n",
            "Collecting tokenizers!=0.11.3,<0.14,>=0.11.1\n",
            "  Downloading tokenizers-0.13.2-cp38-cp38-manylinux_2_17_x86_64.manylinux2014_x86_64.whl (7.6 MB)\n",
            "\u001b[K     |████████████████████████████████| 7.6 MB 67.3 MB/s \n",
            "\u001b[?25hRequirement already satisfied: regex!=2019.12.17 in /usr/local/lib/python3.8/dist-packages (from transformers) (2022.6.2)\n",
            "Requirement already satisfied: packaging>=20.0 in /usr/local/lib/python3.8/dist-packages (from transformers) (21.3)\n",
            "Collecting huggingface-hub<1.0,>=0.10.0\n",
            "  Downloading huggingface_hub-0.11.1-py3-none-any.whl (182 kB)\n",
            "\u001b[K     |████████████████████████████████| 182 kB 99.8 MB/s \n",
            "\u001b[?25hRequirement already satisfied: tqdm>=4.27 in /usr/local/lib/python3.8/dist-packages (from transformers) (4.64.1)\n",
            "Requirement already satisfied: typing-extensions>=3.7.4.3 in /usr/local/lib/python3.8/dist-packages (from huggingface-hub<1.0,>=0.10.0->transformers) (4.4.0)\n",
            "Requirement already satisfied: pyparsing!=3.0.5,>=2.0.2 in /usr/local/lib/python3.8/dist-packages (from packaging>=20.0->transformers) (3.0.9)\n",
            "Requirement already satisfied: chardet<4,>=3.0.2 in /usr/local/lib/python3.8/dist-packages (from requests->transformers) (3.0.4)\n",
            "Requirement already satisfied: certifi>=2017.4.17 in /usr/local/lib/python3.8/dist-packages (from requests->transformers) (2022.12.7)\n",
            "Requirement already satisfied: idna<3,>=2.5 in /usr/local/lib/python3.8/dist-packages (from requests->transformers) (2.10)\n",
            "Requirement already satisfied: urllib3!=1.25.0,!=1.25.1,<1.26,>=1.21.1 in /usr/local/lib/python3.8/dist-packages (from requests->transformers) (1.24.3)\n",
            "Installing collected packages: tokenizers, huggingface-hub, transformers\n",
            "Successfully installed huggingface-hub-0.11.1 tokenizers-0.13.2 transformers-4.25.1\n"
          ]
        }
      ],
      "source": [
        "!pip install transformers"
      ]
    },
    {
      "cell_type": "markdown",
      "source": [
        "# KoGPT2 model, tokenizer 호출"
      ],
      "metadata": {
        "id": "85lk0J1OU2Mi"
      }
    },
    {
      "cell_type": "code",
      "source": [
        "from transformers import PreTrainedTokenizerFast\n",
        "from transformers import GPT2LMHeadModel\n",
        "import torch\n",
        "\n",
        "\n",
        "model = GPT2LMHeadModel.from_pretrained('skt/kogpt2-base-v2')\n",
        "tokenizer = PreTrainedTokenizerFast.from_pretrained(\"skt/kogpt2-base-v2\",\n",
        "                                                    bos_token='</s>', eos_token='</s>', unk_token='<unk>',\n",
        "                                                    pad_token='<pad>', mask_token='<mask>')"
      ],
      "metadata": {
        "colab": {
          "base_uri": "https://localhost:8080/",
          "height": 167,
          "referenced_widgets": [
            "0b9740c8be5a4890990da4d85e03f153",
            "c6f84374891d46ae925b37cd9d8335d0",
            "93ec5204968e445b975a70ec14366301",
            "41afb9aa0dfd42af93fa43eb6ae741ae",
            "e4cd24aecd5b40d5a96de8760152c0d3",
            "bef9de983059459992ef5bca4c47e149",
            "f1624212c7dc47ca80cf028477978bd0",
            "282ee36a81794e68a5b68567db269e1a",
            "57d4df14ac81467eb9191595ba993d75",
            "4086046a554d4508905ea97551fbd3ce",
            "c6c68f1fb201442cba2a9d3a14a4f789",
            "02b24b6d849a4ca88a4a4445f81bd47f",
            "bc69e8ea2c454e8b971b70b839ae6beb",
            "cd081966318b4047b11aeb26a678b5d7",
            "9ff2f8958a7b4b06b0e3040c14381858",
            "e92e9680f12b4e00ac99d6a58b186898",
            "393b17ca8105498e9dab21edd2293660",
            "62bd33f82e8c41c89812a1fa9dde6cda",
            "0c65bbdb835349a4a5257322d3a24a88",
            "330736093ec2401c900dc15e02ea988e",
            "70397451a0ba47b7bb3bfad525fb4d0d",
            "196afb92be5147229659ceaf1ec5c6af",
            "813a4278577442b0a5db642c66480ca4",
            "b72e76c88c96486ab881f1d295c5a461",
            "f312b5b3ca8041809ac3b123c2dc53c3",
            "c76d577563f54adf9cd5229c975a3437",
            "44ea259ee872454f967eadc576d78a05",
            "c7e7ff1512da411098a1747c96d0910b",
            "813ff58ead8b40c4a4b56feae0e76516",
            "d50c122cf4a04f8ebcb1a505093878e5",
            "77916791797f45799f00a7519f343d7d",
            "6415ff4db840491a951c1fcd3e89700f",
            "ffa2fb52a4e143829242e32419958a8a"
          ]
        },
        "id": "_M6dgrMXY12t",
        "outputId": "1fb6bf90-1d34-412b-de15-87ecdcd75ad6"
      },
      "execution_count": 3,
      "outputs": [
        {
          "output_type": "display_data",
          "data": {
            "text/plain": [
              "Downloading:   0%|          | 0.00/1.00k [00:00<?, ?B/s]"
            ],
            "application/vnd.jupyter.widget-view+json": {
              "version_major": 2,
              "version_minor": 0,
              "model_id": "0b9740c8be5a4890990da4d85e03f153"
            }
          },
          "metadata": {}
        },
        {
          "output_type": "display_data",
          "data": {
            "text/plain": [
              "Downloading:   0%|          | 0.00/513M [00:00<?, ?B/s]"
            ],
            "application/vnd.jupyter.widget-view+json": {
              "version_major": 2,
              "version_minor": 0,
              "model_id": "02b24b6d849a4ca88a4a4445f81bd47f"
            }
          },
          "metadata": {}
        },
        {
          "output_type": "display_data",
          "data": {
            "text/plain": [
              "Downloading:   0%|          | 0.00/2.83M [00:00<?, ?B/s]"
            ],
            "application/vnd.jupyter.widget-view+json": {
              "version_major": 2,
              "version_minor": 0,
              "model_id": "813a4278577442b0a5db642c66480ca4"
            }
          },
          "metadata": {}
        },
        {
          "output_type": "stream",
          "name": "stderr",
          "text": [
            "The tokenizer class you load from this checkpoint is not the same type as the class this function is called from. It may result in unexpected tokenization. \n",
            "The tokenizer class you load from this checkpoint is 'GPT2Tokenizer'. \n",
            "The class this function is called from is 'PreTrainedTokenizerFast'.\n"
          ]
        }
      ]
    },
    {
      "cell_type": "code",
      "source": [
        "# GPU 사용 여부\n",
        "if torch.cuda.is_available():\n",
        "    device = torch.device(\"cuda:0\")\n",
        "else:\n",
        "    device = torch.device(\"cpu\")\n",
        "\n",
        "model.to(device)\n",
        "model.eval()\n",
        "print(device)"
      ],
      "metadata": {
        "colab": {
          "base_uri": "https://localhost:8080/"
        },
        "id": "OL1xlCeJaXQD",
        "outputId": "4ec027ff-f6fb-4509-989a-efe7ce972704"
      },
      "execution_count": 4,
      "outputs": [
        {
          "output_type": "stream",
          "name": "stdout",
          "text": [
            "cuda:0\n"
          ]
        }
      ]
    },
    {
      "cell_type": "code",
      "source": [
        "# 토큰과, 예측하고 싶은 문장 개수를 k로 입력\n",
        "# 토큰으로 시작하는 문장 k개 반환\n",
        "def infer_sentence(input_sentence, k, output_token_length):\n",
        "\n",
        "    # 입력 받은 문장 인코딩\n",
        "    input_ids = tokenizer.encode(\n",
        "        input_sentence, \n",
        "        add_special_tokens=False, \n",
        "        return_tensors=\"pt\"\n",
        "        )\n",
        "\n",
        "    # 결과물을 담을 리스트\n",
        "    list_decoded_sequences = []\n",
        "\n",
        "    # 결과물 개수가 k 와 같아질 때까지 반복\n",
        "    while len(list_decoded_sequences) < k:\n",
        "        # 인풋 시퀀스로 generate\n",
        "        output_sequences = model.generate(\n",
        "            input_ids=input_ids.to(device), \n",
        "            do_sample=True, \n",
        "            max_length=output_token_length, \n",
        "            num_return_sequences=k\n",
        "            )\n",
        "\n",
        "        for index, generated_sequence in enumerate(output_sequences):\n",
        "            # 문장(예측 데이터) 생성\n",
        "            generated_sequence = generated_sequence.tolist()\n",
        "\n",
        "            # padding index 앞까지 slicing 함으로써 padding 제거\n",
        "            generated_sequence = generated_sequence[:generated_sequence.index(tokenizer.pad_token_id)]\n",
        "\n",
        "            # 결과물 디코딩\n",
        "            decoded_sequence = tokenizer.decode(generated_sequence, clean_up_tokenization_spaces=True)\n",
        "\n",
        "            # 결과물 리스트에 담기\n",
        "            list_decoded_sequences.append(decoded_sequence)\n",
        "        \n",
        "        # 결과물 중복 제거\n",
        "        list_decoded_sequences = list(set(list_decoded_sequences))\n",
        "    \n",
        "    return list_decoded_sequences\n",
        "\n",
        "input_sentence = \"겨울\"\n",
        "print(f\"Inferred sentences given '{input_sentence}'\")\n",
        "inferred_sentences = infer_sentence(input_sentence, k=5, output_token_length=42)\n",
        "inferred_sentences"
      ],
      "metadata": {
        "colab": {
          "base_uri": "https://localhost:8080/"
        },
        "id": "D2VzRVt6aHDg",
        "outputId": "9da8dbd6-ddea-4fab-9a65-b39f0d9cb4e5"
      },
      "execution_count": null,
      "outputs": [
        {
          "output_type": "stream",
          "name": "stdout",
          "text": [
            "Inferred sentences given '겨울'\n"
          ]
        },
        {
          "output_type": "execute_result",
          "data": {
            "text/plain": [
              "['겨울은 왜 이렇게 따뜻하고 따뜻했는지',\n",
              " '겨울과 같은 시간에',\n",
              " '겨울보다 따뜻한 비가 오길',\n",
              " '겨울엔 니가 보고싶은 밤',\n",
              " '겨울 같지 않은 말']"
            ]
          },
          "metadata": {},
          "execution_count": 36
        }
      ]
    },
    {
      "cell_type": "code",
      "source": [
        "# 삼행시를 만들어주는 함수\n",
        "def make_samhaengshi(input_letter, k, output_token_length):\n",
        "    # 결과물 list\n",
        "    list_samhaengshi = []\n",
        "\n",
        "    for one_letter in input_letter:\n",
        "        # 한 글자씩 k개의 문장 generate\n",
        "        list_decoded_sequences = infer_sentence(one_letter, k=k, output_token_length=output_token_length)\n",
        "        # list에 담긴 k개의 문장을 결과물 list에 extend\n",
        "        list_samhaengshi.extend(list_decoded_sequences)\n",
        "\n",
        "    # 결과물 list 반환\n",
        "    return list_samhaengshi\n",
        "\n",
        "make_samhaengshi(input_letter=\"해파리\", k=1, output_token_length=42)"
      ],
      "metadata": {
        "colab": {
          "base_uri": "https://localhost:8080/"
        },
        "id": "OWjOofmLaG_X",
        "outputId": "17e0be45-9df0-4ace-8136-f7e2a9e1222b"
      },
      "execution_count": null,
      "outputs": [
        {
          "output_type": "execute_result",
          "data": {
            "text/plain": [
              "['해줄걸 그랬어', '파파와 파도의 나비', '리마득 또']"
            ]
          },
          "metadata": {},
          "execution_count": 37
        }
      ]
    },
    {
      "cell_type": "code",
      "source": [
        "def make_samhaengshi(input_letter, k, output_token_length):\n",
        "    list_samhaengshi = []\n",
        "    for one_letter in input_letter:\n",
        "        list_decoded_sequences = infer_sentence(one_letter, k=k, output_token_length=output_token_length)\n",
        "        list_samhaengshi.extend(list_decoded_sequences)\n",
        "    return list_samhaengshi\n",
        "\n",
        "# make_samhaengshi(input_letter=\"해파리\", k=1, output_token_length=10)"
      ],
      "metadata": {
        "id": "OKRwjw1k8P5M"
      },
      "execution_count": null,
      "outputs": []
    },
    {
      "cell_type": "markdown",
      "source": [
        "# 기존 삼행시 함수"
      ],
      "metadata": {
        "id": "vvpISaKQXNfx"
      }
    },
    {
      "cell_type": "code",
      "source": [
        "def make_residual_samhaengshi(input_letter, k, output_token_length):\n",
        "    # 삼행시 리스트\n",
        "    list_samhaengshi = []\n",
        "    \n",
        "    # initializing text and index for iteration purpose\n",
        "    index = 0\n",
        "\n",
        "    # iterating over the input letter string\n",
        "    for index, letter_item in enumerate(input_letter):\n",
        "        # initializing the input_letter\n",
        "        if index == 0:\n",
        "            residual_text = letter_item\n",
        "        else:\n",
        "            pass\n",
        "        \n",
        "        # infer and add to the output\n",
        "        list_sentences = infer_sentence(residual_text, 3, output_token_length)\n",
        "        for sentence in list_sentences:\n",
        "            if len(sentence) == 1:\n",
        "                pass\n",
        "            elif len(sentence) >= 2:\n",
        "                inferred_sentence = sentence # first item of the inferred list\n",
        "        if index != 0:\n",
        "            # remove previous sentence from the output\n",
        "            inferred_sentence = inferred_sentence.replace(list_samhaengshi[index-1], \"\").strip() \n",
        "        else:\n",
        "            pass\n",
        "        list_samhaengshi.append(inferred_sentence)\n",
        "        \n",
        "        # until the end of the input_letter, give the previous residual_text to the next iteration\n",
        "        if index < len(input_letter) - 1: \n",
        "            residual_sentence = list_samhaengshi[index]\n",
        "            next_letter = input_letter[index + 1]\n",
        "            residual_text = f\"{residual_sentence} {next_letter}\" #  previous sentence + next letter\n",
        "            # print(residual_text)\n",
        "\n",
        "        elif index == len(input_letter) - 1: # end of the input_letter\n",
        "            # Concatenate strings in the list without intersection\n",
        "\n",
        "            return list_samhaengshi"
      ],
      "metadata": {
        "id": "5E_eP5JkaG8q"
      },
      "execution_count": null,
      "outputs": []
    },
    {
      "cell_type": "code",
      "source": [
        "sample_item = \"박정우\" \n",
        "inferred_samhaengshi = make_residual_samhaengshi(sample_item, k=1, output_token_length=42)\n",
        "for item in inferred_samhaengshi:\n",
        "    print(item)"
      ],
      "metadata": {
        "colab": {
          "base_uri": "https://localhost:8080/"
        },
        "id": "9FrCk-AFaG5_",
        "outputId": "81e712ec-cc5b-4c05-fa1e-5699a7a45d12"
      },
      "execution_count": null,
      "outputs": [
        {
          "output_type": "stream",
          "name": "stdout",
          "text": [
            "박필란 박근히 조각내\n",
            "정말로 너인 걸 알기에 난 너인 걸\n",
            "우린데\n"
          ]
        }
      ]
    },
    {
      "cell_type": "code",
      "source": [
        "sample_item = \"멋쟁이\" \n",
        "inferred_samhaengshi = make_residual_samhaengshi(sample_item, k=1, output_token_length=42)\n",
        "for item in inferred_samhaengshi:\n",
        "    print(item)"
      ],
      "metadata": {
        "colab": {
          "base_uri": "https://localhost:8080/"
        },
        "id": "hy6N6sP6mCiy",
        "outputId": "b23cb940-528a-4ca0-d03d-7f8ff68a62ed"
      },
      "execution_count": null,
      "outputs": [
        {
          "output_type": "stream",
          "name": "stdout",
          "text": [
            "멋지게 하지마\n",
            "쟁기굽대\n",
            "이 밤들이\n"
          ]
        }
      ]
    },
    {
      "cell_type": "code",
      "source": [
        "sample_item = \"파이널\" \n",
        "inferred_samhaengshi = make_residual_samhaengshi(sample_item, k=1, output_token_length=42)\n",
        "for item in inferred_samhaengshi:\n",
        "    print(item)"
      ],
      "metadata": {
        "colab": {
          "base_uri": "https://localhost:8080/"
        },
        "id": "xNTqcDt2mNDs",
        "outputId": "cf5cb78f-7b99-483f-c159-3e524265faa6"
      },
      "execution_count": null,
      "outputs": [
        {
          "output_type": "stream",
          "name": "stdout",
          "text": [
            "파란한 마음에 취해버리면\n",
            "이 길 끝은 보이지 않으니\n",
            "널\n"
          ]
        }
      ]
    },
    {
      "cell_type": "code",
      "source": [
        "sample_item = \"해파리\" \n",
        "inferred_samhaengshi = make_residual_samhaengshi(sample_item, k=1, output_token_length=42)\n",
        "for item in inferred_samhaengshi:\n",
        "    print(item)"
      ],
      "metadata": {
        "colab": {
          "base_uri": "https://localhost:8080/"
        },
        "id": "ZOJ-WCIknXfE",
        "outputId": "96a87830-eb09-4ee8-d7a9-668cb21ea368"
      },
      "execution_count": null,
      "outputs": [
        {
          "output_type": "stream",
          "name": "stdout",
          "text": [
            "해진 않았다\n",
            "파도의 마왕처럼\n",
            "리오\n"
          ]
        }
      ]
    },
    {
      "cell_type": "markdown",
      "source": [
        "# 파인 튜닝 데이터"
      ],
      "metadata": {
        "id": "_lnhmqn-gJ6i"
      }
    },
    {
      "cell_type": "code",
      "source": [
        "import pandas as pd\n",
        "import numpy as np"
      ],
      "metadata": {
        "id": "_mGDLrqEZBpL"
      },
      "execution_count": 5,
      "outputs": []
    },
    {
      "cell_type": "code",
      "source": [
        "f = open(\"/content/drive/MyDrive/Colab Notebooks/data/ballad_all.txt\", 'r')\n",
        "lines = f.readlines()\n",
        "f.close()"
      ],
      "metadata": {
        "id": "RIGjAI94ZKYy"
      },
      "execution_count": 6,
      "outputs": []
    },
    {
      "cell_type": "code",
      "source": [
        "# 문장 개수, 전체 발라드 약 56,000곡\n",
        "len(lines)"
      ],
      "metadata": {
        "colab": {
          "base_uri": "https://localhost:8080/"
        },
        "id": "zLossn0NhX5Z",
        "outputId": "01398db5-ea2a-4425-c29f-2499729f8288"
      },
      "execution_count": 7,
      "outputs": [
        {
          "output_type": "execute_result",
          "data": {
            "text/plain": [
              "966651"
            ]
          },
          "metadata": {},
          "execution_count": 7
        }
      ]
    },
    {
      "cell_type": "markdown",
      "source": [
        "# tokenizer"
      ],
      "metadata": {
        "id": "5ZBXRuQfZFIp"
      }
    },
    {
      "cell_type": "code",
      "source": [
        "# 문장 50,000개만 샘플링해서 일단 돌려보자\n",
        "man_lines = list(np.random.choice(lines, 50000))\n",
        "removed_lines = [line.replace('\\n', '') for line in man_lines]\n",
        "list(np.random.choice(removed_lines, 10))"
      ],
      "metadata": {
        "colab": {
          "base_uri": "https://localhost:8080/"
        },
        "id": "OfKHKgF_hfSf",
        "outputId": "652f9d77-99d8-465b-a59f-73216c4ca787"
      },
      "execution_count": 27,
      "outputs": [
        {
          "output_type": "execute_result",
          "data": {
            "text/plain": [
              "['그녀는 신경 쓰지 마 나만 몰랐었어 믿고 싶지 않아',\n",
              " '사랑합니다 날 불러준 그대',\n",
              " '오늘도 난 너만 바라보는데',\n",
              " '꿈보다 더 꿈같은',\n",
              " '그대를 기억하고',\n",
              " '아무도 모르는 눈물 초라한 날보며 웃어도',\n",
              " '그 사랑을 담아',\n",
              " '오늘도 난 바래',\n",
              " '보이지 않나요 나',\n",
              " '그대 옆의 그녀를 바라보아요']"
            ]
          },
          "metadata": {},
          "execution_count": 27
        }
      ]
    },
    {
      "cell_type": "code",
      "source": [
        "# removed_lines = [line.replace('\\n', '') for line in lines]\n",
        "# list(np.random.choice(removed_lines, 10))"
      ],
      "metadata": {
        "colab": {
          "base_uri": "https://localhost:8080/"
        },
        "id": "XG2P-TMiZRtf",
        "outputId": "46a38874-42af-41de-d53b-57f81d457eb2"
      },
      "execution_count": 9,
      "outputs": [
        {
          "output_type": "execute_result",
          "data": {
            "text/plain": [
              "['잘해주지 못한 기억만 자꾸 떠올라',\n",
              " '이렇게 널 이제 보내줘야 하나',\n",
              " '노을만 붉게 타는데',\n",
              " '꿇겠다고 내 사랑아',\n",
              " '반지 낀 손가락 사이로 눈물이 뚝뚝 떨어지는데 울지 말란 말야 이 바보야 뭐라고 말을 해 말해줘',\n",
              " '너를 대할때마다',\n",
              " '사진속 그대는',\n",
              " '그렇게 그녈 떠나보냈던 건',\n",
              " '눈 앞에 찬비가 넘치듯 쏟아 내려도',\n",
              " '행복했던 그 순간들을']"
            ]
          },
          "metadata": {},
          "execution_count": 9
        }
      ]
    },
    {
      "cell_type": "code",
      "source": [
        "len(removed_lines)"
      ],
      "metadata": {
        "colab": {
          "base_uri": "https://localhost:8080/"
        },
        "id": "Gpym4EeFdbGD",
        "outputId": "f91c7ce7-3f1b-4507-89bc-8192d899ad29"
      },
      "execution_count": 28,
      "outputs": [
        {
          "output_type": "execute_result",
          "data": {
            "text/plain": [
              "50000"
            ]
          },
          "metadata": {},
          "execution_count": 28
        }
      ]
    },
    {
      "cell_type": "code",
      "source": [
        "tokenized_datasets = tokenizer(removed_lines, \n",
        "                               return_tensors=\"pt\", \n",
        "                               padding=\"max_length\", \n",
        "                               max_length=42,\n",
        "                               truncation=True)"
      ],
      "metadata": {
        "id": "YMIgBrMvZRre"
      },
      "execution_count": 29,
      "outputs": []
    },
    {
      "cell_type": "code",
      "source": [
        "tokenized_datasets"
      ],
      "metadata": {
        "colab": {
          "base_uri": "https://localhost:8080/"
        },
        "id": "rUkYNYLKZRpC",
        "outputId": "e1c4586a-4dce-43a7-ee26-41ca8d9f3661"
      },
      "execution_count": 30,
      "outputs": [
        {
          "output_type": "execute_result",
          "data": {
            "text/plain": [
              "{'input_ids': tensor([[ 9669,  7055,  9134,  ...,     3,     3,     3],\n",
              "        [ 9022,  9068,  9022,  ...,     3,     3,     3],\n",
              "        [ 9022, 42076, 17270,  ...,     3,     3,     3],\n",
              "        ...,\n",
              "        [17582,  9019,  8162,  ...,     3,     3,     3],\n",
              "        [ 9114,  9114,     3,  ...,     3,     3,     3],\n",
              "        [11781, 10224, 11318,  ...,     3,     3,     3]]), 'token_type_ids': tensor([[0, 0, 0,  ..., 0, 0, 0],\n",
              "        [0, 0, 0,  ..., 0, 0, 0],\n",
              "        [0, 0, 0,  ..., 0, 0, 0],\n",
              "        ...,\n",
              "        [0, 0, 0,  ..., 0, 0, 0],\n",
              "        [0, 0, 0,  ..., 0, 0, 0],\n",
              "        [0, 0, 0,  ..., 0, 0, 0]]), 'attention_mask': tensor([[1, 1, 1,  ..., 0, 0, 0],\n",
              "        [1, 1, 1,  ..., 0, 0, 0],\n",
              "        [1, 1, 1,  ..., 0, 0, 0],\n",
              "        ...,\n",
              "        [1, 1, 1,  ..., 0, 0, 0],\n",
              "        [1, 1, 0,  ..., 0, 0, 0],\n",
              "        [1, 1, 1,  ..., 0, 0, 0]])}"
            ]
          },
          "metadata": {},
          "execution_count": 30
        }
      ]
    },
    {
      "cell_type": "code",
      "source": [
        "len(tokenized_datasets[\"input_ids\"])"
      ],
      "metadata": {
        "colab": {
          "base_uri": "https://localhost:8080/"
        },
        "id": "h9VZsT8cdqMC",
        "outputId": "2a87f29a-4ecb-47b2-89a8-1aa1f2f8362b"
      },
      "execution_count": 31,
      "outputs": [
        {
          "output_type": "execute_result",
          "data": {
            "text/plain": [
              "50000"
            ]
          },
          "metadata": {},
          "execution_count": 31
        }
      ]
    },
    {
      "cell_type": "code",
      "source": [
        "# https://huggingface.co/transformers/custom_datasets.html\n",
        "from torch.utils.data import Dataset, DataLoader\n",
        "\n",
        "class CustomDataset(Dataset):\n",
        "    \"\"\" CustomDataset class for poetic sentences \"\"\"\n",
        "    def __init__(self, list_dataset, tokenizer):\n",
        "\n",
        "        self.list_dataset = list_dataset\n",
        "        self.tokenizer = tokenizer\n",
        "        self.tokenized_sentences = self.tokenizer(\n",
        "            list_dataset,\n",
        "            return_tensors=\"pt\",\n",
        "            padding=\"max_length\",\n",
        "            truncation=True,\n",
        "            max_length=42,\n",
        "            add_special_tokens=True,\n",
        "            return_token_type_ids=False,\n",
        "            )\n",
        "\n",
        "    def __getitem__(self, idx):\n",
        "        encoded_dict = {key: val[idx] for key, val in self.tokenized_sentences.items()}\n",
        "        encoded_dict[\"labels\"] = encoded_dict[\"input_ids\"].clone() # gpt has same labels as input_ids: https://github.com/huggingface/notebooks/blob/master/examples/language_modeling.ipynb\n",
        "        return encoded_dict\n",
        "\n",
        "    def __len__(self):\n",
        "        return len(self.list_dataset)"
      ],
      "metadata": {
        "id": "JHJe_wItemMb"
      },
      "execution_count": 32,
      "outputs": []
    },
    {
      "cell_type": "code",
      "source": [
        "tokenized_datasets = CustomDataset(removed_lines, tokenizer)\n",
        "# kor_eval_dataset_for_debugging = CustomDataset(removed_lines[:100], tokenizer) # small dataset for debugging purpose\n",
        "print(len(tokenized_datasets))"
      ],
      "metadata": {
        "colab": {
          "base_uri": "https://localhost:8080/"
        },
        "id": "HYDgtbrpepth",
        "outputId": "0a0219b2-5ec6-4403-a631-7e680a42e7e9"
      },
      "execution_count": 33,
      "outputs": [
        {
          "output_type": "stream",
          "name": "stdout",
          "text": [
            "50000\n"
          ]
        }
      ]
    },
    {
      "cell_type": "markdown",
      "source": [
        "# 파인 튜닝"
      ],
      "metadata": {
        "id": "Qt7rO4A9YVy7"
      }
    },
    {
      "cell_type": "code",
      "source": [
        "from transformers import TrainingArguments\n",
        "\n",
        "# Trainer가 학습, 평가에 사용할 모든 하이퍼 파라미터를 포함하는 클래스 정의\n",
        "# 학습된 모델이 저장될 디렉토리만 지정하고 나머지는 기본값 사용\n",
        "training_args = TrainingArguments(\n",
        "    \"/content/drive/MyDrive/Colab Notebooks/ballad_all_model\",      \n",
        "    logging_steps=10000,\n",
        "    warmup_steps=10000,\n",
        "    save_steps=10000,\n",
        "    eval_steps=10000)"
      ],
      "metadata": {
        "id": "pNW34ApQZRXb",
        "colab": {
          "base_uri": "https://localhost:8080/"
        },
        "outputId": "a68e98c8-4d75-4aaf-8e79-95f3301867f0"
      },
      "execution_count": 34,
      "outputs": [
        {
          "output_type": "stream",
          "name": "stderr",
          "text": [
            "PyTorch: setting up devices\n",
            "The default value for the training argument `--report_to` will change in v5 (from all installed integrations to none). In v5, you will need to use `--report_to all` to get the same behavior as now. You should start updating your code and make this info disappear :-).\n"
          ]
        }
      ]
    },
    {
      "cell_type": "code",
      "source": [
        "from transformers import Trainer\n",
        "\n",
        "trainer = Trainer(\n",
        "    model,\n",
        "    training_args,\n",
        "    train_dataset=tokenized_datasets,\n",
        "    eval_dataset=tokenized_datasets,\n",
        "    tokenizer=tokenizer,\n",
        ")"
      ],
      "metadata": {
        "id": "Gc_VQj5NYoL1"
      },
      "execution_count": 35,
      "outputs": []
    },
    {
      "cell_type": "code",
      "source": [
        "trainer.train()"
      ],
      "metadata": {
        "colab": {
          "base_uri": "https://localhost:8080/",
          "height": 464
        },
        "id": "1KvDFS6dZfkm",
        "outputId": "8884534f-5740-49ea-eac2-c5c38d75a707"
      },
      "execution_count": 36,
      "outputs": [
        {
          "output_type": "stream",
          "name": "stderr",
          "text": [
            "***** Running training *****\n",
            "  Num examples = 50000\n",
            "  Num Epochs = 3\n",
            "  Instantaneous batch size per device = 8\n",
            "  Total train batch size (w. parallel, distributed & accumulation) = 8\n",
            "  Gradient Accumulation steps = 1\n",
            "  Total optimization steps = 18750\n",
            "  Number of trainable parameters = 125164032\n"
          ]
        },
        {
          "output_type": "display_data",
          "data": {
            "text/plain": [
              "<IPython.core.display.HTML object>"
            ],
            "text/html": [
              "\n",
              "    <div>\n",
              "      \n",
              "      <progress value='18750' max='18750' style='width:300px; height:20px; vertical-align: middle;'></progress>\n",
              "      [18750/18750 17:51, Epoch 3/3]\n",
              "    </div>\n",
              "    <table border=\"1\" class=\"dataframe\">\n",
              "  <thead>\n",
              " <tr style=\"text-align: left;\">\n",
              "      <th>Step</th>\n",
              "      <th>Training Loss</th>\n",
              "    </tr>\n",
              "  </thead>\n",
              "  <tbody>\n",
              "    <tr>\n",
              "      <td>10000</td>\n",
              "      <td>0.657000</td>\n",
              "    </tr>\n",
              "  </tbody>\n",
              "</table><p>"
            ]
          },
          "metadata": {}
        },
        {
          "output_type": "stream",
          "name": "stderr",
          "text": [
            "Saving model checkpoint to /content/drive/MyDrive/Colab Notebooks/ballad_all_model/checkpoint-10000\n",
            "Configuration saved in /content/drive/MyDrive/Colab Notebooks/ballad_all_model/checkpoint-10000/config.json\n",
            "Model weights saved in /content/drive/MyDrive/Colab Notebooks/ballad_all_model/checkpoint-10000/pytorch_model.bin\n",
            "tokenizer config file saved in /content/drive/MyDrive/Colab Notebooks/ballad_all_model/checkpoint-10000/tokenizer_config.json\n",
            "Special tokens file saved in /content/drive/MyDrive/Colab Notebooks/ballad_all_model/checkpoint-10000/special_tokens_map.json\n",
            "\n",
            "\n",
            "Training completed. Do not forget to share your model on huggingface.co/models =)\n",
            "\n",
            "\n"
          ]
        },
        {
          "output_type": "execute_result",
          "data": {
            "text/plain": [
              "TrainOutput(global_step=18750, training_loss=0.6074532291666667, metrics={'train_runtime': 1071.7283, 'train_samples_per_second': 139.961, 'train_steps_per_second': 17.495, 'total_flos': 3215116800000000.0, 'train_loss': 0.6074532291666667, 'epoch': 3.0})"
            ]
          },
          "metadata": {},
          "execution_count": 36
        }
      ]
    },
    {
      "cell_type": "code",
      "source": [],
      "metadata": {
        "id": "NFRVBZB3bsip"
      },
      "execution_count": null,
      "outputs": []
    },
    {
      "cell_type": "markdown",
      "source": [
        "# 파인 튜닝 후 내 맘대로 삼행시"
      ],
      "metadata": {
        "id": "eEQ87BfCXLBe"
      }
    },
    {
      "cell_type": "code",
      "source": [
        "def mind(input_letter):\n",
        "    # 결과물을 담을 list\n",
        "    res_l = []\n",
        "\n",
        "    # 한 글자씩 인덱스와 함께 가져옴\n",
        "    for idx, val in enumerate(input_letter):\n",
        " \n",
        "        # 만약 idx 가 0 이라면 == 첫 글자\n",
        "        if idx == 0:\n",
        "            # 첫 글자 인코딩\n",
        "            input_ids = tokenizer.encode(\n",
        "            val, add_special_tokens=False, return_tensors=\"pt\")\n",
        "            \n",
        "            # 첫 글자 인코딩 값으로 문장 생성\n",
        "            output_sequence = model.generate(\n",
        "                input_ids=input_ids.to(device), \n",
        "                do_sample=True, max_length=42)\n",
        "        \n",
        "        # 첫 글자가 아니라면\n",
        "        else:\n",
        "            # 좀더 매끄러운 삼행시를 위해 이전 문장이랑 현재 음절 연결\n",
        "            # 이후 generate 된 문장에서 이전 문장에 대한 데이터 제거\n",
        "            link_with_pre_sentence = \" \".join(res_l) + \" \" + val  \n",
        "            # print(link_with_pre_sentence)\n",
        "\n",
        "            # 연결된 문장을 인코딩\n",
        "            input_ids = tokenizer.encode(\n",
        "            link_with_pre_sentence, add_special_tokens=False, return_tensors=\"pt\")\n",
        "\n",
        "            # 인코딩 값으로 문장 생성\n",
        "            output_sequence = model.generate(\n",
        "                input_ids=input_ids.to(device), \n",
        "                do_sample=True, max_length=42)\n",
        "\n",
        "        # 생성된 문장 리스트로 변환 (인코딩 되어있고, 생성된 문장 뒤로 padding 이 있는 상태)\n",
        "        generated_sequence = output_sequence.tolist()[0]\n",
        "\n",
        "        # padding index 앞까지 slicing 함으로써 padding 제거\n",
        "        generated_sequence = generated_sequence[:generated_sequence.index(tokenizer.pad_token_id)]\n",
        "        \n",
        "        # 첫 글자가 아니라면, generate 된 음절만 결과물 list에 들어갈 수 있게 앞 문장에 대한 인코딩 값 제거\n",
        "        # print(generated_sequence)\n",
        "        if idx != 0:\n",
        "            # 이전 문장의 마지막 시퀀스 이후로 슬라이싱해서 앞 문장 제거\n",
        "            generated_sequence = generated_sequence[generated_sequence.index(last_sequence) + 1:]\n",
        "\n",
        "            # 다음 음절을 위해 마지막 시퀀스 갱신\n",
        "            last_sequence = generated_sequence[-1]        \n",
        "        \n",
        "        # 첫 글자라면\n",
        "        else:\n",
        "            # 마지막 시퀀스 저장\n",
        "            last_sequence = generated_sequence[-1]        \n",
        "        \n",
        "        # print(last_sequence)\n",
        "\n",
        "        # 결과물 디코딩\n",
        "        decoded_sequence = tokenizer.decode(generated_sequence, clean_up_tokenization_spaces=True)\n",
        "\n",
        "        # 결과물 리스트에 담기\n",
        "        res_l.append(decoded_sequence)\n",
        "\n",
        "        # print(res_l)\n",
        "\n",
        "    # 결과물 list에서 한 줄씩 출력\n",
        "    for letter, res in zip(input_letter, res_l):\n",
        "        print(f\"{letter} :\", res)"
      ],
      "metadata": {
        "id": "Ya4d5JdrW-0a"
      },
      "execution_count": 37,
      "outputs": []
    },
    {
      "cell_type": "code",
      "source": [
        "mind(\"박정우\")"
      ],
      "metadata": {
        "colab": {
          "base_uri": "https://localhost:8080/"
        },
        "id": "ytHGoZxsjjj8",
        "outputId": "cfdb9fa5-ff10-4b9d-fde1-b1ac604ec7ce"
      },
      "execution_count": 73,
      "outputs": [
        {
          "output_type": "stream",
          "name": "stdout",
          "text": [
            "박 : 박박혀서 손안에 차올라\n",
            "정 : 정말로 아름답기도 했었지\n",
            "우 : 우릴 떠나려는지 아니었는데 시간이 가면 모든 것들을 잊었지 우린 추억이 우릴 물들이고\n"
          ]
        }
      ]
    },
    {
      "cell_type": "code",
      "source": [
        "mind(\"해파리\")"
      ],
      "metadata": {
        "colab": {
          "base_uri": "https://localhost:8080/"
        },
        "id": "MZxit-XfoWMi",
        "outputId": "bcf595a5-cc05-40ed-d7ce-f12649cf5ad9"
      },
      "execution_count": 71,
      "outputs": [
        {
          "output_type": "stream",
          "name": "stdout",
          "text": [
            "해 : 해주고 싶은 게 뭐냐 말야\n",
            "파 : 파랗게 빛나는 별이 예뻐\n",
            "리 : 리본 나의 맘이 너를 만나던 그 날\n"
          ]
        }
      ]
    },
    {
      "cell_type": "code",
      "source": [
        "mind(\"파이널\")"
      ],
      "metadata": {
        "colab": {
          "base_uri": "https://localhost:8080/"
        },
        "id": "ku6btj30oWCM",
        "outputId": "825e0a14-dc38-42e8-8232-50aaf5d0f7b1"
      },
      "execution_count": 46,
      "outputs": [
        {
          "output_type": "stream",
          "name": "stdout",
          "text": [
            "파 : 파랗게 쌓인 날 보네\n",
            "이 : 이젠 모두 끝인 거야\n",
            "널 : 널 위한\n"
          ]
        }
      ]
    },
    {
      "cell_type": "code",
      "source": [
        "mind(\"멋쟁이\")"
      ],
      "metadata": {
        "colab": {
          "base_uri": "https://localhost:8080/"
        },
        "id": "TYyWGHhfoZNa",
        "outputId": "459a9955-8c7f-46b9-b8df-6695a33d4b8a"
      },
      "execution_count": 41,
      "outputs": [
        {
          "output_type": "stream",
          "name": "stdout",
          "text": [
            "멋 : 멋나게 사는 나지만\n",
            "쟁 : 쟁세라서\n",
            "이 : 이 밤이 지나도\n"
          ]
        }
      ]
    }
  ]
}