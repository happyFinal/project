{
 "cells": [
  {
   "cell_type": "markdown",
   "metadata": {
    "id": "rtxtMYU4tDkp"
   },
   "source": [
    "##[장르별 분석] \n",
    "\n",
    "- 발라드 가사를 문장 생성 모델 학습에 선정한 이유\n",
    "\n",
    "\n",
    "\n",
    "\n",
    "\n",
    "\n"
   ]
  },
  {
   "cell_type": "code",
   "execution_count": null,
   "metadata": {
    "colab": {
     "base_uri": "https://localhost:8080/"
    },
    "id": "VtiaInWrWoAx",
    "outputId": "ee6effa0-a1b8-4f19-ae66-73676146f9e8"
   },
   "outputs": [],
   "source": [
    "# 마운트\n",
    "\n",
    "from google.colab import drive\n",
    "drive.mount('/gdrive')\n",
    "%cd /gdrive"
   ]
  },
  {
   "cell_type": "markdown",
   "metadata": {
    "id": "986P67HxulPJ"
   },
   "source": [
    "---"
   ]
  },
  {
   "cell_type": "markdown",
   "metadata": {
    "id": "M2YXgjM0komD"
   },
   "source": [
    "\n",
    "\n",
    "\n",
    "##1. 장르별 특성을 추출하기 위한 단계\n",
    "- 인디, 국악, 힙합, 발라드, 트로트, 록/메탈, 포크/블루스, 댄스, RnB 등의 장르 시각화 분석을 통한 insight 도출 시도\n",
    "\n",
    "- 가사 길이 시각화, 워드 클라우드 활용 등으로 가시성 확보\n",
    "\n",
    "- 통일성을 위해 같은 코드로 시각화\n",
    "\n",
    "- 조원 분들의 eda 참고(지영님, 자현님, 종현님, 의준님, 지혜님) 및 통합\n"
   ]
  },
  {
   "cell_type": "code",
   "execution_count": 6,
   "metadata": {
    "id": "H92TNla7eiWZ"
   },
   "outputs": [],
   "source": [
    "import pandas as pd\n",
    "import numpy as np\n",
    "import matplotlib.pyplot as plt\n",
    "import plotly as pt\n",
    "import seaborn as sns\n",
    "import re\n",
    "# from wordcloud import WordCloud"
   ]
  },
  {
   "cell_type": "code",
   "execution_count": 1,
   "metadata": {
    "colab": {
     "base_uri": "https://localhost:8080/"
    },
    "id": "06TW-xMxsA_y",
    "outputId": "bde68ce6-f7d8-4f1d-85ed-8737f23f875a"
   },
   "outputs": [
    {
     "name": "stdout",
     "output_type": "stream",
     "text": [
      "Requirement already satisfied: koreanize-matplotlib in /Users/sohikwon/opt/anaconda3/lib/python3.9/site-packages (0.0.1)\r\n",
      "Requirement already satisfied: matplotlib in /Users/sohikwon/opt/anaconda3/lib/python3.9/site-packages (from koreanize-matplotlib) (3.5.3)\r\n",
      "Requirement already satisfied: cycler>=0.10 in /Users/sohikwon/opt/anaconda3/lib/python3.9/site-packages (from matplotlib->koreanize-matplotlib) (0.11.0)\r\n",
      "Requirement already satisfied: numpy>=1.17 in /Users/sohikwon/opt/anaconda3/lib/python3.9/site-packages (from matplotlib->koreanize-matplotlib) (1.21.5)\r\n",
      "Requirement already satisfied: pillow>=6.2.0 in /Users/sohikwon/opt/anaconda3/lib/python3.9/site-packages (from matplotlib->koreanize-matplotlib) (9.2.0)\r\n",
      "Requirement already satisfied: fonttools>=4.22.0 in /Users/sohikwon/opt/anaconda3/lib/python3.9/site-packages (from matplotlib->koreanize-matplotlib) (4.25.0)\r\n",
      "Requirement already satisfied: kiwisolver>=1.0.1 in /Users/sohikwon/opt/anaconda3/lib/python3.9/site-packages (from matplotlib->koreanize-matplotlib) (1.4.2)\r\n",
      "Requirement already satisfied: packaging>=20.0 in /Users/sohikwon/opt/anaconda3/lib/python3.9/site-packages (from matplotlib->koreanize-matplotlib) (21.3)\r\n",
      "Requirement already satisfied: pyparsing>=2.2.1 in /Users/sohikwon/opt/anaconda3/lib/python3.9/site-packages (from matplotlib->koreanize-matplotlib) (3.0.9)\r\n",
      "Requirement already satisfied: python-dateutil>=2.7 in /Users/sohikwon/opt/anaconda3/lib/python3.9/site-packages (from matplotlib->koreanize-matplotlib) (2.8.2)\r\n",
      "Requirement already satisfied: six>=1.5 in /Users/sohikwon/opt/anaconda3/lib/python3.9/site-packages (from python-dateutil>=2.7->matplotlib->koreanize-matplotlib) (1.16.0)\r\n"
     ]
    }
   ],
   "source": [
    "!pip install koreanize-matplotlib"
   ]
  },
  {
   "cell_type": "code",
   "execution_count": 2,
   "metadata": {
    "colab": {
     "base_uri": "https://localhost:8080/"
    },
    "id": "t5KRFYQsjee5",
    "outputId": "71c0e7a1-014b-4400-a087-d5a99d2e8207",
    "scrolled": true
   },
   "outputs": [
    {
     "name": "stdout",
     "output_type": "stream",
     "text": [
      "Password:\n",
      "sudo: a password is required\n",
      "Password:\n",
      "sudo: a password is required\n",
      "rm: illegal option -- /\n",
      "usage: rm [-f | -i] [-dIPRrvWx] file ...\n",
      "       unlink [--] file\n"
     ]
    }
   ],
   "source": [
    "# !sudo apt-get install -y fonts-nanum\n",
    "# !sudo fc-cache -fv\n",
    "# !rm -/.cache/matplotlib -rf"
   ]
  },
  {
   "cell_type": "code",
   "execution_count": 3,
   "metadata": {
    "id": "gRM8kVoOj7Eh"
   },
   "outputs": [
    {
     "ename": "NameError",
     "evalue": "name 'plt' is not defined",
     "output_type": "error",
     "traceback": [
      "\u001b[0;31m---------------------------------------------------------------------------\u001b[0m",
      "\u001b[0;31mNameError\u001b[0m                                 Traceback (most recent call last)",
      "\u001b[0;32m/var/folders/h6/qnzb2y5n70l9hfbpvp2pqlvc0000gn/T/ipykernel_33040/3660345218.py\u001b[0m in \u001b[0;36m<module>\u001b[0;34m\u001b[0m\n\u001b[1;32m      6\u001b[0m \u001b[0;31m# font_list\u001b[0m\u001b[0;34m\u001b[0m\u001b[0;34m\u001b[0m\u001b[0m\n\u001b[1;32m      7\u001b[0m \u001b[0;34m\u001b[0m\u001b[0m\n\u001b[0;32m----> 8\u001b[0;31m \u001b[0mplt\u001b[0m\u001b[0;34m.\u001b[0m\u001b[0mrc\u001b[0m\u001b[0;34m(\u001b[0m\u001b[0;34m'font'\u001b[0m\u001b[0;34m,\u001b[0m \u001b[0mfamily\u001b[0m\u001b[0;34m=\u001b[0m\u001b[0;34m'NanumBarunGothic'\u001b[0m\u001b[0;34m)\u001b[0m\u001b[0;34m\u001b[0m\u001b[0;34m\u001b[0m\u001b[0m\n\u001b[0m",
      "\u001b[0;31mNameError\u001b[0m: name 'plt' is not defined"
     ]
    }
   ],
   "source": [
    "# 내장 폰트 확인\n",
    "\n",
    "import matplotlib.font_manager as fm\n",
    "\n",
    "font_list = [font.name for font in fm.fontManager.ttflist]\n",
    "font_list\n",
    "\n",
    "# plt.rc('font', family='NanumBarunGothic')"
   ]
  },
  {
   "cell_type": "code",
   "execution_count": null,
   "metadata": {
    "id": "fV-eRwLTlX7r"
   },
   "outputs": [],
   "source": [
    "from matplotlib import rc\n",
    "\n",
    "rc('font', family='NanumBarunGothic')"
   ]
  },
  {
   "cell_type": "code",
   "execution_count": 5,
   "metadata": {
    "colab": {
     "base_uri": "https://localhost:8080/"
    },
    "id": "M03i3KLCpHjK",
    "outputId": "1e0a1d53-b1f1-418b-8275-abf3afde969d"
   },
   "outputs": [
    {
     "name": "stdout",
     "output_type": "stream",
     "text": [
      "Collecting konlpy\n",
      "  Downloading konlpy-0.6.0-py2.py3-none-any.whl (19.4 MB)\n",
      "\u001b[2K     \u001b[90m━━━━━━━━━━━━━━━━━━━━━━━━━━━━━━━━━━━━━━━━\u001b[0m \u001b[32m19.4/19.4 MB\u001b[0m \u001b[31m5.5 MB/s\u001b[0m eta \u001b[36m0:00:00\u001b[0m00:01\u001b[0m00:01\u001b[0m\n",
      "\u001b[?25hRequirement already satisfied: numpy>=1.6 in /Users/sohikwon/opt/anaconda3/lib/python3.9/site-packages (from konlpy) (1.21.5)\n",
      "Collecting JPype1>=0.7.0\n",
      "  Downloading JPype1-1.4.1-cp39-cp39-macosx_10_9_x86_64.whl (381 kB)\n",
      "\u001b[2K     \u001b[90m━━━━━━━━━━━━━━━━━━━━━━━━━━━━━━━━━━━━━━━\u001b[0m \u001b[32m381.8/381.8 kB\u001b[0m \u001b[31m4.1 MB/s\u001b[0m eta \u001b[36m0:00:00\u001b[0ma \u001b[36m0:00:01\u001b[0m\n",
      "\u001b[?25hRequirement already satisfied: lxml>=4.1.0 in /Users/sohikwon/opt/anaconda3/lib/python3.9/site-packages (from konlpy) (4.9.1)\n",
      "Requirement already satisfied: packaging in /Users/sohikwon/opt/anaconda3/lib/python3.9/site-packages (from JPype1>=0.7.0->konlpy) (21.3)\n",
      "Requirement already satisfied: pyparsing!=3.0.5,>=2.0.2 in /Users/sohikwon/opt/anaconda3/lib/python3.9/site-packages (from packaging->JPype1>=0.7.0->konlpy) (3.0.9)\n",
      "Installing collected packages: JPype1, konlpy\n",
      "Successfully installed JPype1-1.4.1 konlpy-0.6.0\n"
     ]
    }
   ],
   "source": [
    "# konlpy\n",
    "\n",
    "!pip install konlpy --upgrade"
   ]
  },
  {
   "cell_type": "code",
   "execution_count": null,
   "metadata": {
    "id": "3xnT7QHLbVay"
   },
   "outputs": [],
   "source": [
    "# 그래프에 retina display 적용\n",
    "\n",
    "\n",
    "%config InlineBackend.figure_format = 'retina'\n",
    "pd.options.display.max_colwidth = 3000"
   ]
  },
  {
   "cell_type": "code",
   "execution_count": null,
   "metadata": {
    "colab": {
     "base_uri": "https://localhost:8080/",
     "height": 667
    },
    "id": "SsWah6dXj-cH",
    "outputId": "47b28071-2b4c-4ee6-c621-21966f4d5e3a"
   },
   "outputs": [],
   "source": [
    "# 장르 데이터 파일 블러오기\n",
    "\n",
    "# 멜론_가사_인디_인기.csv\n",
    "# 록메탈_data.csv\n",
    "# 국악_data.csv\n",
    "# trot_data.csv\n",
    "# rnb_data.csv\n",
    "# hiphop_data.csv\n",
    "# folkblues_data.csv\n",
    "# dance_data.csv\n",
    "# ballad_data.csv\n",
    "\n",
    "\n",
    "data = pd.read_csv(\"/gdrive/My Drive/파데/ballad_data.csv\")\n",
    "data.head()\n",
    "\n",
    "# , index_col=\"Unnamed: 0\""
   ]
  },
  {
   "cell_type": "code",
   "execution_count": null,
   "metadata": {
    "id": "ZbA2dDlUD0WQ"
   },
   "outputs": [],
   "source": [
    "# 중복 제거\n",
    "\n",
    "data = data.drop_duplicates()"
   ]
  },
  {
   "cell_type": "code",
   "execution_count": null,
   "metadata": {
    "colab": {
     "base_uri": "https://localhost:8080/"
    },
    "id": "qKRpf8cRDAZI",
    "outputId": "da8b8467-9a14-4637-c9e6-d1c9f6b8907d"
   },
   "outputs": [],
   "source": [
    "data.shape"
   ]
  },
  {
   "cell_type": "code",
   "execution_count": null,
   "metadata": {
    "colab": {
     "base_uri": "https://localhost:8080/"
    },
    "id": "QAX2yoFtkEUI",
    "outputId": "a76d20ef-80d9-4813-cd19-33ab4ccc6c2b"
   },
   "outputs": [],
   "source": [
    "data[\"가사\"][:1]"
   ]
  },
  {
   "cell_type": "code",
   "execution_count": null,
   "metadata": {
    "colab": {
     "base_uri": "https://localhost:8080/"
    },
    "id": "IrUcLLY2lm-d",
    "outputId": "2a8c7388-369b-4906-e22a-9b0acf969a01"
   },
   "outputs": [],
   "source": [
    "data.info()"
   ]
  },
  {
   "cell_type": "code",
   "execution_count": null,
   "metadata": {
    "colab": {
     "base_uri": "https://localhost:8080/",
     "height": 667
    },
    "id": "Nkq1RomwCv42",
    "outputId": "b9e92294-14d0-40f5-e349-1280c526fd15"
   },
   "outputs": [],
   "source": [
    "df = data.copy()\n",
    "df.head()"
   ]
  },
  {
   "cell_type": "code",
   "execution_count": null,
   "metadata": {
    "colab": {
     "base_uri": "https://localhost:8080/",
     "height": 667
    },
    "id": "5Dwfc11plsi_",
    "outputId": "13277637-7c51-47f3-d1e6-bfab58761b7a"
   },
   "outputs": [],
   "source": [
    "# /n 제거 및 한글만 남김 => 문장 생성 처음에는 다른 언어가 섞일 시 제대로 된 문장이 생성되지 않을 수 있음\n",
    "# 추후 영어 및 다른 언어 포함가능\n",
    "\n",
    "\n",
    "# for i in range(len(data)):\n",
    "#     df[\"가사\"][i] = re.sub(\"[^ㄱ-ㅎㅏ-ㅣ가-힣 ]\", \" \",df[\"가사\"][i])\n",
    "\n",
    "# # 숫자, 영어, 한글만 남기고 싶을 때: [^A-Za-z0-9가-힣]\n",
    "\n",
    "# df[\"가사\"]\n",
    "\n",
    "\n",
    "import re\n",
    "\n",
    "for i in range(len(df)):\n",
    "    df[\"가사\"][i] = re.sub(\"[^ㄱ-ㅎㅏ-ㅣ가-힣 ]\", \" \", df[\"가사\"].iloc[i])\n",
    "    \n",
    "    \n",
    "df.head()\n"
   ]
  },
  {
   "cell_type": "code",
   "execution_count": null,
   "metadata": {
    "id": "AUjPnDYlny4Z"
   },
   "outputs": [],
   "source": []
  },
  {
   "cell_type": "code",
   "execution_count": null,
   "metadata": {
    "colab": {
     "base_uri": "https://localhost:8080/",
     "height": 378
    },
    "id": "dVqcwYVAlvAR",
    "outputId": "93dd01a9-da42-4713-bf42-89cbcc206cfb"
   },
   "outputs": [],
   "source": [
    "df.sample(3)"
   ]
  },
  {
   "cell_type": "code",
   "execution_count": null,
   "metadata": {
    "colab": {
     "base_uri": "https://localhost:8080/"
    },
    "id": "jUYxOVzmpTYN",
    "outputId": "c3005eae-aad9-4d0d-81ad-5acabac301a1"
   },
   "outputs": [],
   "source": [
    "# 워드 클라우드 용 : lyrics\n",
    "\n",
    "\n",
    "lyrics = df[\"가사\"].values.tolist()\n",
    "lyrics[:100]"
   ]
  },
  {
   "cell_type": "markdown",
   "metadata": {
    "id": "9ghTUoZHlL4G"
   },
   "source": [
    "##2. 가사길이\n",
    "- 짧은 가사길이: 파편화된 구, 서사 파악이 어려울 수 있음\n",
    "- 각 장르별 인기순위에 따른 음악의 가사 길이를 비교해보고 insight를 도출하고자 함\n",
    "- 종현님 아이디어 👍"
   ]
  },
  {
   "cell_type": "code",
   "execution_count": null,
   "metadata": {
    "colab": {
     "base_uri": "https://localhost:8080/",
     "height": 285
    },
    "id": "9c_jq5fwkGx8",
    "outputId": "5db7829b-f066-43f9-ee55-0e719f2a6030"
   },
   "outputs": [],
   "source": [
    "# 가사 길이\n",
    "# 한글로만 파악(문장 생성에 사용가능한 가사 길이 확인)\n",
    "\n",
    "df[\"가사\"].str.len().hist(bins=55, color=\"black\")"
   ]
  },
  {
   "cell_type": "code",
   "execution_count": null,
   "metadata": {
    "id": "8BoW8189-1c6"
   },
   "outputs": [],
   "source": [
    "# 발라드: 공백 포함 약 300~600자 사이에 가장 많이 분포(종현님)\n",
    "# 단, 오차 존재"
   ]
  },
  {
   "cell_type": "code",
   "execution_count": null,
   "metadata": {
    "id": "Ch9weD4ekiyJ"
   },
   "outputs": [],
   "source": []
  },
  {
   "cell_type": "code",
   "execution_count": null,
   "metadata": {
    "id": "BZP-ffcdl45G"
   },
   "outputs": [],
   "source": []
  },
  {
   "cell_type": "code",
   "execution_count": null,
   "metadata": {
    "id": "4GBULxJ-l5Vf"
   },
   "outputs": [],
   "source": []
  },
  {
   "cell_type": "markdown",
   "metadata": {
    "id": "vEqu95m9l56M"
   },
   "source": [
    "##3. 워드클라우드\n",
    "- 최빈 단어들을 모아 시각화 (한 자리 단어도 포함: 단, 상위 3개 단어 제외)\n",
    "- 장르적 특성을 파악할 수 있는 주요한 단서가 될 수 있을 거라 생각"
   ]
  },
  {
   "cell_type": "code",
   "execution_count": null,
   "metadata": {
    "colab": {
     "base_uri": "https://localhost:8080/"
    },
    "id": "nLNbuDznkjBg",
    "outputId": "bd4cc5e9-83a5-49c4-8d64-640a400461a6"
   },
   "outputs": [],
   "source": [
    "# 워드클라우드\n",
    "\n",
    "!apt-get update -qq\n",
    "!apt-get install fonts-nanum* -qq  #코랩에서 한글 표기"
   ]
  },
  {
   "cell_type": "code",
   "execution_count": null,
   "metadata": {
    "colab": {
     "base_uri": "https://localhost:8080/"
    },
    "id": "_0ki0NpykmLm",
    "outputId": "80850252-f463-4a24-8279-fdbd90553bd8"
   },
   "outputs": [],
   "source": [
    "# konlpy 활용\n",
    "\n",
    "\n",
    "from konlpy.tag import Kkma\n",
    "\n",
    "kkma = Kkma()\n",
    "kkma"
   ]
  },
  {
   "cell_type": "code",
   "execution_count": null,
   "metadata": {
    "id": "kPDuoQzxkm33"
   },
   "outputs": [],
   "source": [
    "# 명사만 남겨서 워드클라우드 돌리기 \n",
    "\n",
    "from konlpy.tag import Okt\n",
    "okt = Okt()"
   ]
  },
  {
   "cell_type": "code",
   "execution_count": null,
   "metadata": {
    "colab": {
     "base_uri": "https://localhost:8080/"
    },
    "id": "WPmiEalumDvG",
    "outputId": "17237aae-211f-4880-ab49-6a9244389ee4"
   },
   "outputs": [],
   "source": [
    "# range 안에 숫자 조정: 빈도를 파악하기 위해 인기순으로 1000곡만 가져와 장르별 분석 진행\n",
    "\n",
    "y = []\n",
    "for i in range(1000):\n",
    "    nouns = okt.nouns(lyrics[i])\n",
    "    y = y + nouns\n",
    "\n",
    "y[:10]"
   ]
  },
  {
   "cell_type": "code",
   "execution_count": null,
   "metadata": {
    "colab": {
     "base_uri": "https://localhost:8080/"
    },
    "id": "QMMVGm49p_5a",
    "outputId": "7a1e6c7d-bc3f-4b2b-912c-45cb7f531817"
   },
   "outputs": [],
   "source": [
    "# lyrics 1000개 중\n",
    "# 워드클라우드로 표현하기 위해 key(단어), value(빈도수)로 변환\n",
    "\n",
    "count={}\n",
    "\n",
    "for i in y:\n",
    "    try: count[i] += 1\n",
    "    except: count[i]=1\n",
    "\n",
    "print(count)"
   ]
  },
  {
   "cell_type": "code",
   "execution_count": null,
   "metadata": {
    "colab": {
     "base_uri": "https://localhost:8080/",
     "height": 424
    },
    "id": "nGGMfcFvqCXO",
    "outputId": "b0fd2a14-7193-4c19-a02e-9ae3403de1f4"
   },
   "outputs": [],
   "source": [
    "#  명사라고 여겨지는 것 추출 및 빈도수 별 시리즈 변환\n",
    " \n",
    "y_freq = pd.Series(count)\n",
    "a = y_freq.sort_values(ascending=False)\n",
    "a\n",
    "\n",
    "\n",
    "b = pd.DataFrame(a[(1600 > a)&(a > 10)], columns=[\"빈도\"]) # => 인디 분석할 때 썼던 코드 상위 3개 단어 잘라내기 위한 것\n",
    "b # ==> 데이터마다 조정해서 사용\n"
   ]
  },
  {
   "cell_type": "code",
   "execution_count": null,
   "metadata": {
    "colab": {
     "base_uri": "https://localhost:8080/",
     "height": 575
    },
    "id": "rIt4RlwjpnGb",
    "outputId": "e1b01f66-3709-4e8a-ac68-cd6241398d66"
   },
   "outputs": [],
   "source": [
    "# 워드클라우드 생성\n",
    "\n",
    "\n",
    "word = pd.DataFrame({\"단어\" : b.index.tolist(),\n",
    "              \"빈도수\": b[\"빈도\"]})\n",
    "\n",
    "wordcloud = WordCloud(\n",
    "            font_path=\"NanumGothic\",\n",
    "            width=800,\n",
    "            height=800\n",
    ")\n",
    "text = \" \".join(word[\"단어\"])\n",
    "keyword = wordcloud.generate(text)\n",
    "\n",
    "array = keyword.to_array()\n",
    "\n",
    "plt.figure(figsize=(10, 10))\n",
    "plt.imshow(\n",
    "    array,\n",
    "    interpolation=\"bilinear\"\n",
    ")\n",
    "plt.axis(\"off\")\n",
    "plt.show()"
   ]
  },
  {
   "cell_type": "code",
   "execution_count": null,
   "metadata": {
    "colab": {
     "base_uri": "https://localhost:8080/",
     "height": 179
    },
    "id": "NndvbiC3rIXM",
    "outputId": "1bcb8483-8c0b-4c6b-e7d4-d4ed60e606d4"
   },
   "outputs": [],
   "source": [
    "# 워드 클라우드 생성에 사용한 text를 확인하여 각 장르별 특성 파악\n",
    "\n",
    "text"
   ]
  },
  {
   "cell_type": "markdown",
   "metadata": {
    "id": "wxsxvn_YmRnY"
   },
   "source": [
    "##4. 기타 시각화\n",
    "- 생각치 못한 인사이트를 발견할 수 있기를 바라며\n",
    "- 정리를 위해 작성 (지영님, 종현님, 자현님 코드 참고 명시, 개별 EDA한 것을 자료로 활용하여 조원들의 노력이 프로젝트에 직접적으로 이어지도록 하기 위함)\n",
    "- 지영님 코드 👍\n"
   ]
  },
  {
   "cell_type": "code",
   "execution_count": null,
   "metadata": {
    "colab": {
     "base_uri": "https://localhost:8080/"
    },
    "id": "_yIbMCSNmQJH",
    "outputId": "563bdbdf-af88-4497-8a10-a0cd122055ea"
   },
   "outputs": [],
   "source": [
    "# 기타 시각화\n",
    "# 지영님 코드 참고 명시\n",
    "\n",
    "L = data[\"가사\"]\n",
    "\n",
    "# 가사 길이 추가\n",
    "# 단어 개수 추가\n",
    "data[\"가사\"] = data[\"가사\"].str.strip()\n",
    "data[\"len\"] = data[\"가사\"].str.len()\n",
    "\n",
    "data[\"word_count\"] = L.map(lambda x : len(x.split()))\n",
    "data[\"word_count\"]"
   ]
  },
  {
   "cell_type": "code",
   "execution_count": null,
   "metadata": {
    "colab": {
     "base_uri": "https://localhost:8080/"
    },
    "id": "fyJaBId0lsDp",
    "outputId": "e7dcf856-a616-450c-f344-b67b02971ce9"
   },
   "outputs": [],
   "source": [
    "data.columns"
   ]
  },
  {
   "cell_type": "code",
   "execution_count": null,
   "metadata": {
    "colab": {
     "base_uri": "https://localhost:8080/",
     "height": 497
    },
    "id": "G5oYxzZfmbWU",
    "outputId": "b6728df4-d2b2-4cc8-fa7f-0a845a415b78"
   },
   "outputs": [],
   "source": [
    "data.hist(bins=55, figsize=(12, 7))"
   ]
  },
  {
   "cell_type": "code",
   "execution_count": null,
   "metadata": {
    "colab": {
     "base_uri": "https://localhost:8080/",
     "height": 843
    },
    "id": "_g-yanu7mb_c",
    "outputId": "dee945ea-aa48-4a11-ccbf-6ed1b3dffa1b"
   },
   "outputs": [],
   "source": [
    "# 영어 비율과 한글 비율 비교하기 위해 한글, 영어, 숫자를 제외한 문자 제거\n",
    "\n",
    "\n",
    "for i in range(len(data)):\n",
    "    data[\"가사\"][i] = re.sub(\"[^A-Za-z0-9가-힣]\", \" \",data[\"가사\"].iloc[i])\n",
    "\n",
    "data.head()"
   ]
  },
  {
   "cell_type": "code",
   "execution_count": null,
   "metadata": {
    "colab": {
     "base_uri": "https://localhost:8080/"
    },
    "id": "eLRjJMeND7Mj",
    "outputId": "f270344c-4f0c-44f5-bdbb-deaf5cd8e0ee"
   },
   "outputs": [],
   "source": [
    "\n",
    "data[\"가사개행제거\"] = data[\"가사\"].map(lambda x: (\" \".join(x.split(\"\\r\\n\")).strip()))\n",
    "data[\"가사개행제거\"].sample(2)\n",
    "\n"
   ]
  },
  {
   "cell_type": "code",
   "execution_count": null,
   "metadata": {
    "id": "-Lw8NRAHFUvQ"
   },
   "outputs": [],
   "source": [
    "# 지영님 코드\n",
    "\n",
    "english = re.compile(r'[a-zA-Z]')\n",
    "korean = re.compile(r'[가-힣]')\n",
    "number = re.compile(r'[0-9]')\n",
    "\n",
    "def check_word_kind(dancd_lyrics):\n",
    "    eng = 0\n",
    "    kor = 0\n",
    "    num = 0\n",
    "    etc = 0\n",
    "    \n",
    "    for word in dancd_lyrics:\n",
    "        if korean.match(word):\n",
    "            kor += 1\n",
    "        elif english.match(word):\n",
    "            eng += 1\n",
    "        elif word.isdigit():\n",
    "            num += 1    \n",
    "        else:\n",
    "            etc += 1\n",
    "\n",
    "    return [kor, eng, num, etc]\n"
   ]
  },
  {
   "cell_type": "code",
   "execution_count": null,
   "metadata": {
    "colab": {
     "base_uri": "https://localhost:8080/"
    },
    "id": "4qtrOZr9FoUN",
    "outputId": "82929d7c-32bf-424d-820c-7468a89893b2"
   },
   "outputs": [],
   "source": [
    "\n",
    "\n",
    "data[\"가사의단어들\"] = data[\"가사개행제거\"].map(lambda x : x.split())\n",
    "data[\"가사의단어들\"].sample(1)\n",
    "\n"
   ]
  },
  {
   "cell_type": "code",
   "execution_count": null,
   "metadata": {
    "colab": {
     "base_uri": "https://localhost:8080/"
    },
    "id": "5JoYF5JcF2lO",
    "outputId": "d3b1d7d0-e989-48c1-f265-f9409581fcfa"
   },
   "outputs": [],
   "source": [
    "\n",
    "\n",
    "temp = data[\"가사의단어들\"].sample(1).tolist()\n",
    "temp = temp[0]\n",
    "temp[:10]\n",
    "\n"
   ]
  },
  {
   "cell_type": "code",
   "execution_count": null,
   "metadata": {
    "colab": {
     "base_uri": "https://localhost:8080/"
    },
    "id": "GKFj5_WOGGJG",
    "outputId": "292a590d-159c-4fa2-9fa0-b3b9e49edbbf"
   },
   "outputs": [],
   "source": [
    "\n",
    "check_word_kind(temp)\n"
   ]
  },
  {
   "cell_type": "code",
   "execution_count": null,
   "metadata": {
    "id": "qaIk3v15GKyP"
   },
   "outputs": [],
   "source": [
    "def word_kind_count(df):\n",
    "    kor_eng_num_etc = pd.DataFrame(df[\"가사의단어들\"].map(check_word_kind))\n",
    "    df[\"kor_num\"] = kor_eng_num_etc[\"가사의단어들\"].str[0]\n",
    "    df[\"eng_num\"] = kor_eng_num_etc[\"가사의단어들\"].str[1]\n",
    "    df[\"num_num\"] = kor_eng_num_etc[\"가사의단어들\"].str[2]\n",
    "    df[\"etc_num\"] = kor_eng_num_etc[\"가사의단어들\"].str[3]"
   ]
  },
  {
   "cell_type": "code",
   "execution_count": null,
   "metadata": {
    "id": "N-sIAlO-GPDK"
   },
   "outputs": [],
   "source": [
    "word_kind_count(data)"
   ]
  },
  {
   "cell_type": "code",
   "execution_count": null,
   "metadata": {
    "colab": {
     "base_uri": "https://localhost:8080/",
     "height": 424
    },
    "id": "WyKcK1GcGXCo",
    "outputId": "0d0fa7c2-3d96-43a4-90e6-037e6e5240f9"
   },
   "outputs": [],
   "source": [
    "kor_eng_etc = pd.DataFrame(data[\"가사의단어들\"].map(check_word_kind))\n",
    "kor_eng_etc"
   ]
  },
  {
   "cell_type": "code",
   "execution_count": null,
   "metadata": {
    "colab": {
     "base_uri": "https://localhost:8080/",
     "height": 840
    },
    "id": "dUdajrheGW7n",
    "outputId": "6609b6fb-b772-4d35-e2ed-509db9b113b4"
   },
   "outputs": [],
   "source": [
    "data[\"kor_num\"] = kor_eng_etc[\"가사의단어들\"].str[0]\n",
    "data[\"eng_num\"] = kor_eng_etc[\"가사의단어들\"].str[1]\n",
    "data[\"num_num\"] = kor_eng_etc[\"가사의단어들\"].str[2]\n",
    "data[\"etc_num\"] = kor_eng_etc[\"가사의단어들\"].str[3]\n",
    "\n",
    "\n",
    "data.hist(figsize=(16,12), bins=55, color='black')"
   ]
  },
  {
   "cell_type": "code",
   "execution_count": null,
   "metadata": {
    "colab": {
     "base_uri": "https://localhost:8080/",
     "height": 351
    },
    "id": "nacxDY5tG88Q",
    "outputId": "b6ac6280-fd19-4208-8371-aa3d2a44ba06"
   },
   "outputs": [],
   "source": [
    "# seaborn이 시각적으로 나음\n",
    "\n",
    "\n",
    "plt.figure(figsize=(5, 5))\n",
    "sns.histplot(data=data, x=\"eng_num\", bins=20) #장르마다 바꿔주기\n"
   ]
  },
  {
   "cell_type": "code",
   "execution_count": null,
   "metadata": {
    "colab": {
     "base_uri": "https://localhost:8080/",
     "height": 351
    },
    "id": "d3tCxXH-okji",
    "outputId": "6edb03de-6b75-4819-d120-4cb75c0d5833"
   },
   "outputs": [],
   "source": [
    "plt.figure(figsize=(5, 5))\n",
    "sns.histplot(data=data, x=\"kor_num\", bins=20)"
   ]
  },
  {
   "cell_type": "code",
   "execution_count": null,
   "metadata": {
    "colab": {
     "base_uri": "https://localhost:8080/",
     "height": 270
    },
    "id": "q0_WxlhGn_gv",
    "outputId": "6c6966e3-0ed8-40a0-bec9-62184b5ce486"
   },
   "outputs": [],
   "source": [
    "sns.boxenplot(data=data, y=\"eng_num\")"
   ]
  },
  {
   "cell_type": "code",
   "execution_count": null,
   "metadata": {
    "colab": {
     "base_uri": "https://localhost:8080/",
     "height": 300
    },
    "id": "b1iOPd0DHXQe",
    "outputId": "0dade91c-c409-4c30-8cfa-e8d3ebf742ef"
   },
   "outputs": [],
   "source": [
    "data[['kor_num', 'eng_num', 'etc_num', 'num_num']].describe()"
   ]
  },
  {
   "cell_type": "code",
   "execution_count": null,
   "metadata": {
    "colab": {
     "base_uri": "https://localhost:8080/"
    },
    "id": "3EbxdsiCHeSt",
    "outputId": "2702efd2-3f85-464a-adb3-284080f55f02"
   },
   "outputs": [],
   "source": [
    "# 한글이 아닌 단어의 비율\n",
    "\n",
    "data[\"not_kor\"] = (data['eng_num'] + data['etc_num'] + data['num_num']) / data[\"word_count\"] * 100\n",
    "data[\"not_kor\"][:10]\n",
    "\n"
   ]
  },
  {
   "cell_type": "code",
   "execution_count": null,
   "metadata": {
    "colab": {
     "base_uri": "https://localhost:8080/",
     "height": 386
    },
    "id": "qWfDQbBDHqgh",
    "outputId": "6f0f7271-2633-49d7-eb53-52cc4b0f8bea"
   },
   "outputs": [],
   "source": [
    "plt.figure(figsize=(5, 18))\n",
    "sns.displot(data=data, x=\"not_kor\", kde=True)\n",
    "plt.show()"
   ]
  },
  {
   "cell_type": "code",
   "execution_count": null,
   "metadata": {
    "colab": {
     "base_uri": "https://localhost:8080/"
    },
    "id": "aYujWStzIEMl",
    "outputId": "bec08011-c591-450d-aef1-13ee18aa779d"
   },
   "outputs": [],
   "source": [
    "# \n",
    "\n",
    "temp_pos = okt.pos(data[\"가사개행제거\"][0])\n",
    "temp_pos[:10]\n",
    "\n"
   ]
  },
  {
   "cell_type": "code",
   "execution_count": null,
   "metadata": {
    "colab": {
     "base_uri": "https://localhost:8080/"
    },
    "id": "eaztkLpkIK3r",
    "outputId": "6b3d11c6-cb8f-48b7-a6ca-99d380a61450"
   },
   "outputs": [],
   "source": [
    "def count_pos(Lyrics):\n",
    "    noun = 0\n",
    "    verb = 0\n",
    "    adjective = 0 #형용사\n",
    "    adverb = 0 #부사\n",
    "    etc = 0\n",
    "\n",
    "    for word in Lyrics:\n",
    "        if word[1] == \"Noun\":\n",
    "            noun += 1\n",
    "        elif word[1] == \"Verb\":\n",
    "            verb += 1\n",
    "        elif word[1] == \"Adjective\":\n",
    "            adjective += 1\n",
    "        elif word[1] == \"Adverb\":\n",
    "            adverb += 1\n",
    "        else:\n",
    "            etc += 1\n",
    "        \n",
    "    return noun, verb, adjective, adverb, etc\n",
    "\n",
    "count_pos(temp_pos)\n",
    "\n"
   ]
  },
  {
   "cell_type": "code",
   "execution_count": null,
   "metadata": {
    "colab": {
     "base_uri": "https://localhost:8080/"
    },
    "id": "SvBu94WiIagx",
    "outputId": "ca56cba7-2e50-4e2d-eba9-c6004caaf4a4"
   },
   "outputs": [],
   "source": [
    "# 상위 100개 노래 가사만 가져와서 분석\n",
    "\n",
    "data_100 = data.head(100)\n",
    "data_100.shape"
   ]
  },
  {
   "cell_type": "code",
   "execution_count": null,
   "metadata": {
    "colab": {
     "base_uri": "https://localhost:8080/"
    },
    "id": "cJFxGXxsIk68",
    "outputId": "e174946b-ff1b-4955-a42a-e4a9c0fa9ca1"
   },
   "outputs": [],
   "source": [
    "data_100[\"형태소\"] = data_100[\"가사개행제거\"].map(okt.pos)\n",
    "data_100[\"형태소\"][:2]"
   ]
  },
  {
   "cell_type": "code",
   "execution_count": null,
   "metadata": {
    "colab": {
     "base_uri": "https://localhost:8080/"
    },
    "id": "WrRcNBSmItvS",
    "outputId": "c41e53a7-6c65-4c62-985c-dc05b3bb7da0"
   },
   "outputs": [],
   "source": [
    "data_pos = data_100[\"형태소\"].map(count_pos)\n",
    "data_pos"
   ]
  },
  {
   "cell_type": "code",
   "execution_count": null,
   "metadata": {
    "colab": {
     "base_uri": "https://localhost:8080/",
     "height": 836
    },
    "id": "B7WOJLz7Ixcy",
    "outputId": "eb43528e-d76e-4efb-85bf-5aa566fac6ca"
   },
   "outputs": [],
   "source": [
    "# noun, verb, adjective, adverb, etc\n",
    "data_100[\"명사\"] = data_pos.str[0]\n",
    "data_100[\"동사\"] = data_pos.str[1]\n",
    "data_100[\"형용사\"] = data_pos.str[2]\n",
    "data_100[\"부사\"] = data_pos.str[3]\n",
    "data_100[\"기타형태소\"] = data_pos.str[4]\n",
    "\n",
    "\n",
    "\n",
    "data_100[['형태소', '명사', '동사', '형용사', '부사']].describe()"
   ]
  },
  {
   "cell_type": "code",
   "execution_count": null,
   "metadata": {
    "colab": {
     "base_uri": "https://localhost:8080/",
     "height": 711
    },
    "id": "biVA2AizJDMP",
    "outputId": "c59a477f-15bb-4f34-ce18-2eefdbe37ff2"
   },
   "outputs": [],
   "source": [
    "# plot\n",
    "\n",
    "data_100[['kor_num', '형태소', '명사', '동사', '형용사', '부사']].plot(kind=\"kde\")"
   ]
  },
  {
   "cell_type": "markdown",
   "metadata": {
    "id": "rdEkEQBWsh_I"
   },
   "source": [
    "##5. 정리\n",
    "1) 종합\n",
    "- 장르 당 영어와 한국어의 비교를 통해 문장 생성 시 맥락을 벗어나지 않을 장르 선택\n",
    "- 국악, 트로트는 장르적 특색이 강해 재미는 있을 수 있으나 문장 생성 시 일관성을 해칠 가능성이 있음\n",
    "- 추임새, 영어 등이 적게 포함된 장르가 적절할 것\n",
    "- 발라드가 적합한 것으로 보임\n",
    "\n",
    "2) 결론\n",
    "- 발라드 가사를 모델 학습 데이터로 선정하는 이유는 \n",
    "\n",
    "    ㄱ. 힙합, RnB와 달리 한국어의 비율이 높아 한국어 외의 단어를 제거했을 떄 맥락에 지장을 주지 않을 것이라 판단\n",
    "\n",
    "    ㄴ. 장르 특성상 서술적이며 주제가 '사랑'으로 대부분 동일하다\n",
    "\n",
    "    ㄷ. 발라드는 대중적인 장르인 만큼 다수에게 친근하게 다가갈 수 있는 언어를 사용하고 있음\n",
    "\n",
    "    ㄹ. 한국에서는 주로 음악보다 가사를 더 중요하게 여기는 경향이 있고 한국인이 가장 좋아하는 음악 장르로서 발라드는 이러한 특징을 더욱 강하게 가지고 있을 것으로 유추\n",
    "\n",
    "    위와 같다.\n",
    "\n"
   ]
  },
  {
   "cell_type": "markdown",
   "metadata": {
    "id": "HDodmo7juCf9"
   },
   "source": [
    "-권소희 작성"
   ]
  }
 ],
 "metadata": {
  "colab": {
   "provenance": []
  },
  "kernelspec": {
   "display_name": "Python 3 (ipykernel)",
   "language": "python",
   "name": "python3"
  },
  "language_info": {
   "codemirror_mode": {
    "name": "ipython",
    "version": 3
   },
   "file_extension": ".py",
   "mimetype": "text/x-python",
   "name": "python",
   "nbconvert_exporter": "python",
   "pygments_lexer": "ipython3",
   "version": "3.9.12"
  }
 },
 "nbformat": 4,
 "nbformat_minor": 1
}
