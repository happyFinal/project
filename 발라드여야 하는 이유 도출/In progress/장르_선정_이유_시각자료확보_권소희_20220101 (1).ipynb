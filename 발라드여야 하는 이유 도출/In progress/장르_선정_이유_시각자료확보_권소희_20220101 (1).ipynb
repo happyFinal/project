{
  "nbformat": 4,
  "nbformat_minor": 0,
  "metadata": {
    "colab": {
      "provenance": []
    },
    "kernelspec": {
      "name": "python3",
      "display_name": "Python 3"
    },
    "language_info": {
      "name": "python"
    }
  },
  "cells": [
    {
      "cell_type": "markdown",
      "source": [
        "##[장르별 분석] \n",
        "\n",
        "- 발라드 가사를 문장 생성 모델 학습에 선정한 이유\n",
        "\n",
        "\n",
        "\n",
        "\n",
        "\n",
        "\n"
      ],
      "metadata": {
        "id": "rtxtMYU4tDkp"
      }
    },
    {
      "cell_type": "markdown",
      "source": [
        "---"
      ],
      "metadata": {
        "id": "986P67HxulPJ"
      }
    },
    {
      "cell_type": "markdown",
      "source": [
        "\n",
        "\n",
        "\n",
        "##1. 장르별 특성을 추출하기 위한 단계\n",
        "- 인디, 국악, 힙합, 발라드, 트로트, 록/메탈, 포크/블루스, 댄스, RnB 등의 장르 시각화 분석을 통한 insight 도출 시도\n",
        "\n",
        "- 가사 길이 시각화, 워드 클라우드 활용 등으로 가시성 확보\n",
        "\n",
        "- 통일성을 위해 같은 코드로 시각화\n",
        "\n",
        "- 조원 분들의 eda 참고(지영님, 자현님, 종현님, 의준님, 지혜님) 및 통합\n"
      ],
      "metadata": {
        "id": "M2YXgjM0komD"
      }
    },
    {
      "cell_type": "code",
      "execution_count": null,
      "metadata": {
        "id": "H92TNla7eiWZ"
      },
      "outputs": [],
      "source": [
        "import pandas as pd\n",
        "import numpy as np\n",
        "import matplotlib.pyplot as plt\n",
        "import plotly as pt\n",
        "import seaborn as sns\n",
        "import re"
      ]
    },
    {
      "cell_type": "code",
      "source": [
        "# konlpy\n",
        "\n",
        "!pip install konlpy --upgrade"
      ],
      "metadata": {
        "id": "M03i3KLCpHjK"
      },
      "execution_count": null,
      "outputs": []
    },
    {
      "cell_type": "code",
      "source": [],
      "metadata": {
        "id": "57JVgyHopKAc"
      },
      "execution_count": null,
      "outputs": []
    },
    {
      "cell_type": "code",
      "source": [
        "# 장르 데이터 파일 블러오기\n",
        "\n",
        "data = pd.read_csv(\"\")\n",
        "data.head()"
      ],
      "metadata": {
        "id": "SsWah6dXj-cH"
      },
      "execution_count": null,
      "outputs": []
    },
    {
      "cell_type": "code",
      "source": [
        "# 중복 제거\n",
        "\n",
        "data = data.drop_duplicates()"
      ],
      "metadata": {
        "id": "ZbA2dDlUD0WQ"
      },
      "execution_count": null,
      "outputs": []
    },
    {
      "cell_type": "code",
      "source": [
        "data.shape"
      ],
      "metadata": {
        "id": "qKRpf8cRDAZI"
      },
      "execution_count": null,
      "outputs": []
    },
    {
      "cell_type": "code",
      "source": [
        "data[\"가사\"]"
      ],
      "metadata": {
        "id": "QAX2yoFtkEUI"
      },
      "execution_count": null,
      "outputs": []
    },
    {
      "cell_type": "code",
      "source": [
        "data.info()"
      ],
      "metadata": {
        "id": "IrUcLLY2lm-d"
      },
      "execution_count": null,
      "outputs": []
    },
    {
      "cell_type": "code",
      "source": [
        "df = data.copy()\n",
        "df.head(1)"
      ],
      "metadata": {
        "id": "Nkq1RomwCv42"
      },
      "execution_count": null,
      "outputs": []
    },
    {
      "cell_type": "code",
      "source": [
        "# /n 제거 및 한글만 남김 => 문장 생성 처음에는 다른 언어가 섞일 시 제대로 된 문장이 생성되지 않을 수 있음\n",
        "# 추후 영어 및 다른 언어 포함가능\n",
        "\n",
        "\n",
        "for i in range(len(data)):\n",
        "    df[\"가사\"][i] = re.sub(\"[^ㄱ-ㅎㅏ-ㅣ가-힣 ]\", \" \",df[\"가사\"][i])\n",
        "    # 숫자, 영어, 한글만 남기고 싶을 때: [^A-Za-z0-9가-힣]\n",
        "\n",
        "df.head(1)\n"
      ],
      "metadata": {
        "id": "5Dwfc11plsi_"
      },
      "execution_count": null,
      "outputs": []
    },
    {
      "cell_type": "code",
      "source": [],
      "metadata": {
        "id": "AUjPnDYlny4Z"
      },
      "execution_count": null,
      "outputs": []
    },
    {
      "cell_type": "code",
      "source": [
        "df.sample(3)"
      ],
      "metadata": {
        "id": "dVqcwYVAlvAR"
      },
      "execution_count": null,
      "outputs": []
    },
    {
      "cell_type": "code",
      "source": [
        "# 워드 클라우드 용 : lyrics\n",
        "\n",
        "\n",
        "lyrics = df[\"가사\"].values.tolist()\n",
        "lyrics[:5]"
      ],
      "metadata": {
        "id": "jUYxOVzmpTYN"
      },
      "execution_count": null,
      "outputs": []
    },
    {
      "cell_type": "markdown",
      "source": [
        "##2. 가사길이\n",
        "- 짧은 가사길이: 파편화된 구, 서사 파악이 어려울 수 있음\n",
        "- 각 장르별 인기순위에 따른 음악의 가사 길이를 비교해보고 insight를 도출하고자 함\n",
        "- 종현님 아이디어 👍"
      ],
      "metadata": {
        "id": "9ghTUoZHlL4G"
      }
    },
    {
      "cell_type": "code",
      "source": [
        "# 가사 길이\n",
        "# 한글로만 파악(문장 생성에 사용가능한 가사 길이 확인)\n",
        "\n",
        "df[\"가사\"].str.len().hist(bins=50).set_title(\"가사 길이\")"
      ],
      "metadata": {
        "id": "9c_jq5fwkGx8"
      },
      "execution_count": null,
      "outputs": []
    },
    {
      "cell_type": "code",
      "source": [
        "# 발라드: 공백 포함 약 300~600자 사이에 가장 많이 분포(종현님)\n",
        "# 단, 오차 존재"
      ],
      "metadata": {
        "id": "8BoW8189-1c6"
      },
      "execution_count": null,
      "outputs": []
    },
    {
      "cell_type": "code",
      "source": [],
      "metadata": {
        "id": "Ch9weD4ekiyJ"
      },
      "execution_count": null,
      "outputs": []
    },
    {
      "cell_type": "code",
      "source": [],
      "metadata": {
        "id": "BZP-ffcdl45G"
      },
      "execution_count": null,
      "outputs": []
    },
    {
      "cell_type": "code",
      "source": [],
      "metadata": {
        "id": "4GBULxJ-l5Vf"
      },
      "execution_count": null,
      "outputs": []
    },
    {
      "cell_type": "markdown",
      "source": [
        "##3. 워드클라우드\n",
        "- 최빈 단어들을 모아 시각화 (한 자리 단어도 포함: 단, 상위 3개 단어 제외)\n",
        "- 장르적 특성을 파악할 수 있는 주요한 단서가 될 수 있을 거라 생각"
      ],
      "metadata": {
        "id": "vEqu95m9l56M"
      }
    },
    {
      "cell_type": "code",
      "source": [
        "# 워드클라우드\n",
        "\n",
        "!apt-get update -qq\n",
        "!apt-get install fonts-nanum* -qq  #코랩에서 한글 표기"
      ],
      "metadata": {
        "id": "nLNbuDznkjBg"
      },
      "execution_count": null,
      "outputs": []
    },
    {
      "cell_type": "code",
      "source": [
        "# konlpy 활용\n",
        "\n",
        "\n",
        "from konlpy.tag import Kkma\n",
        "\n",
        "kkma = Kkma()\n",
        "kkma"
      ],
      "metadata": {
        "id": "_0ki0NpykmLm"
      },
      "execution_count": null,
      "outputs": []
    },
    {
      "cell_type": "code",
      "source": [
        "# 명사만 남겨서 워드클라우드 돌리기 \n",
        "\n",
        "from konlpy.tag import Okt\n",
        "okt = Okt()"
      ],
      "metadata": {
        "id": "kPDuoQzxkm33"
      },
      "execution_count": null,
      "outputs": []
    },
    {
      "cell_type": "code",
      "source": [
        "# range 안에 숫자 조정: 빈도를 파악하기 위해 인기순으로 1000곡만 가져와 장르별 분석 진행\n",
        "\n",
        "y = []\n",
        "for i in range(1000):\n",
        "    nouns = okt.nouns(lyrics[i])\n",
        "    y = y + nouns\n",
        "\n",
        "y[:10]"
      ],
      "metadata": {
        "id": "WPmiEalumDvG"
      },
      "execution_count": null,
      "outputs": []
    },
    {
      "cell_type": "code",
      "source": [
        "# lyrics 1000개 중\n",
        "# 워드클라우드로 표현하기 위해 key(단어), value(빈도수)로 변환\n",
        "\n",
        "count={}\n",
        "\n",
        "for i in y:\n",
        "    try: count[i] += 1\n",
        "    except: count[i]=1\n",
        "\n",
        "print(count)"
      ],
      "metadata": {
        "id": "QMMVGm49p_5a"
      },
      "execution_count": null,
      "outputs": []
    },
    {
      "cell_type": "code",
      "source": [
        "#  명사라고 여겨지는 것 추출 및 빈도수 별 시리즈 변환\n",
        " \n",
        "y_freq = pd.Series(count)\n",
        "a = y_freq.sort_values(ascending=False)\n",
        "a\n",
        "\n",
        "\n",
        "# b = pd.DataFrame(a[(1650 > a)&(a > 10)], columns=[\"빈도\"]) => 인디 분석할 때 썼던 코드 상위 3개 단어 잘라내기 위한 것\n",
        "# b ==> 데이터마다 조정해서 사용\n"
      ],
      "metadata": {
        "id": "nGGMfcFvqCXO"
      },
      "execution_count": null,
      "outputs": []
    },
    {
      "cell_type": "code",
      "source": [
        "# 워드클라우드 생성\n",
        "\n",
        "\n",
        "word = pd.DataFrame({\"단어\" : b.index.tolist(),\n",
        "              \"빈도수\": b[\"빈도\"]})\n",
        "\n",
        "wordcloud = WordCloud(\n",
        "            font_path=\"NanumGothic\",\n",
        "            width=800,\n",
        "            height=800\n",
        ")\n",
        "text = \" \".join(word[\"단어\"])\n",
        "keyword = wordcloud.generate(text)\n",
        "\n",
        "array = keyword.to_array()\n",
        "\n",
        "plt.figure(figsize=(10, 10))\n",
        "plt.imshow(\n",
        "    array,\n",
        "    interpolation=\"bilinear\"\n",
        ")\n",
        "plt.axis(\"off\")\n",
        "plt.show()"
      ],
      "metadata": {
        "id": "rIt4RlwjpnGb"
      },
      "execution_count": null,
      "outputs": []
    },
    {
      "cell_type": "code",
      "source": [
        "# 워드 클라우드 생성에 사용한 text를 확인하여 각 장르별 특성 파악\n",
        "\n",
        "text"
      ],
      "metadata": {
        "id": "NndvbiC3rIXM"
      },
      "execution_count": null,
      "outputs": []
    },
    {
      "cell_type": "markdown",
      "source": [
        "##4. 기타 시각화\n",
        "- 생각치 못한 인사이트를 발견할 수 있기를 바라며\n",
        "- 정리를 위해 작성 (지영님, 종현님, 자현님 코드 참고 명시, 개별 EDA한 것을 자료로 활용하여 조원들의 노력이 프로젝트에 직접적으로 이어지도록 하기 위함)\n",
        "- 지영님 코드 👍\n"
      ],
      "metadata": {
        "id": "wxsxvn_YmRnY"
      }
    },
    {
      "cell_type": "code",
      "source": [
        "# 기타 시각화\n",
        "# 지영님 코드 참고 명시\n",
        "\n",
        "L = data[\"가사\"]\n",
        "\n",
        "# 가사 길이 추가\n",
        "# 단어 개수 추가\n",
        "data[\"가사\"] = data[\"가사\"].str.strip()\n",
        "data[\"len\"] = data[\"가사\"].str.len()\n",
        "\n",
        "data[\"word_count\"] = L.map(lambda x : len(x.split()))\n",
        "data[\"word_count\"]"
      ],
      "metadata": {
        "id": "_yIbMCSNmQJH"
      },
      "execution_count": null,
      "outputs": []
    },
    {
      "cell_type": "code",
      "source": [
        "data.hist(bins=55, figsize=(12, 7))"
      ],
      "metadata": {
        "id": "G5oYxzZfmbWU"
      },
      "execution_count": null,
      "outputs": []
    },
    {
      "cell_type": "code",
      "source": [
        "# 영어 비율과 한글 비율 비교하기 위해 한글, 영어, 숫자를 제외한 문자 제거\n",
        "\n",
        "\n",
        "for i in range(len(data)):\n",
        "    data[\"가사\"][i] = re.sub(\"[^A-Za-z0-9가-힣]\", \" \",data[\"가사\"][i])\n",
        "\n",
        "data.head()"
      ],
      "metadata": {
        "id": "_g-yanu7mb_c"
      },
      "execution_count": null,
      "outputs": []
    },
    {
      "cell_type": "code",
      "source": [
        "\n",
        "data[\"가사개행제거\"] = data[\"가사\"].map(lambda x: (\" \".join(x.split(\"\\r\\n\")).strip()))\n",
        "data[\"가사개행제거\"].sample(2)\n",
        "\n"
      ],
      "metadata": {
        "id": "eLRjJMeND7Mj"
      },
      "execution_count": null,
      "outputs": []
    },
    {
      "cell_type": "code",
      "source": [
        "# 지영님 코드\n",
        "\n",
        "english = re.compile(r'[a-zA-Z]')\n",
        "korean = re.compile(r'[가-힣]')\n",
        "number = re.compile(r'[0-9]')\n",
        "\n",
        "def check_word_kind(dancd_lyrics):\n",
        "    eng = 0\n",
        "    kor = 0\n",
        "    num = 0\n",
        "    etc = 0\n",
        "    \n",
        "    for word in dancd_lyrics:\n",
        "        if korean.match(word):\n",
        "            kor += 1\n",
        "        elif english.match(word):\n",
        "            eng += 1\n",
        "        elif word.isdigit():\n",
        "            num += 1    \n",
        "        else:\n",
        "            etc += 1\n",
        "\n",
        "    return [kor, eng, num, etc]\n"
      ],
      "metadata": {
        "id": "-Lw8NRAHFUvQ"
      },
      "execution_count": null,
      "outputs": []
    },
    {
      "cell_type": "code",
      "source": [
        "\n",
        "\n",
        "data[\"가사의단어들\"] = data[\"가사개행제거\"].map(lambda x : x.split())\n",
        "data[\"가사의단어들\"].sample(1)\n",
        "\n"
      ],
      "metadata": {
        "id": "4qtrOZr9FoUN"
      },
      "execution_count": null,
      "outputs": []
    },
    {
      "cell_type": "code",
      "source": [
        "\n",
        "\n",
        "temp = data[\"가사의단어들\"].sample(1).tolist()\n",
        "temp = temp[0]\n",
        "temp\n",
        "\n"
      ],
      "metadata": {
        "id": "5JoYF5JcF2lO"
      },
      "execution_count": null,
      "outputs": []
    },
    {
      "cell_type": "code",
      "source": [
        "\n",
        "check_word_kind(temp)\n"
      ],
      "metadata": {
        "id": "GKFj5_WOGGJG"
      },
      "execution_count": null,
      "outputs": []
    },
    {
      "cell_type": "code",
      "source": [
        "def word_kind_count(df):\n",
        "    kor_eng_num_etc = pd.DataFrame(df[\"가사의단어들\"].map(check_word_kind))\n",
        "    df[\"한글단어수\"] = kor_eng_num_etc[\"가사의단어들\"].str[0]\n",
        "    df[\"영어단어수\"] = kor_eng_num_etc[\"가사의단어들\"].str[1]\n",
        "    df[\"숫자단어수\"] = kor_eng_num_etc[\"가사의단어들\"].str[2]\n",
        "    df[\"기타단어수\"] = kor_eng_num_etc[\"가사의단어들\"].str[3]"
      ],
      "metadata": {
        "id": "qaIk3v15GKyP"
      },
      "execution_count": null,
      "outputs": []
    },
    {
      "cell_type": "code",
      "source": [
        "word_kind_count(data)"
      ],
      "metadata": {
        "id": "N-sIAlO-GPDK"
      },
      "execution_count": null,
      "outputs": []
    },
    {
      "cell_type": "code",
      "source": [
        "kor_eng_etc = pd.DataFrame(dance[\"가사의단어들\"].map(check_word_kind))\n",
        "kor_eng_etc"
      ],
      "metadata": {
        "id": "WyKcK1GcGXCo"
      },
      "execution_count": null,
      "outputs": []
    },
    {
      "cell_type": "code",
      "source": [
        "# data[\"한글단어수\"] = kor_eng_etc[\"가사의단어들\"].str[0]\n",
        "# data[\"영어단어수\"] = kor_eng_etc[\"가사의단어들\"].str[1]\n",
        "# data[\"숫자단어수\"] = kor_eng_etc[\"가사의단어들\"].str[2]\n",
        "# data[\"기타단어수\"] = kor_eng_etc[\"가사의단어들\"].str[3]\n",
        "\n",
        "\n",
        "# data.hist(figsize=(16,12), bins=55, color='black')"
      ],
      "metadata": {
        "id": "dUdajrheGW7n"
      },
      "execution_count": null,
      "outputs": []
    },
    {
      "cell_type": "code",
      "source": [
        "# seaborn이 시각적으로 나음\n",
        "\n",
        "\n",
        "fig, axes = plt.subplots(1, 2, figsize=(16, 12))\n",
        "sns.histplot(data=data, x=\"영어단어수\", bins=20, ax=axes[0][0]).set_title(\"댄스\"). #장르마다 바꿔주기\n",
        "sns.boxenplot(data=data, y=\"영어단어수\", ax=axes[1][0]).set_title(\"댄스\")\n",
        "\n"
      ],
      "metadata": {
        "id": "nacxDY5tG88Q"
      },
      "execution_count": null,
      "outputs": []
    },
    {
      "cell_type": "code",
      "source": [
        "data[['한글단어수', '영어단어수', '기타단어수', '숫자단어수']].describe()"
      ],
      "metadata": {
        "id": "b1iOPd0DHXQe"
      },
      "execution_count": null,
      "outputs": []
    },
    {
      "cell_type": "code",
      "source": [
        "# 한글이 아닌 단어의 비율\n",
        "\n",
        "data[\"한글아닌단어비율\"] = (data['영어단어수'] + data['기타단어수'] + data['숫자단어수']) / data[\"word_count\"] * 100\n",
        "data[\"한글아닌단어비율\"][:10]\n",
        "\n"
      ],
      "metadata": {
        "id": "3EbxdsiCHeSt"
      },
      "execution_count": null,
      "outputs": []
    },
    {
      "cell_type": "code",
      "source": [
        "sns.displot(data=data, x=\"한글아닌단어비율\", kde=True)"
      ],
      "metadata": {
        "id": "qWfDQbBDHqgh"
      },
      "execution_count": null,
      "outputs": []
    },
    {
      "cell_type": "code",
      "source": [
        "# \n",
        "\n",
        "temp_pos = okt.pos(data[\"가사개행제거\"][0])\n",
        "temp_pos\n",
        "\n"
      ],
      "metadata": {
        "id": "aYujWStzIEMl"
      },
      "execution_count": null,
      "outputs": []
    },
    {
      "cell_type": "code",
      "source": [
        "def count_pos(Lyrics):\n",
        "    noun = 0\n",
        "    verb = 0\n",
        "    adjective = 0 #형용사\n",
        "    adverb = 0 #부사\n",
        "    etc = 0\n",
        "\n",
        "    for word in Lyrics:\n",
        "        if word[1] == \"Noun\":\n",
        "            noun += 1\n",
        "        elif word[1] == \"Verb\":\n",
        "            verb += 1\n",
        "        elif word[1] == \"Adjective\":\n",
        "            adjective += 1\n",
        "        elif word[1] == \"Adverb\":\n",
        "            adverb += 1\n",
        "        else:\n",
        "            etc += 1\n",
        "        \n",
        "    return noun, verb, adjective, adverb, etc\n",
        "\n",
        "count_pos(temp_pos)\n",
        "\n"
      ],
      "metadata": {
        "id": "eaztkLpkIK3r"
      },
      "execution_count": null,
      "outputs": []
    },
    {
      "cell_type": "code",
      "source": [
        "# 상위 100개 노래 가사만 가져와서 분석\n",
        "\n",
        "data_100 = data.head(100)\n",
        "data_100.shape"
      ],
      "metadata": {
        "id": "SvBu94WiIagx"
      },
      "execution_count": null,
      "outputs": []
    },
    {
      "cell_type": "code",
      "source": [
        "data_100[\"형태소\"] = dance_100[\"가사개행제거\"].map(okt.pos)\n",
        "data_100[\"형태소\"][:2]"
      ],
      "metadata": {
        "id": "cJFxGXxsIk68"
      },
      "execution_count": null,
      "outputs": []
    },
    {
      "cell_type": "code",
      "source": [
        "data_pos = data_100[\"형태소\"].map(count_pos)\n",
        "data_pos"
      ],
      "metadata": {
        "id": "WrRcNBSmItvS"
      },
      "execution_count": null,
      "outputs": []
    },
    {
      "cell_type": "code",
      "source": [
        "# noun, verb, adjective, adverb, etc\n",
        "data_100[\"명사\"] = data_pos.str[0]\n",
        "data_100[\"동사\"] = data_pos.str[1]\n",
        "data_100[\"형용사\"] = data_pos.str[2]\n",
        "data_100[\"부사\"] = data_pos.str[3]\n",
        "data_100[\"기타형태소\"] = data_pos.str[4]\n",
        "\n",
        "\n",
        "\n",
        "data_100[['형태소', '명사', '동사', '형용사', '부사']].describe()"
      ],
      "metadata": {
        "id": "B7WOJLz7Ixcy"
      },
      "execution_count": null,
      "outputs": []
    },
    {
      "cell_type": "code",
      "source": [
        "# plot\n",
        "\n",
        "data_100[['한글단어수', '형태소', '명사', '동사', '형용사', '부사']].plot(kind=\"kde\")"
      ],
      "metadata": {
        "id": "biVA2AizJDMP"
      },
      "execution_count": null,
      "outputs": []
    },
    {
      "cell_type": "markdown",
      "source": [
        "##5. 정리\n",
        "1) 종합\n",
        "- \n",
        "- \n",
        "- \n",
        "- \n",
        "\n",
        "2) 결론\n",
        "- 발라드 가사를 모델 학습 데이터로 선정하는 이유는 \n",
        "\n",
        "    ㄱ. 가\n",
        "\n",
        "    ㄴ. 나\n",
        "\n",
        "    ㄷ. 다\n",
        "\n",
        "    ㄹ. 라\n",
        "\n",
        "    위와 같다.\n",
        "\n",
        "-\n",
        "\n",
        "**\n",
        "추후 발라드 데이터를 활용하여 직접적인 "
      ],
      "metadata": {
        "id": "rdEkEQBWsh_I"
      }
    },
    {
      "cell_type": "markdown",
      "source": [
        "-권소희 작성"
      ],
      "metadata": {
        "id": "HDodmo7juCf9"
      }
    }
  ]
}