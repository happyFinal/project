{
 "cells": [
  {
   "cell_type": "code",
   "execution_count": 2,
   "metadata": {},
   "outputs": [],
   "source": [
    "import re\n",
    "import pandas as pd\n",
    "import numpy as np\n",
    "import seaborn as sns\n",
    "import matplotlib.pyplot as plt"
   ]
  },
  {
   "cell_type": "code",
   "execution_count": 5,
   "metadata": {},
   "outputs": [],
   "source": [
    "PATH = \"../data\""
   ]
  },
  {
   "cell_type": "code",
   "execution_count": 6,
   "metadata": {},
   "outputs": [
    {
     "data": {
      "text/html": [
       "<div>\n",
       "<style scoped>\n",
       "    .dataframe tbody tr th:only-of-type {\n",
       "        vertical-align: middle;\n",
       "    }\n",
       "\n",
       "    .dataframe tbody tr th {\n",
       "        vertical-align: top;\n",
       "    }\n",
       "\n",
       "    .dataframe thead th {\n",
       "        text-align: right;\n",
       "    }\n",
       "</style>\n",
       "<table border=\"1\" class=\"dataframe\">\n",
       "  <thead>\n",
       "    <tr style=\"text-align: right;\">\n",
       "      <th></th>\n",
       "      <th>제목</th>\n",
       "      <th>가사</th>\n",
       "      <th>장르</th>\n",
       "    </tr>\n",
       "  </thead>\n",
       "  <tbody>\n",
       "    <tr>\n",
       "      <th>0</th>\n",
       "      <td>초혼</td>\n",
       "      <td>살아서는 갖지 못하는\\n그런 이름 하나 때문에\\n그리운 맘 눈물 속에\\n난 띄워 보...</td>\n",
       "      <td>트로트</td>\n",
       "    </tr>\n",
       "    <tr>\n",
       "      <th>1</th>\n",
       "      <td>사랑아</td>\n",
       "      <td>안돼요 안돼 날 두고 떠나면 안돼\\n그렇게 못해 난 절대 보낼 순 없어\\n갈테면 가...</td>\n",
       "      <td>트로트</td>\n",
       "    </tr>\n",
       "    <tr>\n",
       "      <th>2</th>\n",
       "      <td>안동역에서</td>\n",
       "      <td>1.바람에 날려버린 허무한 맹세였나\\n\\n첫눈이 내리는 날 안동역 앞에서\\n\\n만나...</td>\n",
       "      <td>트로트</td>\n",
       "    </tr>\n",
       "    <tr>\n",
       "      <th>3</th>\n",
       "      <td>보릿고개</td>\n",
       "      <td>아야\\n뛰지마라\\n배 꺼질라\\n가슴시린 보릿고갯길\\n주린 배잡고\\n물 한바가지\\n배...</td>\n",
       "      <td>트로트</td>\n",
       "    </tr>\n",
       "    <tr>\n",
       "      <th>4</th>\n",
       "      <td>꽃</td>\n",
       "      <td>날 찾아 오신 내님 어서 오세요\\n당신을 기다렸어요\\n라이 라이야\\n어서오세요 당신...</td>\n",
       "      <td>트로트</td>\n",
       "    </tr>\n",
       "    <tr>\n",
       "      <th>...</th>\n",
       "      <td>...</td>\n",
       "      <td>...</td>\n",
       "      <td>...</td>\n",
       "    </tr>\n",
       "    <tr>\n",
       "      <th>90309</th>\n",
       "      <td>첫 차</td>\n",
       "      <td>새벽안개 헤치며 달려가는\\n첫차에 몸을 싣고 꿈도 싣고\\n내 마음 모두 싣고 떠나갑...</td>\n",
       "      <td>댄스</td>\n",
       "    </tr>\n",
       "    <tr>\n",
       "      <th>90310</th>\n",
       "      <td>어쩌다 마주친 그대</td>\n",
       "      <td>어쩌다 마주친 그대 모습에\\n내 마음을 빼앗겨 버렸네\\n어쩌다 마주친 그대 두 눈이...</td>\n",
       "      <td>댄스</td>\n",
       "    </tr>\n",
       "    <tr>\n",
       "      <th>90311</th>\n",
       "      <td>그냥 걸었어</td>\n",
       "      <td>처음엔 그냥 걸었어\\n비도 오고 해서\\n오랫만에 빗 속을 걸으니\\n옛 생각도 나네\\...</td>\n",
       "      <td>댄스</td>\n",
       "    </tr>\n",
       "    <tr>\n",
       "      <th>90312</th>\n",
       "      <td>이수</td>\n",
       "      <td>끝내 날 스쳐가나요\\n우리 함께 했던 시간이 잊혀진 건가요\\n멈출순 없나요\\n슬픈 ...</td>\n",
       "      <td>댄스</td>\n",
       "    </tr>\n",
       "    <tr>\n",
       "      <th>90313</th>\n",
       "      <td>천년의 사랑</td>\n",
       "      <td>이대로 널 보낼수는 없다고\\n밤을새워 간절히 기도했지만\\n더이상 널 사랑할 수 없다...</td>\n",
       "      <td>댄스</td>\n",
       "    </tr>\n",
       "  </tbody>\n",
       "</table>\n",
       "<p>90314 rows × 3 columns</p>\n",
       "</div>"
      ],
      "text/plain": [
       "               제목                                                 가사   장르\n",
       "0              초혼  살아서는 갖지 못하는\\n그런 이름 하나 때문에\\n그리운 맘 눈물 속에\\n난 띄워 보...  트로트\n",
       "1             사랑아  안돼요 안돼 날 두고 떠나면 안돼\\n그렇게 못해 난 절대 보낼 순 없어\\n갈테면 가...  트로트\n",
       "2           안동역에서  1.바람에 날려버린 허무한 맹세였나\\n\\n첫눈이 내리는 날 안동역 앞에서\\n\\n만나...  트로트\n",
       "3            보릿고개  아야\\n뛰지마라\\n배 꺼질라\\n가슴시린 보릿고갯길\\n주린 배잡고\\n물 한바가지\\n배...  트로트\n",
       "4               꽃  날 찾아 오신 내님 어서 오세요\\n당신을 기다렸어요\\n라이 라이야\\n어서오세요 당신...  트로트\n",
       "...           ...                                                ...  ...\n",
       "90309         첫 차  새벽안개 헤치며 달려가는\\n첫차에 몸을 싣고 꿈도 싣고\\n내 마음 모두 싣고 떠나갑...   댄스\n",
       "90310  어쩌다 마주친 그대  어쩌다 마주친 그대 모습에\\n내 마음을 빼앗겨 버렸네\\n어쩌다 마주친 그대 두 눈이...   댄스\n",
       "90311      그냥 걸었어  처음엔 그냥 걸었어\\n비도 오고 해서\\n오랫만에 빗 속을 걸으니\\n옛 생각도 나네\\...   댄스\n",
       "90312          이수  끝내 날 스쳐가나요\\n우리 함께 했던 시간이 잊혀진 건가요\\n멈출순 없나요\\n슬픈 ...   댄스\n",
       "90313      천년의 사랑  이대로 널 보낼수는 없다고\\n밤을새워 간절히 기도했지만\\n더이상 널 사랑할 수 없다...   댄스\n",
       "\n",
       "[90314 rows x 3 columns]"
      ]
     },
     "execution_count": 6,
     "metadata": {},
     "output_type": "execute_result"
    }
   ],
   "source": [
    "df = pd.read_parquet(f\"{PATH}/all_song.gzip\")\n",
    "df"
   ]
  },
  {
   "cell_type": "code",
   "execution_count": 7,
   "metadata": {},
   "outputs": [
    {
     "name": "stdout",
     "output_type": "stream",
     "text": [
      "<class 'pandas.core.frame.DataFrame'>\n",
      "RangeIndex: 90314 entries, 0 to 90313\n",
      "Data columns (total 3 columns):\n",
      " #   Column  Non-Null Count  Dtype   \n",
      "---  ------  --------------  -----   \n",
      " 0   제목      90312 non-null  object  \n",
      " 1   가사      90314 non-null  object  \n",
      " 2   장르      90314 non-null  category\n",
      "dtypes: category(1), object(2)\n",
      "memory usage: 1.5+ MB\n"
     ]
    }
   ],
   "source": [
    "df.info()"
   ]
  },
  {
   "cell_type": "code",
   "execution_count": 19,
   "metadata": {},
   "outputs": [
    {
     "data": {
      "text/plain": [
       "0        살아서는 갖지 못하는\\n그런 이름 하나 때문에\\n그리운 맘 눈물 속에\\n난 띄워 보...\n",
       "1        안돼요 안돼 날 두고 떠나면 안돼\\n그렇게 못해 난 절대 보낼 순 없어\\n갈테면 가...\n",
       "2        1.바람에 날려버린 허무한 맹세였나\\n\\n첫눈이 내리는 날 안동역 앞에서\\n\\n만나...\n",
       "3        아야\\n뛰지마라\\n배 꺼질라\\n가슴시린 보릿고갯길\\n주린 배잡고\\n물 한바가지\\n배...\n",
       "4        날 찾아 오신 내님 어서 오세요\\n당신을 기다렸어요\\n라이 라이야\\n어서오세요 당신...\n",
       "                               ...                        \n",
       "90309    새벽안개 헤치며 달려가는\\n첫차에 몸을 싣고 꿈도 싣고\\n내 마음 모두 싣고 떠나갑...\n",
       "90310    어쩌다 마주친 그대 모습에\\n내 마음을 빼앗겨 버렸네\\n어쩌다 마주친 그대 두 눈이...\n",
       "90311    처음엔 그냥 걸었어\\n비도 오고 해서\\n오랫만에 빗 속을 걸으니\\n옛 생각도 나네\\...\n",
       "90312    끝내 날 스쳐가나요\\n우리 함께 했던 시간이 잊혀진 건가요\\n멈출순 없나요\\n슬픈 ...\n",
       "90313    이대로 널 보낼수는 없다고\\n밤을새워 간절히 기도했지만\\n더이상 널 사랑할 수 없다...\n",
       "Name: 가사, Length: 90314, dtype: object"
      ]
     },
     "execution_count": 19,
     "metadata": {},
     "output_type": "execute_result"
    }
   ],
   "source": [
    "temp = df[\"가사\"]\n",
    "temp"
   ]
  },
  {
   "cell_type": "code",
   "execution_count": 20,
   "metadata": {},
   "outputs": [
    {
     "name": "stderr",
     "output_type": "stream",
     "text": [
      "/var/folders/ql/gbsdt1191mbf_hk8mhnwwpd80000gn/T/ipykernel_84015/1617940755.py:1: SettingWithCopyWarning: \n",
      "A value is trying to be set on a copy of a slice from a DataFrame\n",
      "\n",
      "See the caveats in the documentation: https://pandas.pydata.org/pandas-docs/stable/user_guide/indexing.html#returning-a-view-versus-a-copy\n",
      "  temp[\"90314\"] = \"1. 1절 2절.\"\n"
     ]
    }
   ],
   "source": [
    "temp[\"90314\"] = \"1. 1절 2절.\""
   ]
  },
  {
   "cell_type": "code",
   "execution_count": 21,
   "metadata": {},
   "outputs": [
    {
     "data": {
      "text/plain": [
       "0        살아서는 갖지 못하는\\n그런 이름 하나 때문에\\n그리운 맘 눈물 속에\\n난 띄워 보...\n",
       "1        안돼요 안돼 날 두고 떠나면 안돼\\n그렇게 못해 난 절대 보낼 순 없어\\n갈테면 가...\n",
       "2        1.바람에 날려버린 허무한 맹세였나\\n\\n첫눈이 내리는 날 안동역 앞에서\\n\\n만나...\n",
       "3        아야\\n뛰지마라\\n배 꺼질라\\n가슴시린 보릿고갯길\\n주린 배잡고\\n물 한바가지\\n배...\n",
       "4        날 찾아 오신 내님 어서 오세요\\n당신을 기다렸어요\\n라이 라이야\\n어서오세요 당신...\n",
       "                               ...                        \n",
       "90310    어쩌다 마주친 그대 모습에\\n내 마음을 빼앗겨 버렸네\\n어쩌다 마주친 그대 두 눈이...\n",
       "90311    처음엔 그냥 걸었어\\n비도 오고 해서\\n오랫만에 빗 속을 걸으니\\n옛 생각도 나네\\...\n",
       "90312    끝내 날 스쳐가나요\\n우리 함께 했던 시간이 잊혀진 건가요\\n멈출순 없나요\\n슬픈 ...\n",
       "90313    이대로 널 보낼수는 없다고\\n밤을새워 간절히 기도했지만\\n더이상 널 사랑할 수 없다...\n",
       "90314                                            1. 1절 2절.\n",
       "Name: 가사, Length: 90315, dtype: object"
      ]
     },
     "execution_count": 21,
     "metadata": {},
     "output_type": "execute_result"
    }
   ],
   "source": [
    "temp"
   ]
  },
  {
   "cell_type": "code",
   "execution_count": 23,
   "metadata": {},
   "outputs": [
    {
     "data": {
      "text/plain": [
       "0        살아서는 갖지 못하는\\n그런 이름 하나 때문에\\n그리운 맘 눈물 속에\\n난 띄워 보...\n",
       "1        안돼요 안돼 날 두고 떠나면 안돼\\n그렇게 못해 난 절대 보낼 순 없어\\n갈테면 가...\n",
       "2        바람에 날려버린 허무한 맹세였나\\n\\n첫눈이 내리는 날 안동역 앞에서\\n\\n만나자고...\n",
       "3        아야\\n뛰지마라\\n배 꺼질라\\n가슴시린 보릿고갯길\\n주린 배잡고\\n물 한바가지\\n배...\n",
       "4        날 찾아 오신 내님 어서 오세요\\n당신을 기다렸어요\\n라이 라이야\\n어서오세요 당신...\n",
       "                               ...                        \n",
       "90310    어쩌다 마주친 그대 모습에\\n내 마음을 빼앗겨 버렸네\\n어쩌다 마주친 그대 두 눈이...\n",
       "90311    처음엔 그냥 걸었어\\n비도 오고 해서\\n오랫만에 빗 속을 걸으니\\n옛 생각도 나네\\...\n",
       "90312    끝내 날 스쳐가나요\\n우리 함께 했던 시간이 잊혀진 건가요\\n멈출순 없나요\\n슬픈 ...\n",
       "90313    이대로 널 보낼수는 없다고\\n밤을새워 간절히 기도했지만\\n더이상 널 사랑할 수 없다...\n",
       "90314                                               1절 2절.\n",
       "Name: 가사, Length: 90315, dtype: object"
      ]
     },
     "execution_count": 23,
     "metadata": {},
     "output_type": "execute_result"
    }
   ],
   "source": [
    "# \".\"과 붙어있는 숫자만 제외, 다른 숫자는 살림\n",
    "# ex) \"1.\", \"2.\", \"3.\" 같은 가사가 몇절인지 표현하는 숫자 제외\n",
    "temp = temp.map(lambda x: re.sub(\"^[0-9$.]\", \"\", x))\n",
    "temp"
   ]
  },
  {
   "cell_type": "code",
   "execution_count": 24,
   "metadata": {},
   "outputs": [
    {
     "data": {
      "text/plain": [
       "0        살아서는 갖지 못하는\\n그런 이름 하나 때문에\\n그리운 맘 눈물 속에\\n난 띄워 보...\n",
       "1        안돼요 안돼 날 두고 떠나면 안돼\\n그렇게 못해 난 절대 보낼 순 없어\\n갈테면 가...\n",
       "2        바람에 날려버린 허무한 맹세였나\\n\\n첫눈이 내리는 날 안동역 앞에서\\n\\n만나자고...\n",
       "3        아야\\n뛰지마라\\n배 꺼질라\\n가슴시린 보릿고갯길\\n주린 배잡고\\n물 한바가지\\n배...\n",
       "4        날 찾아 오신 내님 어서 오세요\\n당신을 기다렸어요\\n라이 라이야\\n어서오세요 당신...\n",
       "                               ...                        \n",
       "90310    어쩌다 마주친 그대 모습에\\n내 마음을 빼앗겨 버렸네\\n어쩌다 마주친 그대 두 눈이...\n",
       "90311    처음엔 그냥 걸었어\\n비도 오고 해서\\n오랫만에 빗 속을 걸으니\\n옛 생각도 나네\\...\n",
       "90312    끝내 날 스쳐가나요\\n우리 함께 했던 시간이 잊혀진 건가요\\n멈출순 없나요\\n슬픈 ...\n",
       "90313    이대로 널 보낼수는 없다고\\n밤을새워 간절히 기도했지만\\n더이상 널 사랑할 수 없다...\n",
       "90314                                                1절 2절\n",
       "Name: 가사, Length: 90315, dtype: object"
      ]
     },
     "execution_count": 24,
     "metadata": {},
     "output_type": "execute_result"
    }
   ],
   "source": [
    "# 위에서 제거한 숫자랑 붙어있던 \".\" 제거\n",
    "temp = temp.map(lambda x: re.sub(\"[.]\", \"\", x))\n",
    "temp"
   ]
  },
  {
   "cell_type": "code",
   "execution_count": 26,
   "metadata": {},
   "outputs": [
    {
     "data": {
      "text/plain": [
       "0        살아서는 갖지 못하는. 그런 이름 하나 때문에. 그리운 맘 눈물 속에. 난 띄워 보...\n",
       "1        안돼요 안돼 날 두고 떠나면 안돼. 그렇게 못해 난 절대 보낼 순 없어. 갈테면 가...\n",
       "2        바람에 날려버린 허무한 맹세였나. 첫눈이 내리는 날 안동역 앞에서. 만나자고 약속한...\n",
       "3        아야. 뛰지마라. 배 꺼질라. 가슴시린 보릿고갯길. 주린 배잡고. 물 한바가지. 배...\n",
       "4        날 찾아 오신 내님 어서 오세요. 당신을 기다렸어요. 라이 라이야. 어서오세요 당신...\n",
       "                               ...                        \n",
       "90310    어쩌다 마주친 그대 모습에. 내 마음을 빼앗겨 버렸네. 어쩌다 마주친 그대 두 눈이...\n",
       "90311    처음엔 그냥 걸었어. 비도 오고 해서. 오랫만에 빗 속을 걸으니. 옛 생각도 나네....\n",
       "90312    끝내 날 스쳐가나요. 우리 함께 했던 시간이 잊혀진 건가요. 멈출순 없나요. 슬픈 ...\n",
       "90313    이대로 널 보낼수는 없다고. 밤을새워 간절히 기도했지만. 더이상 널 사랑할 수 없다...\n",
       "90314                                                1절 2절\n",
       "Name: 가사, Length: 90315, dtype: object"
      ]
     },
     "execution_count": 26,
     "metadata": {},
     "output_type": "execute_result"
    }
   ],
   "source": [
    "# \\n이 두 번 이상 붙어있는 경우가 있음, 1개 이상 붙어있는 것 전부 \". \" 으로 만들기\n",
    "temp = temp.map(lambda x: re.sub(\"\\n+\", \". \", x))\n",
    "temp"
   ]
  },
  {
   "cell_type": "code",
   "execution_count": 46,
   "metadata": {},
   "outputs": [],
   "source": [
    "# 함수 버전 \n",
    "def preprocessing(data):\n",
    "    # \".\"과 붙어있는 숫자만 제외, 다른 숫자는 살림\n",
    "    # ex) \"1.\", \"2.\", \"3.\" 같이 가사가 몇절인지 표현하는 숫자만 제외\n",
    "    data = re.sub(\"^[0-9$.]\", \"\", data)\n",
    "\n",
    "    # 위에서 제거한 숫자랑 붙어있던 \".\" 제거\n",
    "    data = re.sub(\"[.]\", \"\", data)\n",
    "\n",
    "    # \\n이 두 번 이상 붙어있는 경우가 있음, 1개 이상 붙어있는 것 전부 \". \" 으로 만들기\n",
    "    data = re.sub(\"\\n+\", \"\\n\", data)\n",
    "\n",
    "    # 특수문자 제거\n",
    "    data = re.sub(\"[^0-9a-zA-z가-힣\\n ]\", \"\", data)\n",
    "    \n",
    "    return data"
   ]
  },
  {
   "cell_type": "code",
   "execution_count": 47,
   "metadata": {},
   "outputs": [
    {
     "data": {
      "text/html": [
       "<div>\n",
       "<style scoped>\n",
       "    .dataframe tbody tr th:only-of-type {\n",
       "        vertical-align: middle;\n",
       "    }\n",
       "\n",
       "    .dataframe tbody tr th {\n",
       "        vertical-align: top;\n",
       "    }\n",
       "\n",
       "    .dataframe thead th {\n",
       "        text-align: right;\n",
       "    }\n",
       "</style>\n",
       "<table border=\"1\" class=\"dataframe\">\n",
       "  <thead>\n",
       "    <tr style=\"text-align: right;\">\n",
       "      <th></th>\n",
       "      <th>제목</th>\n",
       "      <th>가사</th>\n",
       "      <th>장르</th>\n",
       "    </tr>\n",
       "  </thead>\n",
       "  <tbody>\n",
       "    <tr>\n",
       "      <th>0</th>\n",
       "      <td>초혼</td>\n",
       "      <td>살아서는 갖지 못하는\\n그런 이름 하나 때문에\\n그리운 맘 눈물 속에\\n난 띄워 보...</td>\n",
       "      <td>트로트</td>\n",
       "    </tr>\n",
       "    <tr>\n",
       "      <th>1</th>\n",
       "      <td>사랑아</td>\n",
       "      <td>안돼요 안돼 날 두고 떠나면 안돼\\n그렇게 못해 난 절대 보낼 순 없어\\n갈테면 가...</td>\n",
       "      <td>트로트</td>\n",
       "    </tr>\n",
       "    <tr>\n",
       "      <th>2</th>\n",
       "      <td>안동역에서</td>\n",
       "      <td>1.바람에 날려버린 허무한 맹세였나\\n\\n첫눈이 내리는 날 안동역 앞에서\\n\\n만나...</td>\n",
       "      <td>트로트</td>\n",
       "    </tr>\n",
       "    <tr>\n",
       "      <th>3</th>\n",
       "      <td>보릿고개</td>\n",
       "      <td>아야\\n뛰지마라\\n배 꺼질라\\n가슴시린 보릿고갯길\\n주린 배잡고\\n물 한바가지\\n배...</td>\n",
       "      <td>트로트</td>\n",
       "    </tr>\n",
       "    <tr>\n",
       "      <th>4</th>\n",
       "      <td>꽃</td>\n",
       "      <td>날 찾아 오신 내님 어서 오세요\\n당신을 기다렸어요\\n라이 라이야\\n어서오세요 당신...</td>\n",
       "      <td>트로트</td>\n",
       "    </tr>\n",
       "    <tr>\n",
       "      <th>...</th>\n",
       "      <td>...</td>\n",
       "      <td>...</td>\n",
       "      <td>...</td>\n",
       "    </tr>\n",
       "    <tr>\n",
       "      <th>90309</th>\n",
       "      <td>첫 차</td>\n",
       "      <td>새벽안개 헤치며 달려가는\\n첫차에 몸을 싣고 꿈도 싣고\\n내 마음 모두 싣고 떠나갑...</td>\n",
       "      <td>댄스</td>\n",
       "    </tr>\n",
       "    <tr>\n",
       "      <th>90310</th>\n",
       "      <td>어쩌다 마주친 그대</td>\n",
       "      <td>어쩌다 마주친 그대 모습에\\n내 마음을 빼앗겨 버렸네\\n어쩌다 마주친 그대 두 눈이...</td>\n",
       "      <td>댄스</td>\n",
       "    </tr>\n",
       "    <tr>\n",
       "      <th>90311</th>\n",
       "      <td>그냥 걸었어</td>\n",
       "      <td>처음엔 그냥 걸었어\\n비도 오고 해서\\n오랫만에 빗 속을 걸으니\\n옛 생각도 나네\\...</td>\n",
       "      <td>댄스</td>\n",
       "    </tr>\n",
       "    <tr>\n",
       "      <th>90312</th>\n",
       "      <td>이수</td>\n",
       "      <td>끝내 날 스쳐가나요\\n우리 함께 했던 시간이 잊혀진 건가요\\n멈출순 없나요\\n슬픈 ...</td>\n",
       "      <td>댄스</td>\n",
       "    </tr>\n",
       "    <tr>\n",
       "      <th>90313</th>\n",
       "      <td>천년의 사랑</td>\n",
       "      <td>이대로 널 보낼수는 없다고\\n밤을새워 간절히 기도했지만\\n더이상 널 사랑할 수 없다...</td>\n",
       "      <td>댄스</td>\n",
       "    </tr>\n",
       "  </tbody>\n",
       "</table>\n",
       "<p>90314 rows × 3 columns</p>\n",
       "</div>"
      ],
      "text/plain": [
       "               제목                                                 가사   장르\n",
       "0              초혼  살아서는 갖지 못하는\\n그런 이름 하나 때문에\\n그리운 맘 눈물 속에\\n난 띄워 보...  트로트\n",
       "1             사랑아  안돼요 안돼 날 두고 떠나면 안돼\\n그렇게 못해 난 절대 보낼 순 없어\\n갈테면 가...  트로트\n",
       "2           안동역에서  1.바람에 날려버린 허무한 맹세였나\\n\\n첫눈이 내리는 날 안동역 앞에서\\n\\n만나...  트로트\n",
       "3            보릿고개  아야\\n뛰지마라\\n배 꺼질라\\n가슴시린 보릿고갯길\\n주린 배잡고\\n물 한바가지\\n배...  트로트\n",
       "4               꽃  날 찾아 오신 내님 어서 오세요\\n당신을 기다렸어요\\n라이 라이야\\n어서오세요 당신...  트로트\n",
       "...           ...                                                ...  ...\n",
       "90309         첫 차  새벽안개 헤치며 달려가는\\n첫차에 몸을 싣고 꿈도 싣고\\n내 마음 모두 싣고 떠나갑...   댄스\n",
       "90310  어쩌다 마주친 그대  어쩌다 마주친 그대 모습에\\n내 마음을 빼앗겨 버렸네\\n어쩌다 마주친 그대 두 눈이...   댄스\n",
       "90311      그냥 걸었어  처음엔 그냥 걸었어\\n비도 오고 해서\\n오랫만에 빗 속을 걸으니\\n옛 생각도 나네\\...   댄스\n",
       "90312          이수  끝내 날 스쳐가나요\\n우리 함께 했던 시간이 잊혀진 건가요\\n멈출순 없나요\\n슬픈 ...   댄스\n",
       "90313      천년의 사랑  이대로 널 보낼수는 없다고\\n밤을새워 간절히 기도했지만\\n더이상 널 사랑할 수 없다...   댄스\n",
       "\n",
       "[90314 rows x 3 columns]"
      ]
     },
     "execution_count": 47,
     "metadata": {},
     "output_type": "execute_result"
    }
   ],
   "source": [
    "df = pd.read_parquet(f\"{PATH}/all_song.gzip\")\n",
    "df"
   ]
  },
  {
   "cell_type": "code",
   "execution_count": 48,
   "metadata": {},
   "outputs": [],
   "source": [
    "# 함수 적용 테스트\n",
    "df[\"가사\"] = df[\"가사\"].map(preprocessing)"
   ]
  },
  {
   "cell_type": "code",
   "execution_count": 49,
   "metadata": {},
   "outputs": [
    {
     "data": {
      "text/html": [
       "<div>\n",
       "<style scoped>\n",
       "    .dataframe tbody tr th:only-of-type {\n",
       "        vertical-align: middle;\n",
       "    }\n",
       "\n",
       "    .dataframe tbody tr th {\n",
       "        vertical-align: top;\n",
       "    }\n",
       "\n",
       "    .dataframe thead th {\n",
       "        text-align: right;\n",
       "    }\n",
       "</style>\n",
       "<table border=\"1\" class=\"dataframe\">\n",
       "  <thead>\n",
       "    <tr style=\"text-align: right;\">\n",
       "      <th></th>\n",
       "      <th>제목</th>\n",
       "      <th>가사</th>\n",
       "      <th>장르</th>\n",
       "    </tr>\n",
       "  </thead>\n",
       "  <tbody>\n",
       "    <tr>\n",
       "      <th>0</th>\n",
       "      <td>초혼</td>\n",
       "      <td>살아서는 갖지 못하는\\n그런 이름 하나 때문에\\n그리운 맘 눈물 속에\\n난 띄워 보...</td>\n",
       "      <td>트로트</td>\n",
       "    </tr>\n",
       "    <tr>\n",
       "      <th>1</th>\n",
       "      <td>사랑아</td>\n",
       "      <td>안돼요 안돼 날 두고 떠나면 안돼\\n그렇게 못해 난 절대 보낼 순 없어\\n갈테면 가...</td>\n",
       "      <td>트로트</td>\n",
       "    </tr>\n",
       "    <tr>\n",
       "      <th>2</th>\n",
       "      <td>안동역에서</td>\n",
       "      <td>바람에 날려버린 허무한 맹세였나\\n첫눈이 내리는 날 안동역 앞에서\\n만나자고 약속한...</td>\n",
       "      <td>트로트</td>\n",
       "    </tr>\n",
       "    <tr>\n",
       "      <th>3</th>\n",
       "      <td>보릿고개</td>\n",
       "      <td>아야\\n뛰지마라\\n배 꺼질라\\n가슴시린 보릿고갯길\\n주린 배잡고\\n물 한바가지\\n배...</td>\n",
       "      <td>트로트</td>\n",
       "    </tr>\n",
       "    <tr>\n",
       "      <th>4</th>\n",
       "      <td>꽃</td>\n",
       "      <td>날 찾아 오신 내님 어서 오세요\\n당신을 기다렸어요\\n라이 라이야\\n어서오세요 당신...</td>\n",
       "      <td>트로트</td>\n",
       "    </tr>\n",
       "    <tr>\n",
       "      <th>...</th>\n",
       "      <td>...</td>\n",
       "      <td>...</td>\n",
       "      <td>...</td>\n",
       "    </tr>\n",
       "    <tr>\n",
       "      <th>90309</th>\n",
       "      <td>첫 차</td>\n",
       "      <td>새벽안개 헤치며 달려가는\\n첫차에 몸을 싣고 꿈도 싣고\\n내 마음 모두 싣고 떠나갑...</td>\n",
       "      <td>댄스</td>\n",
       "    </tr>\n",
       "    <tr>\n",
       "      <th>90310</th>\n",
       "      <td>어쩌다 마주친 그대</td>\n",
       "      <td>어쩌다 마주친 그대 모습에\\n내 마음을 빼앗겨 버렸네\\n어쩌다 마주친 그대 두 눈이...</td>\n",
       "      <td>댄스</td>\n",
       "    </tr>\n",
       "    <tr>\n",
       "      <th>90311</th>\n",
       "      <td>그냥 걸었어</td>\n",
       "      <td>처음엔 그냥 걸었어\\n비도 오고 해서\\n오랫만에 빗 속을 걸으니\\n옛 생각도 나네\\...</td>\n",
       "      <td>댄스</td>\n",
       "    </tr>\n",
       "    <tr>\n",
       "      <th>90312</th>\n",
       "      <td>이수</td>\n",
       "      <td>끝내 날 스쳐가나요\\n우리 함께 했던 시간이 잊혀진 건가요\\n멈출순 없나요\\n슬픈 ...</td>\n",
       "      <td>댄스</td>\n",
       "    </tr>\n",
       "    <tr>\n",
       "      <th>90313</th>\n",
       "      <td>천년의 사랑</td>\n",
       "      <td>이대로 널 보낼수는 없다고\\n밤을새워 간절히 기도했지만\\n더이상 널 사랑할 수 없다...</td>\n",
       "      <td>댄스</td>\n",
       "    </tr>\n",
       "  </tbody>\n",
       "</table>\n",
       "<p>90314 rows × 3 columns</p>\n",
       "</div>"
      ],
      "text/plain": [
       "               제목                                                 가사   장르\n",
       "0              초혼  살아서는 갖지 못하는\\n그런 이름 하나 때문에\\n그리운 맘 눈물 속에\\n난 띄워 보...  트로트\n",
       "1             사랑아  안돼요 안돼 날 두고 떠나면 안돼\\n그렇게 못해 난 절대 보낼 순 없어\\n갈테면 가...  트로트\n",
       "2           안동역에서  바람에 날려버린 허무한 맹세였나\\n첫눈이 내리는 날 안동역 앞에서\\n만나자고 약속한...  트로트\n",
       "3            보릿고개  아야\\n뛰지마라\\n배 꺼질라\\n가슴시린 보릿고갯길\\n주린 배잡고\\n물 한바가지\\n배...  트로트\n",
       "4               꽃  날 찾아 오신 내님 어서 오세요\\n당신을 기다렸어요\\n라이 라이야\\n어서오세요 당신...  트로트\n",
       "...           ...                                                ...  ...\n",
       "90309         첫 차  새벽안개 헤치며 달려가는\\n첫차에 몸을 싣고 꿈도 싣고\\n내 마음 모두 싣고 떠나갑...   댄스\n",
       "90310  어쩌다 마주친 그대  어쩌다 마주친 그대 모습에\\n내 마음을 빼앗겨 버렸네\\n어쩌다 마주친 그대 두 눈이...   댄스\n",
       "90311      그냥 걸었어  처음엔 그냥 걸었어\\n비도 오고 해서\\n오랫만에 빗 속을 걸으니\\n옛 생각도 나네\\...   댄스\n",
       "90312          이수  끝내 날 스쳐가나요\\n우리 함께 했던 시간이 잊혀진 건가요\\n멈출순 없나요\\n슬픈 ...   댄스\n",
       "90313      천년의 사랑  이대로 널 보낼수는 없다고\\n밤을새워 간절히 기도했지만\\n더이상 널 사랑할 수 없다...   댄스\n",
       "\n",
       "[90314 rows x 3 columns]"
      ]
     },
     "execution_count": 49,
     "metadata": {},
     "output_type": "execute_result"
    }
   ],
   "source": [
    "df"
   ]
  },
  {
   "cell_type": "code",
   "execution_count": null,
   "metadata": {},
   "outputs": [],
   "source": []
  }
 ],
 "metadata": {
  "kernelspec": {
   "display_name": "base",
   "language": "python",
   "name": "python3"
  },
  "language_info": {
   "codemirror_mode": {
    "name": "ipython",
    "version": 3
   },
   "file_extension": ".py",
   "mimetype": "text/x-python",
   "name": "python",
   "nbconvert_exporter": "python",
   "pygments_lexer": "ipython3",
   "version": "3.9.12"
  },
  "orig_nbformat": 4,
  "vscode": {
   "interpreter": {
    "hash": "7cec1278fb9c95e11b6a2ecc50fdb40a20b873450e476ec7c438ff57a2cd562a"
   }
  }
 },
 "nbformat": 4,
 "nbformat_minor": 2
}
