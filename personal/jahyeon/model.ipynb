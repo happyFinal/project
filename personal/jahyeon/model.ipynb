{
 "cells": [
  {
   "cell_type": "code",
   "execution_count": 1,
   "id": "296a89c8",
   "metadata": {},
   "outputs": [
    {
     "name": "stdout",
     "output_type": "stream",
     "text": [
      "Defaulting to user installation because normal site-packages is not writeable\n",
      "Looking in indexes: https://pypi.org/simple, https://pypi.ngc.nvidia.com\n",
      "Requirement already satisfied: wandb in /home/work/.local/lib/python3.8/site-packages (0.13.7)\n",
      "Requirement already satisfied: requests<3,>=2.0.0 in /opt/conda/lib/python3.8/site-packages (from wandb) (2.27.1)\n",
      "Requirement already satisfied: protobuf!=4.21.0,<5,>=3.12.0 in /opt/conda/lib/python3.8/site-packages (from wandb) (3.20.0)\n",
      "Requirement already satisfied: pathtools in /home/work/.local/lib/python3.8/site-packages (from wandb) (0.1.2)\n",
      "Requirement already satisfied: PyYAML in /opt/conda/lib/python3.8/site-packages (from wandb) (5.4.1)\n",
      "Requirement already satisfied: promise<3,>=2.0 in /opt/conda/lib/python3.8/site-packages (from wandb) (2.3)\n",
      "Requirement already satisfied: psutil>=5.0.0 in /opt/conda/lib/python3.8/site-packages (from wandb) (5.9.0)\n",
      "Requirement already satisfied: setproctitle in /home/work/.local/lib/python3.8/site-packages (from wandb) (1.3.2)\n",
      "Requirement already satisfied: shortuuid>=0.5.0 in /home/work/.local/lib/python3.8/site-packages (from wandb) (1.0.11)\n",
      "Requirement already satisfied: docker-pycreds>=0.4.0 in /home/work/.local/lib/python3.8/site-packages (from wandb) (0.4.0)\n",
      "Requirement already satisfied: Click!=8.0.0,>=7.0 in /opt/conda/lib/python3.8/site-packages (from wandb) (7.1.2)\n",
      "Requirement already satisfied: GitPython>=1.0.0 in /opt/conda/lib/python3.8/site-packages (from wandb) (3.1.26)\n",
      "Requirement already satisfied: sentry-sdk>=1.0.0 in /home/work/.local/lib/python3.8/site-packages (from wandb) (1.12.1)\n",
      "Requirement already satisfied: setuptools in /opt/conda/lib/python3.8/site-packages (from wandb) (59.5.0)\n",
      "Requirement already satisfied: six>=1.4.0 in /opt/conda/lib/python3.8/site-packages (from docker-pycreds>=0.4.0->wandb) (1.16.0)\n",
      "Requirement already satisfied: gitdb<5,>=4.0.1 in /opt/conda/lib/python3.8/site-packages (from GitPython>=1.0.0->wandb) (4.0.5)\n",
      "Requirement already satisfied: smmap<4,>=3.0.1 in /opt/conda/lib/python3.8/site-packages (from gitdb<5,>=4.0.1->GitPython>=1.0.0->wandb) (3.0.5)\n",
      "Requirement already satisfied: certifi>=2017.4.17 in /opt/conda/lib/python3.8/site-packages (from requests<3,>=2.0.0->wandb) (2022.6.15)\n",
      "Requirement already satisfied: idna<4,>=2.5 in /opt/conda/lib/python3.8/site-packages (from requests<3,>=2.0.0->wandb) (3.2)\n",
      "Requirement already satisfied: charset-normalizer~=2.0.0 in /opt/conda/lib/python3.8/site-packages (from requests<3,>=2.0.0->wandb) (2.0.12)\n",
      "Requirement already satisfied: urllib3<1.27,>=1.21.1 in /home/work/.local/lib/python3.8/site-packages (from requests<3,>=2.0.0->wandb) (1.26.13)\n"
     ]
    }
   ],
   "source": [
    "# !pip install transformers\n",
    "# !pip install wandb"
   ]
  },
  {
   "cell_type": "code",
   "execution_count": null,
   "id": "e9663b1e",
   "metadata": {},
   "outputs": [],
   "source": [
    "from transformers import PreTrainedTokenizerFast\n",
    "tokenizer = PreTrainedTokenizerFast.from_pretrained(\"skt/kogpt2-base-v2\", \n",
    "                                                    bos_token='</s>', eos_token='</s>', unk_token='<unk>',\n",
    "                                                    pad_token='<pad>', mask_token='<mask>')\n",
    "tokenizer.tokenize(\"안녕하세요. 한국어 GPT-2 입니다.😤:)l^o\")"
   ]
  },
  {
   "cell_type": "code",
   "execution_count": null,
   "id": "ee679724",
   "metadata": {},
   "outputs": [],
   "source": [
    "from transformers import AutoTokenizer, AutoModelForCausalLM\n",
    "\n",
    "tokenizer = AutoTokenizer.from_pretrained(\"skt/kogpt2-base-v2\")\n",
    "model = AutoModelForCausalLM.from_pretrained(\"skt/kogpt2-base-v2\")"
   ]
  },
  {
   "cell_type": "code",
   "execution_count": null,
   "id": "c1583611",
   "metadata": {},
   "outputs": [],
   "source": [
    "import torch"
   ]
  },
  {
   "cell_type": "code",
   "execution_count": null,
   "id": "ddfbfa42",
   "metadata": {},
   "outputs": [],
   "source": [
    "text = '구'\n",
    "input_ids = tokenizer.encode(text, return_tensors='pt')\n",
    "gen_ids = model.generate(input_ids, \n",
    "                         max_length=10, \n",
    "                         repetition_penalty=2.0, \n",
    "                         pad_token_id=tokenizer.pad_token_id,\n",
    "                         eos_token_id=tokenizer.eos_token_id,\n",
    "                         bos_token_id=tokenizer.bos_token_id,\n",
    "                         use_cache=True)\n",
    "\n",
    "generated = tokenizer.decode(gen_ids[0])\n",
    "print(generated)"
   ]
  },
  {
   "cell_type": "markdown",
   "id": "1f6d6cb1",
   "metadata": {},
   "source": [
    "# 여기부터 다른 내용"
   ]
  },
  {
   "cell_type": "code",
   "execution_count": 2,
   "id": "f6770092",
   "metadata": {},
   "outputs": [
    {
     "name": "stderr",
     "output_type": "stream",
     "text": [
      "/opt/conda/lib/python3.8/site-packages/apex/pyprof/__init__.py:5: FutureWarning: pyprof will be removed by the end of June, 2022\n",
      "  warnings.warn(\"pyprof will be removed by the end of June, 2022\", FutureWarning)\n"
     ]
    }
   ],
   "source": [
    "from transformers import TextDataset, DataCollatorForLanguageModeling\n",
    "from transformers import GPT2LMHeadModel\n",
    "from transformers import Trainer, TrainingArguments\n",
    "from transformers import PreTrainedTokenizerFast"
   ]
  },
  {
   "cell_type": "markdown",
   "id": "eda0aea1",
   "metadata": {},
   "source": [
    "[참고 링크](https://0goodmorning.tistory.com/60)"
   ]
  },
  {
   "cell_type": "markdown",
   "id": "94f96260",
   "metadata": {},
   "source": [
    "## fine tuning data"
   ]
  },
  {
   "cell_type": "code",
   "execution_count": 3,
   "id": "67d723c1",
   "metadata": {},
   "outputs": [
    {
     "data": {
      "text/plain": [
       "['다시 만난 누난 예뻐\\n',\n",
       " 'i aint frontin\\n',\n",
       " 'Its been a while Im breaking out\\n',\n",
       " '이해할 수 없어 나를\\n',\n",
       " '이사간 대가는\\n',\n",
       " '째깍째깍 자꾸만\\n',\n",
       " '저하늘의 슬픔 속에\\n',\n",
       " '망설이던 시간들은 안녕\\n',\n",
       " '내 모습 내가 봐도 뿅 갈 것 같아\\n',\n",
       " '힘들다곤 내가 먼저 했는데\\n']"
      ]
     },
     "execution_count": 3,
     "metadata": {},
     "output_type": "execute_result"
    }
   ],
   "source": [
    "with open(\"test_data.txt\", 'r', encoding=\"utf-8\") as f:\n",
    "    l = f.readlines()\n",
    "l[:10]"
   ]
  },
  {
   "cell_type": "markdown",
   "id": "e0f40333",
   "metadata": {},
   "source": [
    "## preprocessing"
   ]
  },
  {
   "cell_type": "code",
   "execution_count": 4,
   "id": "f725ec39",
   "metadata": {},
   "outputs": [
    {
     "data": {
      "text/plain": [
       "['다시 만난 누난 예뻐',\n",
       " 'i aint frontin',\n",
       " 'Its been a while Im breaking out',\n",
       " '이해할 수 없어 나를',\n",
       " '이사간 대가는',\n",
       " '째깍째깍 자꾸만',\n",
       " '저하늘의 슬픔 속에',\n",
       " '망설이던 시간들은 안녕',\n",
       " '내 모습 내가 봐도 뿅 갈 것 같아',\n",
       " '힘들다곤 내가 먼저 했는데']"
      ]
     },
     "execution_count": 4,
     "metadata": {},
     "output_type": "execute_result"
    }
   ],
   "source": [
    "# 개행 문자 제거\n",
    "removed_n = [sentence.replace(\"\\n\", \"\") for sentence in l]\n",
    "removed_n[:10]"
   ]
  },
  {
   "cell_type": "code",
   "execution_count": 5,
   "id": "5e800e1d",
   "metadata": {},
   "outputs": [
    {
     "data": {
      "text/plain": [
       "['다시 만난 누난 예뻐',\n",
       " 'i aint frontin',\n",
       " 'Its been a while Im breaking out',\n",
       " '이해할 수 없어 나를',\n",
       " '이사간 대가는',\n",
       " '째깍째깍 자꾸만',\n",
       " '저하늘의 슬픔 속에',\n",
       " '망설이던 시간들은 안녕',\n",
       " '내 모습 내가 봐도 뿅 갈 것 같아',\n",
       " '힘들다곤 내가 먼저 했는데']"
      ]
     },
     "execution_count": 5,
     "metadata": {},
     "output_type": "execute_result"
    }
   ],
   "source": [
    "# 공백 제거\n",
    "removed_s = [sentence.strip() for sentence in removed_n]\n",
    "removed_s[:10]"
   ]
  },
  {
   "cell_type": "code",
   "execution_count": 6,
   "id": "cff48cdb",
   "metadata": {},
   "outputs": [
    {
     "data": {
      "text/plain": [
       "['다시 만난 누난 예뻐',\n",
       " 'i aint frontin',\n",
       " 'Its been a while Im breaking out',\n",
       " '이해할 수 없어 나를',\n",
       " '이사간 대가는',\n",
       " '째깍째깍 자꾸만',\n",
       " '저하늘의 슬픔 속에',\n",
       " '망설이던 시간들은 안녕',\n",
       " '내 모습 내가 봐도 뿅 갈 것 같아',\n",
       " '힘들다곤 내가 먼저 했는데']"
      ]
     },
     "execution_count": 6,
     "metadata": {},
     "output_type": "execute_result"
    }
   ],
   "source": [
    "# 1글자로 이뤄진 문장 제거\n",
    "removed_1 = [sentence for sentence in removed_s if len(sentence) > 1]\n",
    "removed_1[:10]"
   ]
  },
  {
   "cell_type": "code",
   "execution_count": 7,
   "id": "71240252",
   "metadata": {},
   "outputs": [
    {
     "data": {
      "text/plain": [
       "198480"
      ]
     },
     "execution_count": 7,
     "metadata": {},
     "output_type": "execute_result"
    }
   ],
   "source": [
    "len(l)"
   ]
  },
  {
   "cell_type": "code",
   "execution_count": 8,
   "id": "1ed596d8",
   "metadata": {},
   "outputs": [
    {
     "name": "stderr",
     "output_type": "stream",
     "text": [
      "Special tokens have been added in the vocabulary, make sure the associated word embeddings are fine-tuned or trained.\n"
     ]
    }
   ],
   "source": [
    "from transformers import AutoTokenizer, AutoModelForCausalLM\n",
    "\n",
    "tokenizer = AutoTokenizer.from_pretrained(\"skt/kogpt2-base-v2\", padding='max_length',\n",
    "                                          max_len = 50,\n",
    "                                          add_special_tokens = True, \n",
    "                                          return_tensors=\"pt\",\n",
    "                                          truncation = True)"
   ]
  },
  {
   "cell_type": "code",
   "execution_count": 9,
   "id": "f63297a6",
   "metadata": {},
   "outputs": [
    {
     "name": "stderr",
     "output_type": "stream",
     "text": [
      "Token indices sequence length is longer than the specified maximum sequence length for this model (487 > 50). Running this sequence through the model will result in indexing errors\n"
     ]
    },
    {
     "data": {
      "text/plain": [
       "[[9427, 22004, 9669, 7058, 9182, 7722],\n",
       " [30261, 13612, 37415, 13063, 21225, 458, 9610],\n",
       " [10054,\n",
       "  24646,\n",
       "  13726,\n",
       "  443,\n",
       "  9714,\n",
       "  13612,\n",
       "  18896,\n",
       "  446,\n",
       "  25816,\n",
       "  10054,\n",
       "  451,\n",
       "  13726,\n",
       "  10435,\n",
       "  19008,\n",
       "  10929,\n",
       "  10288,\n",
       "  14197],\n",
       " [18637, 9025, 10811, 24692],\n",
       " [12667, 6826, 9026, 9932]]"
      ]
     },
     "execution_count": 9,
     "metadata": {},
     "output_type": "execute_result"
    }
   ],
   "source": [
    "tokenizer_input_ids = tokenizer(removed_1).input_ids\n",
    "tokenizer_input_ids[:5]"
   ]
  },
  {
   "cell_type": "code",
   "execution_count": 10,
   "id": "6ef297b9",
   "metadata": {},
   "outputs": [
    {
     "data": {
      "text/plain": [
       "[6, 7, 17, 4, 4]"
      ]
     },
     "execution_count": 10,
     "metadata": {},
     "output_type": "execute_result"
    }
   ],
   "source": [
    "tokenized_length = [len(item) for item in tokenizer_input_ids]\n",
    "tokenized_length[:5]"
   ]
  },
  {
   "cell_type": "code",
   "execution_count": 11,
   "id": "ea0716a2",
   "metadata": {},
   "outputs": [
    {
     "name": "stderr",
     "output_type": "stream",
     "text": [
      "/opt/conda/lib/python3.8/site-packages/pandas/compat/_optional.py:161: UserWarning: Pandas requires version '2.7.1' or newer of 'numexpr' (version '2.7.0' currently installed).\n",
      "  warnings.warn(msg, UserWarning)\n"
     ]
    },
    {
     "name": "stdout",
     "output_type": "stream",
     "text": [
      "800\n"
     ]
    },
    {
     "data": {
      "image/png": "[encoded data removed]",
      "text/plain": [
       "<Figure size 432x288 with 1 Axes>"
      ]
     },
     "metadata": {
      "needs_background": "light"
     },
     "output_type": "display_data"
    }
   ],
   "source": [
    "import matplotlib.pyplot as plt\n",
    "import seaborn as sns\n",
    "import numpy as np\n",
    "\n",
    "# check the length distribution of the list with x ticks divided by 10 tokens\n",
    "plt.hist(tokenized_length, bins=np.arange(0, max(tokenized_length)+1, 10))\n",
    "print(max(tokenized_length)+1)\n",
    "plt.xlabel(\"Length of the tokenized sentence\")\n",
    "plt.ylabel(\"Frequency\")\n",
    "plt.show()"
   ]
  },
  {
   "cell_type": "code",
   "execution_count": 12,
   "id": "5fc575e4",
   "metadata": {},
   "outputs": [],
   "source": [
    "# 토큰 50개 넘는 애들은 제거"
   ]
  },
  {
   "cell_type": "code",
   "execution_count": 13,
   "id": "55be80de",
   "metadata": {},
   "outputs": [],
   "source": [
    "tokenizer_input_ids.sort(key=lambda x: len(x))\n",
    "while len(tokenizer_input_ids[-1]) >= 50:\n",
    "    tokenizer_input_ids.pop()"
   ]
  },
  {
   "cell_type": "code",
   "execution_count": 14,
   "id": "98457949",
   "metadata": {},
   "outputs": [
    {
     "name": "stdout",
     "output_type": "stream",
     "text": [
      "49\n"
     ]
    },
    {
     "data": {
      "text/plain": [
       "[9815,\n",
       " 14778,\n",
       " 18896,\n",
       " 443,\n",
       " 739,\n",
       " 27797,\n",
       " 18896,\n",
       " 443,\n",
       " 739,\n",
       " 27797,\n",
       " 18896,\n",
       " 443,\n",
       " 739,\n",
       " 27797,\n",
       " 33287,\n",
       " 411,\n",
       " 420,\n",
       " 15369,\n",
       " 421,\n",
       " 427,\n",
       " 424,\n",
       " 10403,\n",
       " 431,\n",
       " 411,\n",
       " 425,\n",
       " 11045,\n",
       " 411,\n",
       " 9772,\n",
       " 424,\n",
       " 411,\n",
       " 9707,\n",
       " 411,\n",
       " 407,\n",
       " 47717,\n",
       " 9924,\n",
       " 35548,\n",
       " 411,\n",
       " 408,\n",
       " 424,\n",
       " 424,\n",
       " 424,\n",
       " 10445,\n",
       " 31175,\n",
       " 22068,\n",
       " 426,\n",
       " 22068,\n",
       " 426,\n",
       " 22068,\n",
       " 426]"
      ]
     },
     "execution_count": 14,
     "metadata": {},
     "output_type": "execute_result"
    }
   ],
   "source": [
    "print(len(tokenizer_input_ids[-1]))\n",
    "tokenizer_input_ids[-1]"
   ]
  },
  {
   "cell_type": "code",
   "execution_count": 15,
   "id": "ba271616",
   "metadata": {},
   "outputs": [
    {
     "data": {
      "text/plain": [
       "[1, 1, 1, 1, 1]"
      ]
     },
     "execution_count": 15,
     "metadata": {},
     "output_type": "execute_result"
    }
   ],
   "source": [
    "tokenized_length = [len(item) for item in tokenizer_input_ids]\n",
    "tokenized_length[:5]"
   ]
  },
  {
   "cell_type": "code",
   "execution_count": 16,
   "id": "b01df4ba",
   "metadata": {},
   "outputs": [
    {
     "name": "stdout",
     "output_type": "stream",
     "text": [
      "50\n"
     ]
    },
    {
     "data": {
      "image/png": "[encoded data removed]",
      "text/plain": [
       "<Figure size 432x288 with 1 Axes>"
      ]
     },
     "metadata": {
      "needs_background": "light"
     },
     "output_type": "display_data"
    }
   ],
   "source": [
    "import matplotlib.pyplot as plt\n",
    "import seaborn as sns\n",
    "import numpy as np\n",
    "\n",
    "# check the length distribution of the list with x ticks divided by 10 tokens\n",
    "plt.hist(tokenized_length, bins=np.arange(0, max(tokenized_length)+1, 10))\n",
    "print(max(tokenized_length)+1)\n",
    "plt.xlabel(\"Length of the tokenized sentence\")\n",
    "plt.ylabel(\"Frequency\")\n",
    "plt.show()"
   ]
  },
  {
   "cell_type": "code",
   "execution_count": 17,
   "id": "04217eaa",
   "metadata": {},
   "outputs": [],
   "source": [
    "def load_dataset(file_path, tokenizer, block_size=128):\n",
    "    dataset = TextDataset(tokenizer=tokenizer,\n",
    "                         file_path=file_path,\n",
    "                         block_size=block_size,\n",
    "                         )\n",
    "    return dataset\n",
    "\n",
    "def load_data_collator(tokenizer, mlm=False):\n",
    "    data_collator = DataCollatorForLanguageModeling(tokenizer=tokenizer,\n",
    "                                                   mlm=mlm)\n",
    "    return data_collator"
   ]
  },
  {
   "cell_type": "code",
   "execution_count": 18,
   "id": "532df54c",
   "metadata": {},
   "outputs": [],
   "source": [
    "from transformers import AutoTokenizer, AutoModelForCausalLM\n",
    "\n",
    "# 구글링 하면 다들 이 코드를 쓰지만\n",
    "# tokenizer = PreTrainedTokenizerFast.from_pretrained(\"skt/kogpt2-base-v2\")\n",
    "# model = GPT2LMHeadModel.from_pretrained(\"skt/kogpt2-base-v2\")\n",
    "\n",
    "# 허깅페이스 공식 사이트에는 이 코드로 나와서 이걸 사용\n",
    "# tokenizer = AutoTokenizer.from_pretrained(\"skt/kogpt2-base-v2\", padding='max_length',\n",
    "#                                           max_len = 100,\n",
    "#                                           add_special_tokens = True, \n",
    "#                                           return_tensors=\"pt\",\n",
    "#                                           truncation = True)\n",
    "# model = AutoModelForCausalLM.from_pretrained(\"skt/kogpt2-base-v2\")"
   ]
  },
  {
   "cell_type": "code",
   "execution_count": 32,
   "id": "3aa4e375",
   "metadata": {
    "scrolled": false
   },
   "outputs": [
    {
     "name": "stderr",
     "output_type": "stream",
     "text": [
      "loading configuration file https://huggingface.co/skt/kogpt2-base-v2/resolve/main/config.json from cache at /home/work/.cache/huggingface/transformers/13bb826cf24517d7849a701e02452715a67c5e560142be3d4735442b2a545809.6b384eec6effdd44287f67715cd55bd0dff2cf846d843b932b43ba7b632b8b1e\n",
      "Model config GPT2Config {\n",
      "  \"_num_labels\": 1,\n",
      "  \"activation_function\": \"gelu_new\",\n",
      "  \"architectures\": [\n",
      "    \"GPT2LMHeadModel\"\n",
      "  ],\n",
      "  \"attn_pdrop\": 0.1,\n",
      "  \"author\": \"Heewon Jeon(madjakarta@gmail.com)\",\n",
      "  \"bos_token_id\": 0,\n",
      "  \"created_date\": \"2021-04-28\",\n",
      "  \"embd_pdrop\": 0.1,\n",
      "  \"eos_token_id\": 1,\n",
      "  \"gradient_checkpointing\": false,\n",
      "  \"id2label\": {\n",
      "    \"0\": \"LABEL_0\"\n",
      "  },\n",
      "  \"initializer_range\": 0.02,\n",
      "  \"label2id\": {\n",
      "    \"LABEL_0\": 0\n",
      "  },\n",
      "  \"layer_norm_epsilon\": 1e-05,\n",
      "  \"license\": \"CC-BY-NC-SA 4.0\",\n",
      "  \"model_type\": \"gpt2\",\n",
      "  \"n_ctx\": 1024,\n",
      "  \"n_embd\": 768,\n",
      "  \"n_head\": 12,\n",
      "  \"n_inner\": null,\n",
      "  \"n_layer\": 12,\n",
      "  \"n_positions\": 1024,\n",
      "  \"pad_token_id\": 3,\n",
      "  \"resid_pdrop\": 0.1,\n",
      "  \"scale_attn_weights\": true,\n",
      "  \"summary_activation\": null,\n",
      "  \"summary_first_dropout\": 0.1,\n",
      "  \"summary_proj_to_labels\": true,\n",
      "  \"summary_type\": \"cls_index\",\n",
      "  \"summary_use_proj\": true,\n",
      "  \"task_specific_params\": {\n",
      "    \"text-generation\": {\n",
      "      \"do_sample\": true,\n",
      "      \"max_length\": 50\n",
      "    }\n",
      "  },\n",
      "  \"transformers_version\": \"4.11.3\",\n",
      "  \"use_cache\": true,\n",
      "  \"vocab_size\": 51200\n",
      "}\n",
      "\n",
      "loading weights file https://huggingface.co/skt/kogpt2-base-v2/resolve/main/pytorch_model.bin from cache at /home/work/.cache/huggingface/transformers/495b405e3742953dbcc56685d1560fa02a2d86fc50b891868990a4471b06c934.4ebf112d34c2c8fc657866680005d92d21859c52c0ef5e941fa640129b2f8f88\n",
      "All model checkpoint weights were used when initializing GPT2LMHeadModel.\n",
      "\n",
      "All the weights of GPT2LMHeadModel were initialized from the model checkpoint at skt/kogpt2-base-v2.\n",
      "If your task is similar to the task the model of the checkpoint was trained on, you can already use GPT2LMHeadModel for predictions without further training.\n",
      "/opt/conda/lib/python3.8/site-packages/transformers/data/datasets/language_modeling.py:54: FutureWarning: This dataset will be removed from the library soon, preprocessing should be handled with the 🤗 Datasets library. You can have a look at this example script for pointers: https://github.com/huggingface/transformers/blob/master/examples/pytorch/language-modeling/run_mlm.py\n",
      "  warnings.warn(\n",
      "Loading features from cached file cached_lm_GPT2TokenizerFast_128_test_data.txt [took 0.171 s]\n",
      "tokenizer config file saved in ./models2/tokenizer_config.json\n",
      "Special tokens file saved in ./models2/special_tokens_map.json\n",
      "Configuration saved in ./models2/config.json\n",
      "Model weights saved in ./models2/pytorch_model.bin\n",
      "PyTorch: setting up devices\n",
      "The default value for the training argument `--report_to` will change in v5 (from all installed integrations to none). In v5, you will need to use `--report_to all` to get the same behavior as now. You should start updating your code and make this info disappear :-).\n",
      "***** Running training *****\n",
      "  Num examples = 13037\n",
      "  Num Epochs = 5\n",
      "  Instantaneous batch size per device = 8\n",
      "  Total train batch size (w. parallel, distributed & accumulation) = 8\n",
      "  Gradient Accumulation steps = 1\n",
      "  Total optimization steps = 8150\n",
      "Automatic Weights & Biases logging enabled, to disable set os.environ[\"WANDB_DISABLED\"] = \"true\"\n"
     ]
    },
    {
     "data": {
      "text/html": [
       "\n",
       "    <div>\n",
       "      \n",
       "      <progress value='8150' max='8150' style='width:300px; height:20px; vertical-align: middle;'></progress>\n",
       "      [8150/8150 19:44, Epoch 5/5]\n",
       "    </div>\n",
       "    <table border=\"1\" class=\"dataframe\">\n",
       "  <thead>\n",
       "    <tr style=\"text-align: left;\">\n",
       "      <th>Step</th>\n",
       "      <th>Training Loss</th>\n",
       "    </tr>\n",
       "  </thead>\n",
       "  <tbody>\n",
       "    <tr>\n",
       "      <td>500</td>\n",
       "      <td>4.207100</td>\n",
       "    </tr>\n",
       "    <tr>\n",
       "      <td>1000</td>\n",
       "      <td>4.072100</td>\n",
       "    </tr>\n",
       "    <tr>\n",
       "      <td>1500</td>\n",
       "      <td>4.020200</td>\n",
       "    </tr>\n",
       "    <tr>\n",
       "      <td>2000</td>\n",
       "      <td>3.820500</td>\n",
       "    </tr>\n",
       "    <tr>\n",
       "      <td>2500</td>\n",
       "      <td>3.764500</td>\n",
       "    </tr>\n",
       "    <tr>\n",
       "      <td>3000</td>\n",
       "      <td>3.761800</td>\n",
       "    </tr>\n",
       "    <tr>\n",
       "      <td>3500</td>\n",
       "      <td>3.638600</td>\n",
       "    </tr>\n",
       "    <tr>\n",
       "      <td>4000</td>\n",
       "      <td>3.541900</td>\n",
       "    </tr>\n",
       "    <tr>\n",
       "      <td>4500</td>\n",
       "      <td>3.550500</td>\n",
       "    </tr>\n",
       "    <tr>\n",
       "      <td>5000</td>\n",
       "      <td>3.502600</td>\n",
       "    </tr>\n",
       "    <tr>\n",
       "      <td>5500</td>\n",
       "      <td>3.358400</td>\n",
       "    </tr>\n",
       "    <tr>\n",
       "      <td>6000</td>\n",
       "      <td>3.366200</td>\n",
       "    </tr>\n",
       "    <tr>\n",
       "      <td>6500</td>\n",
       "      <td>3.363400</td>\n",
       "    </tr>\n",
       "    <tr>\n",
       "      <td>7000</td>\n",
       "      <td>3.224800</td>\n",
       "    </tr>\n",
       "    <tr>\n",
       "      <td>7500</td>\n",
       "      <td>3.223200</td>\n",
       "    </tr>\n",
       "    <tr>\n",
       "      <td>8000</td>\n",
       "      <td>3.222600</td>\n",
       "    </tr>\n",
       "  </tbody>\n",
       "</table><p>"
      ],
      "text/plain": [
       "<IPython.core.display.HTML object>"
      ]
     },
     "metadata": {},
     "output_type": "display_data"
    },
    {
     "name": "stderr",
     "output_type": "stream",
     "text": [
      "Saving model checkpoint to ./models2/checkpoint-500\n",
      "Configuration saved in ./models2/checkpoint-500/config.json\n",
      "Model weights saved in ./models2/checkpoint-500/pytorch_model.bin\n",
      "Saving model checkpoint to ./models2/checkpoint-1000\n",
      "Configuration saved in ./models2/checkpoint-1000/config.json\n",
      "/opt/conda/lib/python3.8/site-packages/torch/nn/modules/module.py:1402: UserWarning: positional arguments and argument \"destination\" are deprecated. nn.Module.state_dict will not accept them in the future. Refer to https://pytorch.org/docs/master/generated/torch.nn.Module.html#torch.nn.Module.state_dict for details.\n",
      "  warnings.warn(\n",
      "Model weights saved in ./models2/checkpoint-1000/pytorch_model.bin\n",
      "Saving model checkpoint to ./models2/checkpoint-1500\n",
      "Configuration saved in ./models2/checkpoint-1500/config.json\n",
      "/opt/conda/lib/python3.8/site-packages/torch/nn/modules/module.py:1402: UserWarning: positional arguments and argument \"destination\" are deprecated. nn.Module.state_dict will not accept them in the future. Refer to https://pytorch.org/docs/master/generated/torch.nn.Module.html#torch.nn.Module.state_dict for details.\n",
      "  warnings.warn(\n",
      "Model weights saved in ./models2/checkpoint-1500/pytorch_model.bin\n",
      "Saving model checkpoint to ./models2/checkpoint-2000\n",
      "Configuration saved in ./models2/checkpoint-2000/config.json\n",
      "/opt/conda/lib/python3.8/site-packages/torch/nn/modules/module.py:1402: UserWarning: positional arguments and argument \"destination\" are deprecated. nn.Module.state_dict will not accept them in the future. Refer to https://pytorch.org/docs/master/generated/torch.nn.Module.html#torch.nn.Module.state_dict for details.\n",
      "  warnings.warn(\n",
      "Model weights saved in ./models2/checkpoint-2000/pytorch_model.bin\n",
      "Saving model checkpoint to ./models2/checkpoint-2500\n",
      "Configuration saved in ./models2/checkpoint-2500/config.json\n",
      "/opt/conda/lib/python3.8/site-packages/torch/nn/modules/module.py:1402: UserWarning: positional arguments and argument \"destination\" are deprecated. nn.Module.state_dict will not accept them in the future. Refer to https://pytorch.org/docs/master/generated/torch.nn.Module.html#torch.nn.Module.state_dict for details.\n",
      "  warnings.warn(\n",
      "Model weights saved in ./models2/checkpoint-2500/pytorch_model.bin\n",
      "Saving model checkpoint to ./models2/checkpoint-3000\n",
      "Configuration saved in ./models2/checkpoint-3000/config.json\n",
      "/opt/conda/lib/python3.8/site-packages/torch/nn/modules/module.py:1402: UserWarning: positional arguments and argument \"destination\" are deprecated. nn.Module.state_dict will not accept them in the future. Refer to https://pytorch.org/docs/master/generated/torch.nn.Module.html#torch.nn.Module.state_dict for details.\n",
      "  warnings.warn(\n",
      "Model weights saved in ./models2/checkpoint-3000/pytorch_model.bin\n",
      "Saving model checkpoint to ./models2/checkpoint-3500\n",
      "Configuration saved in ./models2/checkpoint-3500/config.json\n",
      "/opt/conda/lib/python3.8/site-packages/torch/nn/modules/module.py:1402: UserWarning: positional arguments and argument \"destination\" are deprecated. nn.Module.state_dict will not accept them in the future. Refer to https://pytorch.org/docs/master/generated/torch.nn.Module.html#torch.nn.Module.state_dict for details.\n",
      "  warnings.warn(\n",
      "Model weights saved in ./models2/checkpoint-3500/pytorch_model.bin\n",
      "Saving model checkpoint to ./models2/checkpoint-4000\n",
      "Configuration saved in ./models2/checkpoint-4000/config.json\n",
      "/opt/conda/lib/python3.8/site-packages/torch/nn/modules/module.py:1402: UserWarning: positional arguments and argument \"destination\" are deprecated. nn.Module.state_dict will not accept them in the future. Refer to https://pytorch.org/docs/master/generated/torch.nn.Module.html#torch.nn.Module.state_dict for details.\n",
      "  warnings.warn(\n",
      "Model weights saved in ./models2/checkpoint-4000/pytorch_model.bin\n",
      "Saving model checkpoint to ./models2/checkpoint-4500\n",
      "Configuration saved in ./models2/checkpoint-4500/config.json\n",
      "/opt/conda/lib/python3.8/site-packages/torch/nn/modules/module.py:1402: UserWarning: positional arguments and argument \"destination\" are deprecated. nn.Module.state_dict will not accept them in the future. Refer to https://pytorch.org/docs/master/generated/torch.nn.Module.html#torch.nn.Module.state_dict for details.\n",
      "  warnings.warn(\n",
      "Model weights saved in ./models2/checkpoint-4500/pytorch_model.bin\n",
      "Saving model checkpoint to ./models2/checkpoint-5000\n",
      "Configuration saved in ./models2/checkpoint-5000/config.json\n",
      "/opt/conda/lib/python3.8/site-packages/torch/nn/modules/module.py:1402: UserWarning: positional arguments and argument \"destination\" are deprecated. nn.Module.state_dict will not accept them in the future. Refer to https://pytorch.org/docs/master/generated/torch.nn.Module.html#torch.nn.Module.state_dict for details.\n",
      "  warnings.warn(\n",
      "Model weights saved in ./models2/checkpoint-5000/pytorch_model.bin\n",
      "Saving model checkpoint to ./models2/checkpoint-5500\n",
      "Configuration saved in ./models2/checkpoint-5500/config.json\n",
      "/opt/conda/lib/python3.8/site-packages/torch/nn/modules/module.py:1402: UserWarning: positional arguments and argument \"destination\" are deprecated. nn.Module.state_dict will not accept them in the future. Refer to https://pytorch.org/docs/master/generated/torch.nn.Module.html#torch.nn.Module.state_dict for details.\n",
      "  warnings.warn(\n",
      "Model weights saved in ./models2/checkpoint-5500/pytorch_model.bin\n",
      "Saving model checkpoint to ./models2/checkpoint-6000\n",
      "Configuration saved in ./models2/checkpoint-6000/config.json\n",
      "/opt/conda/lib/python3.8/site-packages/torch/nn/modules/module.py:1402: UserWarning: positional arguments and argument \"destination\" are deprecated. nn.Module.state_dict will not accept them in the future. Refer to https://pytorch.org/docs/master/generated/torch.nn.Module.html#torch.nn.Module.state_dict for details.\n",
      "  warnings.warn(\n",
      "Model weights saved in ./models2/checkpoint-6000/pytorch_model.bin\n",
      "Saving model checkpoint to ./models2/checkpoint-6500\n",
      "Configuration saved in ./models2/checkpoint-6500/config.json\n",
      "/opt/conda/lib/python3.8/site-packages/torch/nn/modules/module.py:1402: UserWarning: positional arguments and argument \"destination\" are deprecated. nn.Module.state_dict will not accept them in the future. Refer to https://pytorch.org/docs/master/generated/torch.nn.Module.html#torch.nn.Module.state_dict for details.\n",
      "  warnings.warn(\n",
      "Model weights saved in ./models2/checkpoint-6500/pytorch_model.bin\n",
      "Saving model checkpoint to ./models2/checkpoint-7000\n",
      "Configuration saved in ./models2/checkpoint-7000/config.json\n",
      "/opt/conda/lib/python3.8/site-packages/torch/nn/modules/module.py:1402: UserWarning: positional arguments and argument \"destination\" are deprecated. nn.Module.state_dict will not accept them in the future. Refer to https://pytorch.org/docs/master/generated/torch.nn.Module.html#torch.nn.Module.state_dict for details.\n",
      "  warnings.warn(\n",
      "Model weights saved in ./models2/checkpoint-7000/pytorch_model.bin\n",
      "Saving model checkpoint to ./models2/checkpoint-7500\n",
      "Configuration saved in ./models2/checkpoint-7500/config.json\n",
      "/opt/conda/lib/python3.8/site-packages/torch/nn/modules/module.py:1402: UserWarning: positional arguments and argument \"destination\" are deprecated. nn.Module.state_dict will not accept them in the future. Refer to https://pytorch.org/docs/master/generated/torch.nn.Module.html#torch.nn.Module.state_dict for details.\n",
      "  warnings.warn(\n",
      "Model weights saved in ./models2/checkpoint-7500/pytorch_model.bin\n",
      "Saving model checkpoint to ./models2/checkpoint-8000\n",
      "Configuration saved in ./models2/checkpoint-8000/config.json\n",
      "/opt/conda/lib/python3.8/site-packages/torch/nn/modules/module.py:1402: UserWarning: positional arguments and argument \"destination\" are deprecated. nn.Module.state_dict will not accept them in the future. Refer to https://pytorch.org/docs/master/generated/torch.nn.Module.html#torch.nn.Module.state_dict for details.\n",
      "  warnings.warn(\n",
      "Model weights saved in ./models2/checkpoint-8000/pytorch_model.bin\n",
      "\n",
      "\n",
      "Training completed. Do not forget to share your model on huggingface.co/models =)\n",
      "\n",
      "\n",
      "Saving model checkpoint to ./models2\n",
      "Configuration saved in ./models2/config.json\n",
      "/opt/conda/lib/python3.8/site-packages/torch/nn/modules/module.py:1402: UserWarning: positional arguments and argument \"destination\" are deprecated. nn.Module.state_dict will not accept them in the future. Refer to https://pytorch.org/docs/master/generated/torch.nn.Module.html#torch.nn.Module.state_dict for details.\n",
      "  warnings.warn(\n",
      "Model weights saved in ./models2/pytorch_model.bin\n"
     ]
    }
   ],
   "source": [
    "model = AutoModelForCausalLM.from_pretrained(\"skt/kogpt2-base-v2\")\n",
    "\n",
    "def train(train_file_path, model_name, output_dir, overwrite_output_dir, per_device_train_batch_size, num_train_epochs, save_step, tokenizer):\n",
    "    train_dataset = load_dataset(train_file_path, tokenizer)\n",
    "    data_collator = load_data_collator(tokenizer)\n",
    "    \n",
    "    tokenizer.save_pretrained(output_dir, legacy_format=False)\n",
    "    \n",
    "#     model = AutoModelForCausalLM.from_pretrained(\"skt/kogpt2-base-v2\")\n",
    "    model.save_pretrained(output_dir)\n",
    "    \n",
    "    training_args = TrainingArguments(output_dir=output_dir,\n",
    "                                     overwrite_output_dir=overwrite_output_dir,\n",
    "                                     per_device_train_batch_size=per_device_train_batch_size,\n",
    "                                     num_train_epochs=num_train_epochs)\n",
    "\n",
    "    trainer = Trainer(model=model,\n",
    "                     args=training_args,\n",
    "                     data_collator=data_collator,\n",
    "                     train_dataset=train_dataset)\n",
    "    \n",
    "    trainer.train()\n",
    "    trainer.save_model()\n",
    "    \n",
    "train_file_path = \"test_data.txt\"\n",
    "model_name = \"skt/kogpt2-base-v2\"\n",
    "output_dir = \"./models2\"\n",
    "overwrite_output_dir = False\n",
    "per_device_train_batch_size = 8\n",
    "num_train_epochs = 5.0\n",
    "save_step = 500\n",
    "\n",
    "train(train_file_path=train_file_path,\n",
    "     model_name=model_name,\n",
    "     output_dir=output_dir,\n",
    "     overwrite_output_dir=overwrite_output_dir,\n",
    "     per_device_train_batch_size=per_device_train_batch_size,\n",
    "     num_train_epochs=num_train_epochs,\n",
    "     save_step=save_step,\n",
    "     tokenizer=tokenizer)"
   ]
  },
  {
   "cell_type": "code",
   "execution_count": 34,
   "id": "98353323",
   "metadata": {},
   "outputs": [],
   "source": [
    "from transformers import PreTrainedTokenizerFast, GPT2LMHeadModel\n",
    "\n",
    "def load_model(model_path):\n",
    "    model = AutoModelForCausalLM.from_pretrained(model_path)\n",
    "    return model\n",
    "\n",
    "def load_tokenizer(tokenizer_path):\n",
    "    tokenizer = AutoTokenizer.from_pretrained(tokenizer_path)\n",
    "    return tokenizer\n",
    "\n",
    "def generate_text(sequence, k, max_length):\n",
    "    model_path = \"./models2\"\n",
    "    model = load_model(model_path)\n",
    "    tokenizer = load_tokenizer(model_path)\n",
    "    ids = tokenizer.encode(f\"{sequence},\", return_tensors=\"pt\")\n",
    "    final_outputs = model.generate(ids, do_sample=True, max_length=max_length,\n",
    "                                  pad_token_id=model.config.pad_token_id,\n",
    "                                  top_k=50,\n",
    "                                  top_p=0.95)\n",
    "    print(tokenizer.decode(final_outputs[0], skip_special_tokens=True))"
   ]
  },
  {
   "cell_type": "code",
   "execution_count": 21,
   "id": "df967298",
   "metadata": {},
   "outputs": [
    {
     "name": "stderr",
     "output_type": "stream",
     "text": [
      "loading configuration file ./models2/config.json\n",
      "Model config GPT2Config {\n",
      "  \"_name_or_path\": \"skt/kogpt2-base-v2\",\n",
      "  \"_num_labels\": 1,\n",
      "  \"activation_function\": \"gelu_new\",\n",
      "  \"architectures\": [\n",
      "    \"GPT2LMHeadModel\"\n",
      "  ],\n",
      "  \"attn_pdrop\": 0.1,\n",
      "  \"author\": \"Heewon Jeon(madjakarta@gmail.com)\",\n",
      "  \"bos_token_id\": 0,\n",
      "  \"created_date\": \"2021-04-28\",\n",
      "  \"embd_pdrop\": 0.1,\n",
      "  \"eos_token_id\": 1,\n",
      "  \"gradient_checkpointing\": false,\n",
      "  \"id2label\": {\n",
      "    \"0\": \"LABEL_0\"\n",
      "  },\n",
      "  \"initializer_range\": 0.02,\n",
      "  \"label2id\": {\n",
      "    \"LABEL_0\": 0\n",
      "  },\n",
      "  \"layer_norm_epsilon\": 1e-05,\n",
      "  \"license\": \"CC-BY-NC-SA 4.0\",\n",
      "  \"model_type\": \"gpt2\",\n",
      "  \"n_ctx\": 1024,\n",
      "  \"n_embd\": 768,\n",
      "  \"n_head\": 12,\n",
      "  \"n_inner\": null,\n",
      "  \"n_layer\": 12,\n",
      "  \"n_positions\": 1024,\n",
      "  \"pad_token_id\": 3,\n",
      "  \"resid_pdrop\": 0.1,\n",
      "  \"scale_attn_weights\": true,\n",
      "  \"summary_activation\": null,\n",
      "  \"summary_first_dropout\": 0.1,\n",
      "  \"summary_proj_to_labels\": true,\n",
      "  \"summary_type\": \"cls_index\",\n",
      "  \"summary_use_proj\": true,\n",
      "  \"task_specific_params\": {\n",
      "    \"text-generation\": {\n",
      "      \"do_sample\": true,\n",
      "      \"max_length\": 50\n",
      "    }\n",
      "  },\n",
      "  \"torch_dtype\": \"float32\",\n",
      "  \"transformers_version\": \"4.11.3\",\n",
      "  \"use_cache\": true,\n",
      "  \"vocab_size\": 51200\n",
      "}\n",
      "\n",
      "loading weights file ./models2/pytorch_model.bin\n"
     ]
    },
    {
     "name": "stdout",
     "output_type": "stream",
     "text": [
      "input :친구\n",
      "==============================\n"
     ]
    },
    {
     "name": "stderr",
     "output_type": "stream",
     "text": [
      "All model checkpoint weights were used when initializing GPT2LMHeadModel.\n",
      "\n",
      "All the weights of GPT2LMHeadModel were initialized from the model checkpoint at ./models2.\n",
      "If your task is similar to the task the model of the checkpoint was trained on, you can already use GPT2LMHeadModel for predictions without further training.\n",
      "Didn't find file ./models2/vocab.json. We won't load it.\n",
      "Didn't find file ./models2/merges.txt. We won't load it.\n",
      "Didn't find file ./models2/added_tokens.json. We won't load it.\n",
      "loading file None\n",
      "loading file None\n",
      "loading file ./models2/tokenizer.json\n",
      "loading file None\n",
      "loading file ./models2/special_tokens_map.json\n",
      "loading file ./models2/tokenizer_config.json\n",
      "loading configuration file ./models2/config.json\n",
      "Model config GPT2Config {\n",
      "  \"_name_or_path\": \"skt/kogpt2-base-v2\",\n",
      "  \"_num_labels\": 1,\n",
      "  \"activation_function\": \"gelu_new\",\n",
      "  \"architectures\": [\n",
      "    \"GPT2LMHeadModel\"\n",
      "  ],\n",
      "  \"attn_pdrop\": 0.1,\n",
      "  \"author\": \"Heewon Jeon(madjakarta@gmail.com)\",\n",
      "  \"bos_token_id\": 0,\n",
      "  \"created_date\": \"2021-04-28\",\n",
      "  \"embd_pdrop\": 0.1,\n",
      "  \"eos_token_id\": 1,\n",
      "  \"gradient_checkpointing\": false,\n",
      "  \"id2label\": {\n",
      "    \"0\": \"LABEL_0\"\n",
      "  },\n",
      "  \"initializer_range\": 0.02,\n",
      "  \"label2id\": {\n",
      "    \"LABEL_0\": 0\n",
      "  },\n",
      "  \"layer_norm_epsilon\": 1e-05,\n",
      "  \"license\": \"CC-BY-NC-SA 4.0\",\n",
      "  \"model_type\": \"gpt2\",\n",
      "  \"n_ctx\": 1024,\n",
      "  \"n_embd\": 768,\n",
      "  \"n_head\": 12,\n",
      "  \"n_inner\": null,\n",
      "  \"n_layer\": 12,\n",
      "  \"n_positions\": 1024,\n",
      "  \"pad_token_id\": 3,\n",
      "  \"resid_pdrop\": 0.1,\n",
      "  \"scale_attn_weights\": true,\n",
      "  \"summary_activation\": null,\n",
      "  \"summary_first_dropout\": 0.1,\n",
      "  \"summary_proj_to_labels\": true,\n",
      "  \"summary_type\": \"cls_index\",\n",
      "  \"summary_use_proj\": true,\n",
      "  \"task_specific_params\": {\n",
      "    \"text-generation\": {\n",
      "      \"do_sample\": true,\n",
      "      \"max_length\": 50\n",
      "    }\n",
      "  },\n",
      "  \"torch_dtype\": \"float32\",\n",
      "  \"transformers_version\": \"4.11.3\",\n",
      "  \"use_cache\": true,\n",
      "  \"vocab_size\": 51200\n",
      "}\n",
      "\n",
      "loading weights file ./models2/pytorch_model.bin\n"
     ]
    },
    {
     "name": "stdout",
     "output_type": "stream",
     "text": [
      "친구, 힙합 클럽에서\n",
      "지루하다며 울다 보면\n",
      "그런 건 절대 못해 너란 놈은\n",
      "난 괜찮아 내 삶의 주인이 되려 해\n",
      "네 앞에선 \n",
      "==============================\n"
     ]
    },
    {
     "name": "stderr",
     "output_type": "stream",
     "text": [
      "All model checkpoint weights were used when initializing GPT2LMHeadModel.\n",
      "\n",
      "All the weights of GPT2LMHeadModel were initialized from the model checkpoint at ./models2.\n",
      "If your task is similar to the task the model of the checkpoint was trained on, you can already use GPT2LMHeadModel for predictions without further training.\n",
      "Didn't find file ./models2/vocab.json. We won't load it.\n",
      "Didn't find file ./models2/merges.txt. We won't load it.\n",
      "Didn't find file ./models2/added_tokens.json. We won't load it.\n",
      "loading file None\n",
      "loading file None\n",
      "loading file ./models2/tokenizer.json\n",
      "loading file None\n",
      "loading file ./models2/special_tokens_map.json\n",
      "loading file ./models2/tokenizer_config.json\n",
      "loading configuration file ./models2/config.json\n",
      "Model config GPT2Config {\n",
      "  \"_name_or_path\": \"skt/kogpt2-base-v2\",\n",
      "  \"_num_labels\": 1,\n",
      "  \"activation_function\": \"gelu_new\",\n",
      "  \"architectures\": [\n",
      "    \"GPT2LMHeadModel\"\n",
      "  ],\n",
      "  \"attn_pdrop\": 0.1,\n",
      "  \"author\": \"Heewon Jeon(madjakarta@gmail.com)\",\n",
      "  \"bos_token_id\": 0,\n",
      "  \"created_date\": \"2021-04-28\",\n",
      "  \"embd_pdrop\": 0.1,\n",
      "  \"eos_token_id\": 1,\n",
      "  \"gradient_checkpointing\": false,\n",
      "  \"id2label\": {\n",
      "    \"0\": \"LABEL_0\"\n",
      "  },\n",
      "  \"initializer_range\": 0.02,\n",
      "  \"label2id\": {\n",
      "    \"LABEL_0\": 0\n",
      "  },\n",
      "  \"layer_norm_epsilon\": 1e-05,\n",
      "  \"license\": \"CC-BY-NC-SA 4.0\",\n",
      "  \"model_type\": \"gpt2\",\n",
      "  \"n_ctx\": 1024,\n",
      "  \"n_embd\": 768,\n",
      "  \"n_head\": 12,\n",
      "  \"n_inner\": null,\n",
      "  \"n_layer\": 12,\n",
      "  \"n_positions\": 1024,\n",
      "  \"pad_token_id\": 3,\n",
      "  \"resid_pdrop\": 0.1,\n",
      "  \"scale_attn_weights\": true,\n",
      "  \"summary_activation\": null,\n",
      "  \"summary_first_dropout\": 0.1,\n",
      "  \"summary_proj_to_labels\": true,\n",
      "  \"summary_type\": \"cls_index\",\n",
      "  \"summary_use_proj\": true,\n",
      "  \"task_specific_params\": {\n",
      "    \"text-generation\": {\n",
      "      \"do_sample\": true,\n",
      "      \"max_length\": 50\n",
      "    }\n",
      "  },\n",
      "  \"torch_dtype\": \"float32\",\n",
      "  \"transformers_version\": \"4.11.3\",\n",
      "  \"use_cache\": true,\n",
      "  \"vocab_size\": 51200\n",
      "}\n",
      "\n",
      "loading weights file ./models2/pytorch_model.bin\n"
     ]
    },
    {
     "name": "stdout",
     "output_type": "stream",
     "text": [
      "친구,\n",
      "오래 된 편지 한 장과\n",
      "그댈 위한 노랠 불러 봅니다\n",
      "Lets gets get set set\n",
      "그대 나를 떠난다고 말하지 마오\n",
      "아무\n",
      "==============================\n"
     ]
    },
    {
     "name": "stderr",
     "output_type": "stream",
     "text": [
      "All model checkpoint weights were used when initializing GPT2LMHeadModel.\n",
      "\n",
      "All the weights of GPT2LMHeadModel were initialized from the model checkpoint at ./models2.\n",
      "If your task is similar to the task the model of the checkpoint was trained on, you can already use GPT2LMHeadModel for predictions without further training.\n",
      "Didn't find file ./models2/vocab.json. We won't load it.\n",
      "Didn't find file ./models2/merges.txt. We won't load it.\n",
      "Didn't find file ./models2/added_tokens.json. We won't load it.\n",
      "loading file None\n",
      "loading file None\n",
      "loading file ./models2/tokenizer.json\n",
      "loading file None\n",
      "loading file ./models2/special_tokens_map.json\n",
      "loading file ./models2/tokenizer_config.json\n",
      "loading configuration file ./models2/config.json\n",
      "Model config GPT2Config {\n",
      "  \"_name_or_path\": \"skt/kogpt2-base-v2\",\n",
      "  \"_num_labels\": 1,\n",
      "  \"activation_function\": \"gelu_new\",\n",
      "  \"architectures\": [\n",
      "    \"GPT2LMHeadModel\"\n",
      "  ],\n",
      "  \"attn_pdrop\": 0.1,\n",
      "  \"author\": \"Heewon Jeon(madjakarta@gmail.com)\",\n",
      "  \"bos_token_id\": 0,\n",
      "  \"created_date\": \"2021-04-28\",\n",
      "  \"embd_pdrop\": 0.1,\n",
      "  \"eos_token_id\": 1,\n",
      "  \"gradient_checkpointing\": false,\n",
      "  \"id2label\": {\n",
      "    \"0\": \"LABEL_0\"\n",
      "  },\n",
      "  \"initializer_range\": 0.02,\n",
      "  \"label2id\": {\n",
      "    \"LABEL_0\": 0\n",
      "  },\n",
      "  \"layer_norm_epsilon\": 1e-05,\n",
      "  \"license\": \"CC-BY-NC-SA 4.0\",\n",
      "  \"model_type\": \"gpt2\",\n",
      "  \"n_ctx\": 1024,\n",
      "  \"n_embd\": 768,\n",
      "  \"n_head\": 12,\n",
      "  \"n_inner\": null,\n",
      "  \"n_layer\": 12,\n",
      "  \"n_positions\": 1024,\n",
      "  \"pad_token_id\": 3,\n",
      "  \"resid_pdrop\": 0.1,\n",
      "  \"scale_attn_weights\": true,\n",
      "  \"summary_activation\": null,\n",
      "  \"summary_first_dropout\": 0.1,\n",
      "  \"summary_proj_to_labels\": true,\n",
      "  \"summary_type\": \"cls_index\",\n",
      "  \"summary_use_proj\": true,\n",
      "  \"task_specific_params\": {\n",
      "    \"text-generation\": {\n",
      "      \"do_sample\": true,\n",
      "      \"max_length\": 50\n",
      "    }\n",
      "  },\n",
      "  \"torch_dtype\": \"float32\",\n",
      "  \"transformers_version\": \"4.11.3\",\n",
      "  \"use_cache\": true,\n",
      "  \"vocab_size\": 51200\n",
      "}\n",
      "\n",
      "loading weights file ./models2/pytorch_model.bin\n"
     ]
    },
    {
     "name": "stdout",
     "output_type": "stream",
     "text": [
      "친구,\n",
      "내 곁을 떠나갔는데\n",
      "우리 둘 만의 Dance\n",
      "아무 생각이나 말고\n",
      "그렇다고 내 삶이 끝나는 건 아니야\n",
      "이제 네가 없는 세상이 낯설어\n",
      "\n",
      "==============================\n"
     ]
    },
    {
     "name": "stderr",
     "output_type": "stream",
     "text": [
      "All model checkpoint weights were used when initializing GPT2LMHeadModel.\n",
      "\n",
      "All the weights of GPT2LMHeadModel were initialized from the model checkpoint at ./models2.\n",
      "If your task is similar to the task the model of the checkpoint was trained on, you can already use GPT2LMHeadModel for predictions without further training.\n",
      "Didn't find file ./models2/vocab.json. We won't load it.\n",
      "Didn't find file ./models2/merges.txt. We won't load it.\n",
      "Didn't find file ./models2/added_tokens.json. We won't load it.\n",
      "loading file None\n",
      "loading file None\n",
      "loading file ./models2/tokenizer.json\n",
      "loading file None\n",
      "loading file ./models2/special_tokens_map.json\n",
      "loading file ./models2/tokenizer_config.json\n",
      "loading configuration file ./models2/config.json\n",
      "Model config GPT2Config {\n",
      "  \"_name_or_path\": \"skt/kogpt2-base-v2\",\n",
      "  \"_num_labels\": 1,\n",
      "  \"activation_function\": \"gelu_new\",\n",
      "  \"architectures\": [\n",
      "    \"GPT2LMHeadModel\"\n",
      "  ],\n",
      "  \"attn_pdrop\": 0.1,\n",
      "  \"author\": \"Heewon Jeon(madjakarta@gmail.com)\",\n",
      "  \"bos_token_id\": 0,\n",
      "  \"created_date\": \"2021-04-28\",\n",
      "  \"embd_pdrop\": 0.1,\n",
      "  \"eos_token_id\": 1,\n",
      "  \"gradient_checkpointing\": false,\n",
      "  \"id2label\": {\n",
      "    \"0\": \"LABEL_0\"\n",
      "  },\n",
      "  \"initializer_range\": 0.02,\n",
      "  \"label2id\": {\n",
      "    \"LABEL_0\": 0\n",
      "  },\n",
      "  \"layer_norm_epsilon\": 1e-05,\n",
      "  \"license\": \"CC-BY-NC-SA 4.0\",\n",
      "  \"model_type\": \"gpt2\",\n",
      "  \"n_ctx\": 1024,\n",
      "  \"n_embd\": 768,\n",
      "  \"n_head\": 12,\n",
      "  \"n_inner\": null,\n",
      "  \"n_layer\": 12,\n",
      "  \"n_positions\": 1024,\n",
      "  \"pad_token_id\": 3,\n",
      "  \"resid_pdrop\": 0.1,\n",
      "  \"scale_attn_weights\": true,\n",
      "  \"summary_activation\": null,\n",
      "  \"summary_first_dropout\": 0.1,\n",
      "  \"summary_proj_to_labels\": true,\n",
      "  \"summary_type\": \"cls_index\",\n",
      "  \"summary_use_proj\": true,\n",
      "  \"task_specific_params\": {\n",
      "    \"text-generation\": {\n",
      "      \"do_sample\": true,\n",
      "      \"max_length\": 50\n",
      "    }\n",
      "  },\n",
      "  \"torch_dtype\": \"float32\",\n",
      "  \"transformers_version\": \"4.11.3\",\n",
      "  \"use_cache\": true,\n",
      "  \"vocab_size\": 51200\n",
      "}\n",
      "\n",
      "loading weights file ./models2/pytorch_model.bin\n"
     ]
    },
    {
     "name": "stdout",
     "output_type": "stream",
     "text": [
      "친구, 아빠는 나의 사랑아빠는 나의 딸\n",
      "내가 네가 아팠던 기억에\n",
      "그런 놈들 있지 난 다 알아\n",
      "when i fallin\n",
      "난 너에게\n",
      "==============================\n"
     ]
    },
    {
     "name": "stderr",
     "output_type": "stream",
     "text": [
      "All model checkpoint weights were used when initializing GPT2LMHeadModel.\n",
      "\n",
      "All the weights of GPT2LMHeadModel were initialized from the model checkpoint at ./models2.\n",
      "If your task is similar to the task the model of the checkpoint was trained on, you can already use GPT2LMHeadModel for predictions without further training.\n",
      "Didn't find file ./models2/vocab.json. We won't load it.\n",
      "Didn't find file ./models2/merges.txt. We won't load it.\n",
      "Didn't find file ./models2/added_tokens.json. We won't load it.\n",
      "loading file None\n",
      "loading file None\n",
      "loading file ./models2/tokenizer.json\n",
      "loading file None\n",
      "loading file ./models2/special_tokens_map.json\n",
      "loading file ./models2/tokenizer_config.json\n"
     ]
    },
    {
     "name": "stdout",
     "output_type": "stream",
     "text": [
      "친구, Ye\n",
      "사랑해줘서 고마워요\n",
      "이번만큼은 나를 사랑해준거야\n",
      "사랑해줘서 고마워\n",
      "아프게 해 아무것도 아닌\n",
      "또 너한테 또\n",
      "==============================\n"
     ]
    }
   ],
   "source": [
    "sequence = \"친구\"\n",
    "max_len = 42\n",
    "print(\"input :\" + sequence)\n",
    "print(\"=\" * 30)\n",
    "\n",
    "for i in range(5):\n",
    "    generate_text(sequence, max_len)\n",
    "    print(\"=\" * 30)"
   ]
  },
  {
   "cell_type": "code",
   "execution_count": 35,
   "id": "128b0001",
   "metadata": {},
   "outputs": [
    {
     "name": "stderr",
     "output_type": "stream",
     "text": [
      "loading configuration file ./models2/config.json\n",
      "Model config GPT2Config {\n",
      "  \"_name_or_path\": \"skt/kogpt2-base-v2\",\n",
      "  \"_num_labels\": 1,\n",
      "  \"activation_function\": \"gelu_new\",\n",
      "  \"architectures\": [\n",
      "    \"GPT2LMHeadModel\"\n",
      "  ],\n",
      "  \"attn_pdrop\": 0.1,\n",
      "  \"author\": \"Heewon Jeon(madjakarta@gmail.com)\",\n",
      "  \"bos_token_id\": 0,\n",
      "  \"created_date\": \"2021-04-28\",\n",
      "  \"embd_pdrop\": 0.1,\n",
      "  \"eos_token_id\": 1,\n",
      "  \"gradient_checkpointing\": false,\n",
      "  \"id2label\": {\n",
      "    \"0\": \"LABEL_0\"\n",
      "  },\n",
      "  \"initializer_range\": 0.02,\n",
      "  \"label2id\": {\n",
      "    \"LABEL_0\": 0\n",
      "  },\n",
      "  \"layer_norm_epsilon\": 1e-05,\n",
      "  \"license\": \"CC-BY-NC-SA 4.0\",\n",
      "  \"model_type\": \"gpt2\",\n",
      "  \"n_ctx\": 1024,\n",
      "  \"n_embd\": 768,\n",
      "  \"n_head\": 12,\n",
      "  \"n_inner\": null,\n",
      "  \"n_layer\": 12,\n",
      "  \"n_positions\": 1024,\n",
      "  \"pad_token_id\": 3,\n",
      "  \"resid_pdrop\": 0.1,\n",
      "  \"scale_attn_weights\": true,\n",
      "  \"summary_activation\": null,\n",
      "  \"summary_first_dropout\": 0.1,\n",
      "  \"summary_proj_to_labels\": true,\n",
      "  \"summary_type\": \"cls_index\",\n",
      "  \"summary_use_proj\": true,\n",
      "  \"task_specific_params\": {\n",
      "    \"text-generation\": {\n",
      "      \"do_sample\": true,\n",
      "      \"max_length\": 50\n",
      "    }\n",
      "  },\n",
      "  \"torch_dtype\": \"float32\",\n",
      "  \"transformers_version\": \"4.11.3\",\n",
      "  \"use_cache\": true,\n",
      "  \"vocab_size\": 51200\n",
      "}\n",
      "\n",
      "loading weights file ./models2/pytorch_model.bin\n",
      "All model checkpoint weights were used when initializing GPT2LMHeadModel.\n",
      "\n",
      "All the weights of GPT2LMHeadModel were initialized from the model checkpoint at ./models2.\n",
      "If your task is similar to the task the model of the checkpoint was trained on, you can already use GPT2LMHeadModel for predictions without further training.\n",
      "Didn't find file ./models2/vocab.json. We won't load it.\n",
      "Didn't find file ./models2/merges.txt. We won't load it.\n",
      "Didn't find file ./models2/added_tokens.json. We won't load it.\n",
      "loading file None\n",
      "loading file None\n",
      "loading file ./models2/tokenizer.json\n",
      "loading file None\n",
      "loading file ./models2/special_tokens_map.json\n",
      "loading file ./models2/tokenizer_config.json\n"
     ]
    },
    {
     "name": "stdout",
     "output_type": "stream",
     "text": [
      "가,\n",
      "나를 보며 웃을 수 있어서\n",
      "\n"
     ]
    },
    {
     "ename": "TypeError",
     "evalue": "'NoneType' object is not iterable",
     "output_type": "error",
     "traceback": [
      "\u001b[0;31m---------------------------------------------------------------------------\u001b[0m",
      "\u001b[0;31mTypeError\u001b[0m                                 Traceback (most recent call last)",
      "Input \u001b[0;32mIn [35]\u001b[0m, in \u001b[0;36m<cell line: 8>\u001b[0;34m()\u001b[0m\n\u001b[1;32m      5\u001b[0m         list_samhaengshi\u001b[38;5;241m.\u001b[39mextend(list_decoded_sequences)\n\u001b[1;32m      6\u001b[0m     \u001b[38;5;28;01mreturn\u001b[39;00m list_samhaengshi\n\u001b[0;32m----> 8\u001b[0m \u001b[43mmake_samhaengshi\u001b[49m\u001b[43m(\u001b[49m\u001b[43minput_letter\u001b[49m\u001b[38;5;241;43m=\u001b[39;49m\u001b[38;5;124;43m\"\u001b[39;49m\u001b[38;5;124;43m가을잎\u001b[39;49m\u001b[38;5;124;43m\"\u001b[39;49m\u001b[43m,\u001b[49m\u001b[43m \u001b[49m\u001b[43mk\u001b[49m\u001b[38;5;241;43m=\u001b[39;49m\u001b[38;5;241;43m1\u001b[39;49m\u001b[43m,\u001b[49m\u001b[43m \u001b[49m\u001b[43moutput_token_length\u001b[49m\u001b[38;5;241;43m=\u001b[39;49m\u001b[38;5;241;43m10\u001b[39;49m\u001b[43m)\u001b[49m\n",
      "Input \u001b[0;32mIn [35]\u001b[0m, in \u001b[0;36mmake_samhaengshi\u001b[0;34m(input_letter, k, output_token_length)\u001b[0m\n\u001b[1;32m      3\u001b[0m \u001b[38;5;28;01mfor\u001b[39;00m one_letter \u001b[38;5;129;01min\u001b[39;00m input_letter:\n\u001b[1;32m      4\u001b[0m     list_decoded_sequences \u001b[38;5;241m=\u001b[39m generate_text(one_letter, k\u001b[38;5;241m=\u001b[39mk, max_length\u001b[38;5;241m=\u001b[39moutput_token_length)\n\u001b[0;32m----> 5\u001b[0m     \u001b[43mlist_samhaengshi\u001b[49m\u001b[38;5;241;43m.\u001b[39;49m\u001b[43mextend\u001b[49m\u001b[43m(\u001b[49m\u001b[43mlist_decoded_sequences\u001b[49m\u001b[43m)\u001b[49m\n\u001b[1;32m      6\u001b[0m \u001b[38;5;28;01mreturn\u001b[39;00m list_samhaengshi\n",
      "\u001b[0;31mTypeError\u001b[0m: 'NoneType' object is not iterable"
     ]
    }
   ],
   "source": [
    "def make_samhaengshi(input_letter, k, output_token_length):\n",
    "    list_samhaengshi = []\n",
    "    for one_letter in input_letter:\n",
    "        list_decoded_sequences = generate_text(one_letter, k=k, max_length=output_token_length)\n",
    "        list_samhaengshi.extend(list_decoded_sequences)\n",
    "    return list_samhaengshi\n",
    "\n",
    "make_samhaengshi(input_letter=\"가을잎\", k=1, output_token_length=10)"
   ]
  },
  {
   "cell_type": "code",
   "execution_count": null,
   "id": "bd05c5d4",
   "metadata": {},
   "outputs": [],
   "source": []
  },
  {
   "cell_type": "code",
   "execution_count": null,
   "id": "0f65b193",
   "metadata": {},
   "outputs": [],
   "source": []
  },
  {
   "cell_type": "code",
   "execution_count": 31,
   "id": "0f153e71",
   "metadata": {},
   "outputs": [
    {
     "name": "stdout",
     "output_type": "stream",
     "text": [
      "Inferred sentences given '너는 나의'\n"
     ]
    },
    {
     "ename": "NameError",
     "evalue": "name 'model' is not defined",
     "output_type": "error",
     "traceback": [
      "\u001b[0;31m---------------------------------------------------------------------------\u001b[0m",
      "\u001b[0;31mNameError\u001b[0m                                 Traceback (most recent call last)",
      "Input \u001b[0;32mIn [31]\u001b[0m, in \u001b[0;36m<cell line: 34>\u001b[0;34m()\u001b[0m\n\u001b[1;32m     32\u001b[0m input_sentence \u001b[38;5;241m=\u001b[39m \u001b[38;5;124m\"\u001b[39m\u001b[38;5;124m너는 나의\u001b[39m\u001b[38;5;124m\"\u001b[39m\n\u001b[1;32m     33\u001b[0m \u001b[38;5;28mprint\u001b[39m(\u001b[38;5;124mf\u001b[39m\u001b[38;5;124m\"\u001b[39m\u001b[38;5;124mInferred sentences given \u001b[39m\u001b[38;5;124m'\u001b[39m\u001b[38;5;132;01m{\u001b[39;00minput_sentence\u001b[38;5;132;01m}\u001b[39;00m\u001b[38;5;124m'\u001b[39m\u001b[38;5;124m\"\u001b[39m)\n\u001b[0;32m---> 34\u001b[0m inferred_sentences \u001b[38;5;241m=\u001b[39m infer_sentence(input_sentence, k\u001b[38;5;241m=\u001b[39m\u001b[38;5;241m10\u001b[39m, output_token_length\u001b[38;5;241m=\u001b[39m\u001b[38;5;241m42\u001b[39m, model\u001b[38;5;241m=\u001b[39m\u001b[43mmodel\u001b[49m)\n\u001b[1;32m     35\u001b[0m inferred_sentences\n",
      "\u001b[0;31mNameError\u001b[0m: name 'model' is not defined"
     ]
    }
   ],
   "source": [
    "def infer_sentence(input_sentence, k, output_token_length, model):\n",
    "\n",
    "    # encode the sample sentence\n",
    "    input_ids = tokenizer.encode(\n",
    "        input_sentence, \n",
    "        add_special_tokens=False, \n",
    "        return_tensors=\"pt\"\n",
    "        )\n",
    "\n",
    "    # decode the output sequence and print its outcome\n",
    "    list_decoded_sequences = []\n",
    "    while len(list_decoded_sequences) < k:\n",
    "        # generate output sequence from the given encoded input sequence\n",
    "        output_sequences = model.generate(\n",
    "            input_ids=input_ids.to(device), \n",
    "            do_sample=True, \n",
    "            max_length=output_token_length, \n",
    "            num_return_sequences=k\n",
    "            )\n",
    "\n",
    "        for index, generated_sequence in enumerate(output_sequences):\n",
    "            generated_sequence = generated_sequence.tolist()\n",
    "            # remove padding from the generated sequence\n",
    "            generated_sequence = generated_sequence[:generated_sequence.index(tokenizer.pad_token_id)]\n",
    "            decoded_sequence = tokenizer.decode(generated_sequence, clean_up_tokenization_spaces=True)\n",
    "            # print(f\"{index} : {decoded_sequence}\")\n",
    "            list_decoded_sequences.append(decoded_sequence)\n",
    "        list_decoded_sequences = list(set(list_decoded_sequences))\n",
    "    \n",
    "    return list_decoded_sequences\n",
    "\n",
    "input_sentence = \"너는 나의\"\n",
    "print(f\"Inferred sentences given '{input_sentence}'\")\n",
    "inferred_sentences = infer_sentence(input_sentence, k=10, output_token_length=42, model=model)\n",
    "inferred_sentences"
   ]
  },
  {
   "cell_type": "code",
   "execution_count": null,
   "id": "2bc21d7f",
   "metadata": {},
   "outputs": [],
   "source": []
  },
  {
   "cell_type": "code",
   "execution_count": null,
   "id": "12d60202",
   "metadata": {},
   "outputs": [],
   "source": []
  },
  {
   "cell_type": "code",
   "execution_count": null,
   "id": "49ed74a8",
   "metadata": {},
   "outputs": [],
   "source": []
  },
  {
   "cell_type": "code",
   "execution_count": null,
   "id": "3df9b2dd",
   "metadata": {},
   "outputs": [],
   "source": []
  },
  {
   "cell_type": "code",
   "execution_count": null,
   "id": "73353f52",
   "metadata": {},
   "outputs": [],
   "source": []
  },
  {
   "cell_type": "markdown",
   "id": "6ad4bfb8",
   "metadata": {},
   "source": [
    "# 여기부터 다른 내용"
   ]
  },
  {
   "cell_type": "markdown",
   "id": "72b46469",
   "metadata": {},
   "source": [
    "[참고 링크](https://github.com/snoop2head/KoGPT-Joong-2/blob/main/finetune_kogpt_trinity.ipynb)"
   ]
  },
  {
   "cell_type": "code",
   "execution_count": null,
   "id": "b37daea9",
   "metadata": {},
   "outputs": [],
   "source": [
    "import os\n",
    "import random\n",
    "import torch\n",
    "import pandas as pd\n",
    "import numpy as np\n",
    "\n",
    "ROOT_PATH = os.path.abspath(\".\")"
   ]
  },
  {
   "cell_type": "code",
   "execution_count": null,
   "id": "0fa48fda",
   "metadata": {},
   "outputs": [],
   "source": [
    "from datetime import datetime\n",
    "from easydict import EasyDict\n",
    "\n",
    "# Initialize configuration\n",
    "CFG = EasyDict()\n",
    "\n",
    "# Dataset Config as constants\n",
    "CFG.DEBUG = False\n",
    "CFG.num_workers = 4\n",
    "CFG.train_batch_size = 16\n",
    "\n",
    "# Train configuration\n",
    "CFG.user_name = \"snoop2head\"\n",
    "today = datetime.now().strftime(\"%m%d_%H:%M\")\n",
    "CFG.file_base_name = f\"{CFG.user_name}_{today}\"\n",
    "CFG.model_dir = \"skt/ko-gpt-trinity-1.2B-v0.5\" # designate the model's name registered on huggingface: https://huggingface.co/skt/ko-gpt-trinity-1.2B-v0.5\n",
    "CFG.max_token_length = 42\n",
    "CFG.learning_rate = 5e-5\n",
    "CFG.weight_decay = 1e-2 # https://paperswithcode.com/method/weight-decay and https://github.com/clovaai/AdamP\n",
    "\n",
    "# training steps configurations\n",
    "CFG.save_steps = 500\n",
    "CFG.early_stopping_patience = 5\n",
    "CFG.warmup_steps = 500\n",
    "CFG.logging_steps = 100\n",
    "CFG.evaluation_strategy = 'epoch'\n",
    "CFG.evaluation_steps = 500\n",
    "\n",
    "# Directory configuration\n",
    "CFG.result_dir = os.path.join(ROOT_PATH, \"results\")\n",
    "CFG.saved_model_dir = os.path.join(ROOT_PATH, \"best_models\")\n",
    "CFG.logging_dir = os.path.join(ROOT_PATH, \"logs\")\n",
    "CFG.baseline_dir = os.path.join(ROOT_PATH, 'baseline-code')\n",
    "\n",
    "print(CFG)"
   ]
  },
  {
   "cell_type": "code",
   "execution_count": null,
   "id": "87ef5786",
   "metadata": {},
   "outputs": [],
   "source": [
    "# read txt file from line by line\n",
    "def read_txt(path):\n",
    "    with open(path, 'r') as f:\n",
    "        lines = f.readlines()\n",
    "    return lines\n",
    "\n",
    "# make sampling function from the list\n",
    "def sampling(list_lines:list, n:int) -> list:\n",
    "    # sampling\n",
    "    list_lines = np.random.choice(list_lines, n)\n",
    "    list_lines = list(list_lines)\n",
    "    return list_lines"
   ]
  },
  {
   "cell_type": "code",
   "execution_count": null,
   "id": "1c0adb08",
   "metadata": {},
   "outputs": [],
   "source": [
    "# read dataset from poetic_sentences_kor.txt\n",
    "path = os.path.join(\"test_data.txt\")\n",
    "list_loaded = read_txt(path)\n",
    "print(\"total dataset length:\", len(list_loaded))"
   ]
  },
  {
   "cell_type": "code",
   "execution_count": null,
   "id": "3acddc05",
   "metadata": {},
   "outputs": [],
   "source": [
    "# get proportion of sentences where length is between 1 and 52\n",
    "min_char_length = 5\n",
    "max_char_length = 52\n",
    "list_to_use = list(filter(lambda x: len(x) > min_char_length and len(x) < max_char_length, list_loaded))\n",
    "\n",
    "print(f\"Length of dataset that is in between {min_char_length} and {max_char_length} is\" , len(list_to_use))\n",
    "print(f\"This is {round(len(list_to_use) / len(list_loaded) * 100, 2)} % of total dataset\")\n",
    "\n",
    "n = 20\n",
    "print(f\"Below are {n} samples of data to use\")\n",
    "sampling(list_to_use, n)"
   ]
  },
  {
   "cell_type": "code",
   "execution_count": null,
   "id": "b4ce66be",
   "metadata": {},
   "outputs": [],
   "source": [
    "import re\n",
    "\n",
    "stopwords = []\n",
    "\n",
    "# make post_process function\n",
    "def post_process(list_lines:list, stopwords) -> list:\n",
    "    # remove \\n\n",
    "    removed_lines = [line.strip() for line in list_lines]\n",
    "\n",
    "    # filter stopwords from the line item in list_lines using regex\n",
    "    if len(stopwords) > 0:\n",
    "        removed_lines = []\n",
    "        for line in list_lines:\n",
    "            for stopword in stopwords:\n",
    "                line = re.sub(stopword, '', line)\n",
    "            removed_lines.append(line)\n",
    "\n",
    "    # remove newlines\n",
    "    removed_lines = [sentence.replace('\\n', '') for sentence in removed_lines]\n",
    "\n",
    "    # strip whitespace\n",
    "    removed_lines = [sentence.strip() for sentence in removed_lines]\n",
    "\n",
    "    # remove one letter items\n",
    "    removed_lines = [sentence for sentence in removed_lines if len(sentence) > 1]\n",
    "\n",
    "    return removed_lines"
   ]
  },
  {
   "cell_type": "code",
   "execution_count": null,
   "id": "a748883c",
   "metadata": {},
   "outputs": [],
   "source": [
    "list_post_processed = post_process(list_to_use, stopwords)\n",
    "print(len(list_post_processed))\n",
    "\n",
    "n = 10\n",
    "sampling(list_post_processed, n)"
   ]
  },
  {
   "cell_type": "code",
   "execution_count": null,
   "id": "ed3900c6",
   "metadata": {},
   "outputs": [],
   "source": [
    "from transformers import GPT2Tokenizer, PreTrainedTokenizerFast\n",
    "\n",
    "# Load the Tokenizer: \"Fast\" means that the tokenizer code is written in Rust Lang\n",
    "tokenizer = AutoTokenizer.from_pretrained(\"skt/kogpt2-base-v2\")"
   ]
  },
  {
   "cell_type": "code",
   "execution_count": null,
   "id": "cc54213b",
   "metadata": {},
   "outputs": [],
   "source": [
    "# get the length of the individual items in tokenized input_ids\n",
    "tokenized_input_ids = tokenizer(list_post_processed).input_ids\n",
    "tokenized_length = [len(item) for item in tokenized_input_ids]"
   ]
  },
  {
   "cell_type": "code",
   "execution_count": null,
   "id": "7d60b9d7",
   "metadata": {},
   "outputs": [],
   "source": [
    "from transformers import GPT2Config\n",
    "\n",
    "# set config and override with custom configuration\n",
    "config = GPT2Config.from_pretrained(CFG.model_dir)\n",
    "config"
   ]
  },
  {
   "cell_type": "code",
   "execution_count": null,
   "id": "e9189970",
   "metadata": {},
   "outputs": [],
   "source": [
    "import torch\n",
    "\n",
    "# move the model to device\n",
    "if torch.cuda.is_available() and CFG.DEBUG == False:\n",
    "    device = torch.device(\"cuda:0\")\n",
    "elif CFG.DEBUG == True:\n",
    "    device = torch.device(\"cpu\")\n",
    "\n",
    "print(f\"current device that is training on: {device}\")\n",
    "model = model.to(device)\n",
    "model.train()"
   ]
  },
  {
   "cell_type": "code",
   "execution_count": null,
   "id": "78c32b15",
   "metadata": {},
   "outputs": [],
   "source": [
    "!nvidia-smi"
   ]
  },
  {
   "cell_type": "code",
   "execution_count": null,
   "id": "a7e5bc1a",
   "metadata": {},
   "outputs": [],
   "source": [
    "from torch.utils.data import Dataset, DataLoader\n",
    "\n",
    "class CustomDataset(Dataset):\n",
    "    \"\"\" CustomDataset class for poetic sentences \"\"\"\n",
    "    def __init__(self, list_dataset, tokenizer):\n",
    "\n",
    "        self.list_dataset = list_dataset\n",
    "        self.tokenizer = tokenizer\n",
    "        self.tokenized_sentences = self.tokenizer(\n",
    "            list_dataset,\n",
    "            return_tensors=\"pt\",\n",
    "            padding=\"max_length\",\n",
    "            truncation=True,\n",
    "            max_length=CFG.max_token_length,\n",
    "            add_special_tokens=True,\n",
    "            return_token_type_ids=False,\n",
    "            )\n",
    "\n",
    "    def __getitem__(self, idx):\n",
    "        encoded_dict = {key: val[idx] for key, val in self.tokenized_sentences.items()}\n",
    "        encoded_dict[\"labels\"] = encoded_dict[\"input_ids\"].clone() # gpt has same labels as input_ids: https://github.com/huggingface/notebooks/blob/master/examples/language_modeling.ipynb\n",
    "        return encoded_dict\n",
    "\n",
    "    def __len__(self):\n",
    "        return len(self.list_dataset)"
   ]
  },
  {
   "cell_type": "code",
   "execution_count": null,
   "id": "811f05c7",
   "metadata": {},
   "outputs": [],
   "source": [
    "list_post_processed"
   ]
  },
  {
   "cell_type": "code",
   "execution_count": null,
   "id": "aed3cb7e",
   "metadata": {},
   "outputs": [],
   "source": [
    "kor_poetic_dataset = CustomDataset(list_post_processed, tokenizer)\n",
    "kor_eval_dataset_for_debugging = CustomDataset(list_post_processed[:100], tokenizer) # small dataset for debugging purpose\n",
    "print(len(kor_poetic_dataset))"
   ]
  },
  {
   "cell_type": "code",
   "execution_count": null,
   "id": "f73b24f8",
   "metadata": {},
   "outputs": [],
   "source": []
  }
 ],
 "metadata": {
  "kernelspec": {
   "display_name": "Python 3",
   "language": "python",
   "name": "python3"
  },
  "language_info": {
   "codemirror_mode": {
    "name": "ipython",
    "version": 3
   },
   "file_extension": ".py",
   "mimetype": "text/x-python",
   "name": "python",
   "nbconvert_exporter": "python",
   "pygments_lexer": "ipython3",
   "version": "3.10.0 (default, Jul  5 2022, 00:11:45) [Clang 13.1.6 (clang-1316.0.21.2.5)]"
  },
  "vscode": {
   "interpreter": {
    "hash": "d670fa2da9d1771f2ce22d800891e4db2c4301e4bd2d4d6dfd0558e6ef11b197"
   }
  }
 },
 "nbformat": 4,
 "nbformat_minor": 5
}
