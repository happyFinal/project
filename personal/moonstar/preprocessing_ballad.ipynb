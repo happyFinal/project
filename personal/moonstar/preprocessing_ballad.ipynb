{
 "cells": [
  {
   "cell_type": "code",
   "execution_count": 43,
   "id": "001db2d1",
   "metadata": {},
   "outputs": [],
   "source": [
    "# 라이브러리 로드\n",
    "import pandas as pd\n",
    "import numpy as np\n",
    "\n",
    "import matplotlib.pyplot as plt\n",
    "import koreanize_matplotlib\n",
    "import seaborn as sns\n",
    "\n",
    "import re\n",
    "import pickle"
   ]
  },
  {
   "cell_type": "code",
   "execution_count": 2,
   "id": "2b91c9c6",
   "metadata": {},
   "outputs": [
    {
     "data": {
      "text/html": [
       "<div>\n",
       "<style scoped>\n",
       "    .dataframe tbody tr th:only-of-type {\n",
       "        vertical-align: middle;\n",
       "    }\n",
       "\n",
       "    .dataframe tbody tr th {\n",
       "        vertical-align: top;\n",
       "    }\n",
       "\n",
       "    .dataframe thead th {\n",
       "        text-align: right;\n",
       "    }\n",
       "</style>\n",
       "<table border=\"1\" class=\"dataframe\">\n",
       "  <thead>\n",
       "    <tr style=\"text-align: right;\">\n",
       "      <th></th>\n",
       "      <th>제목</th>\n",
       "      <th>가사</th>\n",
       "      <th>장르</th>\n",
       "    </tr>\n",
       "  </thead>\n",
       "  <tbody>\n",
       "    <tr>\n",
       "      <th>0</th>\n",
       "      <td>무지개 (Rainbow) (Feat. 조용휘)</td>\n",
       "      <td>동그랗고 하얀 이마\\n오똑한 반짝이는 코\\n다갈색 눈동자 옆 살짝 보이는 점까지\\n...</td>\n",
       "      <td>뮤지컬</td>\n",
       "    </tr>\n",
       "    <tr>\n",
       "      <th>1</th>\n",
       "      <td>나 주는 줄 알고 손 내밀었잖아</td>\n",
       "      <td>넌 밉고 난 쪽팔린다\\n뭘 이런 걸 다 사 왔어 할지\\n헉 뭐야 고마워 할지\\n아이...</td>\n",
       "      <td>뮤지컬</td>\n",
       "    </tr>\n",
       "    <tr>\n",
       "      <th>2</th>\n",
       "      <td>너와나</td>\n",
       "      <td>이 땅위에 태어나 비로소 여기 있네\\n우리 모두가 그리던 그 날\\n바라고 바라던 꿈...</td>\n",
       "      <td>뮤지컬</td>\n",
       "    </tr>\n",
       "    <tr>\n",
       "      <th>3</th>\n",
       "      <td>나만의 언어 rep.</td>\n",
       "      <td>(좋아)\\n나는 널 이렇게 부를게\\n(자유, 그래 자유)\\n난 너를 이렇게 부를래\\...</td>\n",
       "      <td>뮤지컬</td>\n",
       "    </tr>\n",
       "    <tr>\n",
       "      <th>4</th>\n",
       "      <td>여기는 엄마 컴퍼니</td>\n",
       "      <td>어떤 엄마를 원하십니까\\n원하는 엄마를 고를 수 있는\\n여기는 바로 바로 엄마컴퍼니...</td>\n",
       "      <td>뮤지컬</td>\n",
       "    </tr>\n",
       "  </tbody>\n",
       "</table>\n",
       "</div>"
      ],
      "text/plain": [
       "                          제목  \\\n",
       "0  무지개 (Rainbow) (Feat. 조용휘)   \n",
       "1          나 주는 줄 알고 손 내밀었잖아   \n",
       "2                        너와나   \n",
       "3                나만의 언어 rep.   \n",
       "4                 여기는 엄마 컴퍼니   \n",
       "\n",
       "                                                  가사   장르  \n",
       "0  동그랗고 하얀 이마\\n오똑한 반짝이는 코\\n다갈색 눈동자 옆 살짝 보이는 점까지\\n...  뮤지컬  \n",
       "1  넌 밉고 난 쪽팔린다\\n뭘 이런 걸 다 사 왔어 할지\\n헉 뭐야 고마워 할지\\n아이...  뮤지컬  \n",
       "2  이 땅위에 태어나 비로소 여기 있네\\n우리 모두가 그리던 그 날\\n바라고 바라던 꿈...  뮤지컬  \n",
       "3  (좋아)\\n나는 널 이렇게 부를게\\n(자유, 그래 자유)\\n난 너를 이렇게 부를래\\...  뮤지컬  \n",
       "4  어떤 엄마를 원하십니까\\n원하는 엄마를 고를 수 있는\\n여기는 바로 바로 엄마컴퍼니...  뮤지컬  "
      ]
     },
     "metadata": {},
     "output_type": "display_data"
    },
    {
     "data": {
      "text/plain": [
       "(109186, 3)"
      ]
     },
     "execution_count": 2,
     "metadata": {},
     "output_type": "execute_result"
    }
   ],
   "source": [
    "# 데이터셋 로드\n",
    "root_dir = \"data\"\n",
    "\n",
    "df = pd.read_parquet(f\"{root_dir}/all_append_csv_12_26_1200i.gzip\")\n",
    "display(df.head())\n",
    "df.shape"
   ]
  },
  {
   "cell_type": "code",
   "execution_count": 3,
   "id": "bf990ba9",
   "metadata": {},
   "outputs": [
    {
     "name": "stdout",
     "output_type": "stream",
     "text": [
      "<class 'pandas.core.frame.DataFrame'>\n",
      "RangeIndex: 109186 entries, 0 to 109185\n",
      "Data columns (total 3 columns):\n",
      " #   Column  Non-Null Count   Dtype   \n",
      "---  ------  --------------   -----   \n",
      " 0   제목      109185 non-null  object  \n",
      " 1   가사      109186 non-null  object  \n",
      " 2   장르      109186 non-null  category\n",
      "dtypes: category(1), object(2)\n",
      "memory usage: 1.8+ MB\n"
     ]
    }
   ],
   "source": [
    "df.info()"
   ]
  },
  {
   "cell_type": "code",
   "execution_count": 4,
   "id": "f4e95bf8",
   "metadata": {},
   "outputs": [
    {
     "data": {
      "text/plain": [
       "(109186, 3)"
      ]
     },
     "execution_count": 4,
     "metadata": {},
     "output_type": "execute_result"
    }
   ],
   "source": [
    "# 중복행 한 번 더 확인\n",
    "df = df.drop_duplicates()\n",
    "df.shape"
   ]
  },
  {
   "cell_type": "code",
   "execution_count": 5,
   "id": "1eb445b1",
   "metadata": {},
   "outputs": [
    {
     "data": {
      "text/plain": [
       "(105744, 3)"
      ]
     },
     "execution_count": 5,
     "metadata": {},
     "output_type": "execute_result"
    }
   ],
   "source": [
    "# 기본 전처리\n",
    "df[\"가사\"] = df[\"가사\"].map(lambda x : re.sub(\"[^ㄱ-ㅎ가-힣0-9\\n ]\", \"\", x).strip()) # 한글 자음, 한글, 숫자, 개행문자만 남기고 제거\n",
    "df[\"가사\"] = df[\"가사\"].map(lambda x : re.sub(\"\\s{2,}\", \"\", x)) # 공백 2회 이상 제거\n",
    "df = df[df[\"가사\"].map(lambda x : len(x) > 10)] # 전처리 후 빈 행이나 10자 이상이 안되는 데이터 제거\n",
    "df = df.reset_index(drop=True) # 인덱스 초기화\n",
    "df.shape"
   ]
  },
  {
   "cell_type": "code",
   "execution_count": 6,
   "id": "cc0d053a",
   "metadata": {},
   "outputs": [
    {
     "data": {
      "text/plain": [
       "발라드      602\n",
       "록메탈      412\n",
       "댄스       249\n",
       "트로트      196\n",
       "RNB      163\n",
       "포크블루스    159\n",
       "힙합        98\n",
       "동요        76\n",
       "뮤지컬       12\n",
       "Name: 장르, dtype: int64"
      ]
     },
     "execution_count": 6,
     "metadata": {},
     "output_type": "execute_result"
    }
   ],
   "source": [
    "# 장르별 개행문자를 포함하지 않은 곡 개수\n",
    "df.loc[~df[\"가사\"].str.contains(\"\\n\"), \"장르\"].value_counts()"
   ]
  },
  {
   "cell_type": "code",
   "execution_count": 7,
   "id": "e03e850f",
   "metadata": {},
   "outputs": [
    {
     "data": {
      "text/plain": [
       "(103777, 3)"
      ]
     },
     "execution_count": 7,
     "metadata": {},
     "output_type": "execute_result"
    }
   ],
   "source": [
    "# 개행문자 없는 데이터 제거\n",
    "df = df[df[\"가사\"].str.contains(\"\\n\")]\n",
    "df.shape"
   ]
  },
  {
   "cell_type": "code",
   "execution_count": 8,
   "id": "51b8a127",
   "metadata": {},
   "outputs": [
    {
     "data": {
      "image/png": "[encoded data removed]",
      "text/plain": [
       "<Figure size 640x480 with 1 Axes>"
      ]
     },
     "metadata": {},
     "output_type": "display_data"
    }
   ],
   "source": [
    "# 전처리 후 가사 길이\n",
    "df[\"가사\"].str.len().hist(bins=50).set_title(\"전처리 후 가사 길이\");"
   ]
  },
  {
   "cell_type": "code",
   "execution_count": 9,
   "id": "8b7a5364",
   "metadata": {
    "scrolled": true
   },
   "outputs": [
    {
     "data": {
      "text/plain": [
       "413       땅속에 꽃씨가 잠을 깨나 봐\\n들마다 언덕마다 파란 숨결 소리에\\n포시시 눈을 뜨는...\n",
       "414       높고 높은 하늘이라 말들 하지만\\n나는 나는 높은 게 또 하나 있지\\n낳으시고 기르...\n",
       "416       방울새야 방울새야 쪼로롱 방울새야\\n간밤에 고방울 어디서 사왔니\\n쪼로롱 고방울 어...\n",
       "417       아랫집 윗집 사이에 울타리는 있지만\\n기쁜 일 슬픈 일 모두 내 일처럼 여기고\\n서...\n",
       "419       노래는 즐겁다\\n지저귀는 멧새처럼\\n비배쫑 비배쫑\\n비배쫑 배쫑배쫑\\n노래를 부르면...\n",
       "                                ...                        \n",
       "105431    우리 사랑하고 헤어질 줄 정말 몰랐죠\\n너무 차가워진 니 모습 미워요\\n다른 누군가...\n",
       "105655    집에 돌아오던 해 질 무렵 거리에\\n노란 불빛 아래 놓인\\n예쁜 밀짚모자\\n만화 속...\n",
       "105706    의 라디오 쑈쑈쑈\\n오늘 채택된 사연은\\n경기도 여주군\\n여주우체국 사서함 7호\\n...\n",
       "105707    바람아 불어라 메마른 가슴에\\n불 같은 세월의 상처를 데려가\\n세상에 가득한 아픔도...\n",
       "105738    내방엔 유리병하나\\n끝없이 술렁이는\\n창문틈 커튼사이로\\n꽃바람 살랑이며 옵시네\\n...\n",
       "Name: 가사, Length: 97, dtype: object"
      ]
     },
     "execution_count": 9,
     "metadata": {},
     "output_type": "execute_result"
    }
   ],
   "source": [
    "df.loc[df[\"가사\"].str.contains(\"간주\"), \"가사\"]"
   ]
  },
  {
   "cell_type": "code",
   "execution_count": 10,
   "id": "8f60dd2c",
   "metadata": {
    "scrolled": true
   },
   "outputs": [
    {
     "data": {
      "text/plain": [
       "4317     노래는 흐르고\\n우리는 멈출 줄 몰랐지\\n영원을 말했고 우리는 약속을 했지\\n흐르는...\n",
       "24843    설레는 불금 물량은 폭발\\n내 손은 이리저리\\n조각글을 뒤진다\\n방장은 소령 담당은...\n",
       "24964    설레는 불금 물량은 폭발\\n내 손은 이리저리 조각글을 뒤진다\\n방장은 소령 담당은 ...\n",
       "28852    제1절\\n모두들 잠드는 고요한 이밤에\\n어이해 나홀로 잠못이루나\\n넘기는 책속에 수...\n",
       "31371    1절\\n엄마가 섬그늘에 굴따러가면\\n아기는 혼자남아 집을 보다가\\n바다가 불러주는 ...\n",
       "34329    난 분명 짜장면을 시켰는데\\n짬뽕이 왔을 때\\n오히려 좋아\\n500원 더 비싸 오히...\n",
       "34554    난 분명 짜장면을 시켰는데\\n짬뽕이 왔을 때\\n오히려 좋아\\n500원 더 비싸 오히...\n",
       "36167    너무 빨리 지나는 시간은\\n야속하게도 기다리지 않아\\n남기지 말자 아쉬움이란 거\\n...\n",
       "36468    모두 그에게 말해 또 왔네\\n새꺄죽지 않고 왔다 이렇게\\n새꺄 뭐의\\n라인을 빌릴래...\n",
       "37166    맨발로 올라왔지 발엔 굳은살이 배겨\\n이제 안 해도 돼 배려넌 내 실팰 점쳤지만\\n...\n",
       "39503    어른이 되면\\n내 안의 어린아인 어딘가\\n떠나간 채로\\n가면을 쓰고 살아야 하니까\\...\n",
       "39767    난 정상수 부산을 대표해\\n이 게임의 승자는\\n정해져 있어 애초에나는 정상수 부산을...\n",
       "40327    벌써 12시\\n아직 집으로 들어가\\n긴 이른 시간이라\\n작업실로 돌아와\\n마신 소주...\n",
       "44765    우리 집에 음악 들으러 갈래\\n아님 귀여운 강아지 보러 갈래\\n다른 뜻은 없어 단지...\n",
       "53125    1절\\n밥 먹었니 라고 말하고 싶지만 그럴 수가 없어 이젠\\n어떻게 할지 생각해 봤...\n",
       "55600    너도 나와 같기를1절그래 알고 있어 이제 우린\\n이미 엎질러진 잔이 된걸\\n빈잔처럼...\n",
       "57781    한국형 발라드는\\n1절에서 드럼이\\n나오진 않지만\\n난 한 번 넣어 볼게\\n다시로\\...\n",
       "65552    그녀가 지나가 폐허의 콜렉션\\n도대체 얼마나 짓밟고 다닐껀데\\n무너진 사랑탑 파멸의...\n",
       "68866    1절\\n찔레꽃 붉게 피는 남족나라 내고향\\n언덕위에 초가삼간 그립습니다\\n자주고름 ...\n",
       "70855    1절서로 다른 생각을 갖고 빈 가슴 안고 사느니\\n차라리 돌아 서서 다시 한 번 맞...\n",
       "71002    1절\\n이왕에 만났으니\\n한백년을 살고갑시다\\n장미가 곱다해도 청춘이 곱다해도\\n시...\n",
       "71132    1절\\n어디서 왔느냐고\\n물으셨나요\\n저 남쪽 산간 마을\\n고창에서 왔어요\\n수박 ...\n",
       "71405    1절\\n가슴에 다 묻지 말아요\\n어차피 잊을 거라면\\n그냥 세월에 던져버려요\\n날 ...\n",
       "76824    1절\\n아신라의 밤이여\\n불국사의 종소리 들리어 온다\\n지1절\\n아신라의 밤이여\\n...\n",
       "77620    1절\\n끊어진 인연의 강을\\n당신과 나 사이에 두고\\n타는 가슴 어쩌지를 못해\\n눈...\n",
       "77640    1절\\n봉선화 손가락에\\n물들었던 그 시절은\\n스치듯 지나갔네\\n소리도 없이\\n나를...\n",
       "77713    1절\\n네온불이 쓸슬하게 꺼져가는 삼거리\\n이별앞에 너와나는 한없이 울었다\\n추억만...\n",
       "77807    신유와 함께 원하신다면\\n때와 장소 중요치 않아\\n신나는 리듬 트위스트야\\n오빠 동...\n",
       "83102    이런 감정도\\n지긋지긋해져\\n모두가 그렇듯\\n별생각 없이 살 순 없을까\\n이렇게 저...\n",
       "92555    야야야 너\\n공과 사 좀 구분해\\n예의범절이 없네\\n에 에 에 어\\n공과 사 좀 구...\n",
       "94399    야야야 너\\n공과 사 좀 구분해\\n예의범절이 없네\\n에에 에어\\n공과 사 좀 구분해...\n",
       "Name: 가사, dtype: object"
      ]
     },
     "execution_count": 10,
     "metadata": {},
     "output_type": "execute_result"
    }
   ],
   "source": [
    "df.loc[df[\"가사\"].str.contains('1절'), \"가사\"]"
   ]
  },
  {
   "cell_type": "code",
   "execution_count": 11,
   "id": "3699830d",
   "metadata": {},
   "outputs": [
    {
     "data": {
      "text/plain": [
       "(43818, 3)"
      ]
     },
     "execution_count": 11,
     "metadata": {},
     "output_type": "execute_result"
    }
   ],
   "source": [
    "# 발라드만 떼오기\n",
    "df_ballad = df[df[\"장르\"] == \"발라드\"]\n",
    "df_ballad.shape"
   ]
  },
  {
   "cell_type": "code",
   "execution_count": 45,
   "id": "c86c3008",
   "metadata": {},
   "outputs": [
    {
     "data": {
      "text/plain": [
       "'2파리에 도착했네\\n어딜 갈까 뭘 보게 될까\\n샹젤리제를 걷고\\n한 손엔 바게트\\n자전거 타고서 에펠탑을 지나\\n파리에 도착했네\\n어딜 갈까 뭘 먹게 될까\\n어디선가 들리는 음악소리\\n퐁네프 다리 위에 예술가들\\n기타 아코디언이 들려오고\\n음악 소리가 날 춤추게 하네파리 날 꿈꾸게 해 파리가 날 꿈꾸게 하네\\n파리 날 꿈꾸게 해 파리가 내 꿈 나의 모험간주파리에 도착했네\\n거리 위에 연인들이 있네\\n나는 왜 혼자만 남아있는 걸까\\n퐁네프 다리 위에 예술가들\\n기타 아코디언이 들려오고\\n음악 소리가 날 춤추게 하네'"
      ]
     },
     "execution_count": 45,
     "metadata": {},
     "output_type": "execute_result"
    }
   ],
   "source": [
    "df_ballad.loc[df_ballad[\"가사\"].str.contains(\"간주\"), \"가사\"][13463]"
   ]
  },
  {
   "cell_type": "code",
   "execution_count": 29,
   "id": "6427104c",
   "metadata": {},
   "outputs": [
    {
     "data": {
      "text/plain": [
       "Series([], Name: 가사, dtype: object)"
      ]
     },
     "execution_count": 29,
     "metadata": {},
     "output_type": "execute_result"
    }
   ],
   "source": [
    "df_ballad.loc[df_ballad[\"가사\"].str.contains('1절'), \"가사\"]"
   ]
  },
  {
   "cell_type": "code",
   "execution_count": 15,
   "id": "0a1867d0",
   "metadata": {},
   "outputs": [
    {
     "name": "stderr",
     "output_type": "stream",
     "text": [
      "C:\\Users\\JongHyun_Moon\\AppData\\Local\\Temp\\ipykernel_17516\\3620622279.py:2: SettingWithCopyWarning: \n",
      "A value is trying to be set on a copy of a slice from a DataFrame.\n",
      "Try using .loc[row_indexer,col_indexer] = value instead\n",
      "\n",
      "See the caveats in the documentation: https://pandas.pydata.org/pandas-docs/stable/user_guide/indexing.html#returning-a-view-versus-a-copy\n",
      "  df_ballad[\"가사\"] = df_ballad[\"가사\"].map(lambda x : re.sub(\"1절\", \"\", x))\n",
      "C:\\Users\\JongHyun_Moon\\AppData\\Local\\Temp\\ipykernel_17516\\3620622279.py:3: SettingWithCopyWarning: \n",
      "A value is trying to be set on a copy of a slice from a DataFrame.\n",
      "Try using .loc[row_indexer,col_indexer] = value instead\n",
      "\n",
      "See the caveats in the documentation: https://pandas.pydata.org/pandas-docs/stable/user_guide/indexing.html#returning-a-view-versus-a-copy\n",
      "  df_ballad[\"가사\"] = df_ballad[\"가사\"].map(lambda x : re.sub(\"2절\", \"\", x))\n",
      "C:\\Users\\JongHyun_Moon\\AppData\\Local\\Temp\\ipykernel_17516\\3620622279.py:4: SettingWithCopyWarning: \n",
      "A value is trying to be set on a copy of a slice from a DataFrame.\n",
      "Try using .loc[row_indexer,col_indexer] = value instead\n",
      "\n",
      "See the caveats in the documentation: https://pandas.pydata.org/pandas-docs/stable/user_guide/indexing.html#returning-a-view-versus-a-copy\n",
      "  df_ballad[\"가사\"] = df_ballad[\"가사\"].map(lambda x : re.sub(\"브리지\", \"\", x).strip())\n"
     ]
    }
   ],
   "source": [
    "# 필요 없는 단어 제거\n",
    "df_ballad[\"가사\"] = df_ballad[\"가사\"].map(lambda x : re.sub(\"1절\", \"\", x))\n",
    "df_ballad[\"가사\"] = df_ballad[\"가사\"].map(lambda x : re.sub(\"2절\", \"\", x))\n",
    "df_ballad[\"가사\"] = df_ballad[\"가사\"].map(lambda x : re.sub(\"브리지\", \"\", x).strip())"
   ]
  },
  {
   "cell_type": "code",
   "execution_count": 33,
   "id": "06bbc669",
   "metadata": {},
   "outputs": [],
   "source": [
    "# 가사 개행문자 단위로 끊어서 문장단위로 하나의 리스트에 저장\n",
    "lst = []\n",
    "lyrics = df_ballad[\"가사\"].str.split(\"\\n\")\n",
    "for sentence in lyrics:\n",
    "    for word in sentence:\n",
    "        lst.append(word)"
   ]
  },
  {
   "cell_type": "code",
   "execution_count": 36,
   "id": "beea2346",
   "metadata": {},
   "outputs": [],
   "source": [
    "# pickle로 저장\n",
    "# with open(f\"{root_dir}/ballad_all.txt\", 'wb') as lf:\n",
    "#     pickle.dump(lst, lf)"
   ]
  },
  {
   "cell_type": "code",
   "execution_count": 37,
   "id": "3fa0e80a",
   "metadata": {},
   "outputs": [],
   "source": [
    "# 파일 불러오기\n",
    "with open(f\"{root_dir}/ballad_all.txt\", 'rb') as lf:\n",
    "    lst_ballad = pickle.load(lf)"
   ]
  },
  {
   "cell_type": "code",
   "execution_count": 38,
   "id": "16127960",
   "metadata": {},
   "outputs": [
    {
     "data": {
      "text/plain": [
       "1419259"
      ]
     },
     "execution_count": 38,
     "metadata": {},
     "output_type": "execute_result"
    }
   ],
   "source": [
    "# 문장 개수\n",
    "len(lst_ballad)"
   ]
  },
  {
   "cell_type": "code",
   "execution_count": 39,
   "id": "83427df8",
   "metadata": {},
   "outputs": [],
   "source": [
    "# 문장 길이\n",
    "lst_len = [len(items) for items in lst_ballad]"
   ]
  },
  {
   "cell_type": "code",
   "execution_count": 40,
   "id": "2276599c",
   "metadata": {},
   "outputs": [
    {
     "data": {
      "text/plain": [
       "3555"
      ]
     },
     "execution_count": 40,
     "metadata": {},
     "output_type": "execute_result"
    }
   ],
   "source": [
    "# 문장 길이가 2이하인 것의 개수\n",
    "len([len(items) for items in lst_ballad if len(items) <= 2])"
   ]
  },
  {
   "cell_type": "code",
   "execution_count": null,
   "id": "da6fbdcb",
   "metadata": {},
   "outputs": [],
   "source": []
  }
 ],
 "metadata": {
  "kernelspec": {
   "display_name": "Python 3 (ipykernel)",
   "language": "python",
   "name": "python3"
  },
  "language_info": {
   "codemirror_mode": {
    "name": "ipython",
    "version": 3
   },
   "file_extension": ".py",
   "mimetype": "text/x-python",
   "name": "python",
   "nbconvert_exporter": "python",
   "pygments_lexer": "ipython3",
   "version": "3.9.15"
  },
  "toc": {
   "base_numbering": 1,
   "nav_menu": {},
   "number_sections": true,
   "sideBar": true,
   "skip_h1_title": false,
   "title_cell": "Table of Contents",
   "title_sidebar": "Contents",
   "toc_cell": false,
   "toc_position": {},
   "toc_section_display": true,
   "toc_window_display": false
  }
 },
 "nbformat": 4,
 "nbformat_minor": 5
}
