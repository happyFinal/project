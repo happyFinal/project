{
 "cells": [
  {
   "cell_type": "markdown",
   "id": "6d669248",
   "metadata": {},
   "source": [
    "# 라이브러리 로드 및 데이터 로드"
   ]
  },
  {
   "cell_type": "code",
   "execution_count": 1,
   "id": "776ed7ac",
   "metadata": {},
   "outputs": [],
   "source": [
    "# 맞춤법 검사 라이브러리 py-hanspell\n",
    "# # !pip install git+https://github.com/ssut/py-hanspell.git"
   ]
  },
  {
   "cell_type": "code",
   "execution_count": 2,
   "id": "3dac8e9c",
   "metadata": {},
   "outputs": [],
   "source": [
    "# 라이브러리 로드\n",
    "import pandas as pd\n",
    "import numpy as np\n",
    "\n",
    "# 시각화\n",
    "import matplotlib.pyplot as plt\n",
    "import koreanize_matplotlib\n",
    "import seaborn as sns\n",
    "\n",
    "# 전처리\n",
    "import re\n",
    "from hanspell import spell_checker\n",
    "from konlpy.tag import Okt\n",
    "\n",
    "# 바이너리 파일 저장 및 로드\n",
    "import pickle"
   ]
  },
  {
   "cell_type": "code",
   "execution_count": 3,
   "id": "845b2cde",
   "metadata": {},
   "outputs": [],
   "source": [
    "# 데이터셋 로드\n",
    "# root_dir = \"data\"\n",
    "\n",
    "# df = pd.read_parquet(f\"{root_dir}/all_append_csv_12_26_1200i.gzip\")\n",
    "# display(df.head())\n",
    "# df.shape"
   ]
  },
  {
   "cell_type": "code",
   "execution_count": 4,
   "id": "4461c64a",
   "metadata": {},
   "outputs": [],
   "source": [
    "# 발라드만 떼오기\n",
    "# df_ballad = df[df[\"장르\"] == \"발라드\"].copy()\n",
    "# df_ballad.shape"
   ]
  },
  {
   "cell_type": "code",
   "execution_count": 5,
   "id": "00536b5e",
   "metadata": {},
   "outputs": [
    {
     "data": {
      "text/html": [
       "<div>\n",
       "<style scoped>\n",
       "    .dataframe tbody tr th:only-of-type {\n",
       "        vertical-align: middle;\n",
       "    }\n",
       "\n",
       "    .dataframe tbody tr th {\n",
       "        vertical-align: top;\n",
       "    }\n",
       "\n",
       "    .dataframe thead th {\n",
       "        text-align: right;\n",
       "    }\n",
       "</style>\n",
       "<table border=\"1\" class=\"dataframe\">\n",
       "  <thead>\n",
       "    <tr style=\"text-align: right;\">\n",
       "      <th></th>\n",
       "      <th>제목</th>\n",
       "      <th>가사</th>\n",
       "      <th>가수</th>\n",
       "      <th>발매일</th>\n",
       "      <th>좋아요수</th>\n",
       "      <th>장르</th>\n",
       "    </tr>\n",
       "  </thead>\n",
       "  <tbody>\n",
       "    <tr>\n",
       "      <th>0</th>\n",
       "      <td>Monologue</td>\n",
       "      <td>다 잊었다는 거짓말\\n또 해 버렸죠\\n내 마음에 그대란 사람\\n없다고 했죠\\n너무나...</td>\n",
       "      <td>테이</td>\n",
       "      <td>2022.09.18</td>\n",
       "      <td>66,062</td>\n",
       "      <td>발라드</td>\n",
       "    </tr>\n",
       "    <tr>\n",
       "      <th>1</th>\n",
       "      <td>너의 모든 순간</td>\n",
       "      <td>이윽고 내가 한눈에\\n너를 알아봤을 때\\n모든 건 분명 달라지고 있었어\\n내 세상은...</td>\n",
       "      <td>성시경</td>\n",
       "      <td>2014.02.12</td>\n",
       "      <td>243,092</td>\n",
       "      <td>발라드, 국내드라마</td>\n",
       "    </tr>\n",
       "    <tr>\n",
       "      <th>2</th>\n",
       "      <td>잘가요</td>\n",
       "      <td>미안해 마요 이제야 난 깨달아요\\n내 절대 그대 짝이 아님을\\n괜찮을게요 영혼 밖에...</td>\n",
       "      <td>주호</td>\n",
       "      <td>2022.12.04</td>\n",
       "      <td>18,702</td>\n",
       "      <td>발라드</td>\n",
       "    </tr>\n",
       "    <tr>\n",
       "      <th>3</th>\n",
       "      <td>사랑은 늘 도망가</td>\n",
       "      <td>눈물이 난다 이 길을 걸으면\\n그 사람 손길이 자꾸 생각이 난다\\n붙잡지 못하고 가...</td>\n",
       "      <td>임영웅</td>\n",
       "      <td>2021.10.11</td>\n",
       "      <td>185,585</td>\n",
       "      <td>발라드, 국내드라마</td>\n",
       "    </tr>\n",
       "    <tr>\n",
       "      <th>4</th>\n",
       "      <td>해요 (2022)</td>\n",
       "      <td>그녀와 나는요 그땐 참 어렸어요\\n많이 사랑했고 때론 많이 다퉜었죠\\n지금 생각하면...</td>\n",
       "      <td>#안녕</td>\n",
       "      <td>2022.06.07</td>\n",
       "      <td>63,808</td>\n",
       "      <td>발라드, 인디음악</td>\n",
       "    </tr>\n",
       "  </tbody>\n",
       "</table>\n",
       "</div>"
      ],
      "text/plain": [
       "          제목                                                 가사   가수  \\\n",
       "0  Monologue  다 잊었다는 거짓말\\n또 해 버렸죠\\n내 마음에 그대란 사람\\n없다고 했죠\\n너무나...   테이   \n",
       "1   너의 모든 순간  이윽고 내가 한눈에\\n너를 알아봤을 때\\n모든 건 분명 달라지고 있었어\\n내 세상은...  성시경   \n",
       "2        잘가요  미안해 마요 이제야 난 깨달아요\\n내 절대 그대 짝이 아님을\\n괜찮을게요 영혼 밖에...   주호   \n",
       "3  사랑은 늘 도망가  눈물이 난다 이 길을 걸으면\\n그 사람 손길이 자꾸 생각이 난다\\n붙잡지 못하고 가...  임영웅   \n",
       "4  해요 (2022)  그녀와 나는요 그땐 참 어렸어요\\n많이 사랑했고 때론 많이 다퉜었죠\\n지금 생각하면...  #안녕   \n",
       "\n",
       "          발매일     좋아요수          장르  \n",
       "0  2022.09.18   66,062         발라드  \n",
       "1  2014.02.12  243,092  발라드, 국내드라마  \n",
       "2  2022.12.04   18,702         발라드  \n",
       "3  2021.10.11  185,585  발라드, 국내드라마  \n",
       "4  2022.06.07   63,808   발라드, 인디음악  "
      ]
     },
     "metadata": {},
     "output_type": "display_data"
    },
    {
     "data": {
      "text/plain": [
       "(13346, 6)"
      ]
     },
     "execution_count": 5,
     "metadata": {},
     "output_type": "execute_result"
    }
   ],
   "source": [
    "root_dir = \"data\"\n",
    "df_ballad = pd.read_csv(f\"{root_dir}/melon_ballad_1_15000.csv\", parse_dates=[\"발매일\"])\n",
    "display(df_ballad.head())\n",
    "df_ballad.shape"
   ]
  },
  {
   "cell_type": "markdown",
   "id": "6f9a0921",
   "metadata": {},
   "source": [
    "# 컬럼 전처리"
   ]
  },
  {
   "cell_type": "markdown",
   "id": "f0cd8e9c",
   "metadata": {},
   "source": [
    "## 데이터 타입 변경"
   ]
  },
  {
   "cell_type": "code",
   "execution_count": 6,
   "id": "ee2321ec",
   "metadata": {},
   "outputs": [
    {
     "name": "stdout",
     "output_type": "stream",
     "text": [
      "<class 'pandas.core.frame.DataFrame'>\n",
      "RangeIndex: 13346 entries, 0 to 13345\n",
      "Data columns (total 6 columns):\n",
      " #   Column  Non-Null Count  Dtype \n",
      "---  ------  --------------  ----- \n",
      " 0   제목      13346 non-null  object\n",
      " 1   가사      13346 non-null  object\n",
      " 2   가수      13346 non-null  object\n",
      " 3   발매일     13346 non-null  object\n",
      " 4   좋아요수    13346 non-null  object\n",
      " 5   장르      13346 non-null  object\n",
      "dtypes: object(6)\n",
      "memory usage: 625.7+ KB\n"
     ]
    }
   ],
   "source": [
    "# info\n",
    "df_ballad.info()"
   ]
  },
  {
   "cell_type": "code",
   "execution_count": 7,
   "id": "4df5e8bc",
   "metadata": {},
   "outputs": [],
   "source": [
    "# 발매일 없는 데이터는 na로 처리\n",
    "df_ballad[\"발매일\"] = pd.to_datetime(df_ballad[\"발매일\"], errors=\"coerce\")"
   ]
  },
  {
   "cell_type": "code",
   "execution_count": 8,
   "id": "9a26e47f",
   "metadata": {},
   "outputs": [],
   "source": [
    "df_ballad[\"좋아요수\"] = df_ballad[\"좋아요수\"].str.replace(\",\", \"\")\n",
    "df_ballad[\"좋아요수\"] = df_ballad[\"좋아요수\"].astype(int)"
   ]
  },
  {
   "cell_type": "code",
   "execution_count": 9,
   "id": "eb311582",
   "metadata": {},
   "outputs": [
    {
     "name": "stdout",
     "output_type": "stream",
     "text": [
      "<class 'pandas.core.frame.DataFrame'>\n",
      "RangeIndex: 13346 entries, 0 to 13345\n",
      "Data columns (total 6 columns):\n",
      " #   Column  Non-Null Count  Dtype         \n",
      "---  ------  --------------  -----         \n",
      " 0   제목      13346 non-null  object        \n",
      " 1   가사      13346 non-null  object        \n",
      " 2   가수      13346 non-null  object        \n",
      " 3   발매일     13340 non-null  datetime64[ns]\n",
      " 4   좋아요수    13346 non-null  int32         \n",
      " 5   장르      13346 non-null  object        \n",
      "dtypes: datetime64[ns](1), int32(1), object(4)\n",
      "memory usage: 573.6+ KB\n"
     ]
    }
   ],
   "source": [
    "# info\n",
    "df_ballad.info()"
   ]
  },
  {
   "cell_type": "markdown",
   "id": "afb16f32",
   "metadata": {},
   "source": [
    "## 장르 구분"
   ]
  },
  {
   "cell_type": "code",
   "execution_count": 10,
   "id": "3733c872",
   "metadata": {},
   "outputs": [],
   "source": [
    "# 장르 구분\n",
    "genre_split = df_ballad[\"장르\"].str.split(\",\")\n",
    "df_ballad[\"장르1\"] = genre_split.str.get(0)\n",
    "df_ballad[\"장르2\"] = genre_split.str.get(1)\n",
    "df_ballad[\"장르3\"] = genre_split.str.get(2)\n",
    "df_ballad[\"장르4\"] = genre_split.str.get(3)"
   ]
  },
  {
   "cell_type": "code",
   "execution_count": 11,
   "id": "0ccec680",
   "metadata": {},
   "outputs": [
    {
     "data": {
      "text/plain": [
       "발라드    13346\n",
       "Name: 장르1, dtype: int64"
      ]
     },
     "metadata": {},
     "output_type": "display_data"
    },
    {
     "name": "stdout",
     "output_type": "stream",
     "text": [
      "------------------------------\n"
     ]
    },
    {
     "data": {
      "text/plain": [
       " 국내드라마       2381\n",
       " 인디음악        1165\n",
       " 국내영화          85\n",
       " 애니메이션/웹툰      81\n",
       " R&B/Soul      71\n",
       " 랩/힙합          41\n",
       " 록/메탈          33\n",
       " 게임            16\n",
       " 포크/블루스        10\n",
       " 성인가요/트로트       8\n",
       " 댄스             5\n",
       " 국외영화           5\n",
       "Name: 장르2, dtype: int64"
      ]
     },
     "metadata": {},
     "output_type": "display_data"
    },
    {
     "name": "stdout",
     "output_type": "stream",
     "text": [
      "------------------------------\n"
     ]
    },
    {
     "data": {
      "text/plain": [
       " 국내드라마       68\n",
       " 포크/블루스       4\n",
       " 키즈           3\n",
       " 랩/힙합         1\n",
       " 애니메이션/웹툰     1\n",
       " 국내영화         1\n",
       "Name: 장르3, dtype: int64"
      ]
     },
     "metadata": {},
     "output_type": "display_data"
    },
    {
     "name": "stdout",
     "output_type": "stream",
     "text": [
      "------------------------------\n"
     ]
    },
    {
     "data": {
      "text/plain": [
       " 만화    3\n",
       "Name: 장르4, dtype: int64"
      ]
     },
     "metadata": {},
     "output_type": "display_data"
    }
   ],
   "source": [
    "# 장르 분포 확인\n",
    "# 장르는 한 곡에 최대 4개까지 있으나 양이 적어서 필요한 컬럼만 사용\n",
    "display(df_ballad[\"장르1\"].value_counts())\n",
    "print(\"-\"*30)\n",
    "display(df_ballad[\"장르2\"].value_counts())\n",
    "print(\"-\"*30)\n",
    "display(df_ballad[\"장르3\"].value_counts())\n",
    "print(\"-\"*30)\n",
    "display(df_ballad[\"장르4\"].value_counts())"
   ]
  },
  {
   "cell_type": "markdown",
   "id": "466510c0",
   "metadata": {},
   "source": [
    "## 날짜, 요일 추가"
   ]
  },
  {
   "cell_type": "code",
   "execution_count": 12,
   "id": "4ee215b9",
   "metadata": {},
   "outputs": [],
   "source": [
    "df_ballad[\"년\"] = df_ballad[\"발매일\"].dt.year\n",
    "df_ballad[\"월\"] = df_ballad[\"발매일\"].dt.month\n",
    "df_ballad[\"일\"] = df_ballad[\"발매일\"].dt.day\n",
    "df_ballad[\"요일\"] = df_ballad[\"발매일\"].dt.dayofweek"
   ]
  },
  {
   "cell_type": "code",
   "execution_count": 13,
   "id": "bb1ccd87",
   "metadata": {},
   "outputs": [
    {
     "name": "stdout",
     "output_type": "stream",
     "text": [
      "<class 'pandas.core.frame.DataFrame'>\n",
      "RangeIndex: 13346 entries, 0 to 13345\n",
      "Data columns (total 14 columns):\n",
      " #   Column  Non-Null Count  Dtype         \n",
      "---  ------  --------------  -----         \n",
      " 0   제목      13346 non-null  object        \n",
      " 1   가사      13346 non-null  object        \n",
      " 2   가수      13346 non-null  object        \n",
      " 3   발매일     13340 non-null  datetime64[ns]\n",
      " 4   좋아요수    13346 non-null  int32         \n",
      " 5   장르      13346 non-null  object        \n",
      " 6   장르1     13346 non-null  object        \n",
      " 7   장르2     3901 non-null   object        \n",
      " 8   장르3     78 non-null     object        \n",
      " 9   장르4     3 non-null      object        \n",
      " 10  년       13340 non-null  float64       \n",
      " 11  월       13340 non-null  float64       \n",
      " 12  일       13340 non-null  float64       \n",
      " 13  요일      13340 non-null  float64       \n",
      "dtypes: datetime64[ns](1), float64(4), int32(1), object(8)\n",
      "memory usage: 1.4+ MB\n"
     ]
    }
   ],
   "source": [
    "df_ballad.info()"
   ]
  },
  {
   "cell_type": "markdown",
   "id": "7605ba78",
   "metadata": {},
   "source": [
    "# EDA"
   ]
  },
  {
   "cell_type": "markdown",
   "id": "d9ff50e2",
   "metadata": {},
   "source": [
    "## 중복행 제거"
   ]
  },
  {
   "cell_type": "code",
   "execution_count": 14,
   "id": "41791a95",
   "metadata": {},
   "outputs": [
    {
     "data": {
      "text/html": [
       "<div>\n",
       "<style scoped>\n",
       "    .dataframe tbody tr th:only-of-type {\n",
       "        vertical-align: middle;\n",
       "    }\n",
       "\n",
       "    .dataframe tbody tr th {\n",
       "        vertical-align: top;\n",
       "    }\n",
       "\n",
       "    .dataframe thead th {\n",
       "        text-align: right;\n",
       "    }\n",
       "</style>\n",
       "<table border=\"1\" class=\"dataframe\">\n",
       "  <thead>\n",
       "    <tr style=\"text-align: right;\">\n",
       "      <th></th>\n",
       "      <th>제목</th>\n",
       "      <th>가사</th>\n",
       "      <th>가수</th>\n",
       "      <th>발매일</th>\n",
       "      <th>좋아요수</th>\n",
       "      <th>장르</th>\n",
       "      <th>장르1</th>\n",
       "      <th>장르2</th>\n",
       "      <th>장르3</th>\n",
       "      <th>장르4</th>\n",
       "      <th>년</th>\n",
       "      <th>월</th>\n",
       "      <th>일</th>\n",
       "      <th>요일</th>\n",
       "    </tr>\n",
       "  </thead>\n",
       "  <tbody>\n",
       "    <tr>\n",
       "      <th>6531</th>\n",
       "      <td>Goodbye To Romance(민서 X 김이나 프로젝트) (Inst.)</td>\n",
       "      <td>It's time for goodbye\\n나의 로맨스여 Goodbye\\n바로 어제처...</td>\n",
       "      <td>민서 (MINSEO)</td>\n",
       "      <td>2022-12-26</td>\n",
       "      <td>11</td>\n",
       "      <td>발라드</td>\n",
       "      <td>발라드</td>\n",
       "      <td>NaN</td>\n",
       "      <td>NaN</td>\n",
       "      <td>NaN</td>\n",
       "      <td>2022.0</td>\n",
       "      <td>12.0</td>\n",
       "      <td>26.0</td>\n",
       "      <td>0.0</td>\n",
       "    </tr>\n",
       "    <tr>\n",
       "      <th>7889</th>\n",
       "      <td>욕심</td>\n",
       "      <td>너무 늦어버린걸 이미 알고 있어 난\\n괜히 또 괜찮은 척 웃고있어\\n바쁜 하루 중에...</td>\n",
       "      <td>성민</td>\n",
       "      <td>2022-08-30</td>\n",
       "      <td>85</td>\n",
       "      <td>발라드</td>\n",
       "      <td>발라드</td>\n",
       "      <td>NaN</td>\n",
       "      <td>NaN</td>\n",
       "      <td>NaN</td>\n",
       "      <td>2022.0</td>\n",
       "      <td>8.0</td>\n",
       "      <td>30.0</td>\n",
       "      <td>1.0</td>\n",
       "    </tr>\n",
       "    <tr>\n",
       "      <th>7970</th>\n",
       "      <td>소낙눈</td>\n",
       "      <td>보석처럼 빛나는 아침\\n단비 같은 눈이 내렸어\\n눈부시던 창 밖 풍경에\\n괜시리 맘...</td>\n",
       "      <td>소낙별</td>\n",
       "      <td>2017-01-24</td>\n",
       "      <td>225</td>\n",
       "      <td>발라드</td>\n",
       "      <td>발라드</td>\n",
       "      <td>NaN</td>\n",
       "      <td>NaN</td>\n",
       "      <td>NaN</td>\n",
       "      <td>2017.0</td>\n",
       "      <td>1.0</td>\n",
       "      <td>24.0</td>\n",
       "      <td>1.0</td>\n",
       "    </tr>\n",
       "    <tr>\n",
       "      <th>8028</th>\n",
       "      <td>기억을 걷다</td>\n",
       "      <td>참 많이도 웃었지\\n숨 쉬듯 내 곁에 있었지\\n편안했었고 친절했었지\\n그때 너는 그...</td>\n",
       "      <td>정승환</td>\n",
       "      <td>2015-04-05</td>\n",
       "      <td>7550</td>\n",
       "      <td>발라드</td>\n",
       "      <td>발라드</td>\n",
       "      <td>NaN</td>\n",
       "      <td>NaN</td>\n",
       "      <td>NaN</td>\n",
       "      <td>2015.0</td>\n",
       "      <td>4.0</td>\n",
       "      <td>5.0</td>\n",
       "      <td>6.0</td>\n",
       "    </tr>\n",
       "    <tr>\n",
       "      <th>8151</th>\n",
       "      <td>백허그 (Back Hug)</td>\n",
       "      <td>백허그 (Back Hug)\\n\\n가만히 뒤에서 날 끌어안아줘\\n내 어깨에 턱을 기대...</td>\n",
       "      <td>소녀시대 (GIRLS' GENERATION)</td>\n",
       "      <td>2014-02-24</td>\n",
       "      <td>8623</td>\n",
       "      <td>발라드</td>\n",
       "      <td>발라드</td>\n",
       "      <td>NaN</td>\n",
       "      <td>NaN</td>\n",
       "      <td>NaN</td>\n",
       "      <td>2014.0</td>\n",
       "      <td>2.0</td>\n",
       "      <td>24.0</td>\n",
       "      <td>0.0</td>\n",
       "    </tr>\n",
       "    <tr>\n",
       "      <th>...</th>\n",
       "      <td>...</td>\n",
       "      <td>...</td>\n",
       "      <td>...</td>\n",
       "      <td>...</td>\n",
       "      <td>...</td>\n",
       "      <td>...</td>\n",
       "      <td>...</td>\n",
       "      <td>...</td>\n",
       "      <td>...</td>\n",
       "      <td>...</td>\n",
       "      <td>...</td>\n",
       "      <td>...</td>\n",
       "      <td>...</td>\n",
       "      <td>...</td>\n",
       "    </tr>\n",
       "    <tr>\n",
       "      <th>11211</th>\n",
       "      <td>견뎌야 하는 우리에게</td>\n",
       "      <td>문득 생각을 해봤어\\n지난날 우린 누구보다\\n뜨겁고 미친 듯이 사랑했고\\n아껴줬잖아...</td>\n",
       "      <td>먼데이 키즈 (Monday Kiz)</td>\n",
       "      <td>2020-05-20</td>\n",
       "      <td>3000</td>\n",
       "      <td>발라드</td>\n",
       "      <td>발라드</td>\n",
       "      <td>NaN</td>\n",
       "      <td>NaN</td>\n",
       "      <td>NaN</td>\n",
       "      <td>2020.0</td>\n",
       "      <td>5.0</td>\n",
       "      <td>20.0</td>\n",
       "      <td>2.0</td>\n",
       "    </tr>\n",
       "    <tr>\n",
       "      <th>11220</th>\n",
       "      <td>우리들의 겨울이야기 (feat.뮤시아)</td>\n",
       "      <td>나 오랫동안 준비해 왔던\\n그 말을 전할 때가 온 거야\\n그대가 좋아하는 하얀 겨울...</td>\n",
       "      <td>EQ</td>\n",
       "      <td>2022-12-21</td>\n",
       "      <td>27</td>\n",
       "      <td>발라드, 인디음악</td>\n",
       "      <td>발라드</td>\n",
       "      <td>인디음악</td>\n",
       "      <td>NaN</td>\n",
       "      <td>NaN</td>\n",
       "      <td>2022.0</td>\n",
       "      <td>12.0</td>\n",
       "      <td>21.0</td>\n",
       "      <td>2.0</td>\n",
       "    </tr>\n",
       "    <tr>\n",
       "      <th>11515</th>\n",
       "      <td>Hate Christmas</td>\n",
       "      <td>우 모두 기다렸던\\n메리 크리스마스\\n홀로 쓸쓸한 이 밤\\n설레는 예쁜 연인들\\n그...</td>\n",
       "      <td>임도혁</td>\n",
       "      <td>2016-12-21</td>\n",
       "      <td>450</td>\n",
       "      <td>발라드</td>\n",
       "      <td>발라드</td>\n",
       "      <td>NaN</td>\n",
       "      <td>NaN</td>\n",
       "      <td>NaN</td>\n",
       "      <td>2016.0</td>\n",
       "      <td>12.0</td>\n",
       "      <td>21.0</td>\n",
       "      <td>2.0</td>\n",
       "    </tr>\n",
       "    <tr>\n",
       "      <th>11532</th>\n",
       "      <td>후회 (Original ver.)</td>\n",
       "      <td>아무렇지 않은 척했네\\n그대 떠난 자리에 서서\\n슬퍼하지 않으려 했네\\n내 슬픔이 ...</td>\n",
       "      <td>범진</td>\n",
       "      <td>2022-02-28</td>\n",
       "      <td>271</td>\n",
       "      <td>발라드, 인디음악</td>\n",
       "      <td>발라드</td>\n",
       "      <td>인디음악</td>\n",
       "      <td>NaN</td>\n",
       "      <td>NaN</td>\n",
       "      <td>2022.0</td>\n",
       "      <td>2.0</td>\n",
       "      <td>28.0</td>\n",
       "      <td>0.0</td>\n",
       "    </tr>\n",
       "    <tr>\n",
       "      <th>11726</th>\n",
       "      <td>Love or Like (With 휘인 of 마마무, JISIM)</td>\n",
       "      <td>U and me dream is sweet\\n여전히 둘 다 쉿\\nstay away\\...</td>\n",
       "      <td>스탠딩 에그</td>\n",
       "      <td>2017-12-01</td>\n",
       "      <td>9790</td>\n",
       "      <td>발라드, 인디음악</td>\n",
       "      <td>발라드</td>\n",
       "      <td>인디음악</td>\n",
       "      <td>NaN</td>\n",
       "      <td>NaN</td>\n",
       "      <td>2017.0</td>\n",
       "      <td>12.0</td>\n",
       "      <td>1.0</td>\n",
       "      <td>4.0</td>\n",
       "    </tr>\n",
       "  </tbody>\n",
       "</table>\n",
       "<p>432 rows × 14 columns</p>\n",
       "</div>"
      ],
      "text/plain": [
       "                                              제목  \\\n",
       "6531   Goodbye To Romance(민서 X 김이나 프로젝트) (Inst.)   \n",
       "7889                                          욕심   \n",
       "7970                                         소낙눈   \n",
       "8028                                      기억을 걷다   \n",
       "8151                              백허그 (Back Hug)   \n",
       "...                                          ...   \n",
       "11211                                견뎌야 하는 우리에게   \n",
       "11220                      우리들의 겨울이야기 (feat.뮤시아)   \n",
       "11515                             Hate Christmas   \n",
       "11532                         후회 (Original ver.)   \n",
       "11726       Love or Like (With 휘인 of 마마무, JISIM)   \n",
       "\n",
       "                                                      가사  \\\n",
       "6531   It's time for goodbye\\n나의 로맨스여 Goodbye\\n바로 어제처...   \n",
       "7889   너무 늦어버린걸 이미 알고 있어 난\\n괜히 또 괜찮은 척 웃고있어\\n바쁜 하루 중에...   \n",
       "7970   보석처럼 빛나는 아침\\n단비 같은 눈이 내렸어\\n눈부시던 창 밖 풍경에\\n괜시리 맘...   \n",
       "8028   참 많이도 웃었지\\n숨 쉬듯 내 곁에 있었지\\n편안했었고 친절했었지\\n그때 너는 그...   \n",
       "8151   백허그 (Back Hug)\\n\\n가만히 뒤에서 날 끌어안아줘\\n내 어깨에 턱을 기대...   \n",
       "...                                                  ...   \n",
       "11211  문득 생각을 해봤어\\n지난날 우린 누구보다\\n뜨겁고 미친 듯이 사랑했고\\n아껴줬잖아...   \n",
       "11220  나 오랫동안 준비해 왔던\\n그 말을 전할 때가 온 거야\\n그대가 좋아하는 하얀 겨울...   \n",
       "11515  우 모두 기다렸던\\n메리 크리스마스\\n홀로 쓸쓸한 이 밤\\n설레는 예쁜 연인들\\n그...   \n",
       "11532  아무렇지 않은 척했네\\n그대 떠난 자리에 서서\\n슬퍼하지 않으려 했네\\n내 슬픔이 ...   \n",
       "11726  U and me dream is sweet\\n여전히 둘 다 쉿\\nstay away\\...   \n",
       "\n",
       "                             가수        발매일  좋아요수         장르  장르1    장르2  장르3  \\\n",
       "6531                민서 (MINSEO) 2022-12-26    11        발라드  발라드    NaN  NaN   \n",
       "7889                         성민 2022-08-30    85        발라드  발라드    NaN  NaN   \n",
       "7970                        소낙별 2017-01-24   225        발라드  발라드    NaN  NaN   \n",
       "8028                        정승환 2015-04-05  7550        발라드  발라드    NaN  NaN   \n",
       "8151   소녀시대 (GIRLS' GENERATION) 2014-02-24  8623        발라드  발라드    NaN  NaN   \n",
       "...                         ...        ...   ...        ...  ...    ...  ...   \n",
       "11211       먼데이 키즈 (Monday Kiz) 2020-05-20  3000        발라드  발라드    NaN  NaN   \n",
       "11220                        EQ 2022-12-21    27  발라드, 인디음악  발라드   인디음악  NaN   \n",
       "11515                       임도혁 2016-12-21   450        발라드  발라드    NaN  NaN   \n",
       "11532                        범진 2022-02-28   271  발라드, 인디음악  발라드   인디음악  NaN   \n",
       "11726                    스탠딩 에그 2017-12-01  9790  발라드, 인디음악  발라드   인디음악  NaN   \n",
       "\n",
       "       장르4       년     월     일   요일  \n",
       "6531   NaN  2022.0  12.0  26.0  0.0  \n",
       "7889   NaN  2022.0   8.0  30.0  1.0  \n",
       "7970   NaN  2017.0   1.0  24.0  1.0  \n",
       "8028   NaN  2015.0   4.0   5.0  6.0  \n",
       "8151   NaN  2014.0   2.0  24.0  0.0  \n",
       "...    ...     ...   ...   ...  ...  \n",
       "11211  NaN  2020.0   5.0  20.0  2.0  \n",
       "11220  NaN  2022.0  12.0  21.0  2.0  \n",
       "11515  NaN  2016.0  12.0  21.0  2.0  \n",
       "11532  NaN  2022.0   2.0  28.0  0.0  \n",
       "11726  NaN  2017.0  12.0   1.0  4.0  \n",
       "\n",
       "[432 rows x 14 columns]"
      ]
     },
     "execution_count": 14,
     "metadata": {},
     "output_type": "execute_result"
    }
   ],
   "source": [
    "# 중복행 한 번 더 확인\n",
    "df_ballad[df_ballad.duplicated(keep=False)]"
   ]
  },
  {
   "cell_type": "code",
   "execution_count": 15,
   "id": "90bf8a51",
   "metadata": {},
   "outputs": [
    {
     "name": "stdout",
     "output_type": "stream",
     "text": [
      "(13346, 14)\n"
     ]
    },
    {
     "data": {
      "text/plain": [
       "(13130, 14)"
      ]
     },
     "execution_count": 15,
     "metadata": {},
     "output_type": "execute_result"
    }
   ],
   "source": [
    "# 중복행 drop\n",
    "print(df_ballad.shape)\n",
    "df_ballad = df_ballad.drop_duplicates()\n",
    "df_ballad.shape"
   ]
  },
  {
   "cell_type": "markdown",
   "id": "60b3778e",
   "metadata": {},
   "source": [
    "## 곡별 가사 길이 분포"
   ]
  },
  {
   "cell_type": "code",
   "execution_count": 16,
   "id": "6960b684",
   "metadata": {},
   "outputs": [
    {
     "data": {
      "image/png": "[encoded data removed]",
      "text/plain": [
       "<Figure size 640x480 with 1 Axes>"
      ]
     },
     "metadata": {},
     "output_type": "display_data"
    }
   ],
   "source": [
    "# 가사 길이 분포\n",
    "df_ballad[\"가사\"].str.len().hist(bins=50).set_title(\"가사 길이\");"
   ]
  },
  {
   "cell_type": "markdown",
   "id": "b4818daf",
   "metadata": {},
   "source": [
    "## 시각화"
   ]
  },
  {
   "cell_type": "code",
   "execution_count": 17,
   "id": "dbedb8c1",
   "metadata": {},
   "outputs": [],
   "source": [
    "# 필요 없는 단어 제거\n",
    "df_ballad[\"가사\"] = df_ballad[\"가사\"].map(lambda x : re.sub(\"1절\", \"\", x))\n",
    "df_ballad[\"가사\"] = df_ballad[\"가사\"].map(lambda x : re.sub(\"2절\", \"\", x))\n",
    "df_ballad[\"가사\"] = df_ballad[\"가사\"].map(lambda x : re.sub(\"브리지\", \"\", x).strip())"
   ]
  },
  {
   "cell_type": "code",
   "execution_count": 21,
   "id": "c12c8ec1",
   "metadata": {},
   "outputs": [],
   "source": [
    "df_ballad[\"가사\"] = df_ballad[\"가사\"].map(lambda x : re.sub(\"\\s{2,}\", \"\", x)) # 공백 2회 이상 제거\n",
    "df_ballad[\"가사\"] = df_ballad[\"가사\"].map(lambda x : re.sub(\"\\n\", \" \", x)) # 개행문자 제거"
   ]
  },
  {
   "cell_type": "code",
   "execution_count": 22,
   "id": "87103a58",
   "metadata": {},
   "outputs": [
    {
     "data": {
      "text/plain": [
       "'사랑한다 말하고 보고 싶다 말하고 많은 걸 약속하고 미래를 꿈꾸던 날들 내가 줬던 사랑이 당연해진 걸까 언제부터 너의 맘이 변했을까 갑자기 온 전화는 날 불안하게 만들어 혹시 무슨 일 있는 건지 걱정을 하다 다시 만나자고 하지는 않을까 괜한 기대를 해 잠들 수 없어 새벽에 걸려온 너의 전화는 그리움보다는 실수였다고 난 생각할게 냉정하게 뿌리치고 매달렸던 날 밀어낸 넌데 뜨는 너의 이름에 눈물만 미안한 마음이야 아쉬운 마음이야 애써 날 위해 주는척한 행동인 거니 받아볼까 하다 정신을 차렸어 목소리를 들으면 울 것 같아서 새벽에 걸려온 너의 전화는 그리움보다는 실수였다고 난 생각할게 냉정하게 뿌리치고 매달렸던 날 밀어낸 넌데 뜨는 너의 이름에 눈물만 상처받은 내 마음을 알아줘 내가 아픈 만큼 더 힘들어줘 내가 좀 유치해 보인다 해도 새벽에 걸려온 너의 전화는 울리는 단 몇 초의 벨 소리에 널 미워한 맘이 완벽히 무너질 것 같았어 잊으려 몸부림치고 내 삶에서 분명 지웠는데 뜨는 너의 이름에 눈물만'"
      ]
     },
     "execution_count": 22,
     "metadata": {},
     "output_type": "execute_result"
    }
   ],
   "source": [
    "df_ballad[\"가사\"][22]"
   ]
  },
  {
   "cell_type": "markdown",
   "id": "02d583f5",
   "metadata": {},
   "source": [
    "## 모델 input을 위한 전처리"
   ]
  },
  {
   "cell_type": "code",
   "execution_count": 19,
   "id": "715aa48c",
   "metadata": {},
   "outputs": [],
   "source": [
    "# 가사에 개행문자 없는 데이터 제거\n",
    "# df_ballad = df_ballad[df_ballad[\"가사\"].str.contains(\"\\n\")]"
   ]
  },
  {
   "cell_type": "code",
   "execution_count": 20,
   "id": "0f2b4db5",
   "metadata": {},
   "outputs": [],
   "source": [
    "# 기본 전처리\n",
    "# df_ballad[\"가사\"] = df_ballad[\"가사\"].map(lambda x : re.sub(\"[^ㄱ-ㅎ가-힣0-9\\n ]\", \"\", x).strip()) # 한글 자음, 한글, 숫자, 개행문자만 남기고 제거\n",
    "# df_ballad[\"가사\"] = df_ballad[\"가사\"].map(lambda x : re.sub(\"\\s{2,}\", \"\", x)) # 공백 2회 이상 제거\n",
    "# df_ballad = df_ballad[df_ballad[\"가사\"].map(lambda x : len(x) > 10)] # 전처리 후 빈 행이나 10자 이상이 안되는 데이터 제거\n",
    "# df_ballad = df_ballad.reset_index(drop=True) # 인덱스 초기화\n",
    "# df_ballad.shape"
   ]
  },
  {
   "cell_type": "code",
   "execution_count": null,
   "id": "28d55e35",
   "metadata": {},
   "outputs": [],
   "source": []
  },
  {
   "cell_type": "code",
   "execution_count": null,
   "id": "6e9ff07c",
   "metadata": {},
   "outputs": [],
   "source": []
  }
 ],
 "metadata": {
  "kernelspec": {
   "display_name": "Python 3 (ipykernel)",
   "language": "python",
   "name": "python3"
  },
  "language_info": {
   "codemirror_mode": {
    "name": "ipython",
    "version": 3
   },
   "file_extension": ".py",
   "mimetype": "text/x-python",
   "name": "python",
   "nbconvert_exporter": "python",
   "pygments_lexer": "ipython3",
   "version": "3.9.15"
  },
  "toc": {
   "base_numbering": 1,
   "nav_menu": {},
   "number_sections": true,
   "sideBar": true,
   "skip_h1_title": false,
   "title_cell": "Table of Contents",
   "title_sidebar": "Contents",
   "toc_cell": false,
   "toc_position": {},
   "toc_section_display": true,
   "toc_window_display": false
  }
 },
 "nbformat": 4,
 "nbformat_minor": 5
}
