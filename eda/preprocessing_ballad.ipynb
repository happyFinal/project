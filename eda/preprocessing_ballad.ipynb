{
 "cells": [
  {
   "cell_type": "markdown",
   "id": "6d669248",
   "metadata": {},
   "source": [
    "# 라이브러리 로드 및 데이터 로드"
   ]
  },
  {
   "cell_type": "code",
   "execution_count": 70,
   "id": "776ed7ac",
   "metadata": {},
   "outputs": [],
   "source": [
    "# 맞춤법 검사 라이브러리 py-hanspell\n",
    "# # !pip install git+https://github.com/ssut/py-hanspell.git"
   ]
  },
  {
   "cell_type": "code",
   "execution_count": 134,
   "id": "3dac8e9c",
   "metadata": {},
   "outputs": [],
   "source": [
    "# 라이브러리 로드\n",
    "import pandas as pd\n",
    "import numpy as np\n",
    "\n",
    "# 시각화\n",
    "import matplotlib.pyplot as plt\n",
    "import koreanize_matplotlib\n",
    "import seaborn as sns\n",
    "\n",
    "# 전처리\n",
    "import re\n",
    "from hanspell import spell_checker\n",
    "from tqdm import tqdm\n",
    "from konlpy.tag import Okt\n",
    "from collections import Counter\n",
    "\n",
    "# 바이너리 파일 저장 및 로드\n",
    "import pickle"
   ]
  },
  {
   "cell_type": "code",
   "execution_count": 72,
   "id": "845b2cde",
   "metadata": {},
   "outputs": [],
   "source": [
    "# 데이터셋 로드\n",
    "# root_dir = \"data\"\n",
    "\n",
    "# df = pd.read_parquet(f\"{root_dir}/all_append_csv_12_26_1200i.gzip\")\n",
    "# display(df.head())\n",
    "# df.shape"
   ]
  },
  {
   "cell_type": "code",
   "execution_count": 73,
   "id": "4461c64a",
   "metadata": {},
   "outputs": [],
   "source": [
    "# 발라드만 떼오기\n",
    "# df_ballad = df[df[\"장르\"] == \"발라드\"].copy()\n",
    "# df_ballad.shape"
   ]
  },
  {
   "cell_type": "code",
   "execution_count": 74,
   "id": "00536b5e",
   "metadata": {},
   "outputs": [
    {
     "data": {
      "text/html": [
       "<div>\n",
       "<style scoped>\n",
       "    .dataframe tbody tr th:only-of-type {\n",
       "        vertical-align: middle;\n",
       "    }\n",
       "\n",
       "    .dataframe tbody tr th {\n",
       "        vertical-align: top;\n",
       "    }\n",
       "\n",
       "    .dataframe thead th {\n",
       "        text-align: right;\n",
       "    }\n",
       "</style>\n",
       "<table border=\"1\" class=\"dataframe\">\n",
       "  <thead>\n",
       "    <tr style=\"text-align: right;\">\n",
       "      <th></th>\n",
       "      <th>제목</th>\n",
       "      <th>가사</th>\n",
       "      <th>가수</th>\n",
       "      <th>발매일</th>\n",
       "      <th>좋아요수</th>\n",
       "      <th>장르</th>\n",
       "    </tr>\n",
       "  </thead>\n",
       "  <tbody>\n",
       "    <tr>\n",
       "      <th>0</th>\n",
       "      <td>Monologue</td>\n",
       "      <td>다 잊었다는 거짓말\\n또 해 버렸죠\\n내 마음에 그대란 사람\\n없다고 했죠\\n너무나...</td>\n",
       "      <td>테이</td>\n",
       "      <td>2022.09.18</td>\n",
       "      <td>66,062</td>\n",
       "      <td>발라드</td>\n",
       "    </tr>\n",
       "    <tr>\n",
       "      <th>1</th>\n",
       "      <td>너의 모든 순간</td>\n",
       "      <td>이윽고 내가 한눈에\\n너를 알아봤을 때\\n모든 건 분명 달라지고 있었어\\n내 세상은...</td>\n",
       "      <td>성시경</td>\n",
       "      <td>2014.02.12</td>\n",
       "      <td>243,092</td>\n",
       "      <td>발라드, 국내드라마</td>\n",
       "    </tr>\n",
       "    <tr>\n",
       "      <th>2</th>\n",
       "      <td>잘가요</td>\n",
       "      <td>미안해 마요 이제야 난 깨달아요\\n내 절대 그대 짝이 아님을\\n괜찮을게요 영혼 밖에...</td>\n",
       "      <td>주호</td>\n",
       "      <td>2022.12.04</td>\n",
       "      <td>18,702</td>\n",
       "      <td>발라드</td>\n",
       "    </tr>\n",
       "    <tr>\n",
       "      <th>3</th>\n",
       "      <td>사랑은 늘 도망가</td>\n",
       "      <td>눈물이 난다 이 길을 걸으면\\n그 사람 손길이 자꾸 생각이 난다\\n붙잡지 못하고 가...</td>\n",
       "      <td>임영웅</td>\n",
       "      <td>2021.10.11</td>\n",
       "      <td>185,585</td>\n",
       "      <td>발라드, 국내드라마</td>\n",
       "    </tr>\n",
       "    <tr>\n",
       "      <th>4</th>\n",
       "      <td>해요 (2022)</td>\n",
       "      <td>그녀와 나는요 그땐 참 어렸어요\\n많이 사랑했고 때론 많이 다퉜었죠\\n지금 생각하면...</td>\n",
       "      <td>#안녕</td>\n",
       "      <td>2022.06.07</td>\n",
       "      <td>63,808</td>\n",
       "      <td>발라드, 인디음악</td>\n",
       "    </tr>\n",
       "  </tbody>\n",
       "</table>\n",
       "</div>"
      ],
      "text/plain": [
       "          제목                                                 가사   가수  \\\n",
       "0  Monologue  다 잊었다는 거짓말\\n또 해 버렸죠\\n내 마음에 그대란 사람\\n없다고 했죠\\n너무나...   테이   \n",
       "1   너의 모든 순간  이윽고 내가 한눈에\\n너를 알아봤을 때\\n모든 건 분명 달라지고 있었어\\n내 세상은...  성시경   \n",
       "2        잘가요  미안해 마요 이제야 난 깨달아요\\n내 절대 그대 짝이 아님을\\n괜찮을게요 영혼 밖에...   주호   \n",
       "3  사랑은 늘 도망가  눈물이 난다 이 길을 걸으면\\n그 사람 손길이 자꾸 생각이 난다\\n붙잡지 못하고 가...  임영웅   \n",
       "4  해요 (2022)  그녀와 나는요 그땐 참 어렸어요\\n많이 사랑했고 때론 많이 다퉜었죠\\n지금 생각하면...  #안녕   \n",
       "\n",
       "          발매일     좋아요수          장르  \n",
       "0  2022.09.18   66,062         발라드  \n",
       "1  2014.02.12  243,092  발라드, 국내드라마  \n",
       "2  2022.12.04   18,702         발라드  \n",
       "3  2021.10.11  185,585  발라드, 국내드라마  \n",
       "4  2022.06.07   63,808   발라드, 인디음악  "
      ]
     },
     "metadata": {},
     "output_type": "display_data"
    },
    {
     "data": {
      "text/plain": [
       "(13346, 6)"
      ]
     },
     "execution_count": 74,
     "metadata": {},
     "output_type": "execute_result"
    }
   ],
   "source": [
    "root_dir = \"data\"\n",
    "df_ballad = pd.read_csv(f\"{root_dir}/melon_ballad_1_15000.csv\", parse_dates=[\"발매일\"])\n",
    "display(df_ballad.head())\n",
    "df_ballad.shape"
   ]
  },
  {
   "cell_type": "markdown",
   "id": "6f9a0921",
   "metadata": {},
   "source": [
    "# 컬럼 전처리"
   ]
  },
  {
   "cell_type": "markdown",
   "id": "f0cd8e9c",
   "metadata": {},
   "source": [
    "## 데이터 타입 변경"
   ]
  },
  {
   "cell_type": "code",
   "execution_count": 75,
   "id": "ee2321ec",
   "metadata": {},
   "outputs": [
    {
     "name": "stdout",
     "output_type": "stream",
     "text": [
      "<class 'pandas.core.frame.DataFrame'>\n",
      "RangeIndex: 13346 entries, 0 to 13345\n",
      "Data columns (total 6 columns):\n",
      " #   Column  Non-Null Count  Dtype \n",
      "---  ------  --------------  ----- \n",
      " 0   제목      13346 non-null  object\n",
      " 1   가사      13346 non-null  object\n",
      " 2   가수      13346 non-null  object\n",
      " 3   발매일     13346 non-null  object\n",
      " 4   좋아요수    13346 non-null  object\n",
      " 5   장르      13346 non-null  object\n",
      "dtypes: object(6)\n",
      "memory usage: 625.7+ KB\n"
     ]
    }
   ],
   "source": [
    "# info\n",
    "df_ballad.info()"
   ]
  },
  {
   "cell_type": "code",
   "execution_count": 76,
   "id": "4df5e8bc",
   "metadata": {},
   "outputs": [],
   "source": [
    "# 발매일 없는 데이터는 na로 처리\n",
    "df_ballad[\"발매일\"] = pd.to_datetime(df_ballad[\"발매일\"], errors=\"coerce\")\n",
    "\n",
    "# 발매일 없는 데이터는 채울까 ? drop 할까?\n",
    "df_ballad = df_ballad.dropna(subset=[\"발매일\"])"
   ]
  },
  {
   "cell_type": "code",
   "execution_count": 77,
   "id": "9a26e47f",
   "metadata": {},
   "outputs": [],
   "source": [
    "# 좋아요 수 int 타입으로 변경\n",
    "df_ballad[\"좋아요수\"] = df_ballad[\"좋아요수\"].str.replace(\",\", \"\")\n",
    "df_ballad[\"좋아요수\"] = df_ballad[\"좋아요수\"].astype(int)"
   ]
  },
  {
   "cell_type": "code",
   "execution_count": 78,
   "id": "eb311582",
   "metadata": {},
   "outputs": [
    {
     "name": "stdout",
     "output_type": "stream",
     "text": [
      "<class 'pandas.core.frame.DataFrame'>\n",
      "Int64Index: 13340 entries, 0 to 13345\n",
      "Data columns (total 6 columns):\n",
      " #   Column  Non-Null Count  Dtype         \n",
      "---  ------  --------------  -----         \n",
      " 0   제목      13340 non-null  object        \n",
      " 1   가사      13340 non-null  object        \n",
      " 2   가수      13340 non-null  object        \n",
      " 3   발매일     13340 non-null  datetime64[ns]\n",
      " 4   좋아요수    13340 non-null  int32         \n",
      " 5   장르      13340 non-null  object        \n",
      "dtypes: datetime64[ns](1), int32(1), object(4)\n",
      "memory usage: 677.4+ KB\n"
     ]
    }
   ],
   "source": [
    "# info\n",
    "df_ballad.info()"
   ]
  },
  {
   "cell_type": "markdown",
   "id": "afb16f32",
   "metadata": {},
   "source": [
    "## 장르 구분"
   ]
  },
  {
   "cell_type": "code",
   "execution_count": 79,
   "id": "3733c872",
   "metadata": {},
   "outputs": [],
   "source": [
    "# 장르 구분\n",
    "genre_split = df_ballad[\"장르\"].str.split(\",\")\n",
    "df_ballad[\"장르1\"] = genre_split.str.get(0)\n",
    "df_ballad[\"장르2\"] = genre_split.str.get(1)\n",
    "df_ballad[\"장르3\"] = genre_split.str.get(2)\n",
    "df_ballad[\"장르4\"] = genre_split.str.get(3)"
   ]
  },
  {
   "cell_type": "code",
   "execution_count": 80,
   "id": "0ccec680",
   "metadata": {},
   "outputs": [
    {
     "data": {
      "text/plain": [
       "발라드    13340\n",
       "Name: 장르1, dtype: int64"
      ]
     },
     "metadata": {},
     "output_type": "display_data"
    },
    {
     "name": "stdout",
     "output_type": "stream",
     "text": [
      "------------------------------\n"
     ]
    },
    {
     "data": {
      "text/plain": [
       " 국내드라마       2381\n",
       " 인디음악        1165\n",
       " 국내영화          85\n",
       " 애니메이션/웹툰      81\n",
       " R&B/Soul      71\n",
       " 랩/힙합          41\n",
       " 록/메탈          33\n",
       " 게임            16\n",
       " 포크/블루스        10\n",
       " 성인가요/트로트       8\n",
       " 댄스             5\n",
       " 국외영화           5\n",
       "Name: 장르2, dtype: int64"
      ]
     },
     "metadata": {},
     "output_type": "display_data"
    },
    {
     "name": "stdout",
     "output_type": "stream",
     "text": [
      "------------------------------\n"
     ]
    },
    {
     "data": {
      "text/plain": [
       " 국내드라마       68\n",
       " 포크/블루스       4\n",
       " 키즈           3\n",
       " 랩/힙합         1\n",
       " 애니메이션/웹툰     1\n",
       " 국내영화         1\n",
       "Name: 장르3, dtype: int64"
      ]
     },
     "metadata": {},
     "output_type": "display_data"
    },
    {
     "name": "stdout",
     "output_type": "stream",
     "text": [
      "------------------------------\n"
     ]
    },
    {
     "data": {
      "text/plain": [
       " 만화    3\n",
       "Name: 장르4, dtype: int64"
      ]
     },
     "metadata": {},
     "output_type": "display_data"
    }
   ],
   "source": [
    "# 장르 분포 확인\n",
    "# 장르는 한 곡에 최대 4개까지 있으나 양이 적어서 필요한 컬럼만 사용\n",
    "display(df_ballad[\"장르1\"].value_counts())\n",
    "print(\"-\"*30)\n",
    "display(df_ballad[\"장르2\"].value_counts())\n",
    "print(\"-\"*30)\n",
    "display(df_ballad[\"장르3\"].value_counts())\n",
    "print(\"-\"*30)\n",
    "display(df_ballad[\"장르4\"].value_counts())"
   ]
  },
  {
   "cell_type": "markdown",
   "id": "466510c0",
   "metadata": {},
   "source": [
    "## 날짜, 요일 추가\n",
    "* 일단 다각면에서 분석하고자 다 만들어두긴 했으나.. 연도와 월 빼고는 쓸모가 없을 듯 싶다"
   ]
  },
  {
   "cell_type": "code",
   "execution_count": 81,
   "id": "4ee215b9",
   "metadata": {},
   "outputs": [],
   "source": [
    "# 날짜, 요일 추가\n",
    "df_ballad[\"년\"] = df_ballad[\"발매일\"].dt.year\n",
    "df_ballad[\"월\"] = df_ballad[\"발매일\"].dt.month\n",
    "# df_ballad[\"일\"] = df_ballad[\"발매일\"].dt.day\n",
    "# df_ballad[\"요일\"] = df_ballad[\"발매일\"].dt.dayofweek"
   ]
  },
  {
   "cell_type": "code",
   "execution_count": 108,
   "id": "809cbcf7",
   "metadata": {},
   "outputs": [],
   "source": [
    "# 계절 추가\n",
    "df_ballad.loc[df_ballad[\"월\"].isin([12,1,2]), \"계절\"] = \"겨울\"\n",
    "df_ballad.loc[df_ballad[\"월\"].isin([3,4,5]), \"계절\"] = \"봄\"\n",
    "df_ballad.loc[df_ballad[\"월\"].isin([6,7,8]), \"계절\"] = \"여름\"\n",
    "df_ballad.loc[df_ballad[\"월\"].isin([9,10,11]), \"계절\"] = \"가을\""
   ]
  },
  {
   "cell_type": "code",
   "execution_count": null,
   "id": "8020f9b3",
   "metadata": {},
   "outputs": [],
   "source": [
    "# 계절별 노래 개수\n",
    "df_ballad[\"계절\"].value_counts()"
   ]
  },
  {
   "cell_type": "code",
   "execution_count": 83,
   "id": "bb1ccd87",
   "metadata": {},
   "outputs": [
    {
     "name": "stdout",
     "output_type": "stream",
     "text": [
      "<class 'pandas.core.frame.DataFrame'>\n",
      "Int64Index: 13340 entries, 0 to 13345\n",
      "Data columns (total 13 columns):\n",
      " #   Column  Non-Null Count  Dtype         \n",
      "---  ------  --------------  -----         \n",
      " 0   제목      13340 non-null  object        \n",
      " 1   가사      13340 non-null  object        \n",
      " 2   가수      13340 non-null  object        \n",
      " 3   발매일     13340 non-null  datetime64[ns]\n",
      " 4   좋아요수    13340 non-null  int32         \n",
      " 5   장르      13340 non-null  object        \n",
      " 6   장르1     13340 non-null  object        \n",
      " 7   장르2     3901 non-null   object        \n",
      " 8   장르3     78 non-null     object        \n",
      " 9   장르4     3 non-null      object        \n",
      " 10  년       13340 non-null  int64         \n",
      " 11  월       13340 non-null  int64         \n",
      " 12  계절      13340 non-null  object        \n",
      "dtypes: datetime64[ns](1), int32(1), int64(2), object(9)\n",
      "memory usage: 1.4+ MB\n"
     ]
    }
   ],
   "source": [
    "df_ballad.info()"
   ]
  },
  {
   "cell_type": "markdown",
   "id": "7605ba78",
   "metadata": {},
   "source": [
    "# EDA"
   ]
  },
  {
   "cell_type": "markdown",
   "id": "d9ff50e2",
   "metadata": {},
   "source": [
    "## 중복행 제거"
   ]
  },
  {
   "cell_type": "code",
   "execution_count": 84,
   "id": "41791a95",
   "metadata": {},
   "outputs": [
    {
     "data": {
      "text/html": [
       "<div>\n",
       "<style scoped>\n",
       "    .dataframe tbody tr th:only-of-type {\n",
       "        vertical-align: middle;\n",
       "    }\n",
       "\n",
       "    .dataframe tbody tr th {\n",
       "        vertical-align: top;\n",
       "    }\n",
       "\n",
       "    .dataframe thead th {\n",
       "        text-align: right;\n",
       "    }\n",
       "</style>\n",
       "<table border=\"1\" class=\"dataframe\">\n",
       "  <thead>\n",
       "    <tr style=\"text-align: right;\">\n",
       "      <th></th>\n",
       "      <th>제목</th>\n",
       "      <th>가사</th>\n",
       "      <th>가수</th>\n",
       "      <th>발매일</th>\n",
       "      <th>좋아요수</th>\n",
       "      <th>장르</th>\n",
       "      <th>장르1</th>\n",
       "      <th>장르2</th>\n",
       "      <th>장르3</th>\n",
       "      <th>장르4</th>\n",
       "      <th>년</th>\n",
       "      <th>월</th>\n",
       "      <th>계절</th>\n",
       "    </tr>\n",
       "  </thead>\n",
       "  <tbody>\n",
       "    <tr>\n",
       "      <th>6531</th>\n",
       "      <td>Goodbye To Romance(민서 X 김이나 프로젝트) (Inst.)</td>\n",
       "      <td>It's time for goodbye\\n나의 로맨스여 Goodbye\\n바로 어제처...</td>\n",
       "      <td>민서 (MINSEO)</td>\n",
       "      <td>2022-12-26</td>\n",
       "      <td>11</td>\n",
       "      <td>발라드</td>\n",
       "      <td>발라드</td>\n",
       "      <td>NaN</td>\n",
       "      <td>NaN</td>\n",
       "      <td>NaN</td>\n",
       "      <td>2022</td>\n",
       "      <td>12</td>\n",
       "      <td>겨울</td>\n",
       "    </tr>\n",
       "    <tr>\n",
       "      <th>7889</th>\n",
       "      <td>욕심</td>\n",
       "      <td>너무 늦어버린걸 이미 알고 있어 난\\n괜히 또 괜찮은 척 웃고있어\\n바쁜 하루 중에...</td>\n",
       "      <td>성민</td>\n",
       "      <td>2022-08-30</td>\n",
       "      <td>85</td>\n",
       "      <td>발라드</td>\n",
       "      <td>발라드</td>\n",
       "      <td>NaN</td>\n",
       "      <td>NaN</td>\n",
       "      <td>NaN</td>\n",
       "      <td>2022</td>\n",
       "      <td>8</td>\n",
       "      <td>여름</td>\n",
       "    </tr>\n",
       "    <tr>\n",
       "      <th>7970</th>\n",
       "      <td>소낙눈</td>\n",
       "      <td>보석처럼 빛나는 아침\\n단비 같은 눈이 내렸어\\n눈부시던 창 밖 풍경에\\n괜시리 맘...</td>\n",
       "      <td>소낙별</td>\n",
       "      <td>2017-01-24</td>\n",
       "      <td>225</td>\n",
       "      <td>발라드</td>\n",
       "      <td>발라드</td>\n",
       "      <td>NaN</td>\n",
       "      <td>NaN</td>\n",
       "      <td>NaN</td>\n",
       "      <td>2017</td>\n",
       "      <td>1</td>\n",
       "      <td>겨울</td>\n",
       "    </tr>\n",
       "    <tr>\n",
       "      <th>8028</th>\n",
       "      <td>기억을 걷다</td>\n",
       "      <td>참 많이도 웃었지\\n숨 쉬듯 내 곁에 있었지\\n편안했었고 친절했었지\\n그때 너는 그...</td>\n",
       "      <td>정승환</td>\n",
       "      <td>2015-04-05</td>\n",
       "      <td>7550</td>\n",
       "      <td>발라드</td>\n",
       "      <td>발라드</td>\n",
       "      <td>NaN</td>\n",
       "      <td>NaN</td>\n",
       "      <td>NaN</td>\n",
       "      <td>2015</td>\n",
       "      <td>4</td>\n",
       "      <td>봄</td>\n",
       "    </tr>\n",
       "    <tr>\n",
       "      <th>8151</th>\n",
       "      <td>백허그 (Back Hug)</td>\n",
       "      <td>백허그 (Back Hug)\\n\\n가만히 뒤에서 날 끌어안아줘\\n내 어깨에 턱을 기대...</td>\n",
       "      <td>소녀시대 (GIRLS' GENERATION)</td>\n",
       "      <td>2014-02-24</td>\n",
       "      <td>8623</td>\n",
       "      <td>발라드</td>\n",
       "      <td>발라드</td>\n",
       "      <td>NaN</td>\n",
       "      <td>NaN</td>\n",
       "      <td>NaN</td>\n",
       "      <td>2014</td>\n",
       "      <td>2</td>\n",
       "      <td>겨울</td>\n",
       "    </tr>\n",
       "    <tr>\n",
       "      <th>...</th>\n",
       "      <td>...</td>\n",
       "      <td>...</td>\n",
       "      <td>...</td>\n",
       "      <td>...</td>\n",
       "      <td>...</td>\n",
       "      <td>...</td>\n",
       "      <td>...</td>\n",
       "      <td>...</td>\n",
       "      <td>...</td>\n",
       "      <td>...</td>\n",
       "      <td>...</td>\n",
       "      <td>...</td>\n",
       "      <td>...</td>\n",
       "    </tr>\n",
       "    <tr>\n",
       "      <th>11211</th>\n",
       "      <td>견뎌야 하는 우리에게</td>\n",
       "      <td>문득 생각을 해봤어\\n지난날 우린 누구보다\\n뜨겁고 미친 듯이 사랑했고\\n아껴줬잖아...</td>\n",
       "      <td>먼데이 키즈 (Monday Kiz)</td>\n",
       "      <td>2020-05-20</td>\n",
       "      <td>3000</td>\n",
       "      <td>발라드</td>\n",
       "      <td>발라드</td>\n",
       "      <td>NaN</td>\n",
       "      <td>NaN</td>\n",
       "      <td>NaN</td>\n",
       "      <td>2020</td>\n",
       "      <td>5</td>\n",
       "      <td>봄</td>\n",
       "    </tr>\n",
       "    <tr>\n",
       "      <th>11220</th>\n",
       "      <td>우리들의 겨울이야기 (feat.뮤시아)</td>\n",
       "      <td>나 오랫동안 준비해 왔던\\n그 말을 전할 때가 온 거야\\n그대가 좋아하는 하얀 겨울...</td>\n",
       "      <td>EQ</td>\n",
       "      <td>2022-12-21</td>\n",
       "      <td>27</td>\n",
       "      <td>발라드, 인디음악</td>\n",
       "      <td>발라드</td>\n",
       "      <td>인디음악</td>\n",
       "      <td>NaN</td>\n",
       "      <td>NaN</td>\n",
       "      <td>2022</td>\n",
       "      <td>12</td>\n",
       "      <td>겨울</td>\n",
       "    </tr>\n",
       "    <tr>\n",
       "      <th>11515</th>\n",
       "      <td>Hate Christmas</td>\n",
       "      <td>우 모두 기다렸던\\n메리 크리스마스\\n홀로 쓸쓸한 이 밤\\n설레는 예쁜 연인들\\n그...</td>\n",
       "      <td>임도혁</td>\n",
       "      <td>2016-12-21</td>\n",
       "      <td>450</td>\n",
       "      <td>발라드</td>\n",
       "      <td>발라드</td>\n",
       "      <td>NaN</td>\n",
       "      <td>NaN</td>\n",
       "      <td>NaN</td>\n",
       "      <td>2016</td>\n",
       "      <td>12</td>\n",
       "      <td>겨울</td>\n",
       "    </tr>\n",
       "    <tr>\n",
       "      <th>11532</th>\n",
       "      <td>후회 (Original ver.)</td>\n",
       "      <td>아무렇지 않은 척했네\\n그대 떠난 자리에 서서\\n슬퍼하지 않으려 했네\\n내 슬픔이 ...</td>\n",
       "      <td>범진</td>\n",
       "      <td>2022-02-28</td>\n",
       "      <td>271</td>\n",
       "      <td>발라드, 인디음악</td>\n",
       "      <td>발라드</td>\n",
       "      <td>인디음악</td>\n",
       "      <td>NaN</td>\n",
       "      <td>NaN</td>\n",
       "      <td>2022</td>\n",
       "      <td>2</td>\n",
       "      <td>겨울</td>\n",
       "    </tr>\n",
       "    <tr>\n",
       "      <th>11726</th>\n",
       "      <td>Love or Like (With 휘인 of 마마무, JISIM)</td>\n",
       "      <td>U and me dream is sweet\\n여전히 둘 다 쉿\\nstay away\\...</td>\n",
       "      <td>스탠딩 에그</td>\n",
       "      <td>2017-12-01</td>\n",
       "      <td>9790</td>\n",
       "      <td>발라드, 인디음악</td>\n",
       "      <td>발라드</td>\n",
       "      <td>인디음악</td>\n",
       "      <td>NaN</td>\n",
       "      <td>NaN</td>\n",
       "      <td>2017</td>\n",
       "      <td>12</td>\n",
       "      <td>겨울</td>\n",
       "    </tr>\n",
       "  </tbody>\n",
       "</table>\n",
       "<p>432 rows × 13 columns</p>\n",
       "</div>"
      ],
      "text/plain": [
       "                                              제목  \\\n",
       "6531   Goodbye To Romance(민서 X 김이나 프로젝트) (Inst.)   \n",
       "7889                                          욕심   \n",
       "7970                                         소낙눈   \n",
       "8028                                      기억을 걷다   \n",
       "8151                              백허그 (Back Hug)   \n",
       "...                                          ...   \n",
       "11211                                견뎌야 하는 우리에게   \n",
       "11220                      우리들의 겨울이야기 (feat.뮤시아)   \n",
       "11515                             Hate Christmas   \n",
       "11532                         후회 (Original ver.)   \n",
       "11726       Love or Like (With 휘인 of 마마무, JISIM)   \n",
       "\n",
       "                                                      가사  \\\n",
       "6531   It's time for goodbye\\n나의 로맨스여 Goodbye\\n바로 어제처...   \n",
       "7889   너무 늦어버린걸 이미 알고 있어 난\\n괜히 또 괜찮은 척 웃고있어\\n바쁜 하루 중에...   \n",
       "7970   보석처럼 빛나는 아침\\n단비 같은 눈이 내렸어\\n눈부시던 창 밖 풍경에\\n괜시리 맘...   \n",
       "8028   참 많이도 웃었지\\n숨 쉬듯 내 곁에 있었지\\n편안했었고 친절했었지\\n그때 너는 그...   \n",
       "8151   백허그 (Back Hug)\\n\\n가만히 뒤에서 날 끌어안아줘\\n내 어깨에 턱을 기대...   \n",
       "...                                                  ...   \n",
       "11211  문득 생각을 해봤어\\n지난날 우린 누구보다\\n뜨겁고 미친 듯이 사랑했고\\n아껴줬잖아...   \n",
       "11220  나 오랫동안 준비해 왔던\\n그 말을 전할 때가 온 거야\\n그대가 좋아하는 하얀 겨울...   \n",
       "11515  우 모두 기다렸던\\n메리 크리스마스\\n홀로 쓸쓸한 이 밤\\n설레는 예쁜 연인들\\n그...   \n",
       "11532  아무렇지 않은 척했네\\n그대 떠난 자리에 서서\\n슬퍼하지 않으려 했네\\n내 슬픔이 ...   \n",
       "11726  U and me dream is sweet\\n여전히 둘 다 쉿\\nstay away\\...   \n",
       "\n",
       "                             가수        발매일  좋아요수         장르  장르1    장르2  장르3  \\\n",
       "6531                민서 (MINSEO) 2022-12-26    11        발라드  발라드    NaN  NaN   \n",
       "7889                         성민 2022-08-30    85        발라드  발라드    NaN  NaN   \n",
       "7970                        소낙별 2017-01-24   225        발라드  발라드    NaN  NaN   \n",
       "8028                        정승환 2015-04-05  7550        발라드  발라드    NaN  NaN   \n",
       "8151   소녀시대 (GIRLS' GENERATION) 2014-02-24  8623        발라드  발라드    NaN  NaN   \n",
       "...                         ...        ...   ...        ...  ...    ...  ...   \n",
       "11211       먼데이 키즈 (Monday Kiz) 2020-05-20  3000        발라드  발라드    NaN  NaN   \n",
       "11220                        EQ 2022-12-21    27  발라드, 인디음악  발라드   인디음악  NaN   \n",
       "11515                       임도혁 2016-12-21   450        발라드  발라드    NaN  NaN   \n",
       "11532                        범진 2022-02-28   271  발라드, 인디음악  발라드   인디음악  NaN   \n",
       "11726                    스탠딩 에그 2017-12-01  9790  발라드, 인디음악  발라드   인디음악  NaN   \n",
       "\n",
       "       장르4     년   월  계절  \n",
       "6531   NaN  2022  12  겨울  \n",
       "7889   NaN  2022   8  여름  \n",
       "7970   NaN  2017   1  겨울  \n",
       "8028   NaN  2015   4   봄  \n",
       "8151   NaN  2014   2  겨울  \n",
       "...    ...   ...  ..  ..  \n",
       "11211  NaN  2020   5   봄  \n",
       "11220  NaN  2022  12  겨울  \n",
       "11515  NaN  2016  12  겨울  \n",
       "11532  NaN  2022   2  겨울  \n",
       "11726  NaN  2017  12  겨울  \n",
       "\n",
       "[432 rows x 13 columns]"
      ]
     },
     "execution_count": 84,
     "metadata": {},
     "output_type": "execute_result"
    }
   ],
   "source": [
    "# 중복행 한 번 더 확인\n",
    "df_ballad[df_ballad.duplicated(keep=False)]"
   ]
  },
  {
   "cell_type": "code",
   "execution_count": 85,
   "id": "90bf8a51",
   "metadata": {},
   "outputs": [
    {
     "name": "stdout",
     "output_type": "stream",
     "text": [
      "(13340, 13)\n"
     ]
    },
    {
     "data": {
      "text/plain": [
       "(13124, 13)"
      ]
     },
     "execution_count": 85,
     "metadata": {},
     "output_type": "execute_result"
    }
   ],
   "source": [
    "# 중복행 drop\n",
    "print(df_ballad.shape)\n",
    "df_ballad = df_ballad.drop_duplicates()\n",
    "df_ballad.shape"
   ]
  },
  {
   "cell_type": "markdown",
   "id": "b4818daf",
   "metadata": {},
   "source": [
    "## 시각화"
   ]
  },
  {
   "cell_type": "code",
   "execution_count": 86,
   "id": "dbedb8c1",
   "metadata": {},
   "outputs": [],
   "source": [
    "# 필요 없는 단어 제거\n",
    "df_ballad[\"가사\"] = df_ballad[\"가사\"].map(lambda x : re.sub(\"1절\", \"\", x))\n",
    "df_ballad[\"가사\"] = df_ballad[\"가사\"].map(lambda x : re.sub(\"2절\", \"\", x))\n",
    "df_ballad[\"가사\"] = df_ballad[\"가사\"].map(lambda x : re.sub(\"브리지\", \"\", x).strip())"
   ]
  },
  {
   "cell_type": "code",
   "execution_count": 87,
   "id": "c12c8ec1",
   "metadata": {},
   "outputs": [],
   "source": [
    "df_ballad[\"가사\"] = df_ballad[\"가사\"].map(lambda x : re.sub(\"\\s{2,}\", \"\", x)) # 공백 2회 이상 제거\n",
    "df_ballad[\"가사\"] = df_ballad[\"가사\"].map(lambda x : re.sub(\"\\n\", \" \", x)) # 개행문자 제거"
   ]
  },
  {
   "cell_type": "code",
   "execution_count": 88,
   "id": "c41281a9",
   "metadata": {},
   "outputs": [
    {
     "data": {
      "text/html": [
       "<div>\n",
       "<style scoped>\n",
       "    .dataframe tbody tr th:only-of-type {\n",
       "        vertical-align: middle;\n",
       "    }\n",
       "\n",
       "    .dataframe tbody tr th {\n",
       "        vertical-align: top;\n",
       "    }\n",
       "\n",
       "    .dataframe thead th {\n",
       "        text-align: right;\n",
       "    }\n",
       "</style>\n",
       "<table border=\"1\" class=\"dataframe\">\n",
       "  <thead>\n",
       "    <tr style=\"text-align: right;\">\n",
       "      <th></th>\n",
       "      <th>제목</th>\n",
       "      <th>가사</th>\n",
       "      <th>가수</th>\n",
       "      <th>발매일</th>\n",
       "      <th>좋아요수</th>\n",
       "      <th>장르</th>\n",
       "      <th>장르1</th>\n",
       "      <th>장르2</th>\n",
       "      <th>장르3</th>\n",
       "      <th>장르4</th>\n",
       "      <th>년</th>\n",
       "      <th>월</th>\n",
       "      <th>계절</th>\n",
       "    </tr>\n",
       "  </thead>\n",
       "  <tbody>\n",
       "    <tr>\n",
       "      <th>0</th>\n",
       "      <td>Monologue</td>\n",
       "      <td>다 잊었다는 거짓말 또 해 버렸죠 내 마음에 그대란 사람 없다고 했죠 너무나 쉽게 ...</td>\n",
       "      <td>테이</td>\n",
       "      <td>2022-09-18</td>\n",
       "      <td>66062</td>\n",
       "      <td>발라드</td>\n",
       "      <td>발라드</td>\n",
       "      <td>NaN</td>\n",
       "      <td>NaN</td>\n",
       "      <td>NaN</td>\n",
       "      <td>2022</td>\n",
       "      <td>9</td>\n",
       "      <td>겨울</td>\n",
       "    </tr>\n",
       "    <tr>\n",
       "      <th>1</th>\n",
       "      <td>너의 모든 순간</td>\n",
       "      <td>이윽고 내가 한눈에 너를 알아봤을 때 모든 건 분명 달라지고 있었어 내 세상은 널 ...</td>\n",
       "      <td>성시경</td>\n",
       "      <td>2014-02-12</td>\n",
       "      <td>243092</td>\n",
       "      <td>발라드, 국내드라마</td>\n",
       "      <td>발라드</td>\n",
       "      <td>국내드라마</td>\n",
       "      <td>NaN</td>\n",
       "      <td>NaN</td>\n",
       "      <td>2014</td>\n",
       "      <td>2</td>\n",
       "      <td>겨울</td>\n",
       "    </tr>\n",
       "    <tr>\n",
       "      <th>2</th>\n",
       "      <td>잘가요</td>\n",
       "      <td>미안해 마요 이제야 난 깨달아요 내 절대 그대 짝이 아님을 괜찮을게요 영혼 밖에 팔...</td>\n",
       "      <td>주호</td>\n",
       "      <td>2022-12-04</td>\n",
       "      <td>18702</td>\n",
       "      <td>발라드</td>\n",
       "      <td>발라드</td>\n",
       "      <td>NaN</td>\n",
       "      <td>NaN</td>\n",
       "      <td>NaN</td>\n",
       "      <td>2022</td>\n",
       "      <td>12</td>\n",
       "      <td>겨울</td>\n",
       "    </tr>\n",
       "    <tr>\n",
       "      <th>3</th>\n",
       "      <td>사랑은 늘 도망가</td>\n",
       "      <td>눈물이 난다 이 길을 걸으면 그 사람 손길이 자꾸 생각이 난다 붙잡지 못하고 가슴만...</td>\n",
       "      <td>임영웅</td>\n",
       "      <td>2021-10-11</td>\n",
       "      <td>185585</td>\n",
       "      <td>발라드, 국내드라마</td>\n",
       "      <td>발라드</td>\n",
       "      <td>국내드라마</td>\n",
       "      <td>NaN</td>\n",
       "      <td>NaN</td>\n",
       "      <td>2021</td>\n",
       "      <td>10</td>\n",
       "      <td>겨울</td>\n",
       "    </tr>\n",
       "    <tr>\n",
       "      <th>4</th>\n",
       "      <td>해요 (2022)</td>\n",
       "      <td>그녀와 나는요 그땐 참 어렸어요 많이 사랑했고 때론 많이 다퉜었죠 지금 생각하면 모...</td>\n",
       "      <td>#안녕</td>\n",
       "      <td>2022-06-07</td>\n",
       "      <td>63808</td>\n",
       "      <td>발라드, 인디음악</td>\n",
       "      <td>발라드</td>\n",
       "      <td>인디음악</td>\n",
       "      <td>NaN</td>\n",
       "      <td>NaN</td>\n",
       "      <td>2022</td>\n",
       "      <td>6</td>\n",
       "      <td>여름</td>\n",
       "    </tr>\n",
       "    <tr>\n",
       "      <th>...</th>\n",
       "      <td>...</td>\n",
       "      <td>...</td>\n",
       "      <td>...</td>\n",
       "      <td>...</td>\n",
       "      <td>...</td>\n",
       "      <td>...</td>\n",
       "      <td>...</td>\n",
       "      <td>...</td>\n",
       "      <td>...</td>\n",
       "      <td>...</td>\n",
       "      <td>...</td>\n",
       "      <td>...</td>\n",
       "      <td>...</td>\n",
       "    </tr>\n",
       "    <tr>\n",
       "      <th>13341</th>\n",
       "      <td>긴 밤을 나 혼자 보내기엔</td>\n",
       "      <td>나는 알지 못했죠 그대 내게 얼마나 소중했었는지 이제 알 것 같아요 그땐 내가 얼마...</td>\n",
       "      <td>최도영(CANDO)</td>\n",
       "      <td>2022-06-26</td>\n",
       "      <td>154</td>\n",
       "      <td>발라드, 국내드라마</td>\n",
       "      <td>발라드</td>\n",
       "      <td>국내드라마</td>\n",
       "      <td>NaN</td>\n",
       "      <td>NaN</td>\n",
       "      <td>2022</td>\n",
       "      <td>6</td>\n",
       "      <td>여름</td>\n",
       "    </tr>\n",
       "    <tr>\n",
       "      <th>13342</th>\n",
       "      <td>Rooting for you</td>\n",
       "      <td>오 기억하나요 설레였나요 그 여름 함께였던 우리를 그시간 속에서 사계절의 우리를 (...</td>\n",
       "      <td>DIA (다이아)</td>\n",
       "      <td>2022-09-14</td>\n",
       "      <td>641</td>\n",
       "      <td>발라드</td>\n",
       "      <td>발라드</td>\n",
       "      <td>NaN</td>\n",
       "      <td>NaN</td>\n",
       "      <td>NaN</td>\n",
       "      <td>2022</td>\n",
       "      <td>9</td>\n",
       "      <td>겨울</td>\n",
       "    </tr>\n",
       "    <tr>\n",
       "      <th>13343</th>\n",
       "      <td>지금 청혼하는 거야</td>\n",
       "      <td>지금 네게 청혼을 하는 거야 미친 듯이 뛰는 심장을 부여잡고 날씨마저 화창한 오늘 ...</td>\n",
       "      <td>이성혁</td>\n",
       "      <td>2022-10-08</td>\n",
       "      <td>64</td>\n",
       "      <td>발라드, 인디음악</td>\n",
       "      <td>발라드</td>\n",
       "      <td>인디음악</td>\n",
       "      <td>NaN</td>\n",
       "      <td>NaN</td>\n",
       "      <td>2022</td>\n",
       "      <td>10</td>\n",
       "      <td>겨울</td>\n",
       "    </tr>\n",
       "    <tr>\n",
       "      <th>13344</th>\n",
       "      <td>My First Love (나와 결혼해 줄래요) (inst.)</td>\n",
       "      <td>그대 눈을 바라볼 때면 느낄 수 있죠 떨리는 맘 um 말하지 않아도 내 맘이 그댈 ...</td>\n",
       "      <td>허각</td>\n",
       "      <td>2022-10-16</td>\n",
       "      <td>797</td>\n",
       "      <td>발라드</td>\n",
       "      <td>발라드</td>\n",
       "      <td>NaN</td>\n",
       "      <td>NaN</td>\n",
       "      <td>NaN</td>\n",
       "      <td>2022</td>\n",
       "      <td>10</td>\n",
       "      <td>겨울</td>\n",
       "    </tr>\n",
       "    <tr>\n",
       "      <th>13345</th>\n",
       "      <td>매직카펫</td>\n",
       "      <td>별빛조차 잠들은 밤에 회색빛 네 숨소리를 들어 어둠 속에서 혼자 뒤척이는 널 수면 ...</td>\n",
       "      <td>스웨덴세탁소</td>\n",
       "      <td>2022-10-26</td>\n",
       "      <td>174</td>\n",
       "      <td>발라드, 인디음악</td>\n",
       "      <td>발라드</td>\n",
       "      <td>인디음악</td>\n",
       "      <td>NaN</td>\n",
       "      <td>NaN</td>\n",
       "      <td>2022</td>\n",
       "      <td>10</td>\n",
       "      <td>겨울</td>\n",
       "    </tr>\n",
       "  </tbody>\n",
       "</table>\n",
       "<p>13124 rows × 13 columns</p>\n",
       "</div>"
      ],
      "text/plain": [
       "                                       제목  \\\n",
       "0                               Monologue   \n",
       "1                                너의 모든 순간   \n",
       "2                                     잘가요   \n",
       "3                               사랑은 늘 도망가   \n",
       "4                               해요 (2022)   \n",
       "...                                   ...   \n",
       "13341                      긴 밤을 나 혼자 보내기엔   \n",
       "13342                     Rooting for you   \n",
       "13343                          지금 청혼하는 거야   \n",
       "13344  My First Love (나와 결혼해 줄래요) (inst.)   \n",
       "13345                                매직카펫   \n",
       "\n",
       "                                                      가사          가수  \\\n",
       "0      다 잊었다는 거짓말 또 해 버렸죠 내 마음에 그대란 사람 없다고 했죠 너무나 쉽게 ...          테이   \n",
       "1      이윽고 내가 한눈에 너를 알아봤을 때 모든 건 분명 달라지고 있었어 내 세상은 널 ...         성시경   \n",
       "2      미안해 마요 이제야 난 깨달아요 내 절대 그대 짝이 아님을 괜찮을게요 영혼 밖에 팔...          주호   \n",
       "3      눈물이 난다 이 길을 걸으면 그 사람 손길이 자꾸 생각이 난다 붙잡지 못하고 가슴만...         임영웅   \n",
       "4      그녀와 나는요 그땐 참 어렸어요 많이 사랑했고 때론 많이 다퉜었죠 지금 생각하면 모...         #안녕   \n",
       "...                                                  ...         ...   \n",
       "13341  나는 알지 못했죠 그대 내게 얼마나 소중했었는지 이제 알 것 같아요 그땐 내가 얼마...  최도영(CANDO)   \n",
       "13342  오 기억하나요 설레였나요 그 여름 함께였던 우리를 그시간 속에서 사계절의 우리를 (...   DIA (다이아)   \n",
       "13343  지금 네게 청혼을 하는 거야 미친 듯이 뛰는 심장을 부여잡고 날씨마저 화창한 오늘 ...         이성혁   \n",
       "13344  그대 눈을 바라볼 때면 느낄 수 있죠 떨리는 맘 um 말하지 않아도 내 맘이 그댈 ...          허각   \n",
       "13345  별빛조차 잠들은 밤에 회색빛 네 숨소리를 들어 어둠 속에서 혼자 뒤척이는 널 수면 ...      스웨덴세탁소   \n",
       "\n",
       "             발매일    좋아요수          장르  장르1     장르2  장르3  장르4     년   월  계절  \n",
       "0     2022-09-18   66062         발라드  발라드     NaN  NaN  NaN  2022   9  겨울  \n",
       "1     2014-02-12  243092  발라드, 국내드라마  발라드   국내드라마  NaN  NaN  2014   2  겨울  \n",
       "2     2022-12-04   18702         발라드  발라드     NaN  NaN  NaN  2022  12  겨울  \n",
       "3     2021-10-11  185585  발라드, 국내드라마  발라드   국내드라마  NaN  NaN  2021  10  겨울  \n",
       "4     2022-06-07   63808   발라드, 인디음악  발라드    인디음악  NaN  NaN  2022   6  여름  \n",
       "...          ...     ...         ...  ...     ...  ...  ...   ...  ..  ..  \n",
       "13341 2022-06-26     154  발라드, 국내드라마  발라드   국내드라마  NaN  NaN  2022   6  여름  \n",
       "13342 2022-09-14     641         발라드  발라드     NaN  NaN  NaN  2022   9  겨울  \n",
       "13343 2022-10-08      64   발라드, 인디음악  발라드    인디음악  NaN  NaN  2022  10  겨울  \n",
       "13344 2022-10-16     797         발라드  발라드     NaN  NaN  NaN  2022  10  겨울  \n",
       "13345 2022-10-26     174   발라드, 인디음악  발라드    인디음악  NaN  NaN  2022  10  겨울  \n",
       "\n",
       "[13124 rows x 13 columns]"
      ]
     },
     "execution_count": 88,
     "metadata": {},
     "output_type": "execute_result"
    }
   ],
   "source": [
    "df_ballad"
   ]
  },
  {
   "cell_type": "markdown",
   "id": "e6d6805f",
   "metadata": {},
   "source": [
    "### 가수별 분석"
   ]
  },
  {
   "cell_type": "code",
   "execution_count": 89,
   "id": "1091e325",
   "metadata": {},
   "outputs": [
    {
     "data": {
      "text/html": [
       "<div>\n",
       "<style scoped>\n",
       "    .dataframe tbody tr th:only-of-type {\n",
       "        vertical-align: middle;\n",
       "    }\n",
       "\n",
       "    .dataframe tbody tr th {\n",
       "        vertical-align: top;\n",
       "    }\n",
       "\n",
       "    .dataframe thead th {\n",
       "        text-align: right;\n",
       "    }\n",
       "</style>\n",
       "<table border=\"1\" class=\"dataframe\">\n",
       "  <thead>\n",
       "    <tr style=\"text-align: right;\">\n",
       "      <th></th>\n",
       "      <th>가수</th>\n",
       "      <th>제목</th>\n",
       "      <th>좋아요수</th>\n",
       "    </tr>\n",
       "  </thead>\n",
       "  <tbody>\n",
       "    <tr>\n",
       "      <th>0</th>\n",
       "      <td>먼데이 키즈 (Monday Kiz)</td>\n",
       "      <td>130</td>\n",
       "      <td>1250007</td>\n",
       "    </tr>\n",
       "    <tr>\n",
       "      <th>1</th>\n",
       "      <td>성시경</td>\n",
       "      <td>129</td>\n",
       "      <td>2461336</td>\n",
       "    </tr>\n",
       "    <tr>\n",
       "      <th>2</th>\n",
       "      <td>엠씨더맥스 (M.C the MAX)</td>\n",
       "      <td>127</td>\n",
       "      <td>2298255</td>\n",
       "    </tr>\n",
       "    <tr>\n",
       "      <th>3</th>\n",
       "      <td>지아</td>\n",
       "      <td>109</td>\n",
       "      <td>802739</td>\n",
       "    </tr>\n",
       "    <tr>\n",
       "      <th>4</th>\n",
       "      <td>임창정</td>\n",
       "      <td>109</td>\n",
       "      <td>1733212</td>\n",
       "    </tr>\n",
       "  </tbody>\n",
       "</table>\n",
       "</div>"
      ],
      "text/plain": [
       "                    가수   제목     좋아요수\n",
       "0  먼데이 키즈 (Monday Kiz)  130  1250007\n",
       "1                  성시경  129  2461336\n",
       "2  엠씨더맥스 (M.C the MAX)  127  2298255\n",
       "3                   지아  109   802739\n",
       "4                  임창정  109  1733212"
      ]
     },
     "metadata": {},
     "output_type": "display_data"
    },
    {
     "data": {
      "text/html": [
       "<div>\n",
       "<style scoped>\n",
       "    .dataframe tbody tr th:only-of-type {\n",
       "        vertical-align: middle;\n",
       "    }\n",
       "\n",
       "    .dataframe tbody tr th {\n",
       "        vertical-align: top;\n",
       "    }\n",
       "\n",
       "    .dataframe thead th {\n",
       "        text-align: right;\n",
       "    }\n",
       "</style>\n",
       "<table border=\"1\" class=\"dataframe\">\n",
       "  <thead>\n",
       "    <tr style=\"text-align: right;\">\n",
       "      <th></th>\n",
       "      <th>가수</th>\n",
       "      <th>제목</th>\n",
       "      <th>좋아요수</th>\n",
       "    </tr>\n",
       "  </thead>\n",
       "  <tbody>\n",
       "    <tr>\n",
       "      <th>0</th>\n",
       "      <td>아이유</td>\n",
       "      <td>75</td>\n",
       "      <td>5405204</td>\n",
       "    </tr>\n",
       "    <tr>\n",
       "      <th>1</th>\n",
       "      <td>태연 (TAEYEON)</td>\n",
       "      <td>54</td>\n",
       "      <td>2633545</td>\n",
       "    </tr>\n",
       "    <tr>\n",
       "      <th>2</th>\n",
       "      <td>박효신</td>\n",
       "      <td>90</td>\n",
       "      <td>2484356</td>\n",
       "    </tr>\n",
       "    <tr>\n",
       "      <th>3</th>\n",
       "      <td>성시경</td>\n",
       "      <td>129</td>\n",
       "      <td>2461336</td>\n",
       "    </tr>\n",
       "    <tr>\n",
       "      <th>4</th>\n",
       "      <td>엠씨더맥스 (M.C the MAX)</td>\n",
       "      <td>127</td>\n",
       "      <td>2298255</td>\n",
       "    </tr>\n",
       "  </tbody>\n",
       "</table>\n",
       "</div>"
      ],
      "text/plain": [
       "                    가수   제목     좋아요수\n",
       "0                  아이유   75  5405204\n",
       "1         태연 (TAEYEON)   54  2633545\n",
       "2                  박효신   90  2484356\n",
       "3                  성시경  129  2461336\n",
       "4  엠씨더맥스 (M.C the MAX)  127  2298255"
      ]
     },
     "execution_count": 89,
     "metadata": {},
     "output_type": "execute_result"
    }
   ],
   "source": [
    "# 가수별 곡 수\n",
    "df_singer_soundtrack = df_ballad.groupby(\"가수\").agg({\"제목\" : \"count\", \n",
    "                                                 \"좋아요수\" : \"sum\"}).sort_values(\"제목\", ascending=False).reset_index()\n",
    "\n",
    "# 가수별 좋아요 수\n",
    "df_singer_like = df_ballad.groupby(\"가수\").agg({\"제목\" : \"count\", \n",
    "                                                 \"좋아요수\" : \"sum\"}).sort_values(\"좋아요수\", ascending=False).reset_index()\n",
    "display(df_singer_soundtrack.head())\n",
    "df_singer_like.head()"
   ]
  },
  {
   "cell_type": "code",
   "execution_count": 99,
   "id": "d0075a11",
   "metadata": {},
   "outputs": [
    {
     "data": {
      "text/plain": [
       "<AxesSubplot: xlabel='제목', ylabel='가수'>"
      ]
     },
     "execution_count": 99,
     "metadata": {},
     "output_type": "execute_result"
    },
    {
     "data": {
      "image/png": "[encoded data removed]",
      "text/plain": [
       "<Figure size 640x480 with 1 Axes>"
      ]
     },
     "metadata": {},
     "output_type": "display_data"
    }
   ],
   "source": [
    "# 곡 수 top 20 시각화\n",
    "sns.barplot(df_singer_soundtrack[:20], x=\"제목\", y=\"가수\", palette = sns.color_palette(\"pastel\"))"
   ]
  },
  {
   "cell_type": "code",
   "execution_count": 100,
   "id": "101abb40",
   "metadata": {},
   "outputs": [
    {
     "data": {
      "text/plain": [
       "<AxesSubplot: xlabel='좋아요수', ylabel='가수'>"
      ]
     },
     "execution_count": 100,
     "metadata": {},
     "output_type": "execute_result"
    },
    {
     "data": {
      "image/png": "[encoded data removed]",
      "text/plain": [
       "<Figure size 640x480 with 1 Axes>"
      ]
     },
     "metadata": {},
     "output_type": "display_data"
    }
   ],
   "source": [
    "# 좋아요 수 top 20 시각화\n",
    "sns.barplot(df_singer_like[:20], x=\"좋아요수\", y=\"가수\", palette = sns.color_palette(\"pastel\"))"
   ]
  },
  {
   "cell_type": "code",
   "execution_count": 92,
   "id": "c5d97ac9",
   "metadata": {},
   "outputs": [
    {
     "data": {
      "image/png": "[encoded data removed]",
      "text/plain": [
       "<Figure size 640x480 with 1 Axes>"
      ]
     },
     "metadata": {},
     "output_type": "display_data"
    }
   ],
   "source": [
    "# 가수별 곡 수의 분포\n",
    "df_singer_soundtrack[\"제목\"].hist(bins=50).set_title(\"가수별 곡 수 분포\");"
   ]
  },
  {
   "cell_type": "markdown",
   "id": "346aab94",
   "metadata": {},
   "source": [
    "- 인기순에 노래가 많이 오른 가수들의 노래는 대중들로부터 인정을 받았다고 볼 수 있기 때문에 이 곡들의 가사로 학습해봐도 괜찮지 않을까?\n",
    "- 혹은 음악의 좋아요 수가 많은 가수들의 노래?\n",
    "- 이 두 가지를 혼합한 기준?"
   ]
  },
  {
   "cell_type": "markdown",
   "id": "1263d3dc",
   "metadata": {},
   "source": [
    "### 연도별 분석"
   ]
  },
  {
   "cell_type": "code",
   "execution_count": 102,
   "id": "87103a58",
   "metadata": {},
   "outputs": [
    {
     "data": {
      "text/plain": [
       "<AxesSubplot: xlabel='년', ylabel='제목'>"
      ]
     },
     "execution_count": 102,
     "metadata": {},
     "output_type": "execute_result"
    },
    {
     "data": {
      "image/png": "[encoded data removed]",
      "text/plain": [
       "<Figure size 640x480 with 1 Axes>"
      ]
     },
     "metadata": {},
     "output_type": "display_data"
    }
   ],
   "source": [
    "# 연도별 인기순 데이터\n",
    "sns.lineplot(data=df_ballad.groupby(\"년\")[[\"제목\"]].count().reset_index(), x=\"년\", y=\"제목\")"
   ]
  },
  {
   "cell_type": "markdown",
   "id": "b15b144c",
   "metadata": {},
   "source": [
    "- 발라드 장르 \"최신곡\"의 인기순 정렬이다보니 최신으로 갈수록 데이터가 많아짐(1~15000곡 기준)"
   ]
  },
  {
   "cell_type": "markdown",
   "id": "60b3778e",
   "metadata": {},
   "source": [
    "### 곡별 가사 길이 분포"
   ]
  },
  {
   "cell_type": "code",
   "execution_count": 94,
   "id": "6960b684",
   "metadata": {},
   "outputs": [
    {
     "data": {
      "image/png": "[encoded data removed]",
      "text/plain": [
       "<Figure size 640x480 with 1 Axes>"
      ]
     },
     "metadata": {},
     "output_type": "display_data"
    }
   ],
   "source": [
    "# 가사 길이 분포\n",
    "df_ballad[\"가사\"].str.len().hist(bins=50).set_title(\"가사 길이\");"
   ]
  },
  {
   "cell_type": "markdown",
   "id": "637ad8da",
   "metadata": {},
   "source": [
    "- 공백 포함 약 300~600자 사이에 가장 많이 분포함\n",
    "- 가사 전처리를 러프하게 했기 때문에 실제 가사 길이와 오차는 있을 수 있음(특수문자 등)"
   ]
  },
  {
   "cell_type": "markdown",
   "id": "697fd077",
   "metadata": {},
   "source": [
    "## 맞춤법 검사기 활용\n",
    "- 네이버 맞춤법 검사기 기반의 `py-hanspell` 라이브러리 사용\n",
    "- 네이버 맞춤법 검사기 기반이기 때문에 500자가 넘어가면 사용하지 못하므로 문장 단위로 끊어서 사용해야함\n",
    "- 사용하게 된다면 모델에 input할 가사만 맞춤법 검사해도 될듯\n",
    "- 형태소 분석기 사용 시 띄어쓰기 처리 알아서 끊어주기 때문에 사용 x"
   ]
  },
  {
   "cell_type": "code",
   "execution_count": 95,
   "id": "dc308e87",
   "metadata": {},
   "outputs": [],
   "source": [
    "# spell_checker()"
   ]
  },
  {
   "cell_type": "markdown",
   "id": "6b5e286b",
   "metadata": {},
   "source": [
    "## 형태소 분석"
   ]
  },
  {
   "cell_type": "code",
   "execution_count": 96,
   "id": "ea79dc4a",
   "metadata": {},
   "outputs": [],
   "source": [
    "# 형태소 분석기 호출 및 함수 정의\n",
    "okt = Okt()\n",
    "def okt_clean(text):\n",
    "    clean_text = []\n",
    "    # 품사 태깅 후 태깅 결과를 받아서 순회 \n",
    "    for word in okt.pos(text, norm=True, stem=True):\n",
    "        # 품사가 조사, 어미, 구두점이면 제외하고 append 로 인덱스 0번 값만 다시 리스트에 담아줌\n",
    "        if word[1] not in ['Josa', 'Eomi', 'Punctuation']:\n",
    "            clean_text.append(word[0])\n",
    "    # 공백 문자로 연결\n",
    "    return \" \".join(clean_text)"
   ]
  },
  {
   "cell_type": "code",
   "execution_count": 97,
   "id": "049e9617",
   "metadata": {},
   "outputs": [],
   "source": [
    "# 판다스에서 tqdm 기능 사용하기 위해 선언\n",
    "tqdm.pandas()"
   ]
  },
  {
   "cell_type": "code",
   "execution_count": 98,
   "id": "fee7b715",
   "metadata": {},
   "outputs": [
    {
     "name": "stderr",
     "output_type": "stream",
     "text": [
      "100%|████████████████████████████████████████████████████████████████████████████| 13124/13124 [10:14<00:00, 21.34it/s]\n"
     ]
    }
   ],
   "source": [
    "# 약 10분 소요\n",
    "df_ballad[\"가사_전처리\"] = df_ballad[\"가사\"].progress_map(okt_clean)"
   ]
  },
  {
   "cell_type": "markdown",
   "id": "a42a1dd8",
   "metadata": {},
   "source": [
    "### 계절별 분석\n",
    "- 사랑에 미쳐버린 노래들..\n",
    "- 계절별로 노래 가사 단어 빈도의 뚜렷한 차이는 발견하지 못했음"
   ]
  },
  {
   "cell_type": "code",
   "execution_count": 121,
   "id": "a895ba55",
   "metadata": {},
   "outputs": [],
   "source": [
    "# 각 계절별 좋아요수 상위 20개 추출\n",
    "df_ballad_spring = df_ballad[df_ballad[\"계절\"] == \"봄\"].sort_values(\"좋아요수\", ascending=False).head(50)\n",
    "df_ballad_summer = df_ballad[df_ballad[\"계절\"] == \"여름\"].sort_values(\"좋아요수\", ascending=False).head(50)\n",
    "df_ballad_fall = df_ballad[df_ballad[\"계절\"] == \"가을\"].sort_values(\"좋아요수\", ascending=False).head(50)\n",
    "df_ballad_winter = df_ballad[df_ballad[\"계절\"] == \"겨울\"].sort_values(\"좋아요수\", ascending=False).head(50)"
   ]
  },
  {
   "cell_type": "code",
   "execution_count": 129,
   "id": "bae9348e",
   "metadata": {},
   "outputs": [],
   "source": [
    "# 하나의 문자열로 추출\n",
    "lyrics_spring = ' '.join(df_ballad_spring[\"가사\"])\n",
    "lyrics_summer = ' '.join(df_ballad_summer[\"가사\"])\n",
    "lyrics_fall = ' '.join(df_ballad_fall[\"가사\"])\n",
    "lyrics_winter = ' '.join(df_ballad_winter[\"가사\"])"
   ]
  },
  {
   "cell_type": "code",
   "execution_count": 193,
   "id": "334bfd8d",
   "metadata": {},
   "outputs": [],
   "source": [
    "# 봄 빈도수 상위 30개 명사 추출(너, 나, 내 같이 의미없는 한 자 단어가 많아서 한글자는 제외함)\n",
    "lyrics_spring_noun = okt.nouns(lyrics_spring)\n",
    "count_spring = Counter(lyrics_spring_noun)\n",
    "count_spring_dict = dict(count_spring.most_common(100))\n",
    "count_spring_df = pd.DataFrame(count_spring_dict.values(), count_spring_dict.keys())\n",
    "count_spring_df = count_spring_df.reset_index()\n",
    "count_spring_df.columns = [\"단어\", \"빈도\"]\n",
    "count_spring_df = count_spring_df[count_spring_df[\"단어\"].str.len() != 1].head(30)"
   ]
  },
  {
   "cell_type": "code",
   "execution_count": 202,
   "id": "16dc1126",
   "metadata": {},
   "outputs": [
    {
     "data": {
      "image/png": "[encoded data removed]",
      "text/plain": [
       "<Figure size 1200x1000 with 1 Axes>"
      ]
     },
     "metadata": {},
     "output_type": "display_data"
    }
   ],
   "source": [
    "# 봄 시각화\n",
    "plt.figure(figsize=(12,10))\n",
    "plt.title(\"봄에 출시된 노래의 가사 단어 빈도수\")\n",
    "sns.barplot(data=count_spring_df, x=\"빈도\", y=\"단어\", palette = sns.color_palette(\"pastel\"));"
   ]
  },
  {
   "cell_type": "code",
   "execution_count": 195,
   "id": "b7e887b7",
   "metadata": {},
   "outputs": [],
   "source": [
    "lyrics_summer_noun = okt.nouns(lyrics_summer)\n",
    "count_summer = Counter(lyrics_summer_noun)\n",
    "count_summer_dict = dict(count_summer.most_common(100))\n",
    "count_summer_df = pd.DataFrame(count_summer_dict.values(), count_summer_dict.keys())\n",
    "count_summer_df = count_summer_df.reset_index()\n",
    "count_summer_df.columns = [\"단어\", \"빈도\"]\n",
    "count_summer_df = count_summer_df[count_summer_df[\"단어\"].str.len() != 1].head(30)"
   ]
  },
  {
   "cell_type": "code",
   "execution_count": 203,
   "id": "0ef429b8",
   "metadata": {},
   "outputs": [
    {
     "data": {
      "image/png": "[encoded data removed]",
      "text/plain": [
       "<Figure size 1200x1000 with 1 Axes>"
      ]
     },
     "metadata": {},
     "output_type": "display_data"
    }
   ],
   "source": [
    "# 여름 시각화\n",
    "plt.figure(figsize=(12,10))\n",
    "plt.title(\"여름에 출시된 노래의 가사 단어 빈도수\")\n",
    "sns.barplot(data=count_summer_df, x=\"빈도\", y=\"단어\", palette = sns.color_palette(\"pastel\"));"
   ]
  },
  {
   "cell_type": "code",
   "execution_count": 197,
   "id": "d30b71ed",
   "metadata": {},
   "outputs": [],
   "source": [
    "lyrics_fall_noun = okt.nouns(lyrics_fall)\n",
    "count_fall = Counter(lyrics_fall_noun)\n",
    "count_fall_dict = dict(count_fall.most_common(100))\n",
    "count_fall_df = pd.DataFrame(count_fall_dict.values(), count_fall_dict.keys())\n",
    "count_fall_df = count_fall_df.reset_index()\n",
    "count_fall_df.columns = [\"단어\", \"빈도\"]\n",
    "count_fall_df = count_fall_df[count_fall_df[\"단어\"].str.len() != 1].head(30)"
   ]
  },
  {
   "cell_type": "code",
   "execution_count": 204,
   "id": "d35403b2",
   "metadata": {},
   "outputs": [
    {
     "data": {
      "image/png": "[encoded data removed]",
      "text/plain": [
       "<Figure size 1200x1000 with 1 Axes>"
      ]
     },
     "metadata": {},
     "output_type": "display_data"
    }
   ],
   "source": [
    "# 가을 시각화\n",
    "plt.figure(figsize=(12,10))\n",
    "plt.title(\"가을에 출시된 노래의 가사 단어 빈도수\")\n",
    "sns.barplot(data=count_fall_df, x=\"빈도\", y=\"단어\", palette = sns.color_palette(\"pastel\"));"
   ]
  },
  {
   "cell_type": "code",
   "execution_count": 199,
   "id": "ffe8e30c",
   "metadata": {},
   "outputs": [],
   "source": [
    "lyrics_winter_noun = okt.nouns(lyrics_winter)\n",
    "count_winter = Counter(lyrics_winter_noun)\n",
    "count_winter_dict = dict(count_winter.most_common(100))\n",
    "count_winter_df = pd.DataFrame(count_winter_dict.values(), count_winter_dict.keys())\n",
    "count_winter_df = count_winter_df.reset_index()\n",
    "count_winter_df.columns = [\"단어\", \"빈도\"]\n",
    "count_winter_df = count_winter_df[count_winter_df[\"단어\"].str.len() != 1].head(30)"
   ]
  },
  {
   "cell_type": "code",
   "execution_count": 205,
   "id": "295d3cec",
   "metadata": {},
   "outputs": [
    {
     "data": {
      "image/png": "[encoded data removed]",
      "text/plain": [
       "<Figure size 1200x1000 with 1 Axes>"
      ]
     },
     "metadata": {},
     "output_type": "display_data"
    }
   ],
   "source": [
    "# 겨울 시각화\n",
    "plt.figure(figsize=(12,10))\n",
    "plt.title(\"겨울에 출시된 노래의 가사 단어 빈도수\")\n",
    "sns.barplot(data=count_fall_df, x=\"빈도\", y=\"단어\", palette = sns.color_palette(\"pastel\"));"
   ]
  },
  {
   "cell_type": "markdown",
   "id": "02d583f5",
   "metadata": {},
   "source": [
    "# 모델 input을 위한 전처리"
   ]
  },
  {
   "cell_type": "code",
   "execution_count": 25,
   "id": "715aa48c",
   "metadata": {},
   "outputs": [],
   "source": [
    "# 가사에 개행문자 없는 데이터 제거\n",
    "# df_ballad = df_ballad[df_ballad[\"가사\"].str.contains(\"\\n\")]"
   ]
  },
  {
   "cell_type": "code",
   "execution_count": 26,
   "id": "0f2b4db5",
   "metadata": {},
   "outputs": [],
   "source": [
    "# 기본 전처리\n",
    "# df_ballad[\"가사\"] = df_ballad[\"가사\"].map(lambda x : re.sub(\"[^ㄱ-ㅎ가-힣0-9\\n ]\", \"\", x).strip()) # 한글 자음, 한글, 숫자, 개행문자만 남기고 제거\n",
    "# df_ballad[\"가사\"] = df_ballad[\"가사\"].map(lambda x : re.sub(\"\\s{2,}\", \"\", x)) # 공백 2회 이상 제거\n",
    "# df_ballad = df_ballad[df_ballad[\"가사\"].map(lambda x : len(x) > 10)] # 전처리 후 빈 행이나 10자 이상이 안되는 데이터 제거\n",
    "# df_ballad = df_ballad.reset_index(drop=True) # 인덱스 초기화\n",
    "# df_ballad.shape"
   ]
  },
  {
   "cell_type": "code",
   "execution_count": null,
   "id": "28d55e35",
   "metadata": {},
   "outputs": [],
   "source": []
  },
  {
   "cell_type": "code",
   "execution_count": null,
   "id": "6e9ff07c",
   "metadata": {},
   "outputs": [],
   "source": []
  }
 ],
 "metadata": {
  "kernelspec": {
   "display_name": "Python 3 (ipykernel)",
   "language": "python",
   "name": "python3"
  },
  "language_info": {
   "codemirror_mode": {
    "name": "ipython",
    "version": 3
   },
   "file_extension": ".py",
   "mimetype": "text/x-python",
   "name": "python",
   "nbconvert_exporter": "python",
   "pygments_lexer": "ipython3",
   "version": "3.9.15"
  },
  "toc": {
   "base_numbering": 1,
   "nav_menu": {},
   "number_sections": true,
   "sideBar": true,
   "skip_h1_title": false,
   "title_cell": "Table of Contents",
   "title_sidebar": "Contents",
   "toc_cell": false,
   "toc_position": {},
   "toc_section_display": true,
   "toc_window_display": false
  }
 },
 "nbformat": 4,
 "nbformat_minor": 5
}
