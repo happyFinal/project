{
 "cells": [
  {
   "cell_type": "markdown",
   "id": "6d669248",
   "metadata": {},
   "source": [
    "# 라이브러리 로드 및 데이터 로드"
   ]
  },
  {
   "cell_type": "code",
   "execution_count": null,
   "id": "776ed7ac",
   "metadata": {},
   "outputs": [],
   "source": [
    "# 맞춤법 검사 라이브러리 py-hanspell\n",
    "# # !pip install git+https://github.com/ssut/py-hanspell.git"
   ]
  },
  {
   "cell_type": "code",
   "execution_count": 1,
   "id": "3dac8e9c",
   "metadata": {},
   "outputs": [],
   "source": [
    "# 라이브러리 로드\n",
    "import pandas as pd\n",
    "import numpy as np\n",
    "\n",
    "# 시각화\n",
    "import matplotlib.pyplot as plt\n",
    "import koreanize_matplotlib\n",
    "import seaborn as sns\n",
    "\n",
    "# 전처리\n",
    "import re\n",
    "from hanspell import spell_checker\n",
    "from tqdm import tqdm\n",
    "from konlpy.tag import Okt\n",
    "from collections import Counter\n",
    "\n",
    "# 바이너리 파일 저장 및 로드\n",
    "import pickle"
   ]
  },
  {
   "cell_type": "code",
   "execution_count": null,
   "id": "845b2cde",
   "metadata": {},
   "outputs": [],
   "source": [
    "# 데이터셋 로드\n",
    "# root_dir = \"data\"\n",
    "\n",
    "# df = pd.read_parquet(f\"{root_dir}/all_append_csv_12_26_1200i.gzip\")\n",
    "# display(df.head())\n",
    "# df.shape"
   ]
  },
  {
   "cell_type": "code",
   "execution_count": null,
   "id": "4461c64a",
   "metadata": {},
   "outputs": [],
   "source": [
    "# 발라드만 떼오기\n",
    "# df_ballad = df[df[\"장르\"] == \"발라드\"].copy()\n",
    "# df_ballad.shape"
   ]
  },
  {
   "cell_type": "code",
   "execution_count": 2,
   "id": "4bb05ad2",
   "metadata": {},
   "outputs": [
    {
     "data": {
      "text/plain": [
       "'C:\\\\Users\\\\JongHyun_Moon\\\\Jupyter_Python\\\\LikeLion\\\\project\\\\eda'"
      ]
     },
     "execution_count": 2,
     "metadata": {},
     "output_type": "execute_result"
    }
   ],
   "source": [
    "# 현재 경로 확인\n",
    "%pwd"
   ]
  },
  {
   "cell_type": "code",
   "execution_count": 3,
   "id": "a979afcb",
   "metadata": {},
   "outputs": [
    {
     "name": "stdout",
     "output_type": "stream",
     "text": [
      "C:\\Users\\JongHyun_Moon\\Jupyter_Python\\LikeLion\\project\n"
     ]
    }
   ],
   "source": [
    "# 디렉토리 이동\n",
    "%cd .."
   ]
  },
  {
   "cell_type": "code",
   "execution_count": 4,
   "id": "0cf89db6",
   "metadata": {},
   "outputs": [
    {
     "data": {
      "text/plain": [
       "'C:\\\\Users\\\\JongHyun_Moon\\\\Jupyter_Python\\\\LikeLion\\\\project'"
      ]
     },
     "execution_count": 4,
     "metadata": {},
     "output_type": "execute_result"
    }
   ],
   "source": [
    "%pwd"
   ]
  },
  {
   "cell_type": "code",
   "execution_count": 5,
   "id": "00536b5e",
   "metadata": {},
   "outputs": [
    {
     "data": {
      "text/html": [
       "<div>\n",
       "<style scoped>\n",
       "    .dataframe tbody tr th:only-of-type {\n",
       "        vertical-align: middle;\n",
       "    }\n",
       "\n",
       "    .dataframe tbody tr th {\n",
       "        vertical-align: top;\n",
       "    }\n",
       "\n",
       "    .dataframe thead th {\n",
       "        text-align: right;\n",
       "    }\n",
       "</style>\n",
       "<table border=\"1\" class=\"dataframe\">\n",
       "  <thead>\n",
       "    <tr style=\"text-align: right;\">\n",
       "      <th></th>\n",
       "      <th>제목</th>\n",
       "      <th>가사</th>\n",
       "      <th>가수</th>\n",
       "      <th>발매일</th>\n",
       "      <th>좋아요수</th>\n",
       "      <th>장르</th>\n",
       "    </tr>\n",
       "  </thead>\n",
       "  <tbody>\n",
       "    <tr>\n",
       "      <th>0</th>\n",
       "      <td>Monologue</td>\n",
       "      <td>다 잊었다는 거짓말\\r\\n또 해 버렸죠\\r\\n내 마음에 그대란 사람\\r\\n없다고 했...</td>\n",
       "      <td>테이</td>\n",
       "      <td>2022.09.18</td>\n",
       "      <td>66,062</td>\n",
       "      <td>발라드</td>\n",
       "    </tr>\n",
       "    <tr>\n",
       "      <th>1</th>\n",
       "      <td>너의 모든 순간</td>\n",
       "      <td>이윽고 내가 한눈에\\r\\n너를 알아봤을 때\\r\\n모든 건 분명 달라지고 있었어\\r\\...</td>\n",
       "      <td>성시경</td>\n",
       "      <td>2014.02.12</td>\n",
       "      <td>243,092</td>\n",
       "      <td>발라드, 국내드라마</td>\n",
       "    </tr>\n",
       "    <tr>\n",
       "      <th>2</th>\n",
       "      <td>잘가요</td>\n",
       "      <td>미안해 마요 이제야 난 깨달아요\\r\\n내 절대 그대 짝이 아님을\\r\\n괜찮을게요 영...</td>\n",
       "      <td>주호</td>\n",
       "      <td>2022.12.04</td>\n",
       "      <td>18,702</td>\n",
       "      <td>발라드</td>\n",
       "    </tr>\n",
       "    <tr>\n",
       "      <th>3</th>\n",
       "      <td>사랑은 늘 도망가</td>\n",
       "      <td>눈물이 난다 이 길을 걸으면\\r\\n그 사람 손길이 자꾸 생각이 난다\\r\\n붙잡지 못...</td>\n",
       "      <td>임영웅</td>\n",
       "      <td>2021.10.11</td>\n",
       "      <td>185,585</td>\n",
       "      <td>발라드, 국내드라마</td>\n",
       "    </tr>\n",
       "    <tr>\n",
       "      <th>4</th>\n",
       "      <td>해요 (2022)</td>\n",
       "      <td>그녀와 나는요 그땐 참 어렸어요\\r\\n많이 사랑했고 때론 많이 다퉜었죠\\r\\n지금 ...</td>\n",
       "      <td>#안녕</td>\n",
       "      <td>2022.06.07</td>\n",
       "      <td>63,808</td>\n",
       "      <td>발라드, 인디음악</td>\n",
       "    </tr>\n",
       "  </tbody>\n",
       "</table>\n",
       "</div>"
      ],
      "text/plain": [
       "          제목                                                 가사   가수  \\\n",
       "0  Monologue  다 잊었다는 거짓말\\r\\n또 해 버렸죠\\r\\n내 마음에 그대란 사람\\r\\n없다고 했...   테이   \n",
       "1   너의 모든 순간  이윽고 내가 한눈에\\r\\n너를 알아봤을 때\\r\\n모든 건 분명 달라지고 있었어\\r\\...  성시경   \n",
       "2        잘가요  미안해 마요 이제야 난 깨달아요\\r\\n내 절대 그대 짝이 아님을\\r\\n괜찮을게요 영...   주호   \n",
       "3  사랑은 늘 도망가  눈물이 난다 이 길을 걸으면\\r\\n그 사람 손길이 자꾸 생각이 난다\\r\\n붙잡지 못...  임영웅   \n",
       "4  해요 (2022)  그녀와 나는요 그땐 참 어렸어요\\r\\n많이 사랑했고 때론 많이 다퉜었죠\\r\\n지금 ...  #안녕   \n",
       "\n",
       "          발매일     좋아요수          장르  \n",
       "0  2022.09.18   66,062         발라드  \n",
       "1  2014.02.12  243,092  발라드, 국내드라마  \n",
       "2  2022.12.04   18,702         발라드  \n",
       "3  2021.10.11  185,585  발라드, 국내드라마  \n",
       "4  2022.06.07   63,808   발라드, 인디음악  "
      ]
     },
     "metadata": {},
     "output_type": "display_data"
    },
    {
     "data": {
      "text/plain": [
       "(13346, 6)"
      ]
     },
     "execution_count": 5,
     "metadata": {},
     "output_type": "execute_result"
    }
   ],
   "source": [
    "root_dir = \"data/data_ballad\"\n",
    "df_ballad = pd.read_csv(f\"{root_dir}/melon_ballad_1_15000.csv\", parse_dates=[\"발매일\"])\n",
    "display(df_ballad.head())\n",
    "df_ballad.shape"
   ]
  },
  {
   "cell_type": "markdown",
   "id": "6f9a0921",
   "metadata": {},
   "source": [
    "# 컬럼 전처리"
   ]
  },
  {
   "cell_type": "markdown",
   "id": "f0cd8e9c",
   "metadata": {},
   "source": [
    "## 데이터 타입 변경"
   ]
  },
  {
   "cell_type": "code",
   "execution_count": null,
   "id": "ee2321ec",
   "metadata": {},
   "outputs": [],
   "source": [
    "# info\n",
    "df_ballad.info()"
   ]
  },
  {
   "cell_type": "code",
   "execution_count": null,
   "id": "4df5e8bc",
   "metadata": {},
   "outputs": [],
   "source": [
    "# 발매일 없는 데이터는 na로 처리\n",
    "df_ballad[\"발매일\"] = pd.to_datetime(df_ballad[\"발매일\"], errors=\"coerce\")\n",
    "\n",
    "# 발매일 없는 데이터는 채울까 ? drop 할까?\n",
    "df_ballad = df_ballad.dropna(subset=[\"발매일\"])"
   ]
  },
  {
   "cell_type": "code",
   "execution_count": null,
   "id": "9a26e47f",
   "metadata": {},
   "outputs": [],
   "source": [
    "# 좋아요 수 int 타입으로 변경 -> concat할 때 처리함\n",
    "# df_ballad[\"좋아요수\"] = df_ballad[\"좋아요수\"].str.replace(\",\", \"\")\n",
    "# df_ballad[\"좋아요수\"] = df_ballad[\"좋아요수\"].astype(int)"
   ]
  },
  {
   "cell_type": "code",
   "execution_count": null,
   "id": "eb311582",
   "metadata": {},
   "outputs": [],
   "source": [
    "# info\n",
    "df_ballad.info()"
   ]
  },
  {
   "cell_type": "markdown",
   "id": "afb16f32",
   "metadata": {},
   "source": [
    "## 장르 구분"
   ]
  },
  {
   "cell_type": "code",
   "execution_count": null,
   "id": "3733c872",
   "metadata": {},
   "outputs": [],
   "source": [
    "# 장르 구분\n",
    "genre_split = df_ballad[\"장르\"].str.split(\",\")\n",
    "df_ballad[\"장르1\"] = genre_split.str.get(0)\n",
    "df_ballad[\"장르2\"] = genre_split.str.get(1)\n",
    "df_ballad[\"장르3\"] = genre_split.str.get(2)\n",
    "df_ballad[\"장르4\"] = genre_split.str.get(3)"
   ]
  },
  {
   "cell_type": "code",
   "execution_count": null,
   "id": "0ccec680",
   "metadata": {},
   "outputs": [],
   "source": [
    "# 장르 분포 확인\n",
    "# 장르는 한 곡에 최대 4개까지 있으나 양이 적어서 필요한 컬럼만 사용\n",
    "display(df_ballad[\"장르1\"].value_counts())\n",
    "print(\"-\"*30)\n",
    "display(df_ballad[\"장르2\"].value_counts())\n",
    "print(\"-\"*30)\n",
    "display(df_ballad[\"장르3\"].value_counts())\n",
    "print(\"-\"*30)\n",
    "display(df_ballad[\"장르4\"].value_counts())"
   ]
  },
  {
   "cell_type": "markdown",
   "id": "466510c0",
   "metadata": {},
   "source": [
    "## 날짜, 요일 추가\n",
    "* 일단 다각면에서 분석하고자 다 만들어두긴 했으나.. 연도와 월 빼고는 쓸모가 없을 듯 싶다"
   ]
  },
  {
   "cell_type": "code",
   "execution_count": null,
   "id": "4ee215b9",
   "metadata": {},
   "outputs": [],
   "source": [
    "# 날짜, 요일 추가\n",
    "df_ballad[\"년\"] = df_ballad[\"발매일\"].dt.year\n",
    "df_ballad[\"월\"] = df_ballad[\"발매일\"].dt.month\n",
    "# df_ballad[\"일\"] = df_ballad[\"발매일\"].dt.day\n",
    "# df_ballad[\"요일\"] = df_ballad[\"발매일\"].dt.dayofweek"
   ]
  },
  {
   "cell_type": "code",
   "execution_count": null,
   "id": "809cbcf7",
   "metadata": {},
   "outputs": [],
   "source": [
    "# 계절 추가\n",
    "df_ballad.loc[df_ballad[\"월\"].isin([12,1,2]), \"계절\"] = \"겨울\"\n",
    "df_ballad.loc[df_ballad[\"월\"].isin([3,4,5]), \"계절\"] = \"봄\"\n",
    "df_ballad.loc[df_ballad[\"월\"].isin([6,7,8]), \"계절\"] = \"여름\"\n",
    "df_ballad.loc[df_ballad[\"월\"].isin([9,10,11]), \"계절\"] = \"가을\""
   ]
  },
  {
   "cell_type": "code",
   "execution_count": null,
   "id": "b2d51b9a",
   "metadata": {},
   "outputs": [],
   "source": [
    "# 연도별 노래 개수\n",
    "df_ballad[\"년\"].value_counts()"
   ]
  },
  {
   "cell_type": "code",
   "execution_count": null,
   "id": "8020f9b3",
   "metadata": {},
   "outputs": [],
   "source": [
    "# 계절별 노래 개수\n",
    "df_ballad[\"계절\"].value_counts()"
   ]
  },
  {
   "cell_type": "code",
   "execution_count": null,
   "id": "bb1ccd87",
   "metadata": {},
   "outputs": [],
   "source": [
    "df_ballad.info()"
   ]
  },
  {
   "cell_type": "markdown",
   "id": "7605ba78",
   "metadata": {},
   "source": [
    "# EDA"
   ]
  },
  {
   "cell_type": "markdown",
   "id": "d9ff50e2",
   "metadata": {},
   "source": [
    "## 중복행 제거"
   ]
  },
  {
   "cell_type": "code",
   "execution_count": null,
   "id": "41791a95",
   "metadata": {},
   "outputs": [],
   "source": [
    "# 중복행 한 번 더 확인\n",
    "df_ballad[df_ballad.duplicated(keep=False)]"
   ]
  },
  {
   "cell_type": "code",
   "execution_count": null,
   "id": "90bf8a51",
   "metadata": {},
   "outputs": [],
   "source": [
    "# 중복행 drop\n",
    "print(df_ballad.shape)\n",
    "df_ballad = df_ballad.drop_duplicates()\n",
    "df_ballad.shape"
   ]
  },
  {
   "cell_type": "markdown",
   "id": "9559a2df",
   "metadata": {},
   "source": [
    "## 가사 전처리"
   ]
  },
  {
   "cell_type": "code",
   "execution_count": null,
   "id": "dbedb8c1",
   "metadata": {},
   "outputs": [],
   "source": [
    "# 필요 없는 단어 제거\n",
    "df_ballad[\"가사\"] = df_ballad[\"가사\"].map(lambda x : re.sub(\"1절\", \"\", x))\n",
    "df_ballad[\"가사\"] = df_ballad[\"가사\"].map(lambda x : re.sub(\"2절\", \"\", x))\n",
    "df_ballad[\"가사\"] = df_ballad[\"가사\"].map(lambda x : re.sub(\"브리지\", \"\", x).strip())"
   ]
  },
  {
   "cell_type": "code",
   "execution_count": null,
   "id": "c12c8ec1",
   "metadata": {},
   "outputs": [],
   "source": [
    "# 이외 기본적인 전처리\n",
    "df_ballad[\"가사\"] = df_ballad[\"가사\"].map(lambda x : re.sub(\"\\s{2,}\", \" \", x)) # 공백 2회 이상 제거\n",
    "df_ballad[\"가사\"] = df_ballad[\"가사\"].map(lambda x : re.sub(\"\\n\", \" \", x)) # 개행문자 제거"
   ]
  },
  {
   "cell_type": "markdown",
   "id": "b4818daf",
   "metadata": {},
   "source": [
    "## 시각화"
   ]
  },
  {
   "cell_type": "markdown",
   "id": "e6d6805f",
   "metadata": {},
   "source": [
    "### 가수별 분석"
   ]
  },
  {
   "cell_type": "code",
   "execution_count": null,
   "id": "1091e325",
   "metadata": {},
   "outputs": [],
   "source": [
    "# 가수별 곡 수\n",
    "df_singer_soundtrack = df_ballad.groupby(\"가수\").agg({\"제목\" : \"count\", \n",
    "                                                 \"좋아요수\" : \"sum\"}).sort_values(\"제목\", ascending=False).reset_index()\n",
    "\n",
    "# 가수별 좋아요 수\n",
    "df_singer_like = df_ballad.groupby(\"가수\").agg({\"제목\" : \"count\", \n",
    "                                                 \"좋아요수\" : \"sum\"}).sort_values(\"좋아요수\", ascending=False).reset_index()\n",
    "display(df_singer_soundtrack.head())\n",
    "df_singer_like.head()"
   ]
  },
  {
   "cell_type": "code",
   "execution_count": null,
   "id": "d0075a11",
   "metadata": {},
   "outputs": [],
   "source": [
    "# 곡 수 top 20 시각화\n",
    "sns.barplot(df_singer_soundtrack[:20], x=\"제목\", y=\"가수\", palette = sns.color_palette(\"pastel\"))"
   ]
  },
  {
   "cell_type": "code",
   "execution_count": null,
   "id": "101abb40",
   "metadata": {},
   "outputs": [],
   "source": [
    "# 좋아요 수 top 20 시각화\n",
    "sns.barplot(df_singer_like[:20], x=\"좋아요수\", y=\"가수\", palette = sns.color_palette(\"pastel\"))"
   ]
  },
  {
   "cell_type": "code",
   "execution_count": null,
   "id": "c5d97ac9",
   "metadata": {},
   "outputs": [],
   "source": [
    "# 가수별 곡 수의 분포\n",
    "df_singer_soundtrack[\"제목\"].hist(bins=50).set_title(\"가수별 곡 수 분포\");"
   ]
  },
  {
   "cell_type": "markdown",
   "id": "346aab94",
   "metadata": {},
   "source": [
    "- 인기순에 노래가 많이 오른 가수들의 노래는 대중들로부터 인정을 받았다고 볼 수 있기 때문에 이 곡들의 가사로 학습해봐도 괜찮지 않을까?\n",
    "- 혹은 음악의 좋아요 수가 많은 가수들의 노래?\n",
    "- 이 두 가지를 혼합한 기준?"
   ]
  },
  {
   "cell_type": "markdown",
   "id": "1263d3dc",
   "metadata": {},
   "source": [
    "### 연도별 분석"
   ]
  },
  {
   "cell_type": "code",
   "execution_count": null,
   "id": "87103a58",
   "metadata": {},
   "outputs": [],
   "source": [
    "# 연도별 인기순 데이터\n",
    "sns.lineplot(data=df_ballad.groupby(\"년\")[[\"제목\"]].count().reset_index(), x=\"년\", y=\"제목\")"
   ]
  },
  {
   "cell_type": "markdown",
   "id": "b15b144c",
   "metadata": {},
   "source": [
    "- 발라드 장르 \"최신곡\"의 인기순 정렬이다보니 최신으로 갈수록 데이터가 많아짐(1~15000곡 기준)"
   ]
  },
  {
   "cell_type": "markdown",
   "id": "60b3778e",
   "metadata": {},
   "source": [
    "### 곡별 가사 길이 분포"
   ]
  },
  {
   "cell_type": "code",
   "execution_count": null,
   "id": "6960b684",
   "metadata": {},
   "outputs": [],
   "source": [
    "# 가사 길이 분포\n",
    "df_ballad[\"가사\"].str.len().hist(bins=50).set_title(\"가사 길이\");"
   ]
  },
  {
   "cell_type": "markdown",
   "id": "637ad8da",
   "metadata": {},
   "source": [
    "- 공백 포함 약 300~600자 사이에 가장 많이 분포함\n",
    "- 가사 전처리를 러프하게 했기 때문에 실제 가사 길이와 오차는 있을 수 있음(특수문자 등)"
   ]
  },
  {
   "cell_type": "markdown",
   "id": "697fd077",
   "metadata": {},
   "source": [
    "## 맞춤법 검사기 활용 -> 사용 x\n",
    "- 네이버 맞춤법 검사기 기반의 `py-hanspell` 라이브러리 사용\n",
    "- 네이버 맞춤법 검사기 기반이기 때문에 500자가 넘어가면 사용하지 못하므로 문장 단위로 끊어서 사용해야함\n",
    "- 사용하게 된다면 모델에 input할 가사만 맞춤법 검사해도 될듯\n",
    "- 형태소 분석기 사용 시 띄어쓰기 처리 알아서 끊어주기 때문에 사용 x"
   ]
  },
  {
   "cell_type": "code",
   "execution_count": null,
   "id": "dc308e87",
   "metadata": {},
   "outputs": [],
   "source": [
    "# spell_checker()"
   ]
  },
  {
   "cell_type": "markdown",
   "id": "6b5e286b",
   "metadata": {},
   "source": [
    "## 가사 형태소 분석"
   ]
  },
  {
   "cell_type": "code",
   "execution_count": null,
   "id": "ea79dc4a",
   "metadata": {},
   "outputs": [],
   "source": [
    "# 형태소 분석기 호출 및 함수 정의\n",
    "okt = Okt()\n",
    "def okt_clean(text):\n",
    "    clean_text = []\n",
    "    # 품사 태깅 후 태깅 결과를 받아서 순회 \n",
    "    for word in okt.pos(text, norm=True, stem=True):\n",
    "        # 품사가 조사, 어미, 구두점이면 제외하고 append 로 인덱스 0번 값만 다시 리스트에 담아줌\n",
    "        if word[1] not in ['Josa', 'Eomi', 'Punctuation']:\n",
    "            clean_text.append(word[0])\n",
    "    # 공백 문자로 연결\n",
    "    return \" \".join(clean_text)"
   ]
  },
  {
   "cell_type": "code",
   "execution_count": null,
   "id": "049e9617",
   "metadata": {},
   "outputs": [],
   "source": [
    "# 판다스에서 tqdm 기능 사용하기 위해 선언\n",
    "tqdm.pandas()"
   ]
  },
  {
   "cell_type": "code",
   "execution_count": null,
   "id": "fee7b715",
   "metadata": {},
   "outputs": [],
   "source": [
    "# 모든 가사에 적용\n",
    "# df_ballad[\"가사_전처리\"] = df_ballad[\"가사\"].progress_map(okt_clean)"
   ]
  },
  {
   "cell_type": "markdown",
   "id": "a42a1dd8",
   "metadata": {},
   "source": [
    "### 계절별 분석\n",
    "- 사랑에 미쳐버린 노래들..\n",
    "- 계절별로 노래 가사 단어 빈도의 뚜렷한 차이는 발견하지 못했음"
   ]
  },
  {
   "cell_type": "code",
   "execution_count": null,
   "id": "a895ba55",
   "metadata": {},
   "outputs": [],
   "source": [
    "# 각 계절별 좋아요수 상위 20개 추출\n",
    "df_ballad_spring = df_ballad[df_ballad[\"계절\"] == \"봄\"].sort_values(\"좋아요수\", ascending=False).head(50)\n",
    "df_ballad_summer = df_ballad[df_ballad[\"계절\"] == \"여름\"].sort_values(\"좋아요수\", ascending=False).head(50)\n",
    "df_ballad_fall = df_ballad[df_ballad[\"계절\"] == \"가을\"].sort_values(\"좋아요수\", ascending=False).head(50)\n",
    "df_ballad_winter = df_ballad[df_ballad[\"계절\"] == \"겨울\"].sort_values(\"좋아요수\", ascending=False).head(50)"
   ]
  },
  {
   "cell_type": "code",
   "execution_count": null,
   "id": "bae9348e",
   "metadata": {},
   "outputs": [],
   "source": [
    "# 하나의 문자열로 추출\n",
    "lyrics_spring = ' '.join(df_ballad_spring[\"가사\"])\n",
    "lyrics_summer = ' '.join(df_ballad_summer[\"가사\"])\n",
    "lyrics_fall = ' '.join(df_ballad_fall[\"가사\"])\n",
    "lyrics_winter = ' '.join(df_ballad_winter[\"가사\"])"
   ]
  },
  {
   "cell_type": "code",
   "execution_count": null,
   "id": "334bfd8d",
   "metadata": {},
   "outputs": [],
   "source": [
    "# 봄 빈도수 상위 30개 명사 추출(너, 나, 내 같이 의미없는 한 자 단어가 많아서 한글자는 제외함)\n",
    "lyrics_spring_noun = okt.nouns(lyrics_spring)\n",
    "count_spring = Counter(lyrics_spring_noun)\n",
    "count_spring_dict = dict(count_spring.most_common(100))\n",
    "count_spring_df = pd.DataFrame(count_spring_dict.values(), count_spring_dict.keys())\n",
    "count_spring_df = count_spring_df.reset_index()\n",
    "count_spring_df.columns = [\"단어\", \"빈도\"]\n",
    "count_spring_df = count_spring_df[count_spring_df[\"단어\"].str.len() != 1].head(30)"
   ]
  },
  {
   "cell_type": "code",
   "execution_count": null,
   "id": "16dc1126",
   "metadata": {},
   "outputs": [],
   "source": [
    "# 봄 시각화\n",
    "plt.figure(figsize=(12,10))\n",
    "plt.title(\"봄에 출시된 노래의 가사 단어 빈도수\")\n",
    "sns.barplot(data=count_spring_df, x=\"빈도\", y=\"단어\", palette = sns.color_palette(\"pastel\"));"
   ]
  },
  {
   "cell_type": "code",
   "execution_count": null,
   "id": "b7e887b7",
   "metadata": {},
   "outputs": [],
   "source": [
    "lyrics_summer_noun = okt.nouns(lyrics_summer)\n",
    "count_summer = Counter(lyrics_summer_noun)\n",
    "count_summer_dict = dict(count_summer.most_common(100))\n",
    "count_summer_df = pd.DataFrame(count_summer_dict.values(), count_summer_dict.keys())\n",
    "count_summer_df = count_summer_df.reset_index()\n",
    "count_summer_df.columns = [\"단어\", \"빈도\"]\n",
    "count_summer_df = count_summer_df[count_summer_df[\"단어\"].str.len() != 1].head(30)"
   ]
  },
  {
   "cell_type": "code",
   "execution_count": null,
   "id": "0ef429b8",
   "metadata": {},
   "outputs": [],
   "source": [
    "# 여름 시각화\n",
    "plt.figure(figsize=(12,10))\n",
    "plt.title(\"여름에 출시된 노래의 가사 단어 빈도수\")\n",
    "sns.barplot(data=count_summer_df, x=\"빈도\", y=\"단어\", palette = sns.color_palette(\"pastel\"));"
   ]
  },
  {
   "cell_type": "code",
   "execution_count": null,
   "id": "d30b71ed",
   "metadata": {},
   "outputs": [],
   "source": [
    "lyrics_fall_noun = okt.nouns(lyrics_fall)\n",
    "count_fall = Counter(lyrics_fall_noun)\n",
    "count_fall_dict = dict(count_fall.most_common(100))\n",
    "count_fall_df = pd.DataFrame(count_fall_dict.values(), count_fall_dict.keys())\n",
    "count_fall_df = count_fall_df.reset_index()\n",
    "count_fall_df.columns = [\"단어\", \"빈도\"]\n",
    "count_fall_df = count_fall_df[count_fall_df[\"단어\"].str.len() != 1].head(30)"
   ]
  },
  {
   "cell_type": "code",
   "execution_count": null,
   "id": "d35403b2",
   "metadata": {},
   "outputs": [],
   "source": [
    "# 가을 시각화\n",
    "plt.figure(figsize=(12,10))\n",
    "plt.title(\"가을에 출시된 노래의 가사 단어 빈도수\")\n",
    "sns.barplot(data=count_fall_df, x=\"빈도\", y=\"단어\", palette = sns.color_palette(\"pastel\"));"
   ]
  },
  {
   "cell_type": "code",
   "execution_count": null,
   "id": "ffe8e30c",
   "metadata": {},
   "outputs": [],
   "source": [
    "lyrics_winter_noun = okt.nouns(lyrics_winter)\n",
    "count_winter = Counter(lyrics_winter_noun)\n",
    "count_winter_dict = dict(count_winter.most_common(100))\n",
    "count_winter_df = pd.DataFrame(count_winter_dict.values(), count_winter_dict.keys())\n",
    "count_winter_df = count_winter_df.reset_index()\n",
    "count_winter_df.columns = [\"단어\", \"빈도\"]\n",
    "count_winter_df = count_winter_df[count_winter_df[\"단어\"].str.len() != 1].head(30)"
   ]
  },
  {
   "cell_type": "code",
   "execution_count": null,
   "id": "295d3cec",
   "metadata": {},
   "outputs": [],
   "source": [
    "# 겨울 시각화\n",
    "plt.figure(figsize=(12,10))\n",
    "plt.title(\"겨울에 출시된 노래의 가사 단어 빈도수\")\n",
    "sns.barplot(data=count_fall_df, x=\"빈도\", y=\"단어\", palette = sns.color_palette(\"pastel\"));"
   ]
  },
  {
   "cell_type": "markdown",
   "id": "02d583f5",
   "metadata": {},
   "source": [
    "# 모델 input을 위한 전처리"
   ]
  },
  {
   "cell_type": "code",
   "execution_count": null,
   "id": "715aa48c",
   "metadata": {},
   "outputs": [],
   "source": [
    "# 가사에 개행문자 없는 데이터 제거\n",
    "# df_ballad = df_ballad[df_ballad[\"가사\"].str.contains(\"\\n\")]"
   ]
  },
  {
   "cell_type": "code",
   "execution_count": null,
   "id": "0f2b4db5",
   "metadata": {},
   "outputs": [],
   "source": [
    "# 기본 전처리\n",
    "# df_ballad[\"가사\"] = df_ballad[\"가사\"].map(lambda x : re.sub(\"[^ㄱ-ㅎ가-힣0-9\\n ]\", \"\", x).strip()) # 한글 자음, 한글, 숫자, 개행문자만 남기고 제거\n",
    "# df_ballad[\"가사\"] = df_ballad[\"가사\"].map(lambda x : re.sub(\"\\s{2,}\", \"\", x)) # 공백 2회 이상 제거\n",
    "# df_ballad = df_ballad[df_ballad[\"가사\"].map(lambda x : len(x) > 10)] # 전처리 후 빈 행이나 10자 이상이 안되는 데이터 제거\n",
    "# df_ballad = df_ballad.reset_index(drop=True) # 인덱스 초기화\n",
    "# df_ballad.shape"
   ]
  },
  {
   "cell_type": "code",
   "execution_count": null,
   "id": "28d55e35",
   "metadata": {},
   "outputs": [],
   "source": []
  },
  {
   "cell_type": "code",
   "execution_count": null,
   "id": "6e9ff07c",
   "metadata": {},
   "outputs": [],
   "source": []
  }
 ],
 "metadata": {
  "kernelspec": {
   "display_name": "Python 3 (ipykernel)",
   "language": "python",
   "name": "python3"
  },
  "language_info": {
   "codemirror_mode": {
    "name": "ipython",
    "version": 3
   },
   "file_extension": ".py",
   "mimetype": "text/x-python",
   "name": "python",
   "nbconvert_exporter": "python",
   "pygments_lexer": "ipython3",
   "version": "3.9.15"
  },
  "toc": {
   "base_numbering": 1,
   "nav_menu": {},
   "number_sections": true,
   "sideBar": true,
   "skip_h1_title": false,
   "title_cell": "Table of Contents",
   "title_sidebar": "Contents",
   "toc_cell": false,
   "toc_position": {},
   "toc_section_display": true,
   "toc_window_display": false
  }
 },
 "nbformat": 4,
 "nbformat_minor": 5
}
