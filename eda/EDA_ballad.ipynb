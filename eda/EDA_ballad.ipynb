{
 "cells": [
  {
   "cell_type": "markdown",
   "id": "6d669248",
   "metadata": {},
   "source": [
    "# 라이브러리 로드 및 데이터 로드"
   ]
  },
  {
   "cell_type": "code",
   "execution_count": 1,
   "id": "776ed7ac",
   "metadata": {},
   "outputs": [],
   "source": [
    "# 맞춤법 검사 라이브러리 py-hanspell\n",
    "# # !pip install git+https://github.com/ssut/py-hanspell.git"
   ]
  },
  {
   "cell_type": "code",
   "execution_count": 2,
   "id": "3dac8e9c",
   "metadata": {},
   "outputs": [],
   "source": [
    "# 라이브러리 로드\n",
    "import pandas as pd\n",
    "import numpy as np\n",
    "\n",
    "# 시각화\n",
    "import matplotlib.pyplot as plt\n",
    "import koreanize_matplotlib\n",
    "import seaborn as sns\n",
    "\n",
    "# 전처리\n",
    "import re\n",
    "from hanspell import spell_checker\n",
    "from tqdm import tqdm\n",
    "from konlpy.tag import Okt\n",
    "from collections import Counter\n",
    "\n",
    "# 바이너리 파일 저장 및 로드\n",
    "import pickle"
   ]
  },
  {
   "cell_type": "code",
   "execution_count": 3,
   "id": "845b2cde",
   "metadata": {},
   "outputs": [],
   "source": [
    "# 데이터셋 로드\n",
    "# root_dir = \"data\"\n",
    "\n",
    "# df = pd.read_parquet(f\"{root_dir}/all_append_csv_12_26_1200i.gzip\")\n",
    "# display(df.head())\n",
    "# df.shape"
   ]
  },
  {
   "cell_type": "code",
   "execution_count": 4,
   "id": "4461c64a",
   "metadata": {},
   "outputs": [],
   "source": [
    "# 발라드만 떼오기\n",
    "# df_ballad = df[df[\"장르\"] == \"발라드\"].copy()\n",
    "# df_ballad.shape"
   ]
  },
  {
   "cell_type": "code",
   "execution_count": 5,
   "id": "4bb05ad2",
   "metadata": {},
   "outputs": [
    {
     "data": {
      "text/plain": [
       "'C:\\\\Users\\\\JongHyun_Moon\\\\Jupyter_Python\\\\LikeLion\\\\project\\\\eda'"
      ]
     },
     "execution_count": 5,
     "metadata": {},
     "output_type": "execute_result"
    }
   ],
   "source": [
    "# 현재 경로 확인\n",
    "%pwd"
   ]
  },
  {
   "cell_type": "code",
   "execution_count": 6,
   "id": "a979afcb",
   "metadata": {},
   "outputs": [
    {
     "name": "stdout",
     "output_type": "stream",
     "text": [
      "C:\\Users\\JongHyun_Moon\\Jupyter_Python\\LikeLion\\project\n"
     ]
    }
   ],
   "source": [
    "# 디렉토리 이동\n",
    "%cd .."
   ]
  },
  {
   "cell_type": "code",
   "execution_count": 7,
   "id": "0cf89db6",
   "metadata": {},
   "outputs": [
    {
     "data": {
      "text/plain": [
       "'C:\\\\Users\\\\JongHyun_Moon\\\\Jupyter_Python\\\\LikeLion\\\\project'"
      ]
     },
     "execution_count": 7,
     "metadata": {},
     "output_type": "execute_result"
    }
   ],
   "source": [
    "%pwd"
   ]
  },
  {
   "cell_type": "code",
   "execution_count": 8,
   "id": "00536b5e",
   "metadata": {},
   "outputs": [
    {
     "data": {
      "text/html": [
       "<div>\n",
       "<style scoped>\n",
       "    .dataframe tbody tr th:only-of-type {\n",
       "        vertical-align: middle;\n",
       "    }\n",
       "\n",
       "    .dataframe tbody tr th {\n",
       "        vertical-align: top;\n",
       "    }\n",
       "\n",
       "    .dataframe thead th {\n",
       "        text-align: right;\n",
       "    }\n",
       "</style>\n",
       "<table border=\"1\" class=\"dataframe\">\n",
       "  <thead>\n",
       "    <tr style=\"text-align: right;\">\n",
       "      <th></th>\n",
       "      <th>제목</th>\n",
       "      <th>가사</th>\n",
       "      <th>가수</th>\n",
       "      <th>발매일</th>\n",
       "      <th>좋아요수</th>\n",
       "      <th>장르</th>\n",
       "    </tr>\n",
       "  </thead>\n",
       "  <tbody>\n",
       "    <tr>\n",
       "      <th>0</th>\n",
       "      <td>Monologue</td>\n",
       "      <td>다 잊었다는 거짓말\\r\\n또 해 버렸죠\\r\\n내 마음에 그대란 사람\\r\\n없다고 했...</td>\n",
       "      <td>테이</td>\n",
       "      <td>2022.09.18</td>\n",
       "      <td>66,062</td>\n",
       "      <td>발라드</td>\n",
       "    </tr>\n",
       "    <tr>\n",
       "      <th>1</th>\n",
       "      <td>너의 모든 순간</td>\n",
       "      <td>이윽고 내가 한눈에\\r\\n너를 알아봤을 때\\r\\n모든 건 분명 달라지고 있었어\\r\\...</td>\n",
       "      <td>성시경</td>\n",
       "      <td>2014.02.12</td>\n",
       "      <td>243,092</td>\n",
       "      <td>발라드, 국내드라마</td>\n",
       "    </tr>\n",
       "    <tr>\n",
       "      <th>2</th>\n",
       "      <td>잘가요</td>\n",
       "      <td>미안해 마요 이제야 난 깨달아요\\r\\n내 절대 그대 짝이 아님을\\r\\n괜찮을게요 영...</td>\n",
       "      <td>주호</td>\n",
       "      <td>2022.12.04</td>\n",
       "      <td>18,702</td>\n",
       "      <td>발라드</td>\n",
       "    </tr>\n",
       "    <tr>\n",
       "      <th>3</th>\n",
       "      <td>사랑은 늘 도망가</td>\n",
       "      <td>눈물이 난다 이 길을 걸으면\\r\\n그 사람 손길이 자꾸 생각이 난다\\r\\n붙잡지 못...</td>\n",
       "      <td>임영웅</td>\n",
       "      <td>2021.10.11</td>\n",
       "      <td>185,585</td>\n",
       "      <td>발라드, 국내드라마</td>\n",
       "    </tr>\n",
       "    <tr>\n",
       "      <th>4</th>\n",
       "      <td>해요 (2022)</td>\n",
       "      <td>그녀와 나는요 그땐 참 어렸어요\\r\\n많이 사랑했고 때론 많이 다퉜었죠\\r\\n지금 ...</td>\n",
       "      <td>#안녕</td>\n",
       "      <td>2022.06.07</td>\n",
       "      <td>63,808</td>\n",
       "      <td>발라드, 인디음악</td>\n",
       "    </tr>\n",
       "  </tbody>\n",
       "</table>\n",
       "</div>"
      ],
      "text/plain": [
       "          제목                                                 가사   가수  \\\n",
       "0  Monologue  다 잊었다는 거짓말\\r\\n또 해 버렸죠\\r\\n내 마음에 그대란 사람\\r\\n없다고 했...   테이   \n",
       "1   너의 모든 순간  이윽고 내가 한눈에\\r\\n너를 알아봤을 때\\r\\n모든 건 분명 달라지고 있었어\\r\\...  성시경   \n",
       "2        잘가요  미안해 마요 이제야 난 깨달아요\\r\\n내 절대 그대 짝이 아님을\\r\\n괜찮을게요 영...   주호   \n",
       "3  사랑은 늘 도망가  눈물이 난다 이 길을 걸으면\\r\\n그 사람 손길이 자꾸 생각이 난다\\r\\n붙잡지 못...  임영웅   \n",
       "4  해요 (2022)  그녀와 나는요 그땐 참 어렸어요\\r\\n많이 사랑했고 때론 많이 다퉜었죠\\r\\n지금 ...  #안녕   \n",
       "\n",
       "          발매일     좋아요수          장르  \n",
       "0  2022.09.18   66,062         발라드  \n",
       "1  2014.02.12  243,092  발라드, 국내드라마  \n",
       "2  2022.12.04   18,702         발라드  \n",
       "3  2021.10.11  185,585  발라드, 국내드라마  \n",
       "4  2022.06.07   63,808   발라드, 인디음악  "
      ]
     },
     "metadata": {},
     "output_type": "display_data"
    },
    {
     "data": {
      "text/plain": [
       "(13346, 6)"
      ]
     },
     "execution_count": 8,
     "metadata": {},
     "output_type": "execute_result"
    }
   ],
   "source": [
    "root_dir = \"data/data_ballad\"\n",
    "df_ballad = pd.read_csv(f\"{root_dir}/melon_ballad_1_15000.csv\", parse_dates=[\"발매일\"])\n",
    "display(df_ballad.head())\n",
    "df_ballad.shape"
   ]
  },
  {
   "cell_type": "markdown",
   "id": "6f9a0921",
   "metadata": {},
   "source": [
    "# 컬럼 전처리"
   ]
  },
  {
   "cell_type": "markdown",
   "id": "f0cd8e9c",
   "metadata": {},
   "source": [
    "## 데이터 타입 변경"
   ]
  },
  {
   "cell_type": "code",
   "execution_count": 9,
   "id": "ee2321ec",
   "metadata": {},
   "outputs": [
    {
     "name": "stdout",
     "output_type": "stream",
     "text": [
      "<class 'pandas.core.frame.DataFrame'>\n",
      "RangeIndex: 13346 entries, 0 to 13345\n",
      "Data columns (total 6 columns):\n",
      " #   Column  Non-Null Count  Dtype \n",
      "---  ------  --------------  ----- \n",
      " 0   제목      13346 non-null  object\n",
      " 1   가사      13346 non-null  object\n",
      " 2   가수      13346 non-null  object\n",
      " 3   발매일     13346 non-null  object\n",
      " 4   좋아요수    13346 non-null  object\n",
      " 5   장르      13346 non-null  object\n",
      "dtypes: object(6)\n",
      "memory usage: 625.7+ KB\n"
     ]
    }
   ],
   "source": [
    "# info\n",
    "df_ballad.info()"
   ]
  },
  {
   "cell_type": "code",
   "execution_count": 10,
   "id": "4df5e8bc",
   "metadata": {},
   "outputs": [],
   "source": [
    "# 발매일 없는 데이터는 na로 처리\n",
    "df_ballad[\"발매일\"] = pd.to_datetime(df_ballad[\"발매일\"], errors=\"coerce\")\n",
    "\n",
    "# 발매일 없는 데이터는 채울까 ? drop 할까?\n",
    "df_ballad = df_ballad.dropna(subset=[\"발매일\"])"
   ]
  },
  {
   "cell_type": "code",
   "execution_count": 11,
   "id": "9a26e47f",
   "metadata": {},
   "outputs": [],
   "source": [
    "# 좋아요 수 int 타입으로 변경 -> concat할 때 처리함\n",
    "df_ballad[\"좋아요수\"] = df_ballad[\"좋아요수\"].str.replace(\",\", \"\")\n",
    "df_ballad[\"좋아요수\"] = df_ballad[\"좋아요수\"].astype(int)"
   ]
  },
  {
   "cell_type": "code",
   "execution_count": 12,
   "id": "eb311582",
   "metadata": {},
   "outputs": [
    {
     "name": "stdout",
     "output_type": "stream",
     "text": [
      "<class 'pandas.core.frame.DataFrame'>\n",
      "Int64Index: 13340 entries, 0 to 13345\n",
      "Data columns (total 6 columns):\n",
      " #   Column  Non-Null Count  Dtype         \n",
      "---  ------  --------------  -----         \n",
      " 0   제목      13340 non-null  object        \n",
      " 1   가사      13340 non-null  object        \n",
      " 2   가수      13340 non-null  object        \n",
      " 3   발매일     13340 non-null  datetime64[ns]\n",
      " 4   좋아요수    13340 non-null  int32         \n",
      " 5   장르      13340 non-null  object        \n",
      "dtypes: datetime64[ns](1), int32(1), object(4)\n",
      "memory usage: 677.4+ KB\n"
     ]
    }
   ],
   "source": [
    "# info\n",
    "df_ballad.info()"
   ]
  },
  {
   "cell_type": "markdown",
   "id": "afb16f32",
   "metadata": {},
   "source": [
    "## 장르 구분"
   ]
  },
  {
   "cell_type": "code",
   "execution_count": 13,
   "id": "3733c872",
   "metadata": {},
   "outputs": [],
   "source": [
    "# 장르 구분\n",
    "genre_split = df_ballad[\"장르\"].str.split(\",\")\n",
    "df_ballad[\"장르1\"] = genre_split.str.get(0)\n",
    "df_ballad[\"장르2\"] = genre_split.str.get(1)\n",
    "df_ballad[\"장르3\"] = genre_split.str.get(2)\n",
    "df_ballad[\"장르4\"] = genre_split.str.get(3)"
   ]
  },
  {
   "cell_type": "code",
   "execution_count": 14,
   "id": "0ccec680",
   "metadata": {},
   "outputs": [
    {
     "data": {
      "text/plain": [
       "발라드    13340\n",
       "Name: 장르1, dtype: int64"
      ]
     },
     "metadata": {},
     "output_type": "display_data"
    },
    {
     "name": "stdout",
     "output_type": "stream",
     "text": [
      "------------------------------\n"
     ]
    },
    {
     "data": {
      "text/plain": [
       " 국내드라마       2381\n",
       " 인디음악        1165\n",
       " 국내영화          85\n",
       " 애니메이션/웹툰      81\n",
       " R&B/Soul      71\n",
       " 랩/힙합          41\n",
       " 록/메탈          33\n",
       " 게임            16\n",
       " 포크/블루스        10\n",
       " 성인가요/트로트       8\n",
       " 댄스             5\n",
       " 국외영화           5\n",
       "Name: 장르2, dtype: int64"
      ]
     },
     "metadata": {},
     "output_type": "display_data"
    },
    {
     "name": "stdout",
     "output_type": "stream",
     "text": [
      "------------------------------\n"
     ]
    },
    {
     "data": {
      "text/plain": [
       " 국내드라마       68\n",
       " 포크/블루스       4\n",
       " 키즈           3\n",
       " 랩/힙합         1\n",
       " 애니메이션/웹툰     1\n",
       " 국내영화         1\n",
       "Name: 장르3, dtype: int64"
      ]
     },
     "metadata": {},
     "output_type": "display_data"
    },
    {
     "name": "stdout",
     "output_type": "stream",
     "text": [
      "------------------------------\n"
     ]
    },
    {
     "data": {
      "text/plain": [
       " 만화    3\n",
       "Name: 장르4, dtype: int64"
      ]
     },
     "metadata": {},
     "output_type": "display_data"
    }
   ],
   "source": [
    "# 장르 분포 확인\n",
    "# 장르는 한 곡에 최대 4개까지 있으나 양이 적어서 필요한 컬럼만 사용\n",
    "display(df_ballad[\"장르1\"].value_counts())\n",
    "print(\"-\"*30)\n",
    "display(df_ballad[\"장르2\"].value_counts())\n",
    "print(\"-\"*30)\n",
    "display(df_ballad[\"장르3\"].value_counts())\n",
    "print(\"-\"*30)\n",
    "display(df_ballad[\"장르4\"].value_counts())"
   ]
  },
  {
   "cell_type": "markdown",
   "id": "466510c0",
   "metadata": {},
   "source": [
    "## 날짜, 요일 추가\n",
    "* 일단 다각면에서 분석하고자 다 만들어두긴 했으나.. 연도와 월 빼고는 쓸모가 없을 듯 싶다"
   ]
  },
  {
   "cell_type": "code",
   "execution_count": 15,
   "id": "4ee215b9",
   "metadata": {},
   "outputs": [],
   "source": [
    "# 날짜, 요일 추가\n",
    "df_ballad[\"년\"] = df_ballad[\"발매일\"].dt.year\n",
    "df_ballad[\"월\"] = df_ballad[\"발매일\"].dt.month\n",
    "# df_ballad[\"일\"] = df_ballad[\"발매일\"].dt.day\n",
    "# df_ballad[\"요일\"] = df_ballad[\"발매일\"].dt.dayofweek"
   ]
  },
  {
   "cell_type": "code",
   "execution_count": 16,
   "id": "809cbcf7",
   "metadata": {},
   "outputs": [],
   "source": [
    "# 계절 추가\n",
    "df_ballad.loc[df_ballad[\"월\"].isin([12,1,2]), \"계절\"] = \"겨울\"\n",
    "df_ballad.loc[df_ballad[\"월\"].isin([3,4,5]), \"계절\"] = \"봄\"\n",
    "df_ballad.loc[df_ballad[\"월\"].isin([6,7,8]), \"계절\"] = \"여름\"\n",
    "df_ballad.loc[df_ballad[\"월\"].isin([9,10,11]), \"계절\"] = \"가을\""
   ]
  },
  {
   "cell_type": "code",
   "execution_count": 17,
   "id": "b2d51b9a",
   "metadata": {},
   "outputs": [
    {
     "data": {
      "text/plain": [
       "2022    2123\n",
       "2021    1358\n",
       "2020     998\n",
       "2019     859\n",
       "2018     802\n",
       "2017     696\n",
       "2016     691\n",
       "2015     498\n",
       "2014     483\n",
       "2012     462\n",
       "2010     447\n",
       "2011     439\n",
       "2013     403\n",
       "2008     383\n",
       "2009     321\n",
       "2007     311\n",
       "2006     258\n",
       "2004     252\n",
       "2005     206\n",
       "2002     195\n",
       "2003     168\n",
       "2001     146\n",
       "2000     120\n",
       "1999      95\n",
       "1998      87\n",
       "1997      70\n",
       "1996      65\n",
       "1989      53\n",
       "1995      44\n",
       "1992      43\n",
       "1987      42\n",
       "1994      42\n",
       "1990      37\n",
       "1988      31\n",
       "1991      31\n",
       "1993      28\n",
       "1985      21\n",
       "1986      10\n",
       "1983       5\n",
       "1978       5\n",
       "1980       4\n",
       "1979       3\n",
       "1984       3\n",
       "1982       1\n",
       "1981       1\n",
       "Name: 년, dtype: int64"
      ]
     },
     "execution_count": 17,
     "metadata": {},
     "output_type": "execute_result"
    }
   ],
   "source": [
    "# 연도별 노래 개수\n",
    "df_ballad[\"년\"].value_counts()"
   ]
  },
  {
   "cell_type": "code",
   "execution_count": 18,
   "id": "8020f9b3",
   "metadata": {},
   "outputs": [
    {
     "data": {
      "text/plain": [
       "가을    4079\n",
       "겨울    3662\n",
       "봄     3028\n",
       "여름    2571\n",
       "Name: 계절, dtype: int64"
      ]
     },
     "execution_count": 18,
     "metadata": {},
     "output_type": "execute_result"
    }
   ],
   "source": [
    "# 계절별 노래 개수\n",
    "df_ballad[\"계절\"].value_counts()"
   ]
  },
  {
   "cell_type": "code",
   "execution_count": 19,
   "id": "bb1ccd87",
   "metadata": {},
   "outputs": [
    {
     "name": "stdout",
     "output_type": "stream",
     "text": [
      "<class 'pandas.core.frame.DataFrame'>\n",
      "Int64Index: 13340 entries, 0 to 13345\n",
      "Data columns (total 13 columns):\n",
      " #   Column  Non-Null Count  Dtype         \n",
      "---  ------  --------------  -----         \n",
      " 0   제목      13340 non-null  object        \n",
      " 1   가사      13340 non-null  object        \n",
      " 2   가수      13340 non-null  object        \n",
      " 3   발매일     13340 non-null  datetime64[ns]\n",
      " 4   좋아요수    13340 non-null  int32         \n",
      " 5   장르      13340 non-null  object        \n",
      " 6   장르1     13340 non-null  object        \n",
      " 7   장르2     3901 non-null   object        \n",
      " 8   장르3     78 non-null     object        \n",
      " 9   장르4     3 non-null      object        \n",
      " 10  년       13340 non-null  int64         \n",
      " 11  월       13340 non-null  int64         \n",
      " 12  계절      13340 non-null  object        \n",
      "dtypes: datetime64[ns](1), int32(1), int64(2), object(9)\n",
      "memory usage: 1.4+ MB\n"
     ]
    }
   ],
   "source": [
    "df_ballad.info()"
   ]
  },
  {
   "cell_type": "markdown",
   "id": "7605ba78",
   "metadata": {},
   "source": [
    "# EDA"
   ]
  },
  {
   "cell_type": "markdown",
   "id": "d9ff50e2",
   "metadata": {},
   "source": [
    "## 중복행 제거"
   ]
  },
  {
   "cell_type": "code",
   "execution_count": 20,
   "id": "41791a95",
   "metadata": {},
   "outputs": [
    {
     "data": {
      "text/html": [
       "<div>\n",
       "<style scoped>\n",
       "    .dataframe tbody tr th:only-of-type {\n",
       "        vertical-align: middle;\n",
       "    }\n",
       "\n",
       "    .dataframe tbody tr th {\n",
       "        vertical-align: top;\n",
       "    }\n",
       "\n",
       "    .dataframe thead th {\n",
       "        text-align: right;\n",
       "    }\n",
       "</style>\n",
       "<table border=\"1\" class=\"dataframe\">\n",
       "  <thead>\n",
       "    <tr style=\"text-align: right;\">\n",
       "      <th></th>\n",
       "      <th>제목</th>\n",
       "      <th>가사</th>\n",
       "      <th>가수</th>\n",
       "      <th>발매일</th>\n",
       "      <th>좋아요수</th>\n",
       "      <th>장르</th>\n",
       "      <th>장르1</th>\n",
       "      <th>장르2</th>\n",
       "      <th>장르3</th>\n",
       "      <th>장르4</th>\n",
       "      <th>년</th>\n",
       "      <th>월</th>\n",
       "      <th>계절</th>\n",
       "    </tr>\n",
       "  </thead>\n",
       "  <tbody>\n",
       "    <tr>\n",
       "      <th>6531</th>\n",
       "      <td>Goodbye To Romance(민서 X 김이나 프로젝트) (Inst.)</td>\n",
       "      <td>It's time for goodbye\\r\\n나의 로맨스여 Goodbye\\r\\n바로...</td>\n",
       "      <td>민서 (MINSEO)</td>\n",
       "      <td>2022-12-26</td>\n",
       "      <td>11</td>\n",
       "      <td>발라드</td>\n",
       "      <td>발라드</td>\n",
       "      <td>NaN</td>\n",
       "      <td>NaN</td>\n",
       "      <td>NaN</td>\n",
       "      <td>2022</td>\n",
       "      <td>12</td>\n",
       "      <td>겨울</td>\n",
       "    </tr>\n",
       "    <tr>\n",
       "      <th>7889</th>\n",
       "      <td>욕심</td>\n",
       "      <td>너무 늦어버린걸 이미 알고 있어 난\\r\\n괜히 또 괜찮은 척 웃고있어\\r\\n바쁜 하...</td>\n",
       "      <td>성민</td>\n",
       "      <td>2022-08-30</td>\n",
       "      <td>85</td>\n",
       "      <td>발라드</td>\n",
       "      <td>발라드</td>\n",
       "      <td>NaN</td>\n",
       "      <td>NaN</td>\n",
       "      <td>NaN</td>\n",
       "      <td>2022</td>\n",
       "      <td>8</td>\n",
       "      <td>여름</td>\n",
       "    </tr>\n",
       "    <tr>\n",
       "      <th>7970</th>\n",
       "      <td>소낙눈</td>\n",
       "      <td>보석처럼 빛나는 아침\\r\\n단비 같은 눈이 내렸어\\r\\n눈부시던 창 밖 풍경에\\r\\...</td>\n",
       "      <td>소낙별</td>\n",
       "      <td>2017-01-24</td>\n",
       "      <td>225</td>\n",
       "      <td>발라드</td>\n",
       "      <td>발라드</td>\n",
       "      <td>NaN</td>\n",
       "      <td>NaN</td>\n",
       "      <td>NaN</td>\n",
       "      <td>2017</td>\n",
       "      <td>1</td>\n",
       "      <td>겨울</td>\n",
       "    </tr>\n",
       "    <tr>\n",
       "      <th>8028</th>\n",
       "      <td>기억을 걷다</td>\n",
       "      <td>참 많이도 웃었지\\r\\n숨 쉬듯 내 곁에 있었지\\r\\n편안했었고 친절했었지\\r\\n그...</td>\n",
       "      <td>정승환</td>\n",
       "      <td>2015-04-05</td>\n",
       "      <td>7550</td>\n",
       "      <td>발라드</td>\n",
       "      <td>발라드</td>\n",
       "      <td>NaN</td>\n",
       "      <td>NaN</td>\n",
       "      <td>NaN</td>\n",
       "      <td>2015</td>\n",
       "      <td>4</td>\n",
       "      <td>봄</td>\n",
       "    </tr>\n",
       "    <tr>\n",
       "      <th>8151</th>\n",
       "      <td>백허그 (Back Hug)</td>\n",
       "      <td>백허그 (Back Hug)\\r\\n\\r\\n가만히 뒤에서 날 끌어안아줘\\r\\n내 어깨에...</td>\n",
       "      <td>소녀시대 (GIRLS' GENERATION)</td>\n",
       "      <td>2014-02-24</td>\n",
       "      <td>8623</td>\n",
       "      <td>발라드</td>\n",
       "      <td>발라드</td>\n",
       "      <td>NaN</td>\n",
       "      <td>NaN</td>\n",
       "      <td>NaN</td>\n",
       "      <td>2014</td>\n",
       "      <td>2</td>\n",
       "      <td>겨울</td>\n",
       "    </tr>\n",
       "    <tr>\n",
       "      <th>...</th>\n",
       "      <td>...</td>\n",
       "      <td>...</td>\n",
       "      <td>...</td>\n",
       "      <td>...</td>\n",
       "      <td>...</td>\n",
       "      <td>...</td>\n",
       "      <td>...</td>\n",
       "      <td>...</td>\n",
       "      <td>...</td>\n",
       "      <td>...</td>\n",
       "      <td>...</td>\n",
       "      <td>...</td>\n",
       "      <td>...</td>\n",
       "    </tr>\n",
       "    <tr>\n",
       "      <th>11211</th>\n",
       "      <td>견뎌야 하는 우리에게</td>\n",
       "      <td>문득 생각을 해봤어\\r\\n지난날 우린 누구보다\\r\\n뜨겁고 미친 듯이 사랑했고\\r\\...</td>\n",
       "      <td>먼데이 키즈 (Monday Kiz)</td>\n",
       "      <td>2020-05-20</td>\n",
       "      <td>3000</td>\n",
       "      <td>발라드</td>\n",
       "      <td>발라드</td>\n",
       "      <td>NaN</td>\n",
       "      <td>NaN</td>\n",
       "      <td>NaN</td>\n",
       "      <td>2020</td>\n",
       "      <td>5</td>\n",
       "      <td>봄</td>\n",
       "    </tr>\n",
       "    <tr>\n",
       "      <th>11220</th>\n",
       "      <td>우리들의 겨울이야기 (feat.뮤시아)</td>\n",
       "      <td>나 오랫동안 준비해 왔던\\r\\n그 말을 전할 때가 온 거야\\r\\n그대가 좋아하는 하...</td>\n",
       "      <td>EQ</td>\n",
       "      <td>2022-12-21</td>\n",
       "      <td>27</td>\n",
       "      <td>발라드, 인디음악</td>\n",
       "      <td>발라드</td>\n",
       "      <td>인디음악</td>\n",
       "      <td>NaN</td>\n",
       "      <td>NaN</td>\n",
       "      <td>2022</td>\n",
       "      <td>12</td>\n",
       "      <td>겨울</td>\n",
       "    </tr>\n",
       "    <tr>\n",
       "      <th>11515</th>\n",
       "      <td>Hate Christmas</td>\n",
       "      <td>우 모두 기다렸던\\r\\n메리 크리스마스\\r\\n홀로 쓸쓸한 이 밤\\r\\n설레는 예쁜 ...</td>\n",
       "      <td>임도혁</td>\n",
       "      <td>2016-12-21</td>\n",
       "      <td>450</td>\n",
       "      <td>발라드</td>\n",
       "      <td>발라드</td>\n",
       "      <td>NaN</td>\n",
       "      <td>NaN</td>\n",
       "      <td>NaN</td>\n",
       "      <td>2016</td>\n",
       "      <td>12</td>\n",
       "      <td>겨울</td>\n",
       "    </tr>\n",
       "    <tr>\n",
       "      <th>11532</th>\n",
       "      <td>후회 (Original ver.)</td>\n",
       "      <td>아무렇지 않은 척했네\\r\\n그대 떠난 자리에 서서\\r\\n슬퍼하지 않으려 했네\\r\\n...</td>\n",
       "      <td>범진</td>\n",
       "      <td>2022-02-28</td>\n",
       "      <td>271</td>\n",
       "      <td>발라드, 인디음악</td>\n",
       "      <td>발라드</td>\n",
       "      <td>인디음악</td>\n",
       "      <td>NaN</td>\n",
       "      <td>NaN</td>\n",
       "      <td>2022</td>\n",
       "      <td>2</td>\n",
       "      <td>겨울</td>\n",
       "    </tr>\n",
       "    <tr>\n",
       "      <th>11726</th>\n",
       "      <td>Love or Like (With 휘인 of 마마무, JISIM)</td>\n",
       "      <td>U and me dream is sweet\\r\\n여전히 둘 다 쉿\\r\\nstay a...</td>\n",
       "      <td>스탠딩 에그</td>\n",
       "      <td>2017-12-01</td>\n",
       "      <td>9790</td>\n",
       "      <td>발라드, 인디음악</td>\n",
       "      <td>발라드</td>\n",
       "      <td>인디음악</td>\n",
       "      <td>NaN</td>\n",
       "      <td>NaN</td>\n",
       "      <td>2017</td>\n",
       "      <td>12</td>\n",
       "      <td>겨울</td>\n",
       "    </tr>\n",
       "  </tbody>\n",
       "</table>\n",
       "<p>432 rows × 13 columns</p>\n",
       "</div>"
      ],
      "text/plain": [
       "                                              제목  \\\n",
       "6531   Goodbye To Romance(민서 X 김이나 프로젝트) (Inst.)   \n",
       "7889                                          욕심   \n",
       "7970                                         소낙눈   \n",
       "8028                                      기억을 걷다   \n",
       "8151                              백허그 (Back Hug)   \n",
       "...                                          ...   \n",
       "11211                                견뎌야 하는 우리에게   \n",
       "11220                      우리들의 겨울이야기 (feat.뮤시아)   \n",
       "11515                             Hate Christmas   \n",
       "11532                         후회 (Original ver.)   \n",
       "11726       Love or Like (With 휘인 of 마마무, JISIM)   \n",
       "\n",
       "                                                      가사  \\\n",
       "6531   It's time for goodbye\\r\\n나의 로맨스여 Goodbye\\r\\n바로...   \n",
       "7889   너무 늦어버린걸 이미 알고 있어 난\\r\\n괜히 또 괜찮은 척 웃고있어\\r\\n바쁜 하...   \n",
       "7970   보석처럼 빛나는 아침\\r\\n단비 같은 눈이 내렸어\\r\\n눈부시던 창 밖 풍경에\\r\\...   \n",
       "8028   참 많이도 웃었지\\r\\n숨 쉬듯 내 곁에 있었지\\r\\n편안했었고 친절했었지\\r\\n그...   \n",
       "8151   백허그 (Back Hug)\\r\\n\\r\\n가만히 뒤에서 날 끌어안아줘\\r\\n내 어깨에...   \n",
       "...                                                  ...   \n",
       "11211  문득 생각을 해봤어\\r\\n지난날 우린 누구보다\\r\\n뜨겁고 미친 듯이 사랑했고\\r\\...   \n",
       "11220  나 오랫동안 준비해 왔던\\r\\n그 말을 전할 때가 온 거야\\r\\n그대가 좋아하는 하...   \n",
       "11515  우 모두 기다렸던\\r\\n메리 크리스마스\\r\\n홀로 쓸쓸한 이 밤\\r\\n설레는 예쁜 ...   \n",
       "11532  아무렇지 않은 척했네\\r\\n그대 떠난 자리에 서서\\r\\n슬퍼하지 않으려 했네\\r\\n...   \n",
       "11726  U and me dream is sweet\\r\\n여전히 둘 다 쉿\\r\\nstay a...   \n",
       "\n",
       "                             가수        발매일  좋아요수         장르  장르1    장르2  장르3  \\\n",
       "6531                민서 (MINSEO) 2022-12-26    11        발라드  발라드    NaN  NaN   \n",
       "7889                         성민 2022-08-30    85        발라드  발라드    NaN  NaN   \n",
       "7970                        소낙별 2017-01-24   225        발라드  발라드    NaN  NaN   \n",
       "8028                        정승환 2015-04-05  7550        발라드  발라드    NaN  NaN   \n",
       "8151   소녀시대 (GIRLS' GENERATION) 2014-02-24  8623        발라드  발라드    NaN  NaN   \n",
       "...                         ...        ...   ...        ...  ...    ...  ...   \n",
       "11211       먼데이 키즈 (Monday Kiz) 2020-05-20  3000        발라드  발라드    NaN  NaN   \n",
       "11220                        EQ 2022-12-21    27  발라드, 인디음악  발라드   인디음악  NaN   \n",
       "11515                       임도혁 2016-12-21   450        발라드  발라드    NaN  NaN   \n",
       "11532                        범진 2022-02-28   271  발라드, 인디음악  발라드   인디음악  NaN   \n",
       "11726                    스탠딩 에그 2017-12-01  9790  발라드, 인디음악  발라드   인디음악  NaN   \n",
       "\n",
       "       장르4     년   월  계절  \n",
       "6531   NaN  2022  12  겨울  \n",
       "7889   NaN  2022   8  여름  \n",
       "7970   NaN  2017   1  겨울  \n",
       "8028   NaN  2015   4   봄  \n",
       "8151   NaN  2014   2  겨울  \n",
       "...    ...   ...  ..  ..  \n",
       "11211  NaN  2020   5   봄  \n",
       "11220  NaN  2022  12  겨울  \n",
       "11515  NaN  2016  12  겨울  \n",
       "11532  NaN  2022   2  겨울  \n",
       "11726  NaN  2017  12  겨울  \n",
       "\n",
       "[432 rows x 13 columns]"
      ]
     },
     "execution_count": 20,
     "metadata": {},
     "output_type": "execute_result"
    }
   ],
   "source": [
    "# 중복행 한 번 더 확인\n",
    "df_ballad[df_ballad.duplicated(keep=False)]"
   ]
  },
  {
   "cell_type": "code",
   "execution_count": 21,
   "id": "90bf8a51",
   "metadata": {},
   "outputs": [
    {
     "name": "stdout",
     "output_type": "stream",
     "text": [
      "(13340, 13)\n"
     ]
    },
    {
     "data": {
      "text/plain": [
       "(13124, 13)"
      ]
     },
     "execution_count": 21,
     "metadata": {},
     "output_type": "execute_result"
    }
   ],
   "source": [
    "# 중복행 drop\n",
    "print(df_ballad.shape)\n",
    "df_ballad = df_ballad.drop_duplicates()\n",
    "df_ballad.shape"
   ]
  },
  {
   "cell_type": "markdown",
   "id": "9559a2df",
   "metadata": {},
   "source": [
    "## 가사 전처리"
   ]
  },
  {
   "cell_type": "code",
   "execution_count": 22,
   "id": "dbedb8c1",
   "metadata": {},
   "outputs": [],
   "source": [
    "# 필요 없는 단어 제거\n",
    "df_ballad[\"가사\"] = df_ballad[\"가사\"].map(lambda x : re.sub(\"1절\", \"\", x))\n",
    "df_ballad[\"가사\"] = df_ballad[\"가사\"].map(lambda x : re.sub(\"2절\", \"\", x))\n",
    "df_ballad[\"가사\"] = df_ballad[\"가사\"].map(lambda x : re.sub(\"브리지\", \"\", x).strip())"
   ]
  },
  {
   "cell_type": "code",
   "execution_count": 23,
   "id": "c12c8ec1",
   "metadata": {},
   "outputs": [],
   "source": [
    "# 이외 기본적인 전처리\n",
    "df_ballad[\"가사\"] = df_ballad[\"가사\"].map(lambda x : re.sub(\"\\s{2,}\", \" \", x)) # 공백 2회 이상 제거\n",
    "df_ballad[\"가사\"] = df_ballad[\"가사\"].map(lambda x : re.sub(\"\\n\", \" \", x)) # 개행문자 제거"
   ]
  },
  {
   "cell_type": "markdown",
   "id": "b4818daf",
   "metadata": {},
   "source": [
    "## 시각화"
   ]
  },
  {
   "cell_type": "markdown",
   "id": "e6d6805f",
   "metadata": {},
   "source": [
    "### 가수별 분석"
   ]
  },
  {
   "cell_type": "code",
   "execution_count": 24,
   "id": "1091e325",
   "metadata": {},
   "outputs": [
    {
     "data": {
      "text/html": [
       "<div>\n",
       "<style scoped>\n",
       "    .dataframe tbody tr th:only-of-type {\n",
       "        vertical-align: middle;\n",
       "    }\n",
       "\n",
       "    .dataframe tbody tr th {\n",
       "        vertical-align: top;\n",
       "    }\n",
       "\n",
       "    .dataframe thead th {\n",
       "        text-align: right;\n",
       "    }\n",
       "</style>\n",
       "<table border=\"1\" class=\"dataframe\">\n",
       "  <thead>\n",
       "    <tr style=\"text-align: right;\">\n",
       "      <th></th>\n",
       "      <th>가수</th>\n",
       "      <th>제목</th>\n",
       "      <th>좋아요수</th>\n",
       "    </tr>\n",
       "  </thead>\n",
       "  <tbody>\n",
       "    <tr>\n",
       "      <th>0</th>\n",
       "      <td>먼데이 키즈 (Monday Kiz)</td>\n",
       "      <td>130</td>\n",
       "      <td>1250007</td>\n",
       "    </tr>\n",
       "    <tr>\n",
       "      <th>1</th>\n",
       "      <td>성시경</td>\n",
       "      <td>129</td>\n",
       "      <td>2461336</td>\n",
       "    </tr>\n",
       "    <tr>\n",
       "      <th>2</th>\n",
       "      <td>엠씨더맥스 (M.C the MAX)</td>\n",
       "      <td>127</td>\n",
       "      <td>2298255</td>\n",
       "    </tr>\n",
       "    <tr>\n",
       "      <th>3</th>\n",
       "      <td>지아</td>\n",
       "      <td>109</td>\n",
       "      <td>802739</td>\n",
       "    </tr>\n",
       "    <tr>\n",
       "      <th>4</th>\n",
       "      <td>임창정</td>\n",
       "      <td>109</td>\n",
       "      <td>1733212</td>\n",
       "    </tr>\n",
       "  </tbody>\n",
       "</table>\n",
       "</div>"
      ],
      "text/plain": [
       "                    가수   제목     좋아요수\n",
       "0  먼데이 키즈 (Monday Kiz)  130  1250007\n",
       "1                  성시경  129  2461336\n",
       "2  엠씨더맥스 (M.C the MAX)  127  2298255\n",
       "3                   지아  109   802739\n",
       "4                  임창정  109  1733212"
      ]
     },
     "metadata": {},
     "output_type": "display_data"
    },
    {
     "data": {
      "text/html": [
       "<div>\n",
       "<style scoped>\n",
       "    .dataframe tbody tr th:only-of-type {\n",
       "        vertical-align: middle;\n",
       "    }\n",
       "\n",
       "    .dataframe tbody tr th {\n",
       "        vertical-align: top;\n",
       "    }\n",
       "\n",
       "    .dataframe thead th {\n",
       "        text-align: right;\n",
       "    }\n",
       "</style>\n",
       "<table border=\"1\" class=\"dataframe\">\n",
       "  <thead>\n",
       "    <tr style=\"text-align: right;\">\n",
       "      <th></th>\n",
       "      <th>가수</th>\n",
       "      <th>제목</th>\n",
       "      <th>좋아요수</th>\n",
       "    </tr>\n",
       "  </thead>\n",
       "  <tbody>\n",
       "    <tr>\n",
       "      <th>0</th>\n",
       "      <td>아이유</td>\n",
       "      <td>75</td>\n",
       "      <td>5405204</td>\n",
       "    </tr>\n",
       "    <tr>\n",
       "      <th>1</th>\n",
       "      <td>태연 (TAEYEON)</td>\n",
       "      <td>54</td>\n",
       "      <td>2633545</td>\n",
       "    </tr>\n",
       "    <tr>\n",
       "      <th>2</th>\n",
       "      <td>박효신</td>\n",
       "      <td>90</td>\n",
       "      <td>2484356</td>\n",
       "    </tr>\n",
       "    <tr>\n",
       "      <th>3</th>\n",
       "      <td>성시경</td>\n",
       "      <td>129</td>\n",
       "      <td>2461336</td>\n",
       "    </tr>\n",
       "    <tr>\n",
       "      <th>4</th>\n",
       "      <td>엠씨더맥스 (M.C the MAX)</td>\n",
       "      <td>127</td>\n",
       "      <td>2298255</td>\n",
       "    </tr>\n",
       "  </tbody>\n",
       "</table>\n",
       "</div>"
      ],
      "text/plain": [
       "                    가수   제목     좋아요수\n",
       "0                  아이유   75  5405204\n",
       "1         태연 (TAEYEON)   54  2633545\n",
       "2                  박효신   90  2484356\n",
       "3                  성시경  129  2461336\n",
       "4  엠씨더맥스 (M.C the MAX)  127  2298255"
      ]
     },
     "execution_count": 24,
     "metadata": {},
     "output_type": "execute_result"
    }
   ],
   "source": [
    "# 가수별 곡 수\n",
    "df_singer_soundtrack = df_ballad.groupby(\"가수\").agg({\"제목\" : \"count\", \n",
    "                                                 \"좋아요수\" : \"sum\"}).sort_values(\"제목\", ascending=False).reset_index()\n",
    "\n",
    "# 가수별 좋아요 수\n",
    "df_singer_like = df_ballad.groupby(\"가수\").agg({\"제목\" : \"count\", \n",
    "                                                 \"좋아요수\" : \"sum\"}).sort_values(\"좋아요수\", ascending=False).reset_index()\n",
    "display(df_singer_soundtrack.head())\n",
    "df_singer_like.head()"
   ]
  },
  {
   "cell_type": "code",
   "execution_count": 25,
   "id": "d0075a11",
   "metadata": {},
   "outputs": [
    {
     "data": {
      "text/plain": [
       "<AxesSubplot: xlabel='제목', ylabel='가수'>"
      ]
     },
     "execution_count": 25,
     "metadata": {},
     "output_type": "execute_result"
    },
    {
     "data": {
      "image/png": "[encoded data removed]",
      "text/plain": [
       "<Figure size 640x480 with 1 Axes>"
      ]
     },
     "metadata": {},
     "output_type": "display_data"
    }
   ],
   "source": [
    "# 곡 수 top 20 시각화\n",
    "sns.barplot(df_singer_soundtrack[:20], x=\"제목\", y=\"가수\", palette = sns.color_palette(\"pastel\"))"
   ]
  },
  {
   "cell_type": "code",
   "execution_count": 26,
   "id": "101abb40",
   "metadata": {},
   "outputs": [
    {
     "data": {
      "text/plain": [
       "<AxesSubplot: xlabel='좋아요수', ylabel='가수'>"
      ]
     },
     "execution_count": 26,
     "metadata": {},
     "output_type": "execute_result"
    },
    {
     "data": {
      "image/png": "[encoded data removed]",
      "text/plain": [
       "<Figure size 640x480 with 1 Axes>"
      ]
     },
     "metadata": {},
     "output_type": "display_data"
    }
   ],
   "source": [
    "# 좋아요 수 top 20 시각화\n",
    "sns.barplot(df_singer_like[:20], x=\"좋아요수\", y=\"가수\", palette = sns.color_palette(\"pastel\"))"
   ]
  },
  {
   "cell_type": "code",
   "execution_count": 27,
   "id": "c5d97ac9",
   "metadata": {},
   "outputs": [
    {
     "data": {
      "image/png": "[encoded data removed]",
      "text/plain": [
       "<Figure size 640x480 with 1 Axes>"
      ]
     },
     "metadata": {},
     "output_type": "display_data"
    }
   ],
   "source": [
    "# 가수별 곡 수의 분포\n",
    "df_singer_soundtrack[\"제목\"].hist(bins=50).set_title(\"가수별 곡 수 분포\");"
   ]
  },
  {
   "cell_type": "markdown",
   "id": "346aab94",
   "metadata": {},
   "source": [
    "- 인기순에 노래가 많이 오른 가수들의 노래는 대중들로부터 인정을 받았다고 볼 수 있기 때문에 이 곡들의 가사로 학습해봐도 괜찮지 않을까?\n",
    "- 혹은 음악의 좋아요 수가 많은 가수들의 노래?\n",
    "- 이 두 가지를 혼합한 기준?"
   ]
  },
  {
   "cell_type": "markdown",
   "id": "1263d3dc",
   "metadata": {},
   "source": [
    "### 연도별 분석"
   ]
  },
  {
   "cell_type": "code",
   "execution_count": 28,
   "id": "87103a58",
   "metadata": {},
   "outputs": [
    {
     "data": {
      "text/plain": [
       "<AxesSubplot: xlabel='년', ylabel='제목'>"
      ]
     },
     "execution_count": 28,
     "metadata": {},
     "output_type": "execute_result"
    },
    {
     "data": {
      "image/png": "[encoded data removed]",
      "text/plain": [
       "<Figure size 640x480 with 1 Axes>"
      ]
     },
     "metadata": {},
     "output_type": "display_data"
    }
   ],
   "source": [
    "# 연도별 인기순 데이터\n",
    "sns.lineplot(data=df_ballad.groupby(\"년\")[[\"제목\"]].count().reset_index(), x=\"년\", y=\"제목\")"
   ]
  },
  {
   "cell_type": "markdown",
   "id": "b15b144c",
   "metadata": {},
   "source": [
    "- 발라드 장르 \"최신곡\"의 인기순 정렬이다보니 최신으로 갈수록 데이터가 많아짐(1~15000곡 기준)"
   ]
  },
  {
   "cell_type": "markdown",
   "id": "60b3778e",
   "metadata": {},
   "source": [
    "### 곡별 가사 길이 분포"
   ]
  },
  {
   "cell_type": "code",
   "execution_count": 29,
   "id": "6960b684",
   "metadata": {},
   "outputs": [
    {
     "data": {
      "image/png": "[encoded data removed]",
      "text/plain": [
       "<Figure size 640x480 with 1 Axes>"
      ]
     },
     "metadata": {},
     "output_type": "display_data"
    }
   ],
   "source": [
    "# 가사 길이 분포\n",
    "df_ballad[\"가사\"].str.len().hist(bins=50).set_title(\"가사 길이\");"
   ]
  },
  {
   "cell_type": "markdown",
   "id": "637ad8da",
   "metadata": {},
   "source": [
    "- 공백 포함 약 300~600자 사이에 가장 많이 분포함\n",
    "- 가사 전처리를 러프하게 했기 때문에 실제 가사 길이와 오차는 있을 수 있음(특수문자 등)"
   ]
  },
  {
   "cell_type": "markdown",
   "id": "697fd077",
   "metadata": {},
   "source": [
    "## 맞춤법 검사기 활용 -> 사용 x\n",
    "- 네이버 맞춤법 검사기 기반의 `py-hanspell` 라이브러리 사용\n",
    "- 네이버 맞춤법 검사기 기반이기 때문에 500자가 넘어가면 사용하지 못하므로 문장 단위로 끊어서 사용해야함\n",
    "- 사용하게 된다면 모델에 input할 가사만 맞춤법 검사해도 될듯\n",
    "- 형태소 분석기 사용 시 띄어쓰기 처리 알아서 끊어주기 때문에 사용 x"
   ]
  },
  {
   "cell_type": "code",
   "execution_count": 30,
   "id": "dc308e87",
   "metadata": {},
   "outputs": [],
   "source": [
    "# spell_checker()"
   ]
  },
  {
   "cell_type": "markdown",
   "id": "6b5e286b",
   "metadata": {},
   "source": [
    "## 가사 형태소 분석"
   ]
  },
  {
   "cell_type": "code",
   "execution_count": 31,
   "id": "ea79dc4a",
   "metadata": {},
   "outputs": [],
   "source": [
    "# 형태소 분석기 호출 및 함수 정의\n",
    "okt = Okt()\n",
    "def okt_clean(text):\n",
    "    clean_text = []\n",
    "    # 품사 태깅 후 태깅 결과를 받아서 순회 \n",
    "    for word in okt.pos(text, norm=True, stem=True):\n",
    "        # 품사가 구두점이면 제외하고 append 로 인덱스 0번 값만 다시 리스트에 담아줌\n",
    "        if word[1] not in 'Punctuation':\n",
    "            clean_text.append(word[0])\n",
    "    # 공백 문자로 연결\n",
    "    return \" \".join(clean_text)"
   ]
  },
  {
   "cell_type": "code",
   "execution_count": 32,
   "id": "049e9617",
   "metadata": {},
   "outputs": [],
   "source": [
    "# 판다스에서 tqdm 기능 사용하기 위해 선언\n",
    "tqdm.pandas()"
   ]
  },
  {
   "cell_type": "code",
   "execution_count": 33,
   "id": "fee7b715",
   "metadata": {},
   "outputs": [],
   "source": [
    "# 모든 가사에 적용\n",
    "# df_ballad[\"가사_전처리\"] = df_ballad[\"가사\"].progress_map(okt_clean)"
   ]
  },
  {
   "cell_type": "markdown",
   "id": "a42a1dd8",
   "metadata": {},
   "source": [
    "### 계절별 분석\n",
    "- 사랑에 미쳐버린 노래들..\n",
    "- 계절별로 노래 가사 단어 빈도의 뚜렷한 차이는 발견하지 못했음"
   ]
  },
  {
   "cell_type": "code",
   "execution_count": null,
   "id": "a895ba55",
   "metadata": {},
   "outputs": [],
   "source": [
    "# 각 계절별 좋아요수 상위 20개 추출\n",
    "df_ballad_spring = df_ballad[df_ballad[\"계절\"] == \"봄\"].sort_values(\"좋아요수\", ascending=False).head(50)\n",
    "df_ballad_summer = df_ballad[df_ballad[\"계절\"] == \"여름\"].sort_values(\"좋아요수\", ascending=False).head(50)\n",
    "df_ballad_fall = df_ballad[df_ballad[\"계절\"] == \"가을\"].sort_values(\"좋아요수\", ascending=False).head(50)\n",
    "df_ballad_winter = df_ballad[df_ballad[\"계절\"] == \"겨울\"].sort_values(\"좋아요수\", ascending=False).head(50)"
   ]
  },
  {
   "cell_type": "code",
   "execution_count": null,
   "id": "bae9348e",
   "metadata": {},
   "outputs": [],
   "source": [
    "# 하나의 문자열로 추출\n",
    "lyrics_spring = ' '.join(df_ballad_spring[\"가사\"])\n",
    "lyrics_summer = ' '.join(df_ballad_summer[\"가사\"])\n",
    "lyrics_fall = ' '.join(df_ballad_fall[\"가사\"])\n",
    "lyrics_winter = ' '.join(df_ballad_winter[\"가사\"])"
   ]
  },
  {
   "cell_type": "code",
   "execution_count": null,
   "id": "334bfd8d",
   "metadata": {},
   "outputs": [],
   "source": [
    "# 봄 빈도수 상위 30개 명사 추출(너, 나, 내 같이 의미없는 한 자 단어가 많아서 한글자는 제외함)\n",
    "lyrics_spring_noun = okt.nouns(lyrics_spring)\n",
    "count_spring = Counter(lyrics_spring_noun)\n",
    "count_spring_dict = dict(count_spring.most_common(100))\n",
    "count_spring_df = pd.DataFrame(count_spring_dict.values(), count_spring_dict.keys())\n",
    "count_spring_df = count_spring_df.reset_index()\n",
    "count_spring_df.columns = [\"단어\", \"빈도\"]\n",
    "count_spring_df = count_spring_df[count_spring_df[\"단어\"].str.len() != 1].head(30)"
   ]
  },
  {
   "cell_type": "code",
   "execution_count": null,
   "id": "16dc1126",
   "metadata": {},
   "outputs": [],
   "source": [
    "# 봄 시각화\n",
    "plt.figure(figsize=(12,10))\n",
    "plt.title(\"봄에 출시된 노래의 가사 단어 빈도수\")\n",
    "sns.barplot(data=count_spring_df, x=\"빈도\", y=\"단어\", palette = sns.color_palette(\"pastel\"));"
   ]
  },
  {
   "cell_type": "code",
   "execution_count": null,
   "id": "b7e887b7",
   "metadata": {},
   "outputs": [],
   "source": [
    "lyrics_summer_noun = okt.nouns(lyrics_summer)\n",
    "count_summer = Counter(lyrics_summer_noun)\n",
    "count_summer_dict = dict(count_summer.most_common(100))\n",
    "count_summer_df = pd.DataFrame(count_summer_dict.values(), count_summer_dict.keys())\n",
    "count_summer_df = count_summer_df.reset_index()\n",
    "count_summer_df.columns = [\"단어\", \"빈도\"]\n",
    "count_summer_df = count_summer_df[count_summer_df[\"단어\"].str.len() != 1].head(30)"
   ]
  },
  {
   "cell_type": "code",
   "execution_count": null,
   "id": "0ef429b8",
   "metadata": {},
   "outputs": [],
   "source": [
    "# 여름 시각화\n",
    "plt.figure(figsize=(12,10))\n",
    "plt.title(\"여름에 출시된 노래의 가사 단어 빈도수\")\n",
    "sns.barplot(data=count_summer_df, x=\"빈도\", y=\"단어\", palette = sns.color_palette(\"pastel\"));"
   ]
  },
  {
   "cell_type": "code",
   "execution_count": null,
   "id": "d30b71ed",
   "metadata": {},
   "outputs": [],
   "source": [
    "lyrics_fall_noun = okt.nouns(lyrics_fall)\n",
    "count_fall = Counter(lyrics_fall_noun)\n",
    "count_fall_dict = dict(count_fall.most_common(100))\n",
    "count_fall_df = pd.DataFrame(count_fall_dict.values(), count_fall_dict.keys())\n",
    "count_fall_df = count_fall_df.reset_index()\n",
    "count_fall_df.columns = [\"단어\", \"빈도\"]\n",
    "count_fall_df = count_fall_df[count_fall_df[\"단어\"].str.len() != 1].head(30)"
   ]
  },
  {
   "cell_type": "code",
   "execution_count": null,
   "id": "d35403b2",
   "metadata": {},
   "outputs": [],
   "source": [
    "# 가을 시각화\n",
    "plt.figure(figsize=(12,10))\n",
    "plt.title(\"가을에 출시된 노래의 가사 단어 빈도수\")\n",
    "sns.barplot(data=count_fall_df, x=\"빈도\", y=\"단어\", palette = sns.color_palette(\"pastel\"));"
   ]
  },
  {
   "cell_type": "code",
   "execution_count": null,
   "id": "ffe8e30c",
   "metadata": {},
   "outputs": [],
   "source": [
    "lyrics_winter_noun = okt.nouns(lyrics_winter)\n",
    "count_winter = Counter(lyrics_winter_noun)\n",
    "count_winter_dict = dict(count_winter.most_common(100))\n",
    "count_winter_df = pd.DataFrame(count_winter_dict.values(), count_winter_dict.keys())\n",
    "count_winter_df = count_winter_df.reset_index()\n",
    "count_winter_df.columns = [\"단어\", \"빈도\"]\n",
    "count_winter_df = count_winter_df[count_winter_df[\"단어\"].str.len() != 1].head(30)"
   ]
  },
  {
   "cell_type": "code",
   "execution_count": null,
   "id": "295d3cec",
   "metadata": {},
   "outputs": [],
   "source": [
    "# 겨울 시각화\n",
    "plt.figure(figsize=(12,10))\n",
    "plt.title(\"겨울에 출시된 노래의 가사 단어 빈도수\")\n",
    "sns.barplot(data=count_fall_df, x=\"빈도\", y=\"단어\", palette = sns.color_palette(\"pastel\"));"
   ]
  },
  {
   "cell_type": "markdown",
   "id": "02d583f5",
   "metadata": {},
   "source": [
    "# 모델 input을 위한 전처리"
   ]
  },
  {
   "cell_type": "code",
   "execution_count": null,
   "id": "715aa48c",
   "metadata": {},
   "outputs": [],
   "source": [
    "# 가사에 개행문자 없는 데이터 제거\n",
    "# df_ballad = df_ballad[df_ballad[\"가사\"].str.contains(\"\\n\")]"
   ]
  },
  {
   "cell_type": "code",
   "execution_count": null,
   "id": "0f2b4db5",
   "metadata": {},
   "outputs": [],
   "source": [
    "# 기본 전처리\n",
    "# df_ballad[\"가사\"] = df_ballad[\"가사\"].map(lambda x : re.sub(\"[^ㄱ-ㅎ가-힣0-9\\n ]\", \"\", x).strip()) # 한글 자음, 한글, 숫자, 개행문자만 남기고 제거\n",
    "# df_ballad[\"가사\"] = df_ballad[\"가사\"].map(lambda x : re.sub(\"\\s{2,}\", \"\", x)) # 공백 2회 이상 제거\n",
    "# df_ballad = df_ballad[df_ballad[\"가사\"].map(lambda x : len(x) > 10)] # 전처리 후 빈 행이나 10자 이상이 안되는 데이터 제거\n",
    "# df_ballad = df_ballad.reset_index(drop=True) # 인덱스 초기화\n",
    "# df_ballad.shape"
   ]
  },
  {
   "cell_type": "code",
   "execution_count": null,
   "id": "28d55e35",
   "metadata": {},
   "outputs": [],
   "source": []
  },
  {
   "cell_type": "code",
   "execution_count": null,
   "id": "6e9ff07c",
   "metadata": {},
   "outputs": [],
   "source": []
  }
 ],
 "metadata": {
  "kernelspec": {
   "display_name": "Python 3 (ipykernel)",
   "language": "python",
   "name": "python3"
  },
  "language_info": {
   "codemirror_mode": {
    "name": "ipython",
    "version": 3
   },
   "file_extension": ".py",
   "mimetype": "text/x-python",
   "name": "python",
   "nbconvert_exporter": "python",
   "pygments_lexer": "ipython3",
   "version": "3.9.15"
  },
  "toc": {
   "base_numbering": 1,
   "nav_menu": {},
   "number_sections": true,
   "sideBar": true,
   "skip_h1_title": false,
   "title_cell": "Table of Contents",
   "title_sidebar": "Contents",
   "toc_cell": false,
   "toc_position": {},
   "toc_section_display": true,
   "toc_window_display": false
  }
 },
 "nbformat": 4,
 "nbformat_minor": 5
}
