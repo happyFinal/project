{
 "cells": [
  {
   "cell_type": "code",
   "execution_count": 1,
   "metadata": {},
   "outputs": [],
   "source": [
    "import pandas as pd\n",
    "import seaborn as sns\n",
    "import koreanize_matplotlib\n",
    "import pyarrow.parquet as pq\n",
    "import fastparquet\n",
    "import pandas as pd\n",
    "import glob\n",
    "\n",
    "# 그래프에 retina display 적용\n",
    "%config InlineBackend.figure_format = 'retina'"
   ]
  },
  {
   "cell_type": "code",
   "execution_count": 2,
   "metadata": {},
   "outputs": [
    {
     "data": {
      "text/plain": [
       "['melon_trot_최신_스테디_가사.csv',\n",
       " 'melon_trot_최신_가사_인기순.csv',\n",
       " 'melon_trot_가사_최신_인기순.csv',\n",
       " 'melon_trot_가사_최신_인기순_4.csv',\n",
       " 'melon_trot_가사_최신_인기순_2.csv',\n",
       " 'melon_trot_가사_최신_인기순_3.csv']"
      ]
     },
     "execution_count": 2,
     "metadata": {},
     "output_type": "execute_result"
    }
   ],
   "source": [
    "song_list = glob.glob(\"*trot*\")\n",
    "song_list"
   ]
  },
  {
   "cell_type": "code",
   "execution_count": 3,
   "metadata": {},
   "outputs": [
    {
     "name": "stdout",
     "output_type": "stream",
     "text": [
      "melon_trot_최신_스테디_가사.csv  shape :  (397, 4)\n",
      "melon_trot_최신_가사_인기순.csv  shape :  (201, 4)\n",
      "melon_trot_가사_최신_인기순.csv  shape :  (2476, 4)\n",
      "melon_trot_가사_최신_인기순_4.csv  shape :  (1153, 4)\n",
      "melon_trot_가사_최신_인기순_2.csv  shape :  (462, 4)\n",
      "melon_trot_가사_최신_인기순_3.csv  shape :  (1165, 4)\n"
     ]
    }
   ],
   "source": [
    "songs = []\n",
    "for file_name in song_list:\n",
    "    df = pd.read_csv(file_name)\n",
    "    print(file_name, \" shape : \", df.shape)\n",
    "    songs.append(df)"
   ]
  },
  {
   "cell_type": "code",
   "execution_count": 6,
   "metadata": {},
   "outputs": [
    {
     "name": "stdout",
     "output_type": "stream",
     "text": [
      "(397, 3)\n",
      "(201, 3)\n",
      "(2476, 3)\n",
      "(1153, 3)\n",
      "(462, 3)\n",
      "(1165, 3)\n"
     ]
    }
   ],
   "source": [
    "# 컬럼 4개인애들 정리\n",
    "for i in songs:\n",
    "    i.drop(columns=\"Unnamed: 0\", inplace=True)\n",
    "    print(i.shape)"
   ]
  },
  {
   "cell_type": "code",
   "execution_count": 7,
   "metadata": {},
   "outputs": [
    {
     "name": "stdout",
     "output_type": "stream",
     "text": [
      "(5854, 3)\n"
     ]
    },
    {
     "data": {
      "text/html": [
       "<div>\n",
       "<style scoped>\n",
       "    .dataframe tbody tr th:only-of-type {\n",
       "        vertical-align: middle;\n",
       "    }\n",
       "\n",
       "    .dataframe tbody tr th {\n",
       "        vertical-align: top;\n",
       "    }\n",
       "\n",
       "    .dataframe thead th {\n",
       "        text-align: right;\n",
       "    }\n",
       "</style>\n",
       "<table border=\"1\" class=\"dataframe\">\n",
       "  <thead>\n",
       "    <tr style=\"text-align: right;\">\n",
       "      <th></th>\n",
       "      <th>제목</th>\n",
       "      <th>가사</th>\n",
       "      <th>장르</th>\n",
       "    </tr>\n",
       "  </thead>\n",
       "  <tbody>\n",
       "    <tr>\n",
       "      <th>1160</th>\n",
       "      <td>립스틱 짙게 바르고(신룡)</td>\n",
       "      <td>내일이면 잊으리 꼭 잊으리\\n립스틱 짙게 바르고\\n사랑이란 길지가 않더라\\n영원하지...</td>\n",
       "      <td>트로트</td>\n",
       "    </tr>\n",
       "    <tr>\n",
       "      <th>1161</th>\n",
       "      <td>9월의 노래</td>\n",
       "      <td>구월이 오는소리 다시 들으면\\n꽃잎이 피는 소리 꽃잎이 지는소리\\n가로수에 나무잎은...</td>\n",
       "      <td>트로트</td>\n",
       "    </tr>\n",
       "    <tr>\n",
       "      <th>1162</th>\n",
       "      <td>계절이 두번 바뀌면</td>\n",
       "      <td>달빛 아래에\\n젖은 그 모습은\\n안타까운 꽃 한송이\\n돌아서서 가는\\n그 모습은\\n...</td>\n",
       "      <td>트로트</td>\n",
       "    </tr>\n",
       "    <tr>\n",
       "      <th>1163</th>\n",
       "      <td>서울의 모정</td>\n",
       "      <td>희망의 새아침이 밝아오면은\\n\\n발걸음 가벼운 태양의 거리\\n\\n푸르른 하늘을 쳐다...</td>\n",
       "      <td>트로트</td>\n",
       "    </tr>\n",
       "    <tr>\n",
       "      <th>1164</th>\n",
       "      <td>석양길 나그네</td>\n",
       "      <td>흘러가는 저 뭉게 구름아\\n너 가는곳 어드메냐\\n갈곳없는 나그네 마음을\\n달래 볼길...</td>\n",
       "      <td>트로트</td>\n",
       "    </tr>\n",
       "  </tbody>\n",
       "</table>\n",
       "</div>"
      ],
      "text/plain": [
       "                  제목                                                 가사   장르\n",
       "1160  립스틱 짙게 바르고(신룡)  내일이면 잊으리 꼭 잊으리\\n립스틱 짙게 바르고\\n사랑이란 길지가 않더라\\n영원하지...  트로트\n",
       "1161          9월의 노래  구월이 오는소리 다시 들으면\\n꽃잎이 피는 소리 꽃잎이 지는소리\\n가로수에 나무잎은...  트로트\n",
       "1162      계절이 두번 바뀌면  달빛 아래에\\n젖은 그 모습은\\n안타까운 꽃 한송이\\n돌아서서 가는\\n그 모습은\\n...  트로트\n",
       "1163          서울의 모정  희망의 새아침이 밝아오면은\\n\\n발걸음 가벼운 태양의 거리\\n\\n푸르른 하늘을 쳐다...  트로트\n",
       "1164         석양길 나그네  흘러가는 저 뭉게 구름아\\n너 가는곳 어드메냐\\n갈곳없는 나그네 마음을\\n달래 볼길...  트로트"
      ]
     },
     "execution_count": 7,
     "metadata": {},
     "output_type": "execute_result"
    }
   ],
   "source": [
    "# 합치기\n",
    "all = pd.concat(songs)\n",
    "print(all.shape)\n",
    "all.tail()"
   ]
  },
  {
   "cell_type": "code",
   "execution_count": 8,
   "metadata": {},
   "outputs": [
    {
     "data": {
      "text/html": [
       "<div>\n",
       "<style scoped>\n",
       "    .dataframe tbody tr th:only-of-type {\n",
       "        vertical-align: middle;\n",
       "    }\n",
       "\n",
       "    .dataframe tbody tr th {\n",
       "        vertical-align: top;\n",
       "    }\n",
       "\n",
       "    .dataframe thead th {\n",
       "        text-align: right;\n",
       "    }\n",
       "</style>\n",
       "<table border=\"1\" class=\"dataframe\">\n",
       "  <thead>\n",
       "    <tr style=\"text-align: right;\">\n",
       "      <th></th>\n",
       "      <th>제목</th>\n",
       "      <th>가사</th>\n",
       "      <th>장르</th>\n",
       "    </tr>\n",
       "  </thead>\n",
       "  <tbody>\n",
       "    <tr>\n",
       "      <th>9</th>\n",
       "      <td>초혼</td>\n",
       "      <td>살아서는 갖지 못하는\\n그런 이름 하나 때문에\\n그리운 맘 눈물 속에\\n난 띄워 보...</td>\n",
       "      <td>트로트</td>\n",
       "    </tr>\n",
       "    <tr>\n",
       "      <th>17</th>\n",
       "      <td>사랑아</td>\n",
       "      <td>안돼요 안돼 날 두고 떠나면 안돼\\n그렇게 못해 난 절대 보낼 순 없어\\n갈테면 가...</td>\n",
       "      <td>트로트</td>\n",
       "    </tr>\n",
       "    <tr>\n",
       "      <th>41</th>\n",
       "      <td>남자는 말합니다</td>\n",
       "      <td>여행 갑시다\\n나의 여자여\\n하나 뿐인\\n나의 여자여\\n상처투성이\\n병이 들어 버린...</td>\n",
       "      <td>트로트</td>\n",
       "    </tr>\n",
       "    <tr>\n",
       "      <th>42</th>\n",
       "      <td>안동역에서</td>\n",
       "      <td>1.바람에 날려버린 허무한 맹세였나\\n\\n첫눈이 내리는 날 안동역 앞에서\\n\\n만나...</td>\n",
       "      <td>트로트</td>\n",
       "    </tr>\n",
       "    <tr>\n",
       "      <th>50</th>\n",
       "      <td>바람의 노래</td>\n",
       "      <td>살면서 듣게될까 언젠가는\\n바람에 노래를\\n세월가면 그때는 알게될까\\n꽃이지는 이유...</td>\n",
       "      <td>트로트</td>\n",
       "    </tr>\n",
       "    <tr>\n",
       "      <th>...</th>\n",
       "      <td>...</td>\n",
       "      <td>...</td>\n",
       "      <td>...</td>\n",
       "    </tr>\n",
       "    <tr>\n",
       "      <th>1015</th>\n",
       "      <td>님과 함께</td>\n",
       "      <td>저 푸른 초원위에 그림같은 집을 짓고\\n사랑하는 우리 님과 한 백년 살고 싶어\\n봄...</td>\n",
       "      <td>트로트</td>\n",
       "    </tr>\n",
       "    <tr>\n",
       "      <th>1018</th>\n",
       "      <td>여와 남</td>\n",
       "      <td>쉬운 만남 쉬운 이별은\\n바람처럼 바람처럼\\n나를 흔들고 지나가는데\\n너의 얼굴은 ...</td>\n",
       "      <td>트로트</td>\n",
       "    </tr>\n",
       "    <tr>\n",
       "      <th>1023</th>\n",
       "      <td>세월</td>\n",
       "      <td>외로운 이마음을\\n쓸쓸한 내마음을\\n달랠길이 없어\\n뜨거운 눈물이 두뺨을 적셔\\n외...</td>\n",
       "      <td>트로트</td>\n",
       "    </tr>\n",
       "    <tr>\n",
       "      <th>1066</th>\n",
       "      <td>굿이야</td>\n",
       "      <td>굿이야\\n베리베리 굿이야\\n난 홀딱 빠져버렸네\\n딱이야\\n자긴 정말 딱이야\\n선물같...</td>\n",
       "      <td>트로트</td>\n",
       "    </tr>\n",
       "    <tr>\n",
       "      <th>1154</th>\n",
       "      <td>미스고</td>\n",
       "      <td>미스고 미스고\\n나는 너를 사랑했었다\\n짧은 순간 내 가슴에 머물다 간\\n그 흔적 ...</td>\n",
       "      <td>트로트</td>\n",
       "    </tr>\n",
       "  </tbody>\n",
       "</table>\n",
       "<p>989 rows × 3 columns</p>\n",
       "</div>"
      ],
      "text/plain": [
       "            제목                                                 가사   장르\n",
       "9           초혼  살아서는 갖지 못하는\\n그런 이름 하나 때문에\\n그리운 맘 눈물 속에\\n난 띄워 보...  트로트\n",
       "17         사랑아  안돼요 안돼 날 두고 떠나면 안돼\\n그렇게 못해 난 절대 보낼 순 없어\\n갈테면 가...  트로트\n",
       "41    남자는 말합니다  여행 갑시다\\n나의 여자여\\n하나 뿐인\\n나의 여자여\\n상처투성이\\n병이 들어 버린...  트로트\n",
       "42       안동역에서  1.바람에 날려버린 허무한 맹세였나\\n\\n첫눈이 내리는 날 안동역 앞에서\\n\\n만나...  트로트\n",
       "50      바람의 노래  살면서 듣게될까 언젠가는\\n바람에 노래를\\n세월가면 그때는 알게될까\\n꽃이지는 이유...  트로트\n",
       "...        ...                                                ...  ...\n",
       "1015     님과 함께  저 푸른 초원위에 그림같은 집을 짓고\\n사랑하는 우리 님과 한 백년 살고 싶어\\n봄...  트로트\n",
       "1018      여와 남  쉬운 만남 쉬운 이별은\\n바람처럼 바람처럼\\n나를 흔들고 지나가는데\\n너의 얼굴은 ...  트로트\n",
       "1023        세월  외로운 이마음을\\n쓸쓸한 내마음을\\n달랠길이 없어\\n뜨거운 눈물이 두뺨을 적셔\\n외...  트로트\n",
       "1066       굿이야  굿이야\\n베리베리 굿이야\\n난 홀딱 빠져버렸네\\n딱이야\\n자긴 정말 딱이야\\n선물같...  트로트\n",
       "1154       미스고  미스고 미스고\\n나는 너를 사랑했었다\\n짧은 순간 내 가슴에 머물다 간\\n그 흔적 ...  트로트\n",
       "\n",
       "[989 rows x 3 columns]"
      ]
     },
     "execution_count": 8,
     "metadata": {},
     "output_type": "execute_result"
    }
   ],
   "source": [
    "# 중복데이터 확인\n",
    "all[all.duplicated(subset=[\"제목\", \"가사\"])]"
   ]
  },
  {
   "cell_type": "code",
   "execution_count": 9,
   "metadata": {},
   "outputs": [
    {
     "data": {
      "text/plain": [
       "(4865, 3)"
      ]
     },
     "execution_count": 9,
     "metadata": {},
     "output_type": "execute_result"
    }
   ],
   "source": [
    "all = all.drop_duplicates(subset=[\"제목\", \"가사\"])\n",
    "all.shape"
   ]
  },
  {
   "cell_type": "code",
   "execution_count": 10,
   "metadata": {},
   "outputs": [
    {
     "data": {
      "text/html": [
       "<div>\n",
       "<style scoped>\n",
       "    .dataframe tbody tr th:only-of-type {\n",
       "        vertical-align: middle;\n",
       "    }\n",
       "\n",
       "    .dataframe tbody tr th {\n",
       "        vertical-align: top;\n",
       "    }\n",
       "\n",
       "    .dataframe thead th {\n",
       "        text-align: right;\n",
       "    }\n",
       "</style>\n",
       "<table border=\"1\" class=\"dataframe\">\n",
       "  <thead>\n",
       "    <tr style=\"text-align: right;\">\n",
       "      <th></th>\n",
       "      <th>제목</th>\n",
       "      <th>가사</th>\n",
       "      <th>장르</th>\n",
       "    </tr>\n",
       "  </thead>\n",
       "  <tbody>\n",
       "    <tr>\n",
       "      <th>4860</th>\n",
       "      <td>립스틱 짙게 바르고(신룡)</td>\n",
       "      <td>내일이면 잊으리 꼭 잊으리\\n립스틱 짙게 바르고\\n사랑이란 길지가 않더라\\n영원하지...</td>\n",
       "      <td>트로트</td>\n",
       "    </tr>\n",
       "    <tr>\n",
       "      <th>4861</th>\n",
       "      <td>9월의 노래</td>\n",
       "      <td>구월이 오는소리 다시 들으면\\n꽃잎이 피는 소리 꽃잎이 지는소리\\n가로수에 나무잎은...</td>\n",
       "      <td>트로트</td>\n",
       "    </tr>\n",
       "    <tr>\n",
       "      <th>4862</th>\n",
       "      <td>계절이 두번 바뀌면</td>\n",
       "      <td>달빛 아래에\\n젖은 그 모습은\\n안타까운 꽃 한송이\\n돌아서서 가는\\n그 모습은\\n...</td>\n",
       "      <td>트로트</td>\n",
       "    </tr>\n",
       "    <tr>\n",
       "      <th>4863</th>\n",
       "      <td>서울의 모정</td>\n",
       "      <td>희망의 새아침이 밝아오면은\\n\\n발걸음 가벼운 태양의 거리\\n\\n푸르른 하늘을 쳐다...</td>\n",
       "      <td>트로트</td>\n",
       "    </tr>\n",
       "    <tr>\n",
       "      <th>4864</th>\n",
       "      <td>석양길 나그네</td>\n",
       "      <td>흘러가는 저 뭉게 구름아\\n너 가는곳 어드메냐\\n갈곳없는 나그네 마음을\\n달래 볼길...</td>\n",
       "      <td>트로트</td>\n",
       "    </tr>\n",
       "  </tbody>\n",
       "</table>\n",
       "</div>"
      ],
      "text/plain": [
       "                  제목                                                 가사   장르\n",
       "4860  립스틱 짙게 바르고(신룡)  내일이면 잊으리 꼭 잊으리\\n립스틱 짙게 바르고\\n사랑이란 길지가 않더라\\n영원하지...  트로트\n",
       "4861          9월의 노래  구월이 오는소리 다시 들으면\\n꽃잎이 피는 소리 꽃잎이 지는소리\\n가로수에 나무잎은...  트로트\n",
       "4862      계절이 두번 바뀌면  달빛 아래에\\n젖은 그 모습은\\n안타까운 꽃 한송이\\n돌아서서 가는\\n그 모습은\\n...  트로트\n",
       "4863          서울의 모정  희망의 새아침이 밝아오면은\\n\\n발걸음 가벼운 태양의 거리\\n\\n푸르른 하늘을 쳐다...  트로트\n",
       "4864         석양길 나그네  흘러가는 저 뭉게 구름아\\n너 가는곳 어드메냐\\n갈곳없는 나그네 마음을\\n달래 볼길...  트로트"
      ]
     },
     "execution_count": 10,
     "metadata": {},
     "output_type": "execute_result"
    }
   ],
   "source": [
    "all = all.reset_index(drop=True)\n",
    "all.tail()"
   ]
  },
  {
   "cell_type": "code",
   "execution_count": 11,
   "metadata": {},
   "outputs": [
    {
     "data": {
      "text/plain": [
       "트로트    4865\n",
       "Name: 장르, dtype: int64"
      ]
     },
     "execution_count": 11,
     "metadata": {},
     "output_type": "execute_result"
    }
   ],
   "source": [
    "all[\"장르\"].value_counts()"
   ]
  },
  {
   "cell_type": "code",
   "execution_count": 12,
   "metadata": {},
   "outputs": [
    {
     "data": {
      "image/png": "[encoded data removed]",
      "text/plain": [
       "<Figure size 640x480 with 1 Axes>"
      ]
     },
     "metadata": {
      "image/png": {
       "height": 430,
       "width": 578
      }
     },
     "output_type": "display_data"
    }
   ],
   "source": [
    "# 데이터 확인\n",
    "_ = sns.countplot(data=all, x=\"장르\")"
   ]
  },
  {
   "cell_type": "code",
   "execution_count": null,
   "metadata": {},
   "outputs": [],
   "source": [
    "all.to_csv('trot_total.csv', index=False)"
   ]
  },
  {
   "cell_type": "code",
   "execution_count": 55,
   "metadata": {},
   "outputs": [
    {
     "name": "stdout",
     "output_type": "stream",
     "text": [
      "<class 'pandas.core.frame.DataFrame'>\n",
      "RangeIndex: 46707 entries, 0 to 46706\n",
      "Data columns (total 3 columns):\n",
      " #   Column  Non-Null Count  Dtype \n",
      "---  ------  --------------  ----- \n",
      " 0   제목      46707 non-null  object\n",
      " 1   가사      46707 non-null  object\n",
      " 2   장르      46707 non-null  object\n",
      "dtypes: object(3)\n",
      "memory usage: 1.1+ MB\n"
     ]
    }
   ],
   "source": [
    "# 다운캐스트 하기\n",
    "all.info()"
   ]
  },
  {
   "cell_type": "code",
   "execution_count": 56,
   "metadata": {},
   "outputs": [],
   "source": [
    "all[\"장르\"] = all[\"장르\"].astype(\"category\")"
   ]
  },
  {
   "cell_type": "code",
   "execution_count": 57,
   "metadata": {},
   "outputs": [
    {
     "name": "stdout",
     "output_type": "stream",
     "text": [
      "<class 'pandas.core.frame.DataFrame'>\n",
      "RangeIndex: 46707 entries, 0 to 46706\n",
      "Data columns (total 3 columns):\n",
      " #   Column  Non-Null Count  Dtype   \n",
      "---  ------  --------------  -----   \n",
      " 0   제목      46707 non-null  object  \n",
      " 1   가사      46707 non-null  object  \n",
      " 2   장르      46707 non-null  category\n",
      "dtypes: category(1), object(2)\n",
      "memory usage: 775.7+ KB\n"
     ]
    }
   ],
   "source": [
    "all.info()"
   ]
  },
  {
   "cell_type": "code",
   "execution_count": 58,
   "metadata": {},
   "outputs": [],
   "source": [
    "# parquet 로 저장하기\n",
    "all.to_parquet(\"all_append_csv.gzip\", compression=\"gzip\")"
   ]
  },
  {
   "cell_type": "code",
   "execution_count": 59,
   "metadata": {},
   "outputs": [
    {
     "data": {
      "text/html": [
       "<div>\n",
       "<style scoped>\n",
       "    .dataframe tbody tr th:only-of-type {\n",
       "        vertical-align: middle;\n",
       "    }\n",
       "\n",
       "    .dataframe tbody tr th {\n",
       "        vertical-align: top;\n",
       "    }\n",
       "\n",
       "    .dataframe thead th {\n",
       "        text-align: right;\n",
       "    }\n",
       "</style>\n",
       "<table border=\"1\" class=\"dataframe\">\n",
       "  <thead>\n",
       "    <tr style=\"text-align: right;\">\n",
       "      <th></th>\n",
       "      <th>제목</th>\n",
       "      <th>가사</th>\n",
       "      <th>장르</th>\n",
       "    </tr>\n",
       "  </thead>\n",
       "  <tbody>\n",
       "    <tr>\n",
       "      <th>0</th>\n",
       "      <td>무지개 (Rainbow) (Feat. 조용휘)</td>\n",
       "      <td>동그랗고 하얀 이마\\n오똑한 반짝이는 코\\n다갈색 눈동자 옆 살짝 보이는 점까지\\n...</td>\n",
       "      <td>뮤지컬</td>\n",
       "    </tr>\n",
       "    <tr>\n",
       "      <th>1</th>\n",
       "      <td>나 주는 줄 알고 손 내밀었잖아</td>\n",
       "      <td>넌 밉고 난 쪽팔린다\\n뭘 이런 걸 다 사 왔어 할지\\n헉 뭐야 고마워 할지\\n아이...</td>\n",
       "      <td>뮤지컬</td>\n",
       "    </tr>\n",
       "    <tr>\n",
       "      <th>2</th>\n",
       "      <td>너와나</td>\n",
       "      <td>이 땅위에 태어나 비로소 여기 있네\\n우리 모두가 그리던 그 날\\n바라고 바라던 꿈...</td>\n",
       "      <td>뮤지컬</td>\n",
       "    </tr>\n",
       "    <tr>\n",
       "      <th>3</th>\n",
       "      <td>나만의 언어 rep.</td>\n",
       "      <td>(좋아)\\n나는 널 이렇게 부를게\\n(자유, 그래 자유)\\n난 너를 이렇게 부를래\\...</td>\n",
       "      <td>뮤지컬</td>\n",
       "    </tr>\n",
       "    <tr>\n",
       "      <th>4</th>\n",
       "      <td>여기는 엄마 컴퍼니</td>\n",
       "      <td>어떤 엄마를 원하십니까\\n원하는 엄마를 고를 수 있는\\n여기는 바로 바로 엄마컴퍼니...</td>\n",
       "      <td>뮤지컬</td>\n",
       "    </tr>\n",
       "    <tr>\n",
       "      <th>...</th>\n",
       "      <td>...</td>\n",
       "      <td>...</td>\n",
       "      <td>...</td>\n",
       "    </tr>\n",
       "    <tr>\n",
       "      <th>46702</th>\n",
       "      <td>하루살이</td>\n",
       "      <td>저 멀리 희미하게\\r\\n반짝이는 빛이 보이네\\r\\n난 어둠을 피하려는 하루살이\\r\\...</td>\n",
       "      <td>힙합</td>\n",
       "    </tr>\n",
       "    <tr>\n",
       "      <th>46703</th>\n",
       "      <td>Sniper Sound</td>\n",
       "      <td>Double S Oh\\r\\nDouble S Oh\\r\\nDouble S Oh\\r\\ny...</td>\n",
       "      <td>힙합</td>\n",
       "    </tr>\n",
       "    <tr>\n",
       "      <th>46704</th>\n",
       "      <td>내 곁에 살게 하고 싶어서 (Feat. 서령)</td>\n",
       "      <td>아직도 내겐 눈물이 많아서\\r\\n니 사진 다시\\r\\n꺼내지도 못해 난\\r\\n세상엔 ...</td>\n",
       "      <td>힙합</td>\n",
       "    </tr>\n",
       "    <tr>\n",
       "      <th>46705</th>\n",
       "      <td>It's True (Feat. 백지영)</td>\n",
       "      <td>꿈이 아니길 바랬어 Oh\\r\\n그녀가 내게 말했어\\r\\n꿈이 아니길 바랬어\\r\\n어...</td>\n",
       "      <td>힙합</td>\n",
       "    </tr>\n",
       "    <tr>\n",
       "      <th>46706</th>\n",
       "      <td>그대만이 그대니라</td>\n",
       "      <td>그대만이 그대니라\\r\\n\\r\\nUh Yeah 그대는 어디 Uh Yeah 난 지금 여...</td>\n",
       "      <td>힙합</td>\n",
       "    </tr>\n",
       "  </tbody>\n",
       "</table>\n",
       "<p>46707 rows × 3 columns</p>\n",
       "</div>"
      ],
      "text/plain": [
       "                              제목  \\\n",
       "0      무지개 (Rainbow) (Feat. 조용휘)   \n",
       "1              나 주는 줄 알고 손 내밀었잖아   \n",
       "2                            너와나   \n",
       "3                    나만의 언어 rep.   \n",
       "4                     여기는 엄마 컴퍼니   \n",
       "...                          ...   \n",
       "46702                       하루살이   \n",
       "46703               Sniper Sound   \n",
       "46704  내 곁에 살게 하고 싶어서 (Feat. 서령)   \n",
       "46705      It's True (Feat. 백지영)   \n",
       "46706                  그대만이 그대니라   \n",
       "\n",
       "                                                      가사   장르  \n",
       "0      동그랗고 하얀 이마\\n오똑한 반짝이는 코\\n다갈색 눈동자 옆 살짝 보이는 점까지\\n...  뮤지컬  \n",
       "1      넌 밉고 난 쪽팔린다\\n뭘 이런 걸 다 사 왔어 할지\\n헉 뭐야 고마워 할지\\n아이...  뮤지컬  \n",
       "2      이 땅위에 태어나 비로소 여기 있네\\n우리 모두가 그리던 그 날\\n바라고 바라던 꿈...  뮤지컬  \n",
       "3      (좋아)\\n나는 널 이렇게 부를게\\n(자유, 그래 자유)\\n난 너를 이렇게 부를래\\...  뮤지컬  \n",
       "4      어떤 엄마를 원하십니까\\n원하는 엄마를 고를 수 있는\\n여기는 바로 바로 엄마컴퍼니...  뮤지컬  \n",
       "...                                                  ...  ...  \n",
       "46702  저 멀리 희미하게\\r\\n반짝이는 빛이 보이네\\r\\n난 어둠을 피하려는 하루살이\\r\\...   힙합  \n",
       "46703  Double S Oh\\r\\nDouble S Oh\\r\\nDouble S Oh\\r\\ny...   힙합  \n",
       "46704  아직도 내겐 눈물이 많아서\\r\\n니 사진 다시\\r\\n꺼내지도 못해 난\\r\\n세상엔 ...   힙합  \n",
       "46705  꿈이 아니길 바랬어 Oh\\r\\n그녀가 내게 말했어\\r\\n꿈이 아니길 바랬어\\r\\n어...   힙합  \n",
       "46706  그대만이 그대니라\\r\\n\\r\\nUh Yeah 그대는 어디 Uh Yeah 난 지금 여...   힙합  \n",
       "\n",
       "[46707 rows x 3 columns]"
      ]
     },
     "execution_count": 59,
     "metadata": {},
     "output_type": "execute_result"
    }
   ],
   "source": [
    "pd.read_parquet(\"all_append_csv.gzip\")"
   ]
  }
 ],
 "metadata": {
  "kernelspec": {
   "display_name": "base",
   "language": "python",
   "name": "python3"
  },
  "language_info": {
   "codemirror_mode": {
    "name": "ipython",
    "version": 3
   },
   "file_extension": ".py",
   "mimetype": "text/x-python",
   "name": "python",
   "nbconvert_exporter": "python",
   "pygments_lexer": "ipython3",
   "version": "3.9.15"
  },
  "orig_nbformat": 4,
  "vscode": {
   "interpreter": {
    "hash": "8f807fda92f20a86fe0cf9a7fb20f5cc46478756bf29c3db068708b68d71bcd3"
   }
  }
 },
 "nbformat": 4,
 "nbformat_minor": 2
}
