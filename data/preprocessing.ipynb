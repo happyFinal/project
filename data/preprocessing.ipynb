{
 "cells": [
  {
   "cell_type": "code",
   "execution_count": 27,
   "metadata": {},
   "outputs": [],
   "source": [
    "import pandas as pd\n",
    "import numpy as np"
   ]
  },
  {
   "cell_type": "code",
   "execution_count": 33,
   "metadata": {},
   "outputs": [],
   "source": [
    "import os\n",
    "\n",
    "path = './data/'\n",
    "file_list = os.listdir(path)\n",
    "file_list_py = [file for file in file_list if file.endswith('.csv')] "
   ]
  },
  {
   "cell_type": "code",
   "execution_count": 34,
   "metadata": {},
   "outputs": [],
   "source": [
    "## csv 파일들을 DataFrame으로 불러와서 concat\n",
    "\n",
    "df = pd.DataFrame()\n",
    "for i in file_list_py:\n",
    "    data = pd.read_csv(path + i)\n",
    "    df = pd.concat([df,data])\n",
    "    \n",
    "df = df.reset_index(drop = True)"
   ]
  },
  {
   "cell_type": "code",
   "execution_count": 35,
   "metadata": {},
   "outputs": [],
   "source": [
    "df = df.drop(['Unnamed: 0'], axis=1)"
   ]
  },
  {
   "cell_type": "code",
   "execution_count": 36,
   "metadata": {},
   "outputs": [
    {
     "data": {
      "text/html": [
       "<div>\n",
       "<style scoped>\n",
       "    .dataframe tbody tr th:only-of-type {\n",
       "        vertical-align: middle;\n",
       "    }\n",
       "\n",
       "    .dataframe tbody tr th {\n",
       "        vertical-align: top;\n",
       "    }\n",
       "\n",
       "    .dataframe thead th {\n",
       "        text-align: right;\n",
       "    }\n",
       "</style>\n",
       "<table border=\"1\" class=\"dataframe\">\n",
       "  <thead>\n",
       "    <tr style=\"text-align: right;\">\n",
       "      <th></th>\n",
       "      <th>제목</th>\n",
       "      <th>가사</th>\n",
       "      <th>장르</th>\n",
       "    </tr>\n",
       "  </thead>\n",
       "  <tbody>\n",
       "    <tr>\n",
       "      <th>0</th>\n",
       "      <td>초혼</td>\n",
       "      <td>살아서는 갖지 못하는\\n그런 이름 하나 때문에\\n그리운 맘 눈물 속에\\n난 띄워 보...</td>\n",
       "      <td>트로트</td>\n",
       "    </tr>\n",
       "    <tr>\n",
       "      <th>1</th>\n",
       "      <td>사랑아</td>\n",
       "      <td>안돼요 안돼 날 두고 떠나면 안돼\\n그렇게 못해 난 절대 보낼 순 없어\\n갈테면 가...</td>\n",
       "      <td>트로트</td>\n",
       "    </tr>\n",
       "    <tr>\n",
       "      <th>2</th>\n",
       "      <td>안동역에서</td>\n",
       "      <td>1.바람에 날려버린 허무한 맹세였나\\n\\n첫눈이 내리는 날 안동역 앞에서\\n\\n만나...</td>\n",
       "      <td>트로트</td>\n",
       "    </tr>\n",
       "    <tr>\n",
       "      <th>3</th>\n",
       "      <td>보릿고개</td>\n",
       "      <td>아야\\n뛰지마라\\n배 꺼질라\\n가슴시린 보릿고갯길\\n주린 배잡고\\n물 한바가지\\n배...</td>\n",
       "      <td>트로트</td>\n",
       "    </tr>\n",
       "    <tr>\n",
       "      <th>4</th>\n",
       "      <td>꽃</td>\n",
       "      <td>날 찾아 오신 내님 어서 오세요\\n당신을 기다렸어요\\n라이 라이야\\n어서오세요 당신...</td>\n",
       "      <td>트로트</td>\n",
       "    </tr>\n",
       "    <tr>\n",
       "      <th>...</th>\n",
       "      <td>...</td>\n",
       "      <td>...</td>\n",
       "      <td>...</td>\n",
       "    </tr>\n",
       "    <tr>\n",
       "      <th>16630</th>\n",
       "      <td>데미안</td>\n",
       "      <td>새들이 날아오를 때\\n그리운 곳에서부터\\n바람이 불어오고\\n문득 고개를 들어\\n저 ...</td>\n",
       "      <td>포크블루스</td>\n",
       "    </tr>\n",
       "    <tr>\n",
       "      <th>16634</th>\n",
       "      <td>슬픈 그림 같은 사랑</td>\n",
       "      <td>안녕이라는 말대신\\n그대 창에 커텐을 내려도\\n너와 나 사랑했던 추억의\\n커텐만을 ...</td>\n",
       "      <td>포크블루스</td>\n",
       "    </tr>\n",
       "    <tr>\n",
       "      <th>16636</th>\n",
       "      <td>너 그리고 너 (Feat. 유승우)</td>\n",
       "      <td>드라마에서 흔히 나오는\\n뻔한 사랑 이야기\\n왜 자꾸 눈에서\\n눈물이 흘러나오는 걸...</td>\n",
       "      <td>포크블루스</td>\n",
       "    </tr>\n",
       "    <tr>\n",
       "      <th>16643</th>\n",
       "      <td>호흡과다</td>\n",
       "      <td>힘내라는 말에 왠지\\n기운이 빠지는 때가 있지\\n너는 알겠지\\n신경 쓰지 말란 말에...</td>\n",
       "      <td>포크블루스</td>\n",
       "    </tr>\n",
       "    <tr>\n",
       "      <th>16647</th>\n",
       "      <td>헤픈 남자</td>\n",
       "      <td>Style은 참 좋아요\\n미소는 녹아요\\n가벼운 농담마저\\n매너있게 하네요\\n반지는...</td>\n",
       "      <td>포크블루스</td>\n",
       "    </tr>\n",
       "  </tbody>\n",
       "</table>\n",
       "<p>13724 rows × 3 columns</p>\n",
       "</div>"
      ],
      "text/plain": [
       "                        제목                                                 가사  \\\n",
       "0                       초혼  살아서는 갖지 못하는\\n그런 이름 하나 때문에\\n그리운 맘 눈물 속에\\n난 띄워 보...   \n",
       "1                      사랑아  안돼요 안돼 날 두고 떠나면 안돼\\n그렇게 못해 난 절대 보낼 순 없어\\n갈테면 가...   \n",
       "2                    안동역에서  1.바람에 날려버린 허무한 맹세였나\\n\\n첫눈이 내리는 날 안동역 앞에서\\n\\n만나...   \n",
       "3                     보릿고개  아야\\n뛰지마라\\n배 꺼질라\\n가슴시린 보릿고갯길\\n주린 배잡고\\n물 한바가지\\n배...   \n",
       "4                        꽃  날 찾아 오신 내님 어서 오세요\\n당신을 기다렸어요\\n라이 라이야\\n어서오세요 당신...   \n",
       "...                    ...                                                ...   \n",
       "16630                  데미안  새들이 날아오를 때\\n그리운 곳에서부터\\n바람이 불어오고\\n문득 고개를 들어\\n저 ...   \n",
       "16634          슬픈 그림 같은 사랑  안녕이라는 말대신\\n그대 창에 커텐을 내려도\\n너와 나 사랑했던 추억의\\n커텐만을 ...   \n",
       "16636  너 그리고 너 (Feat. 유승우)  드라마에서 흔히 나오는\\n뻔한 사랑 이야기\\n왜 자꾸 눈에서\\n눈물이 흘러나오는 걸...   \n",
       "16643                 호흡과다  힘내라는 말에 왠지\\n기운이 빠지는 때가 있지\\n너는 알겠지\\n신경 쓰지 말란 말에...   \n",
       "16647                헤픈 남자  Style은 참 좋아요\\n미소는 녹아요\\n가벼운 농담마저\\n매너있게 하네요\\n반지는...   \n",
       "\n",
       "          장르  \n",
       "0        트로트  \n",
       "1        트로트  \n",
       "2        트로트  \n",
       "3        트로트  \n",
       "4        트로트  \n",
       "...      ...  \n",
       "16630  포크블루스  \n",
       "16634  포크블루스  \n",
       "16636  포크블루스  \n",
       "16643  포크블루스  \n",
       "16647  포크블루스  \n",
       "\n",
       "[13724 rows x 3 columns]"
      ]
     },
     "execution_count": 36,
     "metadata": {},
     "output_type": "execute_result"
    }
   ],
   "source": [
    "df.drop_duplicates()"
   ]
  },
  {
   "cell_type": "code",
   "execution_count": 37,
   "metadata": {},
   "outputs": [
    {
     "data": {
      "text/plain": [
       "0        살아서는 갖지 못하는.그런 이름 하나 때문에.그리운 맘 눈물 속에.난 띄워 보낼 뿐...\n",
       "1        안돼요 안돼 날 두고 떠나면 안돼.그렇게 못해 난 절대 보낼 순 없어.갈테면 가라 ...\n",
       "2        1.바람에 날려버린 허무한 맹세였나..첫눈이 내리는 날 안동역 앞에서..만나자고 약...\n",
       "3        아야.뛰지마라.배 꺼질라.가슴시린 보릿고갯길.주린 배잡고.물 한바가지.배 채우시던....\n",
       "4        날 찾아 오신 내님 어서 오세요.당신을 기다렸어요.라이 라이야.어서오세요 당신의 꽃...\n",
       "                               ...                        \n",
       "16648    요즘 내가 겁이 많아진 것도.자꾸만 의기소침해 지는 것도.나보다 따뜻한 사람을 만나...\n",
       "16649    사람들 사이에서 아닌척하며.날 보는 네 눈빛을 알고있었어.혹시나 부끄럼을 타는 거라...\n",
       "16650    아차 지금이.몇신가요.어머 이건.꼭 사야 돼 그죠.9시를 기다려.클릭 클릭.뭐가 그...\n",
       "16651    창문을 닫아도 계절은 오고.두 눈을 감아도 진달래는 붉고.긴 꿈에 헤매도 아침은 오...\n",
       "16652    얼마나 기다려 온.순간인데.이 노래를 부르는 날.나를 알아봐줘서.여기 있어서.그저 ...\n",
       "Name: 가사, Length: 16653, dtype: object"
      ]
     },
     "execution_count": 37,
     "metadata": {},
     "output_type": "execute_result"
    }
   ],
   "source": [
    "import re\n",
    "\n",
    "df[\"가사\"].map(lambda x: re.sub(\"[\\n]\", \".\", x))"
   ]
  },
  {
   "cell_type": "code",
   "execution_count": 39,
   "metadata": {},
   "outputs": [],
   "source": [
    "df['가사']=df['가사'].str.replace(pat=r'[a-zA-Z]+', repl= r'', regex=True)"
   ]
  },
  {
   "cell_type": "code",
   "execution_count": 42,
   "metadata": {},
   "outputs": [],
   "source": [
    "df.to_csv(\"melon__가사_all_2.csv\")"
   ]
  },
  {
   "cell_type": "code",
   "execution_count": null,
   "metadata": {},
   "outputs": [],
   "source": []
  }
 ],
 "metadata": {
  "kernelspec": {
   "display_name": "mlenv",
   "language": "python",
   "name": "python3"
  },
  "language_info": {
   "codemirror_mode": {
    "name": "ipython",
    "version": 3
   },
   "file_extension": ".py",
   "mimetype": "text/x-python",
   "name": "python",
   "nbconvert_exporter": "python",
   "pygments_lexer": "ipython3",
   "version": "3.10.8"
  },
  "orig_nbformat": 4,
  "vscode": {
   "interpreter": {
    "hash": "7d6adbe19a016996c5777b67f2d84eabea68403cc8d8dc892a98925bd3d3422a"
   }
  }
 },
 "nbformat": 4,
 "nbformat_minor": 2
}
