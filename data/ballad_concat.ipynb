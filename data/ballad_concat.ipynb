{
 "cells": [
  {
   "cell_type": "markdown",
   "id": "8a44116a",
   "metadata": {},
   "source": [
    "# 발라드 인기순 데이터 concat"
   ]
  },
  {
   "cell_type": "code",
   "execution_count": 1,
   "id": "9afea511",
   "metadata": {},
   "outputs": [],
   "source": [
    "# 라이브러리 로드\n",
    "import pandas as pd\n",
    "from glob import glob"
   ]
  },
  {
   "cell_type": "code",
   "execution_count": 2,
   "id": "49ab0a58",
   "metadata": {},
   "outputs": [
    {
     "data": {
      "text/plain": [
       "['data_ballad\\\\melon_ballad_15001_24500.csv',\n",
       " 'data_ballad\\\\melon_ballad_1_15000.csv',\n",
       " 'data_ballad\\\\melon_ballad_24501_29500.csv',\n",
       " 'data_ballad\\\\melon_ballad_30001_40000.csv',\n",
       " 'data_ballad\\\\melon_ballad_40001_50000.csv',\n",
       " 'data_ballad\\\\melon_ballad_50001_55000.csv',\n",
       " 'data_ballad\\\\melon_ballad_56001_60000.csv',\n",
       " 'data_ballad\\\\melon_ballad_70001_73000.csv',\n",
       " 'data_ballad\\\\melon_ballad_73001_75000.csv']"
      ]
     },
     "execution_count": 2,
     "metadata": {},
     "output_type": "execute_result"
    }
   ],
   "source": [
    "# 데이터 확인\n",
    "root_dir = \"data_ballad\"\n",
    "\n",
    "song_list = glob(f\"{root_dir}/*.csv\")\n",
    "song_list"
   ]
  },
  {
   "cell_type": "code",
   "execution_count": 3,
   "id": "2d0879b0",
   "metadata": {},
   "outputs": [
    {
     "name": "stdout",
     "output_type": "stream",
     "text": [
      "data_ballad\\melon_ballad_15001_24500.csv  shape :  (8145, 6)\n",
      "행 합계 :  8145\n",
      "data_ballad\\melon_ballad_1_15000.csv  shape :  (13346, 6)\n",
      "행 합계 :  21491\n",
      "data_ballad\\melon_ballad_24501_29500.csv  shape :  (4290, 6)\n",
      "행 합계 :  25781\n",
      "data_ballad\\melon_ballad_30001_40000.csv  shape :  (8440, 6)\n",
      "행 합계 :  34221\n",
      "data_ballad\\melon_ballad_40001_50000.csv  shape :  (9181, 6)\n",
      "행 합계 :  43402\n",
      "data_ballad\\melon_ballad_50001_55000.csv  shape :  (5273, 6)\n",
      "행 합계 :  48675\n",
      "data_ballad\\melon_ballad_56001_60000.csv  shape :  (2861, 6)\n",
      "행 합계 :  51536\n",
      "data_ballad\\melon_ballad_70001_73000.csv  shape :  (2241, 6)\n",
      "행 합계 :  53777\n",
      "data_ballad\\melon_ballad_73001_75000.csv  shape :  (1589, 6)\n",
      "행 합계 :  55366\n"
     ]
    }
   ],
   "source": [
    "# 리스트 형태로 담아서 concat\n",
    "songs = []\n",
    "raw = 0\n",
    "for file_name in song_list:\n",
    "    df = pd.read_csv(file_name)\n",
    "    raw += df.shape[0]\n",
    "    print(file_name, \" shape : \", df.shape)\n",
    "    print(\"행 합계 : \", raw)\n",
    "    songs.append(df)"
   ]
  },
  {
   "cell_type": "code",
   "execution_count": 4,
   "id": "19f8ee4a",
   "metadata": {},
   "outputs": [
    {
     "data": {
      "text/html": [
       "<div>\n",
       "<style scoped>\n",
       "    .dataframe tbody tr th:only-of-type {\n",
       "        vertical-align: middle;\n",
       "    }\n",
       "\n",
       "    .dataframe tbody tr th {\n",
       "        vertical-align: top;\n",
       "    }\n",
       "\n",
       "    .dataframe thead th {\n",
       "        text-align: right;\n",
       "    }\n",
       "</style>\n",
       "<table border=\"1\" class=\"dataframe\">\n",
       "  <thead>\n",
       "    <tr style=\"text-align: right;\">\n",
       "      <th></th>\n",
       "      <th>제목</th>\n",
       "      <th>가사</th>\n",
       "      <th>가수</th>\n",
       "      <th>발매일</th>\n",
       "      <th>좋아요수</th>\n",
       "      <th>장르</th>\n",
       "    </tr>\n",
       "  </thead>\n",
       "  <tbody>\n",
       "    <tr>\n",
       "      <th>0</th>\n",
       "      <td>Remember</td>\n",
       "      <td>다시는 그 때로\\r\\n돌아갈 순 없나봐\\r\\n너무 먼 길을\\r\\n온 것만 같아\\r\\...</td>\n",
       "      <td>가비엔제이</td>\n",
       "      <td>2008.02.21</td>\n",
       "      <td>976</td>\n",
       "      <td>발라드, 국내영화</td>\n",
       "    </tr>\n",
       "    <tr>\n",
       "      <th>1</th>\n",
       "      <td>꿈의 시간들</td>\n",
       "      <td>수많은 방황을 지나\\r\\n난 눈을 뜬거야\\r\\n내 길이 여기에\\r\\n눈 앞이 흐려져...</td>\n",
       "      <td>테이</td>\n",
       "      <td>2008.06.17</td>\n",
       "      <td>582</td>\n",
       "      <td>발라드, 국내드라마</td>\n",
       "    </tr>\n",
       "  </tbody>\n",
       "</table>\n",
       "</div>"
      ],
      "text/plain": [
       "         제목                                                 가사     가수  \\\n",
       "0  Remember  다시는 그 때로\\r\\n돌아갈 순 없나봐\\r\\n너무 먼 길을\\r\\n온 것만 같아\\r\\...  가비엔제이   \n",
       "1    꿈의 시간들  수많은 방황을 지나\\r\\n난 눈을 뜬거야\\r\\n내 길이 여기에\\r\\n눈 앞이 흐려져...     테이   \n",
       "\n",
       "          발매일 좋아요수          장르  \n",
       "0  2008.02.21  976   발라드, 국내영화  \n",
       "1  2008.06.17  582  발라드, 국내드라마  "
      ]
     },
     "metadata": {},
     "output_type": "display_data"
    },
    {
     "data": {
      "text/plain": [
       "(55366, 6)"
      ]
     },
     "execution_count": 4,
     "metadata": {},
     "output_type": "execute_result"
    }
   ],
   "source": [
    "# concat\n",
    "df_all = pd.concat(songs)\n",
    "display(df_all.head(2))\n",
    "df_all.shape"
   ]
  },
  {
   "cell_type": "code",
   "execution_count": 5,
   "id": "092f864d",
   "metadata": {},
   "outputs": [],
   "source": [
    "# 좋아요수 uint32 downcast\n",
    "df_all[\"좋아요수\"] = df_all[\"좋아요수\"].str.replace(\",\", \"\")\n",
    "df_all[\"좋아요수\"] = df_all[\"좋아요수\"].astype(\"uint32\")"
   ]
  },
  {
   "cell_type": "code",
   "execution_count": 6,
   "id": "7a8e7910",
   "metadata": {},
   "outputs": [
    {
     "name": "stdout",
     "output_type": "stream",
     "text": [
      "<class 'pandas.core.frame.DataFrame'>\n",
      "Int64Index: 55366 entries, 0 to 1588\n",
      "Data columns (total 6 columns):\n",
      " #   Column  Non-Null Count  Dtype \n",
      "---  ------  --------------  ----- \n",
      " 0   제목      55366 non-null  object\n",
      " 1   가사      55366 non-null  object\n",
      " 2   가수      55366 non-null  object\n",
      " 3   발매일     55366 non-null  object\n",
      " 4   좋아요수    55366 non-null  uint32\n",
      " 5   장르      55366 non-null  object\n",
      "dtypes: object(5), uint32(1)\n",
      "memory usage: 2.7+ MB\n"
     ]
    }
   ],
   "source": [
    "# 메모리 용량이 그렇게 크지 않기 때문에 문자열은 그냥 놔뒀음\n",
    "df_all.info()"
   ]
  },
  {
   "cell_type": "code",
   "execution_count": 7,
   "id": "048422e5",
   "metadata": {},
   "outputs": [
    {
     "data": {
      "text/html": [
       "<div>\n",
       "<style scoped>\n",
       "    .dataframe tbody tr th:only-of-type {\n",
       "        vertical-align: middle;\n",
       "    }\n",
       "\n",
       "    .dataframe tbody tr th {\n",
       "        vertical-align: top;\n",
       "    }\n",
       "\n",
       "    .dataframe thead th {\n",
       "        text-align: right;\n",
       "    }\n",
       "</style>\n",
       "<table border=\"1\" class=\"dataframe\">\n",
       "  <thead>\n",
       "    <tr style=\"text-align: right;\">\n",
       "      <th></th>\n",
       "      <th>제목</th>\n",
       "      <th>가사</th>\n",
       "      <th>가수</th>\n",
       "      <th>발매일</th>\n",
       "      <th>좋아요수</th>\n",
       "      <th>장르</th>\n",
       "    </tr>\n",
       "  </thead>\n",
       "  <tbody>\n",
       "    <tr>\n",
       "      <th>18</th>\n",
       "      <td>모든 날, 모든 순간 (Every day, Every Moment)</td>\n",
       "      <td>네가 없이 웃을 수 있을까\\r\\n생각만 해도 눈물이나\\r\\n힘든 시간 날 지켜준 사...</td>\n",
       "      <td>폴킴</td>\n",
       "      <td>2018.03.20</td>\n",
       "      <td>411881</td>\n",
       "      <td>발라드, 국내드라마</td>\n",
       "    </tr>\n",
       "    <tr>\n",
       "      <th>41</th>\n",
       "      <td>어떻게 이별까지 사랑하겠어, 널 사랑하는 거지</td>\n",
       "      <td>일부러 몇 발자국 물러나\\r\\n내가 없이 혼자 걷는 널 바라본다\\r\\n옆자리 허전한...</td>\n",
       "      <td>AKMU (악뮤)</td>\n",
       "      <td>2019.09.25</td>\n",
       "      <td>396470</td>\n",
       "      <td>발라드</td>\n",
       "    </tr>\n",
       "    <tr>\n",
       "      <th>102</th>\n",
       "      <td>좋니</td>\n",
       "      <td>이제 괜찮니 너무 힘들었잖아\\r\\n우리 그 마무리가 고작 이별뿐인 건데\\r\\n우린 ...</td>\n",
       "      <td>윤종신</td>\n",
       "      <td>2017.06.22</td>\n",
       "      <td>357019</td>\n",
       "      <td>발라드</td>\n",
       "    </tr>\n",
       "    <tr>\n",
       "      <th>1</th>\n",
       "      <td>너의 모든 순간</td>\n",
       "      <td>이윽고 내가 한눈에\\r\\n너를 알아봤을 때\\r\\n모든 건 분명 달라지고 있었어\\r\\...</td>\n",
       "      <td>성시경</td>\n",
       "      <td>2014.02.12</td>\n",
       "      <td>243092</td>\n",
       "      <td>발라드, 국내드라마</td>\n",
       "    </tr>\n",
       "    <tr>\n",
       "      <th>129</th>\n",
       "      <td>이 소설의 끝을 다시 써보려 해</td>\n",
       "      <td>시계가 반대로 돌아가고 있어\\r\\nTV속 영화가 되감아지고 있어\\r\\n내렸던 빗물이...</td>\n",
       "      <td>한동근</td>\n",
       "      <td>2014.09.30</td>\n",
       "      <td>233982</td>\n",
       "      <td>발라드</td>\n",
       "    </tr>\n",
       "    <tr>\n",
       "      <th>...</th>\n",
       "      <td>...</td>\n",
       "      <td>...</td>\n",
       "      <td>...</td>\n",
       "      <td>...</td>\n",
       "      <td>...</td>\n",
       "      <td>...</td>\n",
       "    </tr>\n",
       "    <tr>\n",
       "      <th>511</th>\n",
       "      <td>부르고 부르다</td>\n",
       "      <td>참 많이 그리워 했어\\r\\n너를 그날 이후로\\r\\n한번은 볼수있을까\\r\\n너를너무 ...</td>\n",
       "      <td>박현웅</td>\n",
       "      <td>2022.11.01</td>\n",
       "      <td>0</td>\n",
       "      <td>발라드, 인디음악</td>\n",
       "    </tr>\n",
       "    <tr>\n",
       "      <th>561</th>\n",
       "      <td>첫사랑</td>\n",
       "      <td>어렴풋이 너의 얼굴이\\r\\n내 맘속에 떠오르는데\\r\\n자꾸만 왜 이럴까 내 맘을 모...</td>\n",
       "      <td>서정소곡</td>\n",
       "      <td>2022.11.01</td>\n",
       "      <td>0</td>\n",
       "      <td>발라드</td>\n",
       "    </tr>\n",
       "    <tr>\n",
       "      <th>516</th>\n",
       "      <td>안될 것 같다고</td>\n",
       "      <td>화담숲 가을 끝자락 낙엽이\\r\\n거의 떨어지던 때에\\r\\n많은 사람 속 너밖에 안보...</td>\n",
       "      <td>전상훈</td>\n",
       "      <td>2022.09.22</td>\n",
       "      <td>0</td>\n",
       "      <td>발라드</td>\n",
       "    </tr>\n",
       "    <tr>\n",
       "      <th>4588</th>\n",
       "      <td>두사람</td>\n",
       "      <td>지친 하루가 가고\\r\\n달빛 아래 두 사람\\r\\n하나의 그림자\\r\\n눈 감으면 잡힐...</td>\n",
       "      <td>SURAN (수란)</td>\n",
       "      <td>2020.04.08</td>\n",
       "      <td>0</td>\n",
       "      <td>발라드, 국내드라마</td>\n",
       "    </tr>\n",
       "    <tr>\n",
       "      <th>4086</th>\n",
       "      <td>See You Again (Feat. 리처드 용재 오닐)</td>\n",
       "      <td>See your eyes\\r\\nSee your face\\r\\n자꾸 가슴이 뛰어서\\r...</td>\n",
       "      <td>백지영</td>\n",
       "      <td>2018.09.02</td>\n",
       "      <td>0</td>\n",
       "      <td>발라드, 국내드라마</td>\n",
       "    </tr>\n",
       "  </tbody>\n",
       "</table>\n",
       "<p>12095 rows × 6 columns</p>\n",
       "</div>"
      ],
      "text/plain": [
       "                                         제목  \\\n",
       "18    모든 날, 모든 순간 (Every day, Every Moment)   \n",
       "41                어떻게 이별까지 사랑하겠어, 널 사랑하는 거지   \n",
       "102                                      좋니   \n",
       "1                                  너의 모든 순간   \n",
       "129                       이 소설의 끝을 다시 써보려 해   \n",
       "...                                     ...   \n",
       "511                                 부르고 부르다   \n",
       "561                                     첫사랑   \n",
       "516                                안될 것 같다고   \n",
       "4588                                    두사람   \n",
       "4086        See You Again (Feat. 리처드 용재 오닐)   \n",
       "\n",
       "                                                     가사          가수  \\\n",
       "18    네가 없이 웃을 수 있을까\\r\\n생각만 해도 눈물이나\\r\\n힘든 시간 날 지켜준 사...          폴킴   \n",
       "41    일부러 몇 발자국 물러나\\r\\n내가 없이 혼자 걷는 널 바라본다\\r\\n옆자리 허전한...   AKMU (악뮤)   \n",
       "102   이제 괜찮니 너무 힘들었잖아\\r\\n우리 그 마무리가 고작 이별뿐인 건데\\r\\n우린 ...         윤종신   \n",
       "1     이윽고 내가 한눈에\\r\\n너를 알아봤을 때\\r\\n모든 건 분명 달라지고 있었어\\r\\...         성시경   \n",
       "129   시계가 반대로 돌아가고 있어\\r\\nTV속 영화가 되감아지고 있어\\r\\n내렸던 빗물이...         한동근   \n",
       "...                                                 ...         ...   \n",
       "511   참 많이 그리워 했어\\r\\n너를 그날 이후로\\r\\n한번은 볼수있을까\\r\\n너를너무 ...         박현웅   \n",
       "561   어렴풋이 너의 얼굴이\\r\\n내 맘속에 떠오르는데\\r\\n자꾸만 왜 이럴까 내 맘을 모...        서정소곡   \n",
       "516   화담숲 가을 끝자락 낙엽이\\r\\n거의 떨어지던 때에\\r\\n많은 사람 속 너밖에 안보...         전상훈   \n",
       "4588  지친 하루가 가고\\r\\n달빛 아래 두 사람\\r\\n하나의 그림자\\r\\n눈 감으면 잡힐...  SURAN (수란)   \n",
       "4086  See your eyes\\r\\nSee your face\\r\\n자꾸 가슴이 뛰어서\\r...         백지영   \n",
       "\n",
       "             발매일    좋아요수          장르  \n",
       "18    2018.03.20  411881  발라드, 국내드라마  \n",
       "41    2019.09.25  396470         발라드  \n",
       "102   2017.06.22  357019         발라드  \n",
       "1     2014.02.12  243092  발라드, 국내드라마  \n",
       "129   2014.09.30  233982         발라드  \n",
       "...          ...     ...         ...  \n",
       "511   2022.11.01       0   발라드, 인디음악  \n",
       "561   2022.11.01       0         발라드  \n",
       "516   2022.09.22       0         발라드  \n",
       "4588  2020.04.08       0  발라드, 국내드라마  \n",
       "4086  2018.09.02       0  발라드, 국내드라마  \n",
       "\n",
       "[12095 rows x 6 columns]"
      ]
     },
     "execution_count": 7,
     "metadata": {},
     "output_type": "execute_result"
    }
   ],
   "source": [
    "# 중복데이터 확인\n",
    "df_all[df_all.duplicated(subset=[\"제목\", \"가사\"], keep=False)].sort_values(by=\"좋아요수\", ascending=False)"
   ]
  },
  {
   "cell_type": "code",
   "execution_count": 8,
   "id": "357d6306",
   "metadata": {},
   "outputs": [
    {
     "data": {
      "text/plain": [
       "(51157, 6)"
      ]
     },
     "execution_count": 8,
     "metadata": {},
     "output_type": "execute_result"
    }
   ],
   "source": [
    "# 중복행 제거, 좋아요수 많은 것을 keep\n",
    "df_all = df_all.sort_values(by=\"좋아요수\", ascending=False).drop_duplicates().reset_index(drop=True)\n",
    "df_all.shape"
   ]
  },
  {
   "cell_type": "code",
   "execution_count": null,
   "id": "df333ae8",
   "metadata": {},
   "outputs": [],
   "source": [
    "# parquet 로 저장하기\n",
    "# df_all.to_parquet(f\"{root_dir}/ballad_all.gzip\", compression=\"gzip\")"
   ]
  }
 ],
 "metadata": {
  "kernelspec": {
   "display_name": "Python 3 (ipykernel)",
   "language": "python",
   "name": "python3"
  },
  "language_info": {
   "codemirror_mode": {
    "name": "ipython",
    "version": 3
   },
   "file_extension": ".py",
   "mimetype": "text/x-python",
   "name": "python",
   "nbconvert_exporter": "python",
   "pygments_lexer": "ipython3",
   "version": "3.9.15"
  },
  "toc": {
   "base_numbering": 1,
   "nav_menu": {},
   "number_sections": true,
   "sideBar": true,
   "skip_h1_title": false,
   "title_cell": "Table of Contents",
   "title_sidebar": "Contents",
   "toc_cell": false,
   "toc_position": {},
   "toc_section_display": true,
   "toc_window_display": false
  }
 },
 "nbformat": 4,
 "nbformat_minor": 5
}
