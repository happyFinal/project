{
 "cells": [
  {
   "cell_type": "code",
   "execution_count": 6,
   "metadata": {},
   "outputs": [],
   "source": [
    "import pandas as pd\n",
    "import seaborn as sns\n",
    "import koreanize_matplotlib\n",
    "import pyarrow.parquet as pq\n",
    "import fastparquet\n",
    "import pandas as pd\n",
    "import glob\n",
    "\n",
    "# 그래프에 retina display 적용\n",
    "%config InlineBackend.figure_format = 'retina'"
   ]
  },
  {
   "cell_type": "code",
   "execution_count": 33,
   "metadata": {},
   "outputs": [
    {
     "data": {
      "text/plain": [
       "['etc_data.csv',\n",
       " 'melon_ballad_최신_가사.csv',\n",
       " 'melon_dance_total.csv',\n",
       " 'melon_folkblues_인기_가사__12124.csv',\n",
       " 'melon_hiphop_인기_스테디_가사.csv',\n",
       " 'melon_록메탈_최신_가사_인기순.csv']"
      ]
     },
     "execution_count": 33,
     "metadata": {},
     "output_type": "execute_result"
    }
   ],
   "source": [
    "song_list = glob.glob(\"*.csv\")\n",
    "song_list"
   ]
  },
  {
   "cell_type": "code",
   "execution_count": 34,
   "metadata": {},
   "outputs": [
    {
     "name": "stdout",
     "output_type": "stream",
     "text": [
      "etc_data.csv  shape :  (564, 3)\n",
      "melon_ballad_최신_가사.csv  shape :  (16494, 3)\n",
      "melon_dance_total.csv  shape :  (11069, 3)\n",
      "melon_folkblues_인기_가사__12124.csv  shape :  (12124, 4)\n",
      "melon_hiphop_인기_스테디_가사.csv  shape :  (10390, 3)\n",
      "melon_록메탈_최신_가사_인기순.csv  shape :  (8412, 4)\n"
     ]
    }
   ],
   "source": [
    "songs = []\n",
    "for file_name in song_list:\n",
    "    df = pd.read_csv(file_name)\n",
    "    print(file_name, \" shape : \", df.shape)\n",
    "    songs.append(df)"
   ]
  },
  {
   "cell_type": "code",
   "execution_count": 48,
   "metadata": {},
   "outputs": [
    {
     "data": {
      "text/plain": [
       "(12124, 3)"
      ]
     },
     "execution_count": 48,
     "metadata": {},
     "output_type": "execute_result"
    }
   ],
   "source": [
    "# 컬럼 4개인애들 정리\n",
    "songs[3] = songs[3].drop(columns=\"Unnamed: 0\")\n",
    "songs[3].shape"
   ]
  },
  {
   "cell_type": "code",
   "execution_count": 38,
   "metadata": {},
   "outputs": [],
   "source": [
    "# 의준님이 록메탈은 지워달라고 하심\n",
    "songs = songs[:-1]"
   ]
  },
  {
   "cell_type": "code",
   "execution_count": 49,
   "metadata": {},
   "outputs": [
    {
     "name": "stdout",
     "output_type": "stream",
     "text": [
      "(50641, 3)\n"
     ]
    },
    {
     "data": {
      "text/html": [
       "<div>\n",
       "<style scoped>\n",
       "    .dataframe tbody tr th:only-of-type {\n",
       "        vertical-align: middle;\n",
       "    }\n",
       "\n",
       "    .dataframe tbody tr th {\n",
       "        vertical-align: top;\n",
       "    }\n",
       "\n",
       "    .dataframe thead th {\n",
       "        text-align: right;\n",
       "    }\n",
       "</style>\n",
       "<table border=\"1\" class=\"dataframe\">\n",
       "  <thead>\n",
       "    <tr style=\"text-align: right;\">\n",
       "      <th></th>\n",
       "      <th>제목</th>\n",
       "      <th>가사</th>\n",
       "      <th>장르</th>\n",
       "    </tr>\n",
       "  </thead>\n",
       "  <tbody>\n",
       "    <tr>\n",
       "      <th>10385</th>\n",
       "      <td>하루살이</td>\n",
       "      <td>저 멀리 희미하게\\r\\n반짝이는 빛이 보이네\\r\\n난 어둠을 피하려는 하루살이\\r\\...</td>\n",
       "      <td>힙합</td>\n",
       "    </tr>\n",
       "    <tr>\n",
       "      <th>10386</th>\n",
       "      <td>Sniper Sound</td>\n",
       "      <td>Double S Oh\\r\\nDouble S Oh\\r\\nDouble S Oh\\r\\ny...</td>\n",
       "      <td>힙합</td>\n",
       "    </tr>\n",
       "    <tr>\n",
       "      <th>10387</th>\n",
       "      <td>내 곁에 살게 하고 싶어서 (Feat. 서령)</td>\n",
       "      <td>아직도 내겐 눈물이 많아서\\r\\n니 사진 다시\\r\\n꺼내지도 못해 난\\r\\n세상엔 ...</td>\n",
       "      <td>힙합</td>\n",
       "    </tr>\n",
       "    <tr>\n",
       "      <th>10388</th>\n",
       "      <td>It's True (Feat. 백지영)</td>\n",
       "      <td>꿈이 아니길 바랬어 Oh\\r\\n그녀가 내게 말했어\\r\\n꿈이 아니길 바랬어\\r\\n어...</td>\n",
       "      <td>힙합</td>\n",
       "    </tr>\n",
       "    <tr>\n",
       "      <th>10389</th>\n",
       "      <td>그대만이 그대니라</td>\n",
       "      <td>그대만이 그대니라\\r\\n\\r\\nUh Yeah 그대는 어디 Uh Yeah 난 지금 여...</td>\n",
       "      <td>힙합</td>\n",
       "    </tr>\n",
       "  </tbody>\n",
       "</table>\n",
       "</div>"
      ],
      "text/plain": [
       "                              제목  \\\n",
       "10385                       하루살이   \n",
       "10386               Sniper Sound   \n",
       "10387  내 곁에 살게 하고 싶어서 (Feat. 서령)   \n",
       "10388      It's True (Feat. 백지영)   \n",
       "10389                  그대만이 그대니라   \n",
       "\n",
       "                                                      가사  장르  \n",
       "10385  저 멀리 희미하게\\r\\n반짝이는 빛이 보이네\\r\\n난 어둠을 피하려는 하루살이\\r\\...  힙합  \n",
       "10386  Double S Oh\\r\\nDouble S Oh\\r\\nDouble S Oh\\r\\ny...  힙합  \n",
       "10387  아직도 내겐 눈물이 많아서\\r\\n니 사진 다시\\r\\n꺼내지도 못해 난\\r\\n세상엔 ...  힙합  \n",
       "10388  꿈이 아니길 바랬어 Oh\\r\\n그녀가 내게 말했어\\r\\n꿈이 아니길 바랬어\\r\\n어...  힙합  \n",
       "10389  그대만이 그대니라\\r\\n\\r\\nUh Yeah 그대는 어디 Uh Yeah 난 지금 여...  힙합  "
      ]
     },
     "execution_count": 49,
     "metadata": {},
     "output_type": "execute_result"
    }
   ],
   "source": [
    "# 합치기\n",
    "all = pd.concat(songs)\n",
    "print(all.shape)\n",
    "all.tail()"
   ]
  },
  {
   "cell_type": "code",
   "execution_count": 50,
   "metadata": {},
   "outputs": [
    {
     "data": {
      "text/html": [
       "<div>\n",
       "<style scoped>\n",
       "    .dataframe tbody tr th:only-of-type {\n",
       "        vertical-align: middle;\n",
       "    }\n",
       "\n",
       "    .dataframe tbody tr th {\n",
       "        vertical-align: top;\n",
       "    }\n",
       "\n",
       "    .dataframe thead th {\n",
       "        text-align: right;\n",
       "    }\n",
       "</style>\n",
       "<table border=\"1\" class=\"dataframe\">\n",
       "  <thead>\n",
       "    <tr style=\"text-align: right;\">\n",
       "      <th></th>\n",
       "      <th>제목</th>\n",
       "      <th>가사</th>\n",
       "      <th>장르</th>\n",
       "    </tr>\n",
       "  </thead>\n",
       "  <tbody>\n",
       "    <tr>\n",
       "      <th>633</th>\n",
       "      <td>Buttercup</td>\n",
       "      <td>언제부턴가 사랑으로 녹아\\n스며들어오는 너야\\n마음 너를 향한 마음 가득히\\n넘쳐흘...</td>\n",
       "      <td>댄스</td>\n",
       "    </tr>\n",
       "    <tr>\n",
       "      <th>2531</th>\n",
       "      <td>Here Now (Feat. 김진성)</td>\n",
       "      <td>지금까지 잘해왔잖아\\n모든 것이 눈앞에 있어\\n마법처럼 바래왔던 꿈\\n혼자라고 생각...</td>\n",
       "      <td>댄스</td>\n",
       "    </tr>\n",
       "    <tr>\n",
       "      <th>2751</th>\n",
       "      <td>어지러워요</td>\n",
       "      <td>참 오랜만이야 그동안 잘 지냈니\\n난 너 없이도 하루 하루 살아가\\n친구에게 네 소...</td>\n",
       "      <td>댄스</td>\n",
       "    </tr>\n",
       "    <tr>\n",
       "      <th>45</th>\n",
       "      <td>Shall We Dance</td>\n",
       "      <td>한층 더 높이 올라 있는 듯한\\r\\n무서울 만큼 완벽한 이 시간\\r\\n평화롭게 흘러...</td>\n",
       "      <td>포크블루스</td>\n",
       "    </tr>\n",
       "    <tr>\n",
       "      <th>46</th>\n",
       "      <td>좋아요 (Feat.그_냥)</td>\n",
       "      <td>만나요 우리\\r\\n언제가 좋아요\\r\\n오늘은 어때요\\r\\n너무 이른가요\\r\\n보고 ...</td>\n",
       "      <td>포크블루스</td>\n",
       "    </tr>\n",
       "    <tr>\n",
       "      <th>...</th>\n",
       "      <td>...</td>\n",
       "      <td>...</td>\n",
       "      <td>...</td>\n",
       "    </tr>\n",
       "    <tr>\n",
       "      <th>7038</th>\n",
       "      <td>Ma Boy 2 (Remix)</td>\n",
       "      <td>Can't stop lovin' you ma\\r\\n마주보고 앉아서 서로 웃고\\r\\n...</td>\n",
       "      <td>힙합</td>\n",
       "    </tr>\n",
       "    <tr>\n",
       "      <th>7483</th>\n",
       "      <td>그냥 가요 (Feat. 조현아 Of 어반자카파)</td>\n",
       "      <td>그냥 가요 할 말 더 없으면\\r\\n나 원래 술이 세서 마셔도\\r\\n취하지도 않아요\\...</td>\n",
       "      <td>힙합</td>\n",
       "    </tr>\n",
       "    <tr>\n",
       "      <th>7758</th>\n",
       "      <td>봄 여름 가을... 겨울 (Feat. 김태우 God)</td>\n",
       "      <td>내 맘속에 있는 말\\r\\n지금부터 고백할게\\r\\n사랑을(사랑해)\\r\\n하루도 너 없...</td>\n",
       "      <td>힙합</td>\n",
       "    </tr>\n",
       "    <tr>\n",
       "      <th>8253</th>\n",
       "      <td>LoveSick</td>\n",
       "      <td>uhh doctor\\r\\n지금부터 제가 할 이야기는요\\r\\n혼자만 아셔야 해요\\r\\...</td>\n",
       "      <td>힙합</td>\n",
       "    </tr>\n",
       "    <tr>\n",
       "      <th>9706</th>\n",
       "      <td>MENT (Feat. 개코 Of 다이나믹 듀오)</td>\n",
       "      <td>이번만큼 oh\\r\\n이번만큼 take it slow oh\\r\\n뭔가 달라\\r\\n이번...</td>\n",
       "      <td>힙합</td>\n",
       "    </tr>\n",
       "  </tbody>\n",
       "</table>\n",
       "<p>3934 rows × 3 columns</p>\n",
       "</div>"
      ],
      "text/plain": [
       "                                 제목  \\\n",
       "633                       Buttercup   \n",
       "2531           Here Now (Feat. 김진성)   \n",
       "2751                          어지러워요   \n",
       "45                   Shall We Dance   \n",
       "46                   좋아요 (Feat.그_냥)   \n",
       "...                             ...   \n",
       "7038               Ma Boy 2 (Remix)   \n",
       "7483     그냥 가요 (Feat. 조현아 Of 어반자카파)   \n",
       "7758  봄 여름 가을... 겨울 (Feat. 김태우 God)   \n",
       "8253                       LoveSick   \n",
       "9706     MENT (Feat. 개코 Of 다이나믹 듀오)   \n",
       "\n",
       "                                                     가사     장르  \n",
       "633   언제부턴가 사랑으로 녹아\\n스며들어오는 너야\\n마음 너를 향한 마음 가득히\\n넘쳐흘...     댄스  \n",
       "2531  지금까지 잘해왔잖아\\n모든 것이 눈앞에 있어\\n마법처럼 바래왔던 꿈\\n혼자라고 생각...     댄스  \n",
       "2751  참 오랜만이야 그동안 잘 지냈니\\n난 너 없이도 하루 하루 살아가\\n친구에게 네 소...     댄스  \n",
       "45    한층 더 높이 올라 있는 듯한\\r\\n무서울 만큼 완벽한 이 시간\\r\\n평화롭게 흘러...  포크블루스  \n",
       "46    만나요 우리\\r\\n언제가 좋아요\\r\\n오늘은 어때요\\r\\n너무 이른가요\\r\\n보고 ...  포크블루스  \n",
       "...                                                 ...    ...  \n",
       "7038  Can't stop lovin' you ma\\r\\n마주보고 앉아서 서로 웃고\\r\\n...     힙합  \n",
       "7483  그냥 가요 할 말 더 없으면\\r\\n나 원래 술이 세서 마셔도\\r\\n취하지도 않아요\\...     힙합  \n",
       "7758  내 맘속에 있는 말\\r\\n지금부터 고백할게\\r\\n사랑을(사랑해)\\r\\n하루도 너 없...     힙합  \n",
       "8253  uhh doctor\\r\\n지금부터 제가 할 이야기는요\\r\\n혼자만 아셔야 해요\\r\\...     힙합  \n",
       "9706  이번만큼 oh\\r\\n이번만큼 take it slow oh\\r\\n뭔가 달라\\r\\n이번...     힙합  \n",
       "\n",
       "[3934 rows x 3 columns]"
      ]
     },
     "execution_count": 50,
     "metadata": {},
     "output_type": "execute_result"
    }
   ],
   "source": [
    "# 중복데이터 확인\n",
    "all[all.duplicated(subset=[\"제목\", \"가사\"])]"
   ]
  },
  {
   "cell_type": "code",
   "execution_count": 51,
   "metadata": {},
   "outputs": [
    {
     "data": {
      "text/plain": [
       "(46707, 3)"
      ]
     },
     "execution_count": 51,
     "metadata": {},
     "output_type": "execute_result"
    }
   ],
   "source": [
    "all = all.drop_duplicates(subset=[\"제목\", \"가사\"])\n",
    "all.shape"
   ]
  },
  {
   "cell_type": "code",
   "execution_count": 52,
   "metadata": {},
   "outputs": [
    {
     "data": {
      "text/html": [
       "<div>\n",
       "<style scoped>\n",
       "    .dataframe tbody tr th:only-of-type {\n",
       "        vertical-align: middle;\n",
       "    }\n",
       "\n",
       "    .dataframe tbody tr th {\n",
       "        vertical-align: top;\n",
       "    }\n",
       "\n",
       "    .dataframe thead th {\n",
       "        text-align: right;\n",
       "    }\n",
       "</style>\n",
       "<table border=\"1\" class=\"dataframe\">\n",
       "  <thead>\n",
       "    <tr style=\"text-align: right;\">\n",
       "      <th></th>\n",
       "      <th>제목</th>\n",
       "      <th>가사</th>\n",
       "      <th>장르</th>\n",
       "    </tr>\n",
       "  </thead>\n",
       "  <tbody>\n",
       "    <tr>\n",
       "      <th>46702</th>\n",
       "      <td>하루살이</td>\n",
       "      <td>저 멀리 희미하게\\r\\n반짝이는 빛이 보이네\\r\\n난 어둠을 피하려는 하루살이\\r\\...</td>\n",
       "      <td>힙합</td>\n",
       "    </tr>\n",
       "    <tr>\n",
       "      <th>46703</th>\n",
       "      <td>Sniper Sound</td>\n",
       "      <td>Double S Oh\\r\\nDouble S Oh\\r\\nDouble S Oh\\r\\ny...</td>\n",
       "      <td>힙합</td>\n",
       "    </tr>\n",
       "    <tr>\n",
       "      <th>46704</th>\n",
       "      <td>내 곁에 살게 하고 싶어서 (Feat. 서령)</td>\n",
       "      <td>아직도 내겐 눈물이 많아서\\r\\n니 사진 다시\\r\\n꺼내지도 못해 난\\r\\n세상엔 ...</td>\n",
       "      <td>힙합</td>\n",
       "    </tr>\n",
       "    <tr>\n",
       "      <th>46705</th>\n",
       "      <td>It's True (Feat. 백지영)</td>\n",
       "      <td>꿈이 아니길 바랬어 Oh\\r\\n그녀가 내게 말했어\\r\\n꿈이 아니길 바랬어\\r\\n어...</td>\n",
       "      <td>힙합</td>\n",
       "    </tr>\n",
       "    <tr>\n",
       "      <th>46706</th>\n",
       "      <td>그대만이 그대니라</td>\n",
       "      <td>그대만이 그대니라\\r\\n\\r\\nUh Yeah 그대는 어디 Uh Yeah 난 지금 여...</td>\n",
       "      <td>힙합</td>\n",
       "    </tr>\n",
       "  </tbody>\n",
       "</table>\n",
       "</div>"
      ],
      "text/plain": [
       "                              제목  \\\n",
       "46702                       하루살이   \n",
       "46703               Sniper Sound   \n",
       "46704  내 곁에 살게 하고 싶어서 (Feat. 서령)   \n",
       "46705      It's True (Feat. 백지영)   \n",
       "46706                  그대만이 그대니라   \n",
       "\n",
       "                                                      가사  장르  \n",
       "46702  저 멀리 희미하게\\r\\n반짝이는 빛이 보이네\\r\\n난 어둠을 피하려는 하루살이\\r\\...  힙합  \n",
       "46703  Double S Oh\\r\\nDouble S Oh\\r\\nDouble S Oh\\r\\ny...  힙합  \n",
       "46704  아직도 내겐 눈물이 많아서\\r\\n니 사진 다시\\r\\n꺼내지도 못해 난\\r\\n세상엔 ...  힙합  \n",
       "46705  꿈이 아니길 바랬어 Oh\\r\\n그녀가 내게 말했어\\r\\n꿈이 아니길 바랬어\\r\\n어...  힙합  \n",
       "46706  그대만이 그대니라\\r\\n\\r\\nUh Yeah 그대는 어디 Uh Yeah 난 지금 여...  힙합  "
      ]
     },
     "execution_count": 52,
     "metadata": {},
     "output_type": "execute_result"
    }
   ],
   "source": [
    "all = all.reset_index(drop=True)\n",
    "all.tail()"
   ]
  },
  {
   "cell_type": "code",
   "execution_count": 53,
   "metadata": {},
   "outputs": [
    {
     "data": {
      "text/plain": [
       "발라드      16494\n",
       "댄스       11066\n",
       "힙합       10003\n",
       "포크블루스     8580\n",
       "뮤지컬        405\n",
       "동요         159\n",
       "Name: 장르, dtype: int64"
      ]
     },
     "execution_count": 53,
     "metadata": {},
     "output_type": "execute_result"
    }
   ],
   "source": [
    "all[\"장르\"].value_counts()"
   ]
  },
  {
   "cell_type": "code",
   "execution_count": 54,
   "metadata": {},
   "outputs": [
    {
     "data": {
      "image/png": "[encoded data removed]",
      "text/plain": [
       "<Figure size 640x480 with 1 Axes>"
      ]
     },
     "metadata": {
      "image/png": {
       "height": 430,
       "width": 586
      }
     },
     "output_type": "display_data"
    }
   ],
   "source": [
    "# 데이터 확인\n",
    "_ = sns.countplot(data=all, x=\"장르\")"
   ]
  },
  {
   "cell_type": "code",
   "execution_count": 55,
   "metadata": {},
   "outputs": [
    {
     "name": "stdout",
     "output_type": "stream",
     "text": [
      "<class 'pandas.core.frame.DataFrame'>\n",
      "RangeIndex: 46707 entries, 0 to 46706\n",
      "Data columns (total 3 columns):\n",
      " #   Column  Non-Null Count  Dtype \n",
      "---  ------  --------------  ----- \n",
      " 0   제목      46707 non-null  object\n",
      " 1   가사      46707 non-null  object\n",
      " 2   장르      46707 non-null  object\n",
      "dtypes: object(3)\n",
      "memory usage: 1.1+ MB\n"
     ]
    }
   ],
   "source": [
    "# 다운캐스트 하기\n",
    "all.info()"
   ]
  },
  {
   "cell_type": "code",
   "execution_count": 56,
   "metadata": {},
   "outputs": [],
   "source": [
    "all[\"장르\"] = all[\"장르\"].astype(\"category\")"
   ]
  },
  {
   "cell_type": "code",
   "execution_count": 57,
   "metadata": {},
   "outputs": [
    {
     "name": "stdout",
     "output_type": "stream",
     "text": [
      "<class 'pandas.core.frame.DataFrame'>\n",
      "RangeIndex: 46707 entries, 0 to 46706\n",
      "Data columns (total 3 columns):\n",
      " #   Column  Non-Null Count  Dtype   \n",
      "---  ------  --------------  -----   \n",
      " 0   제목      46707 non-null  object  \n",
      " 1   가사      46707 non-null  object  \n",
      " 2   장르      46707 non-null  category\n",
      "dtypes: category(1), object(2)\n",
      "memory usage: 775.7+ KB\n"
     ]
    }
   ],
   "source": [
    "all.info()"
   ]
  },
  {
   "cell_type": "code",
   "execution_count": 58,
   "metadata": {},
   "outputs": [],
   "source": [
    "# parquet 로 저장하기\n",
    "all.to_parquet(\"all_append_csv.gzip\", compression=\"gzip\")"
   ]
  },
  {
   "cell_type": "code",
   "execution_count": 59,
   "metadata": {},
   "outputs": [
    {
     "data": {
      "text/html": [
       "<div>\n",
       "<style scoped>\n",
       "    .dataframe tbody tr th:only-of-type {\n",
       "        vertical-align: middle;\n",
       "    }\n",
       "\n",
       "    .dataframe tbody tr th {\n",
       "        vertical-align: top;\n",
       "    }\n",
       "\n",
       "    .dataframe thead th {\n",
       "        text-align: right;\n",
       "    }\n",
       "</style>\n",
       "<table border=\"1\" class=\"dataframe\">\n",
       "  <thead>\n",
       "    <tr style=\"text-align: right;\">\n",
       "      <th></th>\n",
       "      <th>제목</th>\n",
       "      <th>가사</th>\n",
       "      <th>장르</th>\n",
       "    </tr>\n",
       "  </thead>\n",
       "  <tbody>\n",
       "    <tr>\n",
       "      <th>0</th>\n",
       "      <td>무지개 (Rainbow) (Feat. 조용휘)</td>\n",
       "      <td>동그랗고 하얀 이마\\n오똑한 반짝이는 코\\n다갈색 눈동자 옆 살짝 보이는 점까지\\n...</td>\n",
       "      <td>뮤지컬</td>\n",
       "    </tr>\n",
       "    <tr>\n",
       "      <th>1</th>\n",
       "      <td>나 주는 줄 알고 손 내밀었잖아</td>\n",
       "      <td>넌 밉고 난 쪽팔린다\\n뭘 이런 걸 다 사 왔어 할지\\n헉 뭐야 고마워 할지\\n아이...</td>\n",
       "      <td>뮤지컬</td>\n",
       "    </tr>\n",
       "    <tr>\n",
       "      <th>2</th>\n",
       "      <td>너와나</td>\n",
       "      <td>이 땅위에 태어나 비로소 여기 있네\\n우리 모두가 그리던 그 날\\n바라고 바라던 꿈...</td>\n",
       "      <td>뮤지컬</td>\n",
       "    </tr>\n",
       "    <tr>\n",
       "      <th>3</th>\n",
       "      <td>나만의 언어 rep.</td>\n",
       "      <td>(좋아)\\n나는 널 이렇게 부를게\\n(자유, 그래 자유)\\n난 너를 이렇게 부를래\\...</td>\n",
       "      <td>뮤지컬</td>\n",
       "    </tr>\n",
       "    <tr>\n",
       "      <th>4</th>\n",
       "      <td>여기는 엄마 컴퍼니</td>\n",
       "      <td>어떤 엄마를 원하십니까\\n원하는 엄마를 고를 수 있는\\n여기는 바로 바로 엄마컴퍼니...</td>\n",
       "      <td>뮤지컬</td>\n",
       "    </tr>\n",
       "    <tr>\n",
       "      <th>...</th>\n",
       "      <td>...</td>\n",
       "      <td>...</td>\n",
       "      <td>...</td>\n",
       "    </tr>\n",
       "    <tr>\n",
       "      <th>46702</th>\n",
       "      <td>하루살이</td>\n",
       "      <td>저 멀리 희미하게\\r\\n반짝이는 빛이 보이네\\r\\n난 어둠을 피하려는 하루살이\\r\\...</td>\n",
       "      <td>힙합</td>\n",
       "    </tr>\n",
       "    <tr>\n",
       "      <th>46703</th>\n",
       "      <td>Sniper Sound</td>\n",
       "      <td>Double S Oh\\r\\nDouble S Oh\\r\\nDouble S Oh\\r\\ny...</td>\n",
       "      <td>힙합</td>\n",
       "    </tr>\n",
       "    <tr>\n",
       "      <th>46704</th>\n",
       "      <td>내 곁에 살게 하고 싶어서 (Feat. 서령)</td>\n",
       "      <td>아직도 내겐 눈물이 많아서\\r\\n니 사진 다시\\r\\n꺼내지도 못해 난\\r\\n세상엔 ...</td>\n",
       "      <td>힙합</td>\n",
       "    </tr>\n",
       "    <tr>\n",
       "      <th>46705</th>\n",
       "      <td>It's True (Feat. 백지영)</td>\n",
       "      <td>꿈이 아니길 바랬어 Oh\\r\\n그녀가 내게 말했어\\r\\n꿈이 아니길 바랬어\\r\\n어...</td>\n",
       "      <td>힙합</td>\n",
       "    </tr>\n",
       "    <tr>\n",
       "      <th>46706</th>\n",
       "      <td>그대만이 그대니라</td>\n",
       "      <td>그대만이 그대니라\\r\\n\\r\\nUh Yeah 그대는 어디 Uh Yeah 난 지금 여...</td>\n",
       "      <td>힙합</td>\n",
       "    </tr>\n",
       "  </tbody>\n",
       "</table>\n",
       "<p>46707 rows × 3 columns</p>\n",
       "</div>"
      ],
      "text/plain": [
       "                              제목  \\\n",
       "0      무지개 (Rainbow) (Feat. 조용휘)   \n",
       "1              나 주는 줄 알고 손 내밀었잖아   \n",
       "2                            너와나   \n",
       "3                    나만의 언어 rep.   \n",
       "4                     여기는 엄마 컴퍼니   \n",
       "...                          ...   \n",
       "46702                       하루살이   \n",
       "46703               Sniper Sound   \n",
       "46704  내 곁에 살게 하고 싶어서 (Feat. 서령)   \n",
       "46705      It's True (Feat. 백지영)   \n",
       "46706                  그대만이 그대니라   \n",
       "\n",
       "                                                      가사   장르  \n",
       "0      동그랗고 하얀 이마\\n오똑한 반짝이는 코\\n다갈색 눈동자 옆 살짝 보이는 점까지\\n...  뮤지컬  \n",
       "1      넌 밉고 난 쪽팔린다\\n뭘 이런 걸 다 사 왔어 할지\\n헉 뭐야 고마워 할지\\n아이...  뮤지컬  \n",
       "2      이 땅위에 태어나 비로소 여기 있네\\n우리 모두가 그리던 그 날\\n바라고 바라던 꿈...  뮤지컬  \n",
       "3      (좋아)\\n나는 널 이렇게 부를게\\n(자유, 그래 자유)\\n난 너를 이렇게 부를래\\...  뮤지컬  \n",
       "4      어떤 엄마를 원하십니까\\n원하는 엄마를 고를 수 있는\\n여기는 바로 바로 엄마컴퍼니...  뮤지컬  \n",
       "...                                                  ...  ...  \n",
       "46702  저 멀리 희미하게\\r\\n반짝이는 빛이 보이네\\r\\n난 어둠을 피하려는 하루살이\\r\\...   힙합  \n",
       "46703  Double S Oh\\r\\nDouble S Oh\\r\\nDouble S Oh\\r\\ny...   힙합  \n",
       "46704  아직도 내겐 눈물이 많아서\\r\\n니 사진 다시\\r\\n꺼내지도 못해 난\\r\\n세상엔 ...   힙합  \n",
       "46705  꿈이 아니길 바랬어 Oh\\r\\n그녀가 내게 말했어\\r\\n꿈이 아니길 바랬어\\r\\n어...   힙합  \n",
       "46706  그대만이 그대니라\\r\\n\\r\\nUh Yeah 그대는 어디 Uh Yeah 난 지금 여...   힙합  \n",
       "\n",
       "[46707 rows x 3 columns]"
      ]
     },
     "execution_count": 59,
     "metadata": {},
     "output_type": "execute_result"
    }
   ],
   "source": [
    "pd.read_parquet(\"all_append_csv.gzip\")"
   ]
  }
 ],
 "metadata": {
  "kernelspec": {
   "display_name": "Python 3 (ipykernel)",
   "language": "python",
   "name": "python3"
  },
  "language_info": {
   "codemirror_mode": {
    "name": "ipython",
    "version": 3
   },
   "file_extension": ".py",
   "mimetype": "text/x-python",
   "name": "python",
   "nbconvert_exporter": "python",
   "pygments_lexer": "ipython3",
   "version": "3.9.15"
  },
  "toc": {
   "base_numbering": 1,
   "nav_menu": {},
   "number_sections": true,
   "sideBar": true,
   "skip_h1_title": false,
   "title_cell": "Table of Contents",
   "title_sidebar": "Contents",
   "toc_cell": false,
   "toc_position": {},
   "toc_section_display": true,
   "toc_window_display": false
  },
  "vscode": {
   "interpreter": {
    "hash": "8f807fda92f20a86fe0cf9a7fb20f5cc46478756bf29c3db068708b68d71bcd3"
   }
  }
 },
 "nbformat": 4,
 "nbformat_minor": 2
}
